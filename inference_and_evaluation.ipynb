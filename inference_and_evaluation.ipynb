{
 "cells": [
  {
   "cell_type": "code",
   "execution_count": 6,
   "id": "f511fc36-e480-4fca-b7d9-1361db01f2b5",
   "metadata": {
    "scrolled": true
   },
   "outputs": [
    {
     "name": "stdout",
     "output_type": "stream",
     "text": [
      "Starting inference_and_evaluation with # dims32_depth3 on cuda:2\n",
      "\n",
      "0: 2048x2048 1424 items, 24.3ms\n",
      "Speed: 16.5ms preprocess, 24.3ms inference, 100.9ms postprocess per image at shape (1, 3, 2048, 2048)\n"
     ]
    },
    {
     "name": "stderr",
     "output_type": "stream",
     "text": [
      "100%|████████| 1424/1424 [00:03<00:00, 439.83it/s]"
     ]
    },
    {
     "name": "stdout",
     "output_type": "stream",
     "text": [
      "\n",
      "WARNING ⚠️ imgsz=[1000] must be multiple of max stride 32, updating to [1024]\n",
      "0: 1024x1024 582 items, 28.6ms\n",
      "Speed: 5.4ms preprocess, 28.6ms inference, 1.8ms postprocess per image at shape (1, 3, 1024, 1024)\n"
     ]
    },
    {
     "name": "stderr",
     "output_type": "stream",
     "text": [
      "\n",
      "\n",
      "00%|██████████| 582/582 [00:01<00:00, 444.76it/s]"
     ]
    },
    {
     "name": "stdout",
     "output_type": "stream",
     "text": [
      "\n",
      "WARNING ⚠️ imgsz=[1000] must be multiple of max stride 32, updating to [1024]\n",
      "0: 1024x1024 519 items, 8.8ms\n",
      "Speed: 4.8ms preprocess, 8.8ms inference, 1.6ms postprocess per image at shape (1, 3, 1024, 1024)\n"
     ]
    },
    {
     "name": "stderr",
     "output_type": "stream",
     "text": [
      "100%|██████████| 519/519 [00:01<00:00, 446.02it/s]"
     ]
    },
    {
     "name": "stdout",
     "output_type": "stream",
     "text": [
      "\n",
      "WARNING ⚠️ imgsz=[1000] must be multiple of max stride 32, updating to [1024]\n"
     ]
    },
    {
     "name": "stderr",
     "output_type": "stream",
     "text": [
      "\n"
     ]
    },
    {
     "name": "stdout",
     "output_type": "stream",
     "text": [
      "0: 1024x1024 792 items, 8.8ms\n",
      "Speed: 5.7ms preprocess, 8.8ms inference, 2.2ms postprocess per image at shape (1, 3, 1024, 1024)\n"
     ]
    },
    {
     "name": "stderr",
     "output_type": "stream",
     "text": [
      "100%|██████████| 792/792 [00:01<00:00, 445.76it/s]"
     ]
    },
    {
     "name": "stdout",
     "output_type": "stream",
     "text": [
      "\n",
      "WARNING ⚠️ imgsz=[1000] must be multiple of max stride 32, updating to [1024]\n"
     ]
    },
    {
     "name": "stderr",
     "output_type": "stream",
     "text": [
      "\n"
     ]
    },
    {
     "name": "stdout",
     "output_type": "stream",
     "text": [
      "0: 1024x1024 427 items, 9.0ms\n",
      "Speed: 4.9ms preprocess, 9.0ms inference, 13.5ms postprocess per image at shape (1, 3, 1024, 1024)\n"
     ]
    },
    {
     "name": "stderr",
     "output_type": "stream",
     "text": [
      "100%|██████████| 427/427 [00:00<00:00, 444.96it/s]"
     ]
    },
    {
     "name": "stdout",
     "output_type": "stream",
     "text": [
      "\n",
      "WARNING ⚠️ imgsz=[1000] must be multiple of max stride 32, updating to [1024]\n",
      "0: 1024x1024 852 items, 8.8ms\n"
     ]
    },
    {
     "name": "stderr",
     "output_type": "stream",
     "text": [
      "\n"
     ]
    },
    {
     "name": "stdout",
     "output_type": "stream",
     "text": [
      "Speed: 5.3ms preprocess, 8.8ms inference, 2.7ms postprocess per image at shape (1, 3, 1024, 1024)\n"
     ]
    },
    {
     "name": "stderr",
     "output_type": "stream",
     "text": [
      "\n",
      "00%|██████████| 852/852 [00:01<00:00, 445.13it/s]"
     ]
    },
    {
     "name": "stdout",
     "output_type": "stream",
     "text": [
      "\n",
      "WARNING ⚠️ imgsz=[1000] must be multiple of max stride 32, updating to [1024]\n",
      "0: 1024x1024 363 items, 9.3ms\n",
      "Speed: 5.0ms preprocess, 9.3ms inference, 1.4ms postprocess per image at shape (1, 3, 1024, 1024)\n"
     ]
    },
    {
     "name": "stderr",
     "output_type": "stream",
     "text": [
      "100%|██████████| 363/363 [00:00<00:00, 443.75it/s]"
     ]
    },
    {
     "name": "stdout",
     "output_type": "stream",
     "text": [
      "\n",
      "WARNING ⚠️ imgsz=[1000] must be multiple of max stride 32, updating to [1024]\n",
      "0: 1024x1024 506 items, 9.1ms\n",
      "Speed: 4.8ms preprocess, 9.1ms inference, 1.5ms postprocess per image at shape (1, 3, 1024, 1024)\n"
     ]
    },
    {
     "name": "stderr",
     "output_type": "stream",
     "text": [
      "\n",
      "100%|██████████| 506/506 [00:01<00:00, 443.56it/s]"
     ]
    },
    {
     "name": "stdout",
     "output_type": "stream",
     "text": [
      "\n",
      "WARNING ⚠️ imgsz=[1000] must be multiple of max stride 32, updating to [1024]\n",
      "0: 1024x1024 622 items, 9.3ms\n",
      "Speed: 5.1ms preprocess, 9.3ms inference, 1.8ms postprocess per image at shape (1, 3, 1024, 1024)\n"
     ]
    },
    {
     "name": "stderr",
     "output_type": "stream",
     "text": [
      "\n",
      "\n",
      "00%|██████████| 622/622 [00:01<00:00, 445.61it/s]"
     ]
    },
    {
     "name": "stdout",
     "output_type": "stream",
     "text": [
      "\n",
      "WARNING ⚠️ imgsz=[1000] must be multiple of max stride 32, updating to [1024]\n",
      "0: 1024x1024 1143 items, 9.0ms\n",
      "Speed: 4.9ms preprocess, 9.0ms inference, 3.0ms postprocess per image at shape (1, 3, 1024, 1024)\n"
     ]
    },
    {
     "name": "stderr",
     "output_type": "stream",
     "text": [
      "100%|████████| 1143/1143 [00:02<00:00, 447.40it/s]"
     ]
    },
    {
     "name": "stdout",
     "output_type": "stream",
     "text": [
      "\n",
      "WARNING ⚠️ imgsz=[1000] must be multiple of max stride 32, updating to [1024]\n",
      "0: 1024x1024 269 items, 8.8ms\n",
      "Speed: 5.3ms preprocess, 8.8ms inference, 1.3ms postprocess per image at shape (1, 3, 1024, 1024)\n"
     ]
    },
    {
     "name": "stderr",
     "output_type": "stream",
     "text": [
      "\n",
      "\n",
      "00%|██████████| 269/269 [00:00<00:00, 445.51it/s]"
     ]
    },
    {
     "name": "stdout",
     "output_type": "stream",
     "text": [
      "\n",
      "WARNING ⚠️ imgsz=[1000] must be multiple of max stride 32, updating to [1024]\n",
      "0: 1024x1024 571 items, 8.8ms\n",
      "Speed: 4.8ms preprocess, 8.8ms inference, 1.7ms postprocess per image at shape (1, 3, 1024, 1024)\n"
     ]
    },
    {
     "name": "stderr",
     "output_type": "stream",
     "text": [
      "100%|██████████| 571/571 [00:01<00:00, 446.85it/s]"
     ]
    },
    {
     "name": "stdout",
     "output_type": "stream",
     "text": [
      "\n",
      "WARNING ⚠️ imgsz=[1000] must be multiple of max stride 32, updating to [1024]\n"
     ]
    },
    {
     "name": "stderr",
     "output_type": "stream",
     "text": [
      "\n"
     ]
    },
    {
     "name": "stdout",
     "output_type": "stream",
     "text": [
      "0: 1024x1024 408 items, 8.8ms\n",
      "Speed: 4.8ms preprocess, 8.8ms inference, 1.4ms postprocess per image at shape (1, 3, 1024, 1024)\n"
     ]
    },
    {
     "name": "stderr",
     "output_type": "stream",
     "text": [
      "100%|██████████| 408/408 [00:00<00:00, 444.51it/s]"
     ]
    },
    {
     "name": "stdout",
     "output_type": "stream",
     "text": [
      "\n",
      "WARNING ⚠️ imgsz=[1000] must be multiple of max stride 32, updating to [1024]\n",
      "0: 1024x1024 765 items, 8.8ms\n",
      "Speed: 4.9ms preprocess, 8.8ms inference, 2.0ms postprocess per image at shape (1, 3, 1024, 1024)\n"
     ]
    },
    {
     "name": "stderr",
     "output_type": "stream",
     "text": [
      "\n",
      "100%|██████████| 765/765 [00:01<00:00, 446.39it/s]"
     ]
    },
    {
     "name": "stdout",
     "output_type": "stream",
     "text": [
      "\n",
      "WARNING ⚠️ imgsz=[1000] must be multiple of max stride 32, updating to [1024]\n",
      "0: 1024x1024 309 items, 8.8ms\n",
      "Speed: 4.8ms preprocess, 8.8ms inference, 1.3ms postprocess per image at shape (1, 3, 1024, 1024)\n"
     ]
    },
    {
     "name": "stderr",
     "output_type": "stream",
     "text": [
      "\n",
      "\n",
      "00%|██████████| 309/309 [00:00<00:00, 445.19it/s]"
     ]
    },
    {
     "name": "stdout",
     "output_type": "stream",
     "text": [
      "\n",
      "WARNING ⚠️ imgsz=[1000] must be multiple of max stride 32, updating to [1024]\n",
      "0: 1024x1024 481 items, 8.8ms\n",
      "Speed: 4.9ms preprocess, 8.8ms inference, 1.5ms postprocess per image at shape (1, 3, 1024, 1024)\n"
     ]
    },
    {
     "name": "stderr",
     "output_type": "stream",
     "text": [
      "100%|██████████| 481/481 [00:01<00:00, 446.27it/s]"
     ]
    },
    {
     "name": "stdout",
     "output_type": "stream",
     "text": [
      "\n",
      "WARNING ⚠️ imgsz=[1000] must be multiple of max stride 32, updating to [1024]\n"
     ]
    },
    {
     "name": "stderr",
     "output_type": "stream",
     "text": [
      "\n"
     ]
    },
    {
     "name": "stdout",
     "output_type": "stream",
     "text": [
      "0: 1024x1024 301 items, 8.8ms\n",
      "Speed: 4.9ms preprocess, 8.8ms inference, 1.5ms postprocess per image at shape (1, 3, 1024, 1024)\n"
     ]
    },
    {
     "name": "stderr",
     "output_type": "stream",
     "text": [
      "100%|██████████| 301/301 [00:00<00:00, 442.68it/s]"
     ]
    },
    {
     "name": "stdout",
     "output_type": "stream",
     "text": [
      "\n",
      "WARNING ⚠️ imgsz=[1000] must be multiple of max stride 32, updating to [1024]\n"
     ]
    },
    {
     "name": "stderr",
     "output_type": "stream",
     "text": [
      "\n"
     ]
    },
    {
     "name": "stdout",
     "output_type": "stream",
     "text": [
      "0: 1024x1024 1148 items, 9.2ms\n",
      "Speed: 4.8ms preprocess, 9.2ms inference, 3.4ms postprocess per image at shape (1, 3, 1024, 1024)\n"
     ]
    },
    {
     "name": "stderr",
     "output_type": "stream",
     "text": [
      "100%|████████| 1148/1148 [00:02<00:00, 446.69it/s]"
     ]
    },
    {
     "name": "stdout",
     "output_type": "stream",
     "text": [
      "\n",
      "WARNING ⚠️ imgsz=[1000] must be multiple of max stride 32, updating to [1024]\n",
      "0: 1024x1024 426 items, 9.1ms\n",
      "Speed: 4.8ms preprocess, 9.1ms inference, 1.5ms postprocess per image at shape (1, 3, 1024, 1024)\n"
     ]
    },
    {
     "name": "stderr",
     "output_type": "stream",
     "text": [
      "\n",
      "100%|██████████| 426/426 [00:00<00:00, 444.72it/s]"
     ]
    },
    {
     "name": "stdout",
     "output_type": "stream",
     "text": [
      "\n",
      "WARNING ⚠️ imgsz=[1000] must be multiple of max stride 32, updating to [1024]\n",
      "0: 1024x1024 443 items, 9.2ms\n",
      "Speed: 5.1ms preprocess, 9.2ms inference, 1.5ms postprocess per image at shape (1, 3, 1024, 1024)\n"
     ]
    },
    {
     "name": "stderr",
     "output_type": "stream",
     "text": [
      "\n",
      "\n",
      "00%|██████████| 443/443 [00:00<00:00, 444.45it/s]"
     ]
    },
    {
     "name": "stdout",
     "output_type": "stream",
     "text": [
      "\n",
      "WARNING ⚠️ imgsz=[1000] must be multiple of max stride 32, updating to [1024]\n",
      "0: 1024x1024 252 items, 9.0ms\n",
      "Speed: 4.8ms preprocess, 9.0ms inference, 1.2ms postprocess per image at shape (1, 3, 1024, 1024)\n"
     ]
    },
    {
     "name": "stderr",
     "output_type": "stream",
     "text": [
      "100%|██████████| 252/252 [00:00<00:00, 444.68it/s]"
     ]
    },
    {
     "name": "stdout",
     "output_type": "stream",
     "text": [
      "\n",
      "WARNING ⚠️ imgsz=[1000] must be multiple of max stride 32, updating to [1024]\n"
     ]
    },
    {
     "name": "stderr",
     "output_type": "stream",
     "text": [
      "\n"
     ]
    },
    {
     "name": "stdout",
     "output_type": "stream",
     "text": [
      "0: 1024x1024 232 items, 9.0ms\n",
      "Speed: 4.8ms preprocess, 9.0ms inference, 1.1ms postprocess per image at shape (1, 3, 1024, 1024)\n"
     ]
    },
    {
     "name": "stderr",
     "output_type": "stream",
     "text": [
      "100%|██████████| 232/232 [00:00<00:00, 445.25it/s]"
     ]
    },
    {
     "name": "stdout",
     "output_type": "stream",
     "text": [
      "\n"
     ]
    },
    {
     "name": "stderr",
     "output_type": "stream",
     "text": [
      "\n"
     ]
    },
    {
     "name": "stdout",
     "output_type": "stream",
     "text": [
      "0: 2048x2048 1227 items, 24.8ms\n",
      "Speed: 12.8ms preprocess, 24.8ms inference, 3.3ms postprocess per image at shape (1, 3, 2048, 2048)\n"
     ]
    },
    {
     "name": "stderr",
     "output_type": "stream",
     "text": [
      "\n",
      "00%|████████| 1227/1227 [00:02<00:00, 430.53it/s]"
     ]
    },
    {
     "name": "stdout",
     "output_type": "stream",
     "text": [
      "\n",
      "WARNING ⚠️ imgsz=[1000] must be multiple of max stride 32, updating to [1024]\n",
      "0: 1024x1024 722 items, 9.3ms\n",
      "Speed: 5.3ms preprocess, 9.3ms inference, 2.1ms postprocess per image at shape (1, 3, 1024, 1024)\n"
     ]
    },
    {
     "name": "stderr",
     "output_type": "stream",
     "text": [
      "100%|██████████| 722/722 [00:01<00:00, 446.91it/s]"
     ]
    },
    {
     "name": "stdout",
     "output_type": "stream",
     "text": [
      "\n",
      "WARNING ⚠️ imgsz=[1000] must be multiple of max stride 32, updating to [1024]\n",
      "0: 1024x1024 791 items, 8.8ms\n",
      "Speed: 4.8ms preprocess, 8.8ms inference, 1.9ms postprocess per image at shape (1, 3, 1024, 1024)\n"
     ]
    },
    {
     "name": "stderr",
     "output_type": "stream",
     "text": [
      "\n",
      "100%|██████████| 791/791 [00:01<00:00, 446.28it/s]"
     ]
    },
    {
     "name": "stdout",
     "output_type": "stream",
     "text": [
      "\n",
      "WARNING ⚠️ imgsz=[1000] must be multiple of max stride 32, updating to [1024]\n"
     ]
    },
    {
     "name": "stderr",
     "output_type": "stream",
     "text": [
      "\n"
     ]
    },
    {
     "name": "stdout",
     "output_type": "stream",
     "text": [
      "0: 1024x1024 397 items, 9.1ms\n",
      "Speed: 4.8ms preprocess, 9.1ms inference, 1.4ms postprocess per image at shape (1, 3, 1024, 1024)\n"
     ]
    },
    {
     "name": "stderr",
     "output_type": "stream",
     "text": [
      "\n",
      "00%|██████████| 397/397 [00:00<00:00, 446.91it/s]"
     ]
    },
    {
     "name": "stdout",
     "output_type": "stream",
     "text": [
      "\n",
      "WARNING ⚠️ imgsz=[1000] must be multiple of max stride 32, updating to [1024]\n",
      "0: 1024x1024 360 items, 8.8ms\n",
      "Speed: 4.8ms preprocess, 8.8ms inference, 1.4ms postprocess per image at shape (1, 3, 1024, 1024)\n"
     ]
    },
    {
     "name": "stderr",
     "output_type": "stream",
     "text": [
      "100%|██████████| 360/360 [00:00<00:00, 445.87it/s]"
     ]
    },
    {
     "name": "stdout",
     "output_type": "stream",
     "text": [
      "\n",
      "WARNING ⚠️ imgsz=[1000] must be multiple of max stride 32, updating to [1024]\n",
      "0: 1024x1024 295 items, 8.8ms\n",
      "Speed: 4.8ms preprocess, 8.8ms inference, 1.2ms postprocess per image at shape (1, 3, 1024, 1024)\n"
     ]
    },
    {
     "name": "stderr",
     "output_type": "stream",
     "text": [
      "\n",
      "100%|██████████| 295/295 [00:00<00:00, 445.47it/s]"
     ]
    },
    {
     "name": "stdout",
     "output_type": "stream",
     "text": [
      "\n"
     ]
    },
    {
     "name": "stderr",
     "output_type": "stream",
     "text": [
      "\n"
     ]
    },
    {
     "name": "stdout",
     "output_type": "stream",
     "text": [
      "0: 2048x2048 1153 items, 24.8ms\n",
      "Speed: 12.8ms preprocess, 24.8ms inference, 2.8ms postprocess per image at shape (1, 3, 2048, 2048)\n"
     ]
    },
    {
     "name": "stderr",
     "output_type": "stream",
     "text": [
      "100%|████████| 1153/1153 [00:02<00:00, 446.87it/s]"
     ]
    },
    {
     "name": "stdout",
     "output_type": "stream",
     "text": [
      "\n",
      "WARNING ⚠️ imgsz=[1000] must be multiple of max stride 32, updating to [1024]\n"
     ]
    },
    {
     "name": "stderr",
     "output_type": "stream",
     "text": [
      "\n"
     ]
    },
    {
     "name": "stdout",
     "output_type": "stream",
     "text": [
      "0: 1024x1024 350 items, 10.2ms\n",
      "Speed: 5.3ms preprocess, 10.2ms inference, 1.4ms postprocess per image at shape (1, 3, 1024, 1024)\n"
     ]
    },
    {
     "name": "stderr",
     "output_type": "stream",
     "text": [
      "100%|██████████| 350/350 [00:00<00:00, 446.27it/s]"
     ]
    },
    {
     "name": "stdout",
     "output_type": "stream",
     "text": [
      "\n",
      "WARNING ⚠️ imgsz=[1000] must be multiple of max stride 32, updating to [1024]\n"
     ]
    },
    {
     "name": "stderr",
     "output_type": "stream",
     "text": [
      "\n"
     ]
    },
    {
     "name": "stdout",
     "output_type": "stream",
     "text": [
      "0: 1024x1024 315 items, 9.0ms\n",
      "Speed: 4.8ms preprocess, 9.0ms inference, 1.3ms postprocess per image at shape (1, 3, 1024, 1024)\n"
     ]
    },
    {
     "name": "stderr",
     "output_type": "stream",
     "text": [
      "\n",
      "00%|██████████| 315/315 [00:00<00:00, 447.28it/s]"
     ]
    },
    {
     "name": "stdout",
     "output_type": "stream",
     "text": [
      "\n",
      "WARNING ⚠️ imgsz=[1000] must be multiple of max stride 32, updating to [1024]\n",
      "0: 1024x1024 1016 items, 8.8ms\n",
      "Speed: 4.8ms preprocess, 8.8ms inference, 2.4ms postprocess per image at shape (1, 3, 1024, 1024)\n"
     ]
    },
    {
     "name": "stderr",
     "output_type": "stream",
     "text": [
      "100%|████████| 1016/1016 [00:02<00:00, 446.84it/s]"
     ]
    },
    {
     "name": "stdout",
     "output_type": "stream",
     "text": [
      "\n",
      "WARNING ⚠️ imgsz=[1000] must be multiple of max stride 32, updating to [1024]\n"
     ]
    },
    {
     "name": "stderr",
     "output_type": "stream",
     "text": [
      "\n"
     ]
    },
    {
     "name": "stdout",
     "output_type": "stream",
     "text": [
      "0: 1024x1024 508 items, 9.1ms\n",
      "Speed: 5.3ms preprocess, 9.1ms inference, 1.6ms postprocess per image at shape (1, 3, 1024, 1024)\n"
     ]
    },
    {
     "name": "stderr",
     "output_type": "stream",
     "text": [
      "100%|██████████| 508/508 [00:01<00:00, 445.50it/s]"
     ]
    },
    {
     "name": "stdout",
     "output_type": "stream",
     "text": [
      "\n",
      "WARNING ⚠️ imgsz=[1000] must be multiple of max stride 32, updating to [1024]\n",
      "0: 1024x1024 311 items, 9.2ms\n",
      "Speed: 5.3ms preprocess, 9.2ms inference, 1.3ms postprocess per image at shape (1, 3, 1024, 1024)\n"
     ]
    },
    {
     "name": "stderr",
     "output_type": "stream",
     "text": [
      "\n",
      "\n",
      "00%|██████████| 311/311 [00:00<00:00, 446.17it/s]"
     ]
    },
    {
     "name": "stdout",
     "output_type": "stream",
     "text": [
      "\n",
      "WARNING ⚠️ imgsz=[1000] must be multiple of max stride 32, updating to [1024]\n",
      "0: 1024x1024 461 items, 8.8ms\n",
      "Speed: 5.3ms preprocess, 8.8ms inference, 1.5ms postprocess per image at shape (1, 3, 1024, 1024)\n"
     ]
    },
    {
     "name": "stderr",
     "output_type": "stream",
     "text": [
      "100%|██████████| 461/461 [00:01<00:00, 444.71it/s]"
     ]
    },
    {
     "name": "stdout",
     "output_type": "stream",
     "text": [
      "\n",
      "WARNING ⚠️ imgsz=[1000] must be multiple of max stride 32, updating to [1024]\n",
      "0: 1024x1024 288 items, 9.0ms\n",
      "Speed: 4.9ms preprocess, 9.0ms inference, 1.3ms postprocess per image at shape (1, 3, 1024, 1024)\n"
     ]
    },
    {
     "name": "stderr",
     "output_type": "stream",
     "text": [
      "\n",
      "100%|██████████| 288/288 [00:00<00:00, 445.24it/s]"
     ]
    },
    {
     "name": "stdout",
     "output_type": "stream",
     "text": [
      "\n",
      "WARNING ⚠️ imgsz=[1000] must be multiple of max stride 32, updating to [1024]\n",
      "0: 1024x1024 513 items, 8.8ms\n",
      "Speed: 4.8ms preprocess, 8.8ms inference, 1.6ms postprocess per image at shape (1, 3, 1024, 1024)\n"
     ]
    },
    {
     "name": "stderr",
     "output_type": "stream",
     "text": [
      "\n",
      "100%|██████████| 513/513 [00:01<00:00, 446.88it/s]"
     ]
    },
    {
     "name": "stdout",
     "output_type": "stream",
     "text": [
      "\n",
      "WARNING ⚠️ imgsz=[1000] must be multiple of max stride 32, updating to [1024]\n",
      "0: 1024x1024 379 items, 8.8ms\n",
      "Speed: 5.3ms preprocess, 8.8ms inference, 1.4ms postprocess per image at shape (1, 3, 1024, 1024)\n"
     ]
    },
    {
     "name": "stderr",
     "output_type": "stream",
     "text": [
      "\n",
      "100%|██████████| 379/379 [00:00<00:00, 446.38it/s]"
     ]
    },
    {
     "name": "stdout",
     "output_type": "stream",
     "text": [
      "\n",
      "WARNING ⚠️ imgsz=[1000] must be multiple of max stride 32, updating to [1024]\n",
      "0: 1024x1024 1278 items, 8.8ms\n",
      "Speed: 4.8ms preprocess, 8.8ms inference, 3.2ms postprocess per image at shape (1, 3, 1024, 1024)\n"
     ]
    },
    {
     "name": "stderr",
     "output_type": "stream",
     "text": [
      "\n",
      "100%|████████| 1278/1278 [00:02<00:00, 447.61it/s]"
     ]
    },
    {
     "name": "stdout",
     "output_type": "stream",
     "text": [
      "\n",
      "WARNING ⚠️ imgsz=[1000] must be multiple of max stride 32, updating to [1024]\n",
      "0: 1024x1024 337 items, 8.8ms\n",
      "Speed: 4.8ms preprocess, 8.8ms inference, 1.3ms postprocess per image at shape (1, 3, 1024, 1024)\n"
     ]
    },
    {
     "name": "stderr",
     "output_type": "stream",
     "text": [
      "\n",
      "100%|██████████| 337/337 [00:00<00:00, 447.09it/s]"
     ]
    },
    {
     "name": "stdout",
     "output_type": "stream",
     "text": [
      "\n",
      "WARNING ⚠️ imgsz=[1000] must be multiple of max stride 32, updating to [1024]\n",
      "0: 1024x1024 365 items, 8.8ms\n",
      "Speed: 5.3ms preprocess, 8.8ms inference, 1.3ms postprocess per image at shape (1, 3, 1024, 1024)\n"
     ]
    },
    {
     "name": "stderr",
     "output_type": "stream",
     "text": [
      "\n",
      "100%|██████████| 365/365 [00:00<00:00, 445.58it/s]"
     ]
    },
    {
     "name": "stdout",
     "output_type": "stream",
     "text": [
      "\n",
      "WARNING ⚠️ imgsz=[1000] must be multiple of max stride 32, updating to [1024]\n",
      "0: 1024x1024 543 items, 8.8ms\n",
      "Speed: 4.8ms preprocess, 8.8ms inference, 1.5ms postprocess per image at shape (1, 3, 1024, 1024)\n"
     ]
    },
    {
     "name": "stderr",
     "output_type": "stream",
     "text": [
      "\n",
      "100%|██████████| 543/543 [00:01<00:00, 447.14it/s]"
     ]
    },
    {
     "name": "stdout",
     "output_type": "stream",
     "text": [
      "\n",
      "WARNING ⚠️ imgsz=[1000] must be multiple of max stride 32, updating to [1024]\n",
      "0: 1024x1024 481 items, 8.8ms\n",
      "Speed: 4.8ms preprocess, 8.8ms inference, 1.5ms postprocess per image at shape (1, 3, 1024, 1024)\n"
     ]
    },
    {
     "name": "stderr",
     "output_type": "stream",
     "text": [
      "\n",
      "100%|██████████| 481/481 [00:01<00:00, 446.88it/s]"
     ]
    },
    {
     "name": "stdout",
     "output_type": "stream",
     "text": [
      "\n",
      "WARNING ⚠️ imgsz=[1000] must be multiple of max stride 32, updating to [1024]\n"
     ]
    },
    {
     "name": "stderr",
     "output_type": "stream",
     "text": [
      "\n"
     ]
    },
    {
     "name": "stdout",
     "output_type": "stream",
     "text": [
      "0: 1024x1024 1335 items, 8.8ms\n",
      "Speed: 5.3ms preprocess, 8.8ms inference, 2.8ms postprocess per image at shape (1, 3, 1024, 1024)\n"
     ]
    },
    {
     "name": "stderr",
     "output_type": "stream",
     "text": [
      "100%|████████| 1335/1335 [00:02<00:00, 447.16it/s]"
     ]
    },
    {
     "name": "stdout",
     "output_type": "stream",
     "text": [
      "\n",
      "WARNING ⚠️ imgsz=[1000] must be multiple of max stride 32, updating to [1024]\n"
     ]
    },
    {
     "name": "stderr",
     "output_type": "stream",
     "text": [
      "\n"
     ]
    },
    {
     "name": "stdout",
     "output_type": "stream",
     "text": [
      "0: 1024x1024 1349 items, 9.5ms\n",
      "Speed: 4.8ms preprocess, 9.5ms inference, 3.6ms postprocess per image at shape (1, 3, 1024, 1024)\n"
     ]
    },
    {
     "name": "stderr",
     "output_type": "stream",
     "text": [
      "\n",
      "00%|████████| 1349/1349 [00:03<00:00, 447.74it/s]"
     ]
    },
    {
     "name": "stdout",
     "output_type": "stream",
     "text": [
      "\n",
      "WARNING ⚠️ imgsz=[1000] must be multiple of max stride 32, updating to [1024]\n",
      "0: 1024x1024 319 items, 9.2ms\n",
      "Speed: 5.0ms preprocess, 9.2ms inference, 1.3ms postprocess per image at shape (1, 3, 1024, 1024)\n"
     ]
    },
    {
     "name": "stderr",
     "output_type": "stream",
     "text": [
      "100%|██████████| 319/319 [00:00<00:00, 446.16it/s]"
     ]
    },
    {
     "name": "stdout",
     "output_type": "stream",
     "text": [
      "\n",
      "WARNING ⚠️ imgsz=[1000] must be multiple of max stride 32, updating to [1024]\n",
      "0: 1024x1024 404 items, 8.8ms\n",
      "Speed: 4.9ms preprocess, 8.8ms inference, 1.4ms postprocess per image at shape (1, 3, 1024, 1024)\n"
     ]
    },
    {
     "name": "stderr",
     "output_type": "stream",
     "text": [
      "\n",
      "\n",
      "00%|██████████| 404/404 [00:00<00:00, 447.98it/s]"
     ]
    },
    {
     "name": "stdout",
     "output_type": "stream",
     "text": [
      "\n",
      "WARNING ⚠️ imgsz=[1000] must be multiple of max stride 32, updating to [1024]\n",
      "0: 1024x1024 448 items, 8.8ms\n",
      "Speed: 4.8ms preprocess, 8.8ms inference, 1.5ms postprocess per image at shape (1, 3, 1024, 1024)\n"
     ]
    },
    {
     "name": "stderr",
     "output_type": "stream",
     "text": [
      "\n",
      "00%|██████████| 448/448 [00:01<00:00, 446.03it/s]"
     ]
    },
    {
     "name": "stdout",
     "output_type": "stream",
     "text": [
      "\n",
      "WARNING ⚠️ imgsz=[1000] must be multiple of max stride 32, updating to [1024]\n",
      "0: 1024x1024 324 items, 8.8ms\n",
      "Speed: 4.8ms preprocess, 8.8ms inference, 1.3ms postprocess per image at shape (1, 3, 1024, 1024)\n"
     ]
    },
    {
     "name": "stderr",
     "output_type": "stream",
     "text": [
      "100%|██████████| 324/324 [00:00<00:00, 445.73it/s]"
     ]
    },
    {
     "name": "stdout",
     "output_type": "stream",
     "text": [
      "\n",
      "WARNING ⚠️ imgsz=[1000] must be multiple of max stride 32, updating to [1024]\n",
      "0: 1024x1024 341 items, 8.9ms\n",
      "Speed: 4.8ms preprocess, 8.9ms inference, 1.4ms postprocess per image at shape (1, 3, 1024, 1024)\n"
     ]
    },
    {
     "name": "stderr",
     "output_type": "stream",
     "text": [
      "\n",
      "100%|██████████| 341/341 [00:00<00:00, 446.15it/s]"
     ]
    },
    {
     "name": "stdout",
     "output_type": "stream",
     "text": [
      "\n",
      "WARNING ⚠️ imgsz=[1000] must be multiple of max stride 32, updating to [1024]\n"
     ]
    },
    {
     "name": "stderr",
     "output_type": "stream",
     "text": [
      "\n"
     ]
    },
    {
     "name": "stdout",
     "output_type": "stream",
     "text": [
      "0: 1024x1024 388 items, 9.1ms\n",
      "Speed: 4.9ms preprocess, 9.1ms inference, 1.4ms postprocess per image at shape (1, 3, 1024, 1024)\n"
     ]
    },
    {
     "name": "stderr",
     "output_type": "stream",
     "text": [
      "\n",
      "00%|██████████| 388/388 [00:00<00:00, 418.90it/s]"
     ]
    },
    {
     "name": "stdout",
     "output_type": "stream",
     "text": [
      "Starting inference_and_evaluation with # dims48_depth3 on cuda:2\n",
      "\n",
      "0: 2048x2048 1424 items, 24.3ms\n",
      "Speed: 12.9ms preprocess, 24.3ms inference, 4.1ms postprocess per image at shape (1, 3, 2048, 2048)\n"
     ]
    },
    {
     "name": "stderr",
     "output_type": "stream",
     "text": [
      "100%|████████| 1424/1424 [00:03<00:00, 443.82it/s]"
     ]
    },
    {
     "name": "stdout",
     "output_type": "stream",
     "text": [
      "\n",
      "WARNING ⚠️ imgsz=[1000] must be multiple of max stride 32, updating to [1024]\n"
     ]
    },
    {
     "name": "stderr",
     "output_type": "stream",
     "text": [
      "\n"
     ]
    },
    {
     "name": "stdout",
     "output_type": "stream",
     "text": [
      "0: 1024x1024 582 items, 10.2ms\n",
      "Speed: 5.5ms preprocess, 10.2ms inference, 2.5ms postprocess per image at shape (1, 3, 1024, 1024)\n"
     ]
    },
    {
     "name": "stderr",
     "output_type": "stream",
     "text": [
      "\n",
      "00%|██████████| 582/582 [00:01<00:00, 443.51it/s]"
     ]
    },
    {
     "name": "stdout",
     "output_type": "stream",
     "text": [
      "\n",
      "WARNING ⚠️ imgsz=[1000] must be multiple of max stride 32, updating to [1024]\n",
      "0: 1024x1024 519 items, 8.8ms\n",
      "Speed: 4.9ms preprocess, 8.8ms inference, 1.9ms postprocess per image at shape (1, 3, 1024, 1024)\n"
     ]
    },
    {
     "name": "stderr",
     "output_type": "stream",
     "text": [
      "100%|██████████| 519/519 [00:01<00:00, 441.92it/s]"
     ]
    },
    {
     "name": "stdout",
     "output_type": "stream",
     "text": [
      "\n",
      "WARNING ⚠️ imgsz=[1000] must be multiple of max stride 32, updating to [1024]\n"
     ]
    },
    {
     "name": "stderr",
     "output_type": "stream",
     "text": [
      "\n"
     ]
    },
    {
     "name": "stdout",
     "output_type": "stream",
     "text": [
      "0: 1024x1024 792 items, 9.4ms\n",
      "Speed: 5.2ms preprocess, 9.4ms inference, 2.2ms postprocess per image at shape (1, 3, 1024, 1024)\n"
     ]
    },
    {
     "name": "stderr",
     "output_type": "stream",
     "text": [
      "100%|██████████| 792/792 [00:01<00:00, 443.49it/s]"
     ]
    },
    {
     "name": "stdout",
     "output_type": "stream",
     "text": [
      "\n",
      "WARNING ⚠️ imgsz=[1000] must be multiple of max stride 32, updating to [1024]\n"
     ]
    },
    {
     "name": "stderr",
     "output_type": "stream",
     "text": [
      "\n"
     ]
    },
    {
     "name": "stdout",
     "output_type": "stream",
     "text": [
      "0: 1024x1024 427 items, 9.4ms\n",
      "Speed: 4.9ms preprocess, 9.4ms inference, 1.5ms postprocess per image at shape (1, 3, 1024, 1024)\n"
     ]
    },
    {
     "name": "stderr",
     "output_type": "stream",
     "text": [
      "100%|██████████| 427/427 [00:00<00:00, 441.77it/s]"
     ]
    },
    {
     "name": "stdout",
     "output_type": "stream",
     "text": [
      "\n",
      "WARNING ⚠️ imgsz=[1000] must be multiple of max stride 32, updating to [1024]\n"
     ]
    },
    {
     "name": "stderr",
     "output_type": "stream",
     "text": [
      "\n"
     ]
    },
    {
     "name": "stdout",
     "output_type": "stream",
     "text": [
      "0: 1024x1024 852 items, 9.4ms\n",
      "Speed: 4.8ms preprocess, 9.4ms inference, 2.3ms postprocess per image at shape (1, 3, 1024, 1024)\n"
     ]
    },
    {
     "name": "stderr",
     "output_type": "stream",
     "text": [
      "100%|██████████| 852/852 [00:01<00:00, 443.30it/s]"
     ]
    },
    {
     "name": "stdout",
     "output_type": "stream",
     "text": [
      "\n",
      "WARNING ⚠️ imgsz=[1000] must be multiple of max stride 32, updating to [1024]\n",
      "0: 1024x1024 363 items, 8.8ms\n",
      "Speed: 4.8ms preprocess, 8.8ms inference, 1.5ms postprocess per image at shape (1, 3, 1024, 1024)\n"
     ]
    },
    {
     "name": "stderr",
     "output_type": "stream",
     "text": [
      "\n",
      "100%|██████████| 363/363 [00:00<00:00, 441.26it/s]"
     ]
    },
    {
     "name": "stdout",
     "output_type": "stream",
     "text": [
      "\n",
      "WARNING ⚠️ imgsz=[1000] must be multiple of max stride 32, updating to [1024]\n",
      "0: 1024x1024 506 items, 8.8ms\n",
      "Speed: 4.8ms preprocess, 8.8ms inference, 1.5ms postprocess per image at shape (1, 3, 1024, 1024)\n"
     ]
    },
    {
     "name": "stderr",
     "output_type": "stream",
     "text": [
      "\n",
      "100%|██████████| 506/506 [00:01<00:00, 443.34it/s]"
     ]
    },
    {
     "name": "stdout",
     "output_type": "stream",
     "text": [
      "\n",
      "WARNING ⚠️ imgsz=[1000] must be multiple of max stride 32, updating to [1024]\n",
      "0: 1024x1024 622 items, 8.8ms\n",
      "Speed: 4.8ms preprocess, 8.8ms inference, 1.8ms postprocess per image at shape (1, 3, 1024, 1024)\n"
     ]
    },
    {
     "name": "stderr",
     "output_type": "stream",
     "text": [
      "\n",
      "\n",
      "00%|██████████| 622/622 [00:01<00:00, 444.34it/s]"
     ]
    },
    {
     "name": "stdout",
     "output_type": "stream",
     "text": [
      "\n",
      "WARNING ⚠️ imgsz=[1000] must be multiple of max stride 32, updating to [1024]\n",
      "0: 1024x1024 1143 items, 8.8ms\n",
      "Speed: 4.8ms preprocess, 8.8ms inference, 2.6ms postprocess per image at shape (1, 3, 1024, 1024)\n"
     ]
    },
    {
     "name": "stderr",
     "output_type": "stream",
     "text": [
      "100%|████████| 1143/1143 [00:02<00:00, 443.76it/s]"
     ]
    },
    {
     "name": "stdout",
     "output_type": "stream",
     "text": [
      "\n",
      "WARNING ⚠️ imgsz=[1000] must be multiple of max stride 32, updating to [1024]\n",
      "0: 1024x1024 269 items, 8.8ms\n",
      "Speed: 5.2ms preprocess, 8.8ms inference, 1.3ms postprocess per image at shape (1, 3, 1024, 1024)\n"
     ]
    },
    {
     "name": "stderr",
     "output_type": "stream",
     "text": [
      "\n",
      "100%|██████████| 269/269 [00:00<00:00, 441.18it/s]"
     ]
    },
    {
     "name": "stdout",
     "output_type": "stream",
     "text": [
      "\n",
      "WARNING ⚠️ imgsz=[1000] must be multiple of max stride 32, updating to [1024]\n",
      "0: 1024x1024 571 items, 8.8ms\n",
      "Speed: 4.8ms preprocess, 8.8ms inference, 1.7ms postprocess per image at shape (1, 3, 1024, 1024)\n"
     ]
    },
    {
     "name": "stderr",
     "output_type": "stream",
     "text": [
      "\n",
      "100%|██████████| 571/571 [00:01<00:00, 443.27it/s]"
     ]
    },
    {
     "name": "stdout",
     "output_type": "stream",
     "text": [
      "\n",
      "WARNING ⚠️ imgsz=[1000] must be multiple of max stride 32, updating to [1024]\n"
     ]
    },
    {
     "name": "stderr",
     "output_type": "stream",
     "text": [
      "\n"
     ]
    },
    {
     "name": "stdout",
     "output_type": "stream",
     "text": [
      "0: 1024x1024 408 items, 8.8ms\n",
      "Speed: 5.0ms preprocess, 8.8ms inference, 1.4ms postprocess per image at shape (1, 3, 1024, 1024)\n"
     ]
    },
    {
     "name": "stderr",
     "output_type": "stream",
     "text": [
      "100%|██████████| 408/408 [00:00<00:00, 442.06it/s]"
     ]
    },
    {
     "name": "stdout",
     "output_type": "stream",
     "text": [
      "\n",
      "WARNING ⚠️ imgsz=[1000] must be multiple of max stride 32, updating to [1024]\n",
      "0: 1024x1024 765 items, 8.8ms\n",
      "Speed: 4.8ms preprocess, 8.8ms inference, 2.0ms postprocess per image at shape (1, 3, 1024, 1024)\n"
     ]
    },
    {
     "name": "stderr",
     "output_type": "stream",
     "text": [
      "\n",
      "100%|██████████| 765/765 [00:01<00:00, 444.41it/s]"
     ]
    },
    {
     "name": "stdout",
     "output_type": "stream",
     "text": [
      "\n",
      "WARNING ⚠️ imgsz=[1000] must be multiple of max stride 32, updating to [1024]\n",
      "0: 1024x1024 309 items, 9.3ms\n",
      "Speed: 4.9ms preprocess, 9.3ms inference, 1.4ms postprocess per image at shape (1, 3, 1024, 1024)\n"
     ]
    },
    {
     "name": "stderr",
     "output_type": "stream",
     "text": [
      "\n",
      "\n",
      "00%|██████████| 309/309 [00:00<00:00, 443.37it/s]"
     ]
    },
    {
     "name": "stdout",
     "output_type": "stream",
     "text": [
      "\n",
      "WARNING ⚠️ imgsz=[1000] must be multiple of max stride 32, updating to [1024]\n",
      "0: 1024x1024 481 items, 8.8ms\n",
      "Speed: 5.2ms preprocess, 8.8ms inference, 1.6ms postprocess per image at shape (1, 3, 1024, 1024)\n"
     ]
    },
    {
     "name": "stderr",
     "output_type": "stream",
     "text": [
      "100%|██████████| 481/481 [00:01<00:00, 442.14it/s]"
     ]
    },
    {
     "name": "stdout",
     "output_type": "stream",
     "text": [
      "\n",
      "WARNING ⚠️ imgsz=[1000] must be multiple of max stride 32, updating to [1024]\n"
     ]
    },
    {
     "name": "stderr",
     "output_type": "stream",
     "text": [
      "\n"
     ]
    },
    {
     "name": "stdout",
     "output_type": "stream",
     "text": [
      "0: 1024x1024 301 items, 8.8ms\n",
      "Speed: 4.9ms preprocess, 8.8ms inference, 1.3ms postprocess per image at shape (1, 3, 1024, 1024)\n"
     ]
    },
    {
     "name": "stderr",
     "output_type": "stream",
     "text": [
      "100%|██████████| 301/301 [00:00<00:00, 441.96it/s]"
     ]
    },
    {
     "name": "stdout",
     "output_type": "stream",
     "text": [
      "\n",
      "WARNING ⚠️ imgsz=[1000] must be multiple of max stride 32, updating to [1024]\n"
     ]
    },
    {
     "name": "stderr",
     "output_type": "stream",
     "text": [
      "\n"
     ]
    },
    {
     "name": "stdout",
     "output_type": "stream",
     "text": [
      "0: 1024x1024 1148 items, 8.8ms\n",
      "Speed: 4.8ms preprocess, 8.8ms inference, 3.0ms postprocess per image at shape (1, 3, 1024, 1024)\n"
     ]
    },
    {
     "name": "stderr",
     "output_type": "stream",
     "text": [
      "100%|████████| 1148/1148 [00:02<00:00, 444.21it/s]"
     ]
    },
    {
     "name": "stdout",
     "output_type": "stream",
     "text": [
      "\n",
      "WARNING ⚠️ imgsz=[1000] must be multiple of max stride 32, updating to [1024]\n"
     ]
    },
    {
     "name": "stderr",
     "output_type": "stream",
     "text": [
      "\n"
     ]
    },
    {
     "name": "stdout",
     "output_type": "stream",
     "text": [
      "0: 1024x1024 426 items, 9.2ms\n",
      "Speed: 4.9ms preprocess, 9.2ms inference, 1.5ms postprocess per image at shape (1, 3, 1024, 1024)\n"
     ]
    },
    {
     "name": "stderr",
     "output_type": "stream",
     "text": [
      "100%|██████████| 426/426 [00:00<00:00, 442.04it/s]"
     ]
    },
    {
     "name": "stdout",
     "output_type": "stream",
     "text": [
      "\n",
      "WARNING ⚠️ imgsz=[1000] must be multiple of max stride 32, updating to [1024]\n",
      "0: 1024x1024 443 items, 8.8ms\n",
      "Speed: 4.9ms preprocess, 8.8ms inference, 1.5ms postprocess per image at shape (1, 3, 1024, 1024)\n"
     ]
    },
    {
     "name": "stderr",
     "output_type": "stream",
     "text": [
      "\n",
      "\n",
      "00%|██████████| 443/443 [00:00<00:00, 443.07it/s]"
     ]
    },
    {
     "name": "stdout",
     "output_type": "stream",
     "text": [
      "\n",
      "WARNING ⚠️ imgsz=[1000] must be multiple of max stride 32, updating to [1024]\n",
      "0: 1024x1024 252 items, 8.8ms\n",
      "Speed: 4.8ms preprocess, 8.8ms inference, 1.2ms postprocess per image at shape (1, 3, 1024, 1024)\n"
     ]
    },
    {
     "name": "stderr",
     "output_type": "stream",
     "text": [
      "100%|██████████| 252/252 [00:00<00:00, 441.92it/s]"
     ]
    },
    {
     "name": "stdout",
     "output_type": "stream",
     "text": [
      "\n",
      "WARNING ⚠️ imgsz=[1000] must be multiple of max stride 32, updating to [1024]\n"
     ]
    },
    {
     "name": "stderr",
     "output_type": "stream",
     "text": [
      "\n"
     ]
    },
    {
     "name": "stdout",
     "output_type": "stream",
     "text": [
      "0: 1024x1024 232 items, 9.4ms\n",
      "Speed: 4.9ms preprocess, 9.4ms inference, 1.2ms postprocess per image at shape (1, 3, 1024, 1024)\n"
     ]
    },
    {
     "name": "stderr",
     "output_type": "stream",
     "text": [
      "100%|██████████| 232/232 [00:00<00:00, 441.66it/s]"
     ]
    },
    {
     "name": "stdout",
     "output_type": "stream",
     "text": [
      "\n"
     ]
    },
    {
     "name": "stderr",
     "output_type": "stream",
     "text": [
      "\n"
     ]
    },
    {
     "name": "stdout",
     "output_type": "stream",
     "text": [
      "0: 2048x2048 1227 items, 24.8ms\n",
      "Speed: 13.2ms preprocess, 24.8ms inference, 3.3ms postprocess per image at shape (1, 3, 2048, 2048)\n"
     ]
    },
    {
     "name": "stderr",
     "output_type": "stream",
     "text": [
      "100%|████████| 1227/1227 [00:02<00:00, 447.03it/s]"
     ]
    },
    {
     "name": "stdout",
     "output_type": "stream",
     "text": [
      "\n",
      "WARNING ⚠️ imgsz=[1000] must be multiple of max stride 32, updating to [1024]\n",
      "0: 1024x1024 722 items, 9.3ms\n",
      "Speed: 4.8ms preprocess, 9.3ms inference, 2.8ms postprocess per image at shape (1, 3, 1024, 1024)\n"
     ]
    },
    {
     "name": "stderr",
     "output_type": "stream",
     "text": [
      "\n",
      "100%|██████████| 722/722 [00:01<00:00, 443.91it/s]"
     ]
    },
    {
     "name": "stdout",
     "output_type": "stream",
     "text": [
      "\n",
      "WARNING ⚠️ imgsz=[1000] must be multiple of max stride 32, updating to [1024]\n",
      "0: 1024x1024 791 items, 8.8ms\n",
      "Speed: 4.9ms preprocess, 8.8ms inference, 1.9ms postprocess per image at shape (1, 3, 1024, 1024)\n"
     ]
    },
    {
     "name": "stderr",
     "output_type": "stream",
     "text": [
      "\n",
      "100%|██████████| 791/791 [00:01<00:00, 446.39it/s]"
     ]
    },
    {
     "name": "stdout",
     "output_type": "stream",
     "text": [
      "\n",
      "WARNING ⚠️ imgsz=[1000] must be multiple of max stride 32, updating to [1024]\n"
     ]
    },
    {
     "name": "stderr",
     "output_type": "stream",
     "text": [
      "\n"
     ]
    },
    {
     "name": "stdout",
     "output_type": "stream",
     "text": [
      "0: 1024x1024 397 items, 9.1ms\n",
      "Speed: 4.9ms preprocess, 9.1ms inference, 1.4ms postprocess per image at shape (1, 3, 1024, 1024)\n"
     ]
    },
    {
     "name": "stderr",
     "output_type": "stream",
     "text": [
      "\n",
      "00%|██████████| 397/397 [00:01<00:00, 388.82it/s]"
     ]
    },
    {
     "name": "stdout",
     "output_type": "stream",
     "text": [
      "\n",
      "WARNING ⚠️ imgsz=[1000] must be multiple of max stride 32, updating to [1024]\n",
      "0: 1024x1024 360 items, 8.9ms\n",
      "Speed: 4.8ms preprocess, 8.9ms inference, 1.5ms postprocess per image at shape (1, 3, 1024, 1024)\n"
     ]
    },
    {
     "name": "stderr",
     "output_type": "stream",
     "text": [
      "100%|██████████| 360/360 [00:00<00:00, 441.72it/s]"
     ]
    },
    {
     "name": "stdout",
     "output_type": "stream",
     "text": [
      "\n",
      "WARNING ⚠️ imgsz=[1000] must be multiple of max stride 32, updating to [1024]\n",
      "0: 1024x1024 295 items, 8.8ms\n",
      "Speed: 4.9ms preprocess, 8.8ms inference, 1.2ms postprocess per image at shape (1, 3, 1024, 1024)\n"
     ]
    },
    {
     "name": "stderr",
     "output_type": "stream",
     "text": [
      "\n",
      "100%|██████████| 295/295 [00:00<00:00, 440.34it/s]"
     ]
    },
    {
     "name": "stdout",
     "output_type": "stream",
     "text": [
      "\n"
     ]
    },
    {
     "name": "stderr",
     "output_type": "stream",
     "text": [
      "\n"
     ]
    },
    {
     "name": "stdout",
     "output_type": "stream",
     "text": [
      "0: 2048x2048 1153 items, 24.8ms\n",
      "Speed: 13.0ms preprocess, 24.8ms inference, 2.8ms postprocess per image at shape (1, 3, 2048, 2048)\n"
     ]
    },
    {
     "name": "stderr",
     "output_type": "stream",
     "text": [
      "100%|████████| 1153/1153 [00:02<00:00, 446.39it/s]"
     ]
    },
    {
     "name": "stdout",
     "output_type": "stream",
     "text": [
      "\n",
      "WARNING ⚠️ imgsz=[1000] must be multiple of max stride 32, updating to [1024]\n"
     ]
    },
    {
     "name": "stderr",
     "output_type": "stream",
     "text": [
      "\n"
     ]
    },
    {
     "name": "stdout",
     "output_type": "stream",
     "text": [
      "0: 1024x1024 350 items, 9.5ms\n",
      "Speed: 4.8ms preprocess, 9.5ms inference, 2.0ms postprocess per image at shape (1, 3, 1024, 1024)\n"
     ]
    },
    {
     "name": "stderr",
     "output_type": "stream",
     "text": [
      "100%|██████████| 350/350 [00:00<00:00, 443.62it/s]"
     ]
    },
    {
     "name": "stdout",
     "output_type": "stream",
     "text": [
      "\n"
     ]
    },
    {
     "name": "stderr",
     "output_type": "stream",
     "text": [
      "\n"
     ]
    },
    {
     "name": "stdout",
     "output_type": "stream",
     "text": [
      "WARNING ⚠️ imgsz=[1000] must be multiple of max stride 32, updating to [1024]\n",
      "0: 1024x1024 315 items, 8.8ms\n",
      "Speed: 4.9ms preprocess, 8.8ms inference, 1.3ms postprocess per image at shape (1, 3, 1024, 1024)\n"
     ]
    },
    {
     "name": "stderr",
     "output_type": "stream",
     "text": [
      "100%|██████████| 315/315 [00:00<00:00, 442.27it/s]"
     ]
    },
    {
     "name": "stdout",
     "output_type": "stream",
     "text": [
      "\n",
      "WARNING ⚠️ imgsz=[1000] must be multiple of max stride 32, updating to [1024]\n",
      "0: 1024x1024 1016 items, 8.8ms\n",
      "Speed: 5.0ms preprocess, 8.8ms inference, 2.4ms postprocess per image at shape (1, 3, 1024, 1024)\n"
     ]
    },
    {
     "name": "stderr",
     "output_type": "stream",
     "text": [
      "\n",
      "100%|████████| 1016/1016 [00:02<00:00, 444.88it/s]"
     ]
    },
    {
     "name": "stdout",
     "output_type": "stream",
     "text": [
      "\n",
      "WARNING ⚠️ imgsz=[1000] must be multiple of max stride 32, updating to [1024]\n"
     ]
    },
    {
     "name": "stderr",
     "output_type": "stream",
     "text": [
      "\n"
     ]
    },
    {
     "name": "stdout",
     "output_type": "stream",
     "text": [
      "0: 1024x1024 508 items, 9.5ms\n",
      "Speed: 4.8ms preprocess, 9.5ms inference, 1.8ms postprocess per image at shape (1, 3, 1024, 1024)\n"
     ]
    },
    {
     "name": "stderr",
     "output_type": "stream",
     "text": [
      "100%|██████████| 508/508 [00:01<00:00, 444.55it/s]"
     ]
    },
    {
     "name": "stdout",
     "output_type": "stream",
     "text": [
      "\n",
      "WARNING ⚠️ imgsz=[1000] must be multiple of max stride 32, updating to [1024]\n",
      "0: 1024x1024 311 items, 8.8ms\n",
      "Speed: 5.4ms preprocess, 8.8ms inference, 1.3ms postprocess per image at shape (1, 3, 1024, 1024)\n"
     ]
    },
    {
     "name": "stderr",
     "output_type": "stream",
     "text": [
      "\n",
      "\n",
      "00%|██████████| 311/311 [00:00<00:00, 441.76it/s]"
     ]
    },
    {
     "name": "stdout",
     "output_type": "stream",
     "text": [
      "\n",
      "WARNING ⚠️ imgsz=[1000] must be multiple of max stride 32, updating to [1024]\n",
      "0: 1024x1024 461 items, 8.8ms\n",
      "Speed: 4.9ms preprocess, 8.8ms inference, 1.6ms postprocess per image at shape (1, 3, 1024, 1024)\n"
     ]
    },
    {
     "name": "stderr",
     "output_type": "stream",
     "text": [
      "100%|██████████| 461/461 [00:01<00:00, 442.96it/s]"
     ]
    },
    {
     "name": "stdout",
     "output_type": "stream",
     "text": [
      "\n",
      "WARNING ⚠️ imgsz=[1000] must be multiple of max stride 32, updating to [1024]\n",
      "0: 1024x1024 288 items, 8.8ms\n",
      "Speed: 4.9ms preprocess, 8.8ms inference, 1.3ms postprocess per image at shape (1, 3, 1024, 1024)\n"
     ]
    },
    {
     "name": "stderr",
     "output_type": "stream",
     "text": [
      "\n",
      "100%|██████████| 288/288 [00:00<00:00, 442.17it/s]"
     ]
    },
    {
     "name": "stdout",
     "output_type": "stream",
     "text": [
      "\n",
      "WARNING ⚠️ imgsz=[1000] must be multiple of max stride 32, updating to [1024]\n",
      "0: 1024x1024 513 items, 8.8ms\n",
      "Speed: 4.9ms preprocess, 8.8ms inference, 1.6ms postprocess per image at shape (1, 3, 1024, 1024)\n"
     ]
    },
    {
     "name": "stderr",
     "output_type": "stream",
     "text": [
      "\n",
      "100%|██████████| 513/513 [00:01<00:00, 444.78it/s]"
     ]
    },
    {
     "name": "stdout",
     "output_type": "stream",
     "text": [
      "\n",
      "WARNING ⚠️ imgsz=[1000] must be multiple of max stride 32, updating to [1024]\n",
      "0: 1024x1024 379 items, 8.8ms\n",
      "Speed: 4.9ms preprocess, 8.8ms inference, 1.5ms postprocess per image at shape (1, 3, 1024, 1024)\n"
     ]
    },
    {
     "name": "stderr",
     "output_type": "stream",
     "text": [
      "\n",
      "100%|██████████| 379/379 [00:00<00:00, 442.22it/s]"
     ]
    },
    {
     "name": "stdout",
     "output_type": "stream",
     "text": [
      "\n",
      "WARNING ⚠️ imgsz=[1000] must be multiple of max stride 32, updating to [1024]\n",
      "0: 1024x1024 1278 items, 8.8ms\n",
      "Speed: 4.7ms preprocess, 8.8ms inference, 3.0ms postprocess per image at shape (1, 3, 1024, 1024)\n"
     ]
    },
    {
     "name": "stderr",
     "output_type": "stream",
     "text": [
      "\n",
      "100%|████████| 1278/1278 [00:02<00:00, 445.42it/s]"
     ]
    },
    {
     "name": "stdout",
     "output_type": "stream",
     "text": [
      "\n",
      "WARNING ⚠️ imgsz=[1000] must be multiple of max stride 32, updating to [1024]\n",
      "0: 1024x1024 337 items, 9.0ms\n",
      "Speed: 4.9ms preprocess, 9.0ms inference, 1.4ms postprocess per image at shape (1, 3, 1024, 1024)\n"
     ]
    },
    {
     "name": "stderr",
     "output_type": "stream",
     "text": [
      "\n",
      "100%|██████████| 337/337 [00:00<00:00, 442.92it/s]"
     ]
    },
    {
     "name": "stdout",
     "output_type": "stream",
     "text": [
      "\n",
      "WARNING ⚠️ imgsz=[1000] must be multiple of max stride 32, updating to [1024]\n",
      "0: 1024x1024 365 items, 8.8ms\n",
      "Speed: 4.9ms preprocess, 8.8ms inference, 1.3ms postprocess per image at shape (1, 3, 1024, 1024)\n"
     ]
    },
    {
     "name": "stderr",
     "output_type": "stream",
     "text": [
      "\n",
      "100%|██████████| 365/365 [00:00<00:00, 443.54it/s]"
     ]
    },
    {
     "name": "stdout",
     "output_type": "stream",
     "text": [
      "\n",
      "WARNING ⚠️ imgsz=[1000] must be multiple of max stride 32, updating to [1024]\n",
      "0: 1024x1024 543 items, 8.8ms\n",
      "Speed: 4.8ms preprocess, 8.8ms inference, 1.6ms postprocess per image at shape (1, 3, 1024, 1024)\n"
     ]
    },
    {
     "name": "stderr",
     "output_type": "stream",
     "text": [
      "\n",
      "100%|██████████| 543/543 [00:01<00:00, 444.83it/s]"
     ]
    },
    {
     "name": "stdout",
     "output_type": "stream",
     "text": [
      "\n",
      "WARNING ⚠️ imgsz=[1000] must be multiple of max stride 32, updating to [1024]\n",
      "0: 1024x1024 481 items, 8.8ms\n",
      "Speed: 4.9ms preprocess, 8.8ms inference, 1.5ms postprocess per image at shape (1, 3, 1024, 1024)\n"
     ]
    },
    {
     "name": "stderr",
     "output_type": "stream",
     "text": [
      "\n",
      "100%|██████████| 481/481 [00:01<00:00, 443.18it/s]"
     ]
    },
    {
     "name": "stdout",
     "output_type": "stream",
     "text": [
      "\n",
      "WARNING ⚠️ imgsz=[1000] must be multiple of max stride 32, updating to [1024]\n"
     ]
    },
    {
     "name": "stderr",
     "output_type": "stream",
     "text": [
      "\n"
     ]
    },
    {
     "name": "stdout",
     "output_type": "stream",
     "text": [
      "0: 1024x1024 1335 items, 8.8ms\n",
      "Speed: 4.9ms preprocess, 8.8ms inference, 2.8ms postprocess per image at shape (1, 3, 1024, 1024)\n"
     ]
    },
    {
     "name": "stderr",
     "output_type": "stream",
     "text": [
      "100%|████████| 1335/1335 [00:02<00:00, 445.16it/s]"
     ]
    },
    {
     "name": "stdout",
     "output_type": "stream",
     "text": [
      "\n",
      "WARNING ⚠️ imgsz=[1000] must be multiple of max stride 32, updating to [1024]\n"
     ]
    },
    {
     "name": "stderr",
     "output_type": "stream",
     "text": [
      "\n"
     ]
    },
    {
     "name": "stdout",
     "output_type": "stream",
     "text": [
      "0: 1024x1024 1349 items, 8.8ms\n",
      "Speed: 4.8ms preprocess, 8.8ms inference, 3.5ms postprocess per image at shape (1, 3, 1024, 1024)\n"
     ]
    },
    {
     "name": "stderr",
     "output_type": "stream",
     "text": [
      "100%|████████| 1349/1349 [00:03<00:00, 445.72it/s]"
     ]
    },
    {
     "name": "stdout",
     "output_type": "stream",
     "text": [
      "\n",
      "WARNING ⚠️ imgsz=[1000] must be multiple of max stride 32, updating to [1024]\n",
      "0: 1024x1024 319 items, 9.2ms\n",
      "Speed: 4.9ms preprocess, 9.2ms inference, 1.4ms postprocess per image at shape (1, 3, 1024, 1024)\n"
     ]
    },
    {
     "name": "stderr",
     "output_type": "stream",
     "text": [
      "\n",
      "100%|██████████| 319/319 [00:00<00:00, 442.36it/s]"
     ]
    },
    {
     "name": "stdout",
     "output_type": "stream",
     "text": [
      "\n",
      "WARNING ⚠️ imgsz=[1000] must be multiple of max stride 32, updating to [1024]\n",
      "0: 1024x1024 404 items, 8.8ms\n",
      "Speed: 5.0ms preprocess, 8.8ms inference, 1.5ms postprocess per image at shape (1, 3, 1024, 1024)\n"
     ]
    },
    {
     "name": "stderr",
     "output_type": "stream",
     "text": [
      "\n",
      "100%|██████████| 404/404 [00:00<00:00, 442.64it/s]"
     ]
    },
    {
     "name": "stdout",
     "output_type": "stream",
     "text": [
      "\n",
      "WARNING ⚠️ imgsz=[1000] must be multiple of max stride 32, updating to [1024]\n",
      "0: 1024x1024 448 items, 8.8ms\n",
      "Speed: 5.3ms preprocess, 8.8ms inference, 1.5ms postprocess per image at shape (1, 3, 1024, 1024)\n"
     ]
    },
    {
     "name": "stderr",
     "output_type": "stream",
     "text": [
      "\n",
      "100%|██████████| 448/448 [00:01<00:00, 442.34it/s]"
     ]
    },
    {
     "name": "stdout",
     "output_type": "stream",
     "text": [
      "\n",
      "WARNING ⚠️ imgsz=[1000] must be multiple of max stride 32, updating to [1024]\n",
      "0: 1024x1024 324 items, 8.9ms\n",
      "Speed: 4.9ms preprocess, 8.9ms inference, 1.3ms postprocess per image at shape (1, 3, 1024, 1024)\n"
     ]
    },
    {
     "name": "stderr",
     "output_type": "stream",
     "text": [
      "\n",
      "100%|██████████| 324/324 [00:00<00:00, 442.74it/s]"
     ]
    },
    {
     "name": "stdout",
     "output_type": "stream",
     "text": [
      "\n",
      "WARNING ⚠️ imgsz=[1000] must be multiple of max stride 32, updating to [1024]\n",
      "0: 1024x1024 341 items, 8.9ms\n",
      "Speed: 4.9ms preprocess, 8.9ms inference, 1.3ms postprocess per image at shape (1, 3, 1024, 1024)\n"
     ]
    },
    {
     "name": "stderr",
     "output_type": "stream",
     "text": [
      "\n",
      "100%|██████████| 341/341 [00:00<00:00, 441.20it/s]"
     ]
    },
    {
     "name": "stdout",
     "output_type": "stream",
     "text": [
      "\n",
      "WARNING ⚠️ imgsz=[1000] must be multiple of max stride 32, updating to [1024]\n"
     ]
    },
    {
     "name": "stderr",
     "output_type": "stream",
     "text": [
      "\n"
     ]
    },
    {
     "name": "stdout",
     "output_type": "stream",
     "text": [
      "0: 1024x1024 388 items, 8.9ms\n",
      "Speed: 4.7ms preprocess, 8.9ms inference, 1.4ms postprocess per image at shape (1, 3, 1024, 1024)\n"
     ]
    },
    {
     "name": "stderr",
     "output_type": "stream",
     "text": [
      "\n",
      "00%|██████████| 388/388 [00:00<00:00, 441.87it/s]"
     ]
    },
    {
     "name": "stdout",
     "output_type": "stream",
     "text": [
      "Starting inference_and_evaluation with # dims64_depth3 on cuda:2\n",
      "\n",
      "0: 2048x2048 1424 items, 24.3ms\n",
      "Speed: 12.9ms preprocess, 24.3ms inference, 4.1ms postprocess per image at shape (1, 3, 2048, 2048)\n"
     ]
    },
    {
     "name": "stderr",
     "output_type": "stream",
     "text": [
      "\n",
      "00%|████████| 1424/1424 [00:03<00:00, 439.78it/s]"
     ]
    },
    {
     "name": "stdout",
     "output_type": "stream",
     "text": [
      "\n",
      "WARNING ⚠️ imgsz=[1000] must be multiple of max stride 32, updating to [1024]\n",
      "0: 1024x1024 582 items, 10.0ms\n",
      "Speed: 4.8ms preprocess, 10.0ms inference, 2.5ms postprocess per image at shape (1, 3, 1024, 1024)\n"
     ]
    },
    {
     "name": "stderr",
     "output_type": "stream",
     "text": [
      "\n",
      "00%|██████████| 582/582 [00:01<00:00, 401.94it/s]"
     ]
    },
    {
     "name": "stdout",
     "output_type": "stream",
     "text": [
      "\n",
      "WARNING ⚠️ imgsz=[1000] must be multiple of max stride 32, updating to [1024]\n",
      "0: 1024x1024 519 items, 8.8ms\n",
      "Speed: 4.8ms preprocess, 8.8ms inference, 1.7ms postprocess per image at shape (1, 3, 1024, 1024)\n"
     ]
    },
    {
     "name": "stderr",
     "output_type": "stream",
     "text": [
      "100%|██████████| 519/519 [00:01<00:00, 438.39it/s]"
     ]
    },
    {
     "name": "stdout",
     "output_type": "stream",
     "text": [
      "\n",
      "WARNING ⚠️ imgsz=[1000] must be multiple of max stride 32, updating to [1024]\n"
     ]
    },
    {
     "name": "stderr",
     "output_type": "stream",
     "text": [
      "\n"
     ]
    },
    {
     "name": "stdout",
     "output_type": "stream",
     "text": [
      "0: 1024x1024 792 items, 8.8ms\n",
      "Speed: 4.8ms preprocess, 8.8ms inference, 2.2ms postprocess per image at shape (1, 3, 1024, 1024)\n"
     ]
    },
    {
     "name": "stderr",
     "output_type": "stream",
     "text": [
      "100%|██████████| 792/792 [00:01<00:00, 440.46it/s]"
     ]
    },
    {
     "name": "stdout",
     "output_type": "stream",
     "text": [
      "\n",
      "WARNING ⚠️ imgsz=[1000] must be multiple of max stride 32, updating to [1024]\n"
     ]
    },
    {
     "name": "stderr",
     "output_type": "stream",
     "text": [
      "\n"
     ]
    },
    {
     "name": "stdout",
     "output_type": "stream",
     "text": [
      "0: 1024x1024 427 items, 8.8ms\n",
      "Speed: 4.8ms preprocess, 8.8ms inference, 1.5ms postprocess per image at shape (1, 3, 1024, 1024)\n"
     ]
    },
    {
     "name": "stderr",
     "output_type": "stream",
     "text": [
      "100%|██████████| 427/427 [00:00<00:00, 437.74it/s]"
     ]
    },
    {
     "name": "stdout",
     "output_type": "stream",
     "text": [
      "\n",
      "WARNING ⚠️ imgsz=[1000] must be multiple of max stride 32, updating to [1024]\n"
     ]
    },
    {
     "name": "stderr",
     "output_type": "stream",
     "text": [
      "\n"
     ]
    },
    {
     "name": "stdout",
     "output_type": "stream",
     "text": [
      "0: 1024x1024 852 items, 8.8ms\n",
      "Speed: 4.8ms preprocess, 8.8ms inference, 2.2ms postprocess per image at shape (1, 3, 1024, 1024)\n"
     ]
    },
    {
     "name": "stderr",
     "output_type": "stream",
     "text": [
      "100%|██████████| 852/852 [00:01<00:00, 440.10it/s]"
     ]
    },
    {
     "name": "stdout",
     "output_type": "stream",
     "text": [
      "\n",
      "WARNING ⚠️ imgsz=[1000] must be multiple of max stride 32, updating to [1024]\n",
      "0: 1024x1024 363 items, 8.8ms\n",
      "Speed: 4.9ms preprocess, 8.8ms inference, 1.4ms postprocess per image at shape (1, 3, 1024, 1024)\n"
     ]
    },
    {
     "name": "stderr",
     "output_type": "stream",
     "text": [
      "\n",
      "100%|██████████| 363/363 [00:00<00:00, 438.69it/s]"
     ]
    },
    {
     "name": "stdout",
     "output_type": "stream",
     "text": [
      "\n",
      "WARNING ⚠️ imgsz=[1000] must be multiple of max stride 32, updating to [1024]\n",
      "0: 1024x1024 506 items, 8.9ms\n",
      "Speed: 4.8ms preprocess, 8.9ms inference, 1.5ms postprocess per image at shape (1, 3, 1024, 1024)\n"
     ]
    },
    {
     "name": "stderr",
     "output_type": "stream",
     "text": [
      "\n",
      "100%|██████████| 506/506 [00:01<00:00, 439.54it/s]"
     ]
    },
    {
     "name": "stdout",
     "output_type": "stream",
     "text": [
      "\n",
      "WARNING ⚠️ imgsz=[1000] must be multiple of max stride 32, updating to [1024]\n",
      "0: 1024x1024 622 items, 8.9ms\n",
      "Speed: 4.8ms preprocess, 8.9ms inference, 1.9ms postprocess per image at shape (1, 3, 1024, 1024)\n"
     ]
    },
    {
     "name": "stderr",
     "output_type": "stream",
     "text": [
      "\n",
      "\n",
      "00%|██████████| 622/622 [00:01<00:00, 440.03it/s]"
     ]
    },
    {
     "name": "stdout",
     "output_type": "stream",
     "text": [
      "\n",
      "WARNING ⚠️ imgsz=[1000] must be multiple of max stride 32, updating to [1024]\n",
      "0: 1024x1024 1143 items, 8.8ms\n",
      "Speed: 4.8ms preprocess, 8.8ms inference, 2.6ms postprocess per image at shape (1, 3, 1024, 1024)\n"
     ]
    },
    {
     "name": "stderr",
     "output_type": "stream",
     "text": [
      "100%|████████| 1143/1143 [00:02<00:00, 440.39it/s]"
     ]
    },
    {
     "name": "stdout",
     "output_type": "stream",
     "text": [
      "\n",
      "WARNING ⚠️ imgsz=[1000] must be multiple of max stride 32, updating to [1024]\n"
     ]
    },
    {
     "name": "stderr",
     "output_type": "stream",
     "text": [
      "\n"
     ]
    },
    {
     "name": "stdout",
     "output_type": "stream",
     "text": [
      "0: 1024x1024 269 items, 9.0ms\n",
      "Speed: 4.8ms preprocess, 9.0ms inference, 1.3ms postprocess per image at shape (1, 3, 1024, 1024)\n"
     ]
    },
    {
     "name": "stderr",
     "output_type": "stream",
     "text": [
      "100%|██████████| 269/269 [00:00<00:00, 437.18it/s]"
     ]
    },
    {
     "name": "stdout",
     "output_type": "stream",
     "text": [
      "\n",
      "WARNING ⚠️ imgsz=[1000] must be multiple of max stride 32, updating to [1024]\n",
      "0: 1024x1024 571 items, 8.8ms\n",
      "Speed: 4.9ms preprocess, 8.8ms inference, 1.7ms postprocess per image at shape (1, 3, 1024, 1024)\n"
     ]
    },
    {
     "name": "stderr",
     "output_type": "stream",
     "text": [
      "\n",
      "\n",
      "00%|██████████| 571/571 [00:01<00:00, 437.64it/s]"
     ]
    },
    {
     "name": "stdout",
     "output_type": "stream",
     "text": [
      "\n",
      "WARNING ⚠️ imgsz=[1000] must be multiple of max stride 32, updating to [1024]\n",
      "0: 1024x1024 408 items, 8.8ms\n",
      "Speed: 4.8ms preprocess, 8.8ms inference, 1.5ms postprocess per image at shape (1, 3, 1024, 1024)\n"
     ]
    },
    {
     "name": "stderr",
     "output_type": "stream",
     "text": [
      "100%|██████████| 408/408 [00:00<00:00, 438.15it/s]"
     ]
    },
    {
     "name": "stdout",
     "output_type": "stream",
     "text": [
      "\n",
      "WARNING ⚠️ imgsz=[1000] must be multiple of max stride 32, updating to [1024]\n",
      "0: 1024x1024 765 items, 8.8ms\n",
      "Speed: 4.8ms preprocess, 8.8ms inference, 2.0ms postprocess per image at shape (1, 3, 1024, 1024)\n"
     ]
    },
    {
     "name": "stderr",
     "output_type": "stream",
     "text": [
      "\n",
      "100%|██████████| 765/765 [00:01<00:00, 440.61it/s]"
     ]
    },
    {
     "name": "stdout",
     "output_type": "stream",
     "text": [
      "\n",
      "WARNING ⚠️ imgsz=[1000] must be multiple of max stride 32, updating to [1024]\n",
      "0: 1024x1024 309 items, 8.8ms\n",
      "Speed: 4.8ms preprocess, 8.8ms inference, 1.3ms postprocess per image at shape (1, 3, 1024, 1024)\n"
     ]
    },
    {
     "name": "stderr",
     "output_type": "stream",
     "text": [
      "\n",
      "100%|██████████| 309/309 [00:00<00:00, 436.25it/s]"
     ]
    },
    {
     "name": "stdout",
     "output_type": "stream",
     "text": [
      "\n",
      "WARNING ⚠️ imgsz=[1000] must be multiple of max stride 32, updating to [1024]\n",
      "0: 1024x1024 481 items, 9.3ms\n",
      "Speed: 4.8ms preprocess, 9.3ms inference, 1.8ms postprocess per image at shape (1, 3, 1024, 1024)\n"
     ]
    },
    {
     "name": "stderr",
     "output_type": "stream",
     "text": [
      "\n",
      "\n",
      "00%|██████████| 481/481 [00:01<00:00, 438.46it/s]"
     ]
    },
    {
     "name": "stdout",
     "output_type": "stream",
     "text": [
      "\n",
      "WARNING ⚠️ imgsz=[1000] must be multiple of max stride 32, updating to [1024]\n",
      "0: 1024x1024 301 items, 8.8ms\n",
      "Speed: 4.8ms preprocess, 8.8ms inference, 1.3ms postprocess per image at shape (1, 3, 1024, 1024)\n"
     ]
    },
    {
     "name": "stderr",
     "output_type": "stream",
     "text": [
      "\n",
      "00%|██████████| 301/301 [00:00<00:00, 437.20it/s]"
     ]
    },
    {
     "name": "stdout",
     "output_type": "stream",
     "text": [
      "\n",
      "WARNING ⚠️ imgsz=[1000] must be multiple of max stride 32, updating to [1024]\n",
      "0: 1024x1024 1148 items, 8.8ms\n",
      "Speed: 4.8ms preprocess, 8.8ms inference, 4.6ms postprocess per image at shape (1, 3, 1024, 1024)\n"
     ]
    },
    {
     "name": "stderr",
     "output_type": "stream",
     "text": [
      "100%|████████| 1148/1148 [00:02<00:00, 441.61it/s]"
     ]
    },
    {
     "name": "stdout",
     "output_type": "stream",
     "text": [
      "\n",
      "WARNING ⚠️ imgsz=[1000] must be multiple of max stride 32, updating to [1024]\n"
     ]
    },
    {
     "name": "stderr",
     "output_type": "stream",
     "text": [
      "\n"
     ]
    },
    {
     "name": "stdout",
     "output_type": "stream",
     "text": [
      "0: 1024x1024 426 items, 9.2ms\n",
      "Speed: 4.8ms preprocess, 9.2ms inference, 1.5ms postprocess per image at shape (1, 3, 1024, 1024)\n"
     ]
    },
    {
     "name": "stderr",
     "output_type": "stream",
     "text": [
      "100%|██████████| 426/426 [00:00<00:00, 436.57it/s]"
     ]
    },
    {
     "name": "stdout",
     "output_type": "stream",
     "text": [
      "\n",
      "WARNING ⚠️ imgsz=[1000] must be multiple of max stride 32, updating to [1024]\n"
     ]
    },
    {
     "name": "stderr",
     "output_type": "stream",
     "text": [
      "\n"
     ]
    },
    {
     "name": "stdout",
     "output_type": "stream",
     "text": [
      "0: 1024x1024 443 items, 8.8ms\n",
      "Speed: 4.8ms preprocess, 8.8ms inference, 1.5ms postprocess per image at shape (1, 3, 1024, 1024)\n"
     ]
    },
    {
     "name": "stderr",
     "output_type": "stream",
     "text": [
      "100%|██████████| 443/443 [00:01<00:00, 437.97it/s]"
     ]
    },
    {
     "name": "stdout",
     "output_type": "stream",
     "text": [
      "\n",
      "WARNING ⚠️ imgsz=[1000] must be multiple of max stride 32, updating to [1024]\n",
      "0: 1024x1024 252 items, 8.8ms\n",
      "Speed: 5.3ms preprocess, 8.8ms inference, 1.2ms postprocess per image at shape (1, 3, 1024, 1024)\n"
     ]
    },
    {
     "name": "stderr",
     "output_type": "stream",
     "text": [
      "\n",
      "100%|██████████| 252/252 [00:00<00:00, 436.60it/s]"
     ]
    },
    {
     "name": "stdout",
     "output_type": "stream",
     "text": [
      "\n",
      "WARNING ⚠️ imgsz=[1000] must be multiple of max stride 32, updating to [1024]\n"
     ]
    },
    {
     "name": "stderr",
     "output_type": "stream",
     "text": [
      "\n"
     ]
    },
    {
     "name": "stdout",
     "output_type": "stream",
     "text": [
      "0: 1024x1024 232 items, 8.8ms\n",
      "Speed: 4.8ms preprocess, 8.8ms inference, 1.1ms postprocess per image at shape (1, 3, 1024, 1024)\n"
     ]
    },
    {
     "name": "stderr",
     "output_type": "stream",
     "text": [
      "100%|██████████| 232/232 [00:00<00:00, 437.39it/s]"
     ]
    },
    {
     "name": "stdout",
     "output_type": "stream",
     "text": [
      "\n"
     ]
    },
    {
     "name": "stderr",
     "output_type": "stream",
     "text": [
      "\n"
     ]
    },
    {
     "name": "stdout",
     "output_type": "stream",
     "text": [
      "0: 2048x2048 1227 items, 24.8ms\n",
      "Speed: 12.8ms preprocess, 24.8ms inference, 3.3ms postprocess per image at shape (1, 3, 2048, 2048)\n"
     ]
    },
    {
     "name": "stderr",
     "output_type": "stream",
     "text": [
      "100%|████████| 1227/1227 [00:02<00:00, 441.51it/s]"
     ]
    },
    {
     "name": "stdout",
     "output_type": "stream",
     "text": [
      "\n",
      "WARNING ⚠️ imgsz=[1000] must be multiple of max stride 32, updating to [1024]\n",
      "0: 1024x1024 722 items, 9.5ms\n",
      "Speed: 4.8ms preprocess, 9.5ms inference, 2.1ms postprocess per image at shape (1, 3, 1024, 1024)\n"
     ]
    },
    {
     "name": "stderr",
     "output_type": "stream",
     "text": [
      "\n",
      "100%|██████████| 722/722 [00:01<00:00, 438.64it/s]"
     ]
    },
    {
     "name": "stdout",
     "output_type": "stream",
     "text": [
      "\n",
      "WARNING ⚠️ imgsz=[1000] must be multiple of max stride 32, updating to [1024]\n",
      "0: 1024x1024 791 items, 8.8ms\n",
      "Speed: 5.1ms preprocess, 8.8ms inference, 2.0ms postprocess per image at shape (1, 3, 1024, 1024)\n"
     ]
    },
    {
     "name": "stderr",
     "output_type": "stream",
     "text": [
      "\n",
      "100%|██████████| 791/791 [00:01<00:00, 440.82it/s]"
     ]
    },
    {
     "name": "stdout",
     "output_type": "stream",
     "text": [
      "\n",
      "WARNING ⚠️ imgsz=[1000] must be multiple of max stride 32, updating to [1024]\n"
     ]
    },
    {
     "name": "stderr",
     "output_type": "stream",
     "text": [
      "\n"
     ]
    },
    {
     "name": "stdout",
     "output_type": "stream",
     "text": [
      "0: 1024x1024 397 items, 8.8ms\n",
      "Speed: 4.8ms preprocess, 8.8ms inference, 1.4ms postprocess per image at shape (1, 3, 1024, 1024)\n"
     ]
    },
    {
     "name": "stderr",
     "output_type": "stream",
     "text": [
      "100%|██████████| 397/397 [00:00<00:00, 438.02it/s]"
     ]
    },
    {
     "name": "stdout",
     "output_type": "stream",
     "text": [
      "\n",
      "WARNING ⚠️ imgsz=[1000] must be multiple of max stride 32, updating to [1024]\n",
      "0: 1024x1024 360 items, 8.8ms\n",
      "Speed: 5.3ms preprocess, 8.8ms inference, 1.5ms postprocess per image at shape (1, 3, 1024, 1024)\n"
     ]
    },
    {
     "name": "stderr",
     "output_type": "stream",
     "text": [
      "\n",
      "\n",
      "00%|██████████| 360/360 [00:00<00:00, 426.16it/s]"
     ]
    },
    {
     "name": "stdout",
     "output_type": "stream",
     "text": [
      "\n",
      "WARNING ⚠️ imgsz=[1000] must be multiple of max stride 32, updating to [1024]\n",
      "0: 1024x1024 295 items, 9.0ms\n",
      "Speed: 4.7ms preprocess, 9.0ms inference, 1.2ms postprocess per image at shape (1, 3, 1024, 1024)\n"
     ]
    },
    {
     "name": "stderr",
     "output_type": "stream",
     "text": [
      "100%|██████████| 295/295 [00:00<00:00, 387.46it/s]"
     ]
    },
    {
     "name": "stdout",
     "output_type": "stream",
     "text": [
      "\n"
     ]
    },
    {
     "name": "stderr",
     "output_type": "stream",
     "text": [
      "\n"
     ]
    },
    {
     "name": "stdout",
     "output_type": "stream",
     "text": [
      "0: 2048x2048 1153 items, 24.7ms\n",
      "Speed: 13.0ms preprocess, 24.7ms inference, 2.8ms postprocess per image at shape (1, 3, 2048, 2048)\n"
     ]
    },
    {
     "name": "stderr",
     "output_type": "stream",
     "text": [
      "100%|████████| 1153/1153 [00:02<00:00, 441.81it/s]"
     ]
    },
    {
     "name": "stdout",
     "output_type": "stream",
     "text": [
      "\n",
      "WARNING ⚠️ imgsz=[1000] must be multiple of max stride 32, updating to [1024]\n"
     ]
    },
    {
     "name": "stderr",
     "output_type": "stream",
     "text": [
      "\n"
     ]
    },
    {
     "name": "stdout",
     "output_type": "stream",
     "text": [
      "0: 1024x1024 350 items, 9.5ms\n",
      "Speed: 4.9ms preprocess, 9.5ms inference, 2.0ms postprocess per image at shape (1, 3, 1024, 1024)\n"
     ]
    },
    {
     "name": "stderr",
     "output_type": "stream",
     "text": [
      "\n",
      "00%|██████████| 350/350 [00:00<00:00, 438.51it/s]"
     ]
    },
    {
     "name": "stdout",
     "output_type": "stream",
     "text": [
      "\n",
      "WARNING ⚠️ imgsz=[1000] must be multiple of max stride 32, updating to [1024]\n",
      "0: 1024x1024 315 items, 8.9ms\n",
      "Speed: 4.8ms preprocess, 8.9ms inference, 1.3ms postprocess per image at shape (1, 3, 1024, 1024)\n"
     ]
    },
    {
     "name": "stderr",
     "output_type": "stream",
     "text": [
      "100%|██████████| 315/315 [00:00<00:00, 438.44it/s]"
     ]
    },
    {
     "name": "stdout",
     "output_type": "stream",
     "text": [
      "\n",
      "WARNING ⚠️ imgsz=[1000] must be multiple of max stride 32, updating to [1024]\n",
      "0: 1024x1024 1016 items, 8.8ms\n",
      "Speed: 4.9ms preprocess, 8.8ms inference, 2.4ms postprocess per image at shape (1, 3, 1024, 1024)\n"
     ]
    },
    {
     "name": "stderr",
     "output_type": "stream",
     "text": [
      "\n",
      "100%|████████| 1016/1016 [00:02<00:00, 441.07it/s]"
     ]
    },
    {
     "name": "stdout",
     "output_type": "stream",
     "text": [
      "\n",
      "WARNING ⚠️ imgsz=[1000] must be multiple of max stride 32, updating to [1024]\n"
     ]
    },
    {
     "name": "stderr",
     "output_type": "stream",
     "text": [
      "\n"
     ]
    },
    {
     "name": "stdout",
     "output_type": "stream",
     "text": [
      "0: 1024x1024 508 items, 8.9ms\n",
      "Speed: 4.8ms preprocess, 8.9ms inference, 1.6ms postprocess per image at shape (1, 3, 1024, 1024)\n"
     ]
    },
    {
     "name": "stderr",
     "output_type": "stream",
     "text": [
      "100%|██████████| 508/508 [00:01<00:00, 437.94it/s]"
     ]
    },
    {
     "name": "stdout",
     "output_type": "stream",
     "text": [
      "\n",
      "WARNING ⚠️ imgsz=[1000] must be multiple of max stride 32, updating to [1024]\n",
      "0: 1024x1024 311 items, 8.8ms\n",
      "Speed: 4.8ms preprocess, 8.8ms inference, 1.2ms postprocess per image at shape (1, 3, 1024, 1024)\n"
     ]
    },
    {
     "name": "stderr",
     "output_type": "stream",
     "text": [
      "\n",
      "100%|██████████| 311/311 [00:00<00:00, 436.68it/s]"
     ]
    },
    {
     "name": "stdout",
     "output_type": "stream",
     "text": [
      "\n",
      "WARNING ⚠️ imgsz=[1000] must be multiple of max stride 32, updating to [1024]\n",
      "0: 1024x1024 461 items, 8.8ms\n",
      "Speed: 4.8ms preprocess, 8.8ms inference, 1.5ms postprocess per image at shape (1, 3, 1024, 1024)\n"
     ]
    },
    {
     "name": "stderr",
     "output_type": "stream",
     "text": [
      "\n",
      "100%|██████████| 461/461 [00:01<00:00, 437.73it/s]"
     ]
    },
    {
     "name": "stdout",
     "output_type": "stream",
     "text": [
      "\n",
      "WARNING ⚠️ imgsz=[1000] must be multiple of max stride 32, updating to [1024]\n",
      "0: 1024x1024 288 items, 8.8ms\n",
      "Speed: 4.8ms preprocess, 8.8ms inference, 1.3ms postprocess per image at shape (1, 3, 1024, 1024)\n"
     ]
    },
    {
     "name": "stderr",
     "output_type": "stream",
     "text": [
      "\n",
      "100%|██████████| 288/288 [00:00<00:00, 436.78it/s]"
     ]
    },
    {
     "name": "stdout",
     "output_type": "stream",
     "text": [
      "\n",
      "WARNING ⚠️ imgsz=[1000] must be multiple of max stride 32, updating to [1024]\n"
     ]
    },
    {
     "name": "stderr",
     "output_type": "stream",
     "text": [
      "\n"
     ]
    },
    {
     "name": "stdout",
     "output_type": "stream",
     "text": [
      "0: 1024x1024 513 items, 8.8ms\n",
      "Speed: 4.8ms preprocess, 8.8ms inference, 1.6ms postprocess per image at shape (1, 3, 1024, 1024)\n"
     ]
    },
    {
     "name": "stderr",
     "output_type": "stream",
     "text": [
      "100%|██████████| 513/513 [00:01<00:00, 437.44it/s]"
     ]
    },
    {
     "name": "stdout",
     "output_type": "stream",
     "text": [
      "\n",
      "WARNING ⚠️ imgsz=[1000] must be multiple of max stride 32, updating to [1024]\n"
     ]
    },
    {
     "name": "stderr",
     "output_type": "stream",
     "text": [
      "\n"
     ]
    },
    {
     "name": "stdout",
     "output_type": "stream",
     "text": [
      "0: 1024x1024 379 items, 8.8ms\n",
      "Speed: 4.9ms preprocess, 8.8ms inference, 1.4ms postprocess per image at shape (1, 3, 1024, 1024)\n"
     ]
    },
    {
     "name": "stderr",
     "output_type": "stream",
     "text": [
      "100%|██████████| 379/379 [00:00<00:00, 438.00it/s]"
     ]
    },
    {
     "name": "stdout",
     "output_type": "stream",
     "text": [
      "\n",
      "WARNING ⚠️ imgsz=[1000] must be multiple of max stride 32, updating to [1024]\n"
     ]
    },
    {
     "name": "stderr",
     "output_type": "stream",
     "text": [
      "\n"
     ]
    },
    {
     "name": "stdout",
     "output_type": "stream",
     "text": [
      "0: 1024x1024 1278 items, 9.3ms\n",
      "Speed: 4.8ms preprocess, 9.3ms inference, 4.7ms postprocess per image at shape (1, 3, 1024, 1024)\n"
     ]
    },
    {
     "name": "stderr",
     "output_type": "stream",
     "text": [
      "100%|████████| 1278/1278 [00:02<00:00, 441.43it/s]"
     ]
    },
    {
     "name": "stdout",
     "output_type": "stream",
     "text": [
      "\n",
      "WARNING ⚠️ imgsz=[1000] must be multiple of max stride 32, updating to [1024]\n",
      "0: 1024x1024 337 items, 8.9ms\n"
     ]
    },
    {
     "name": "stderr",
     "output_type": "stream",
     "text": [
      "\n"
     ]
    },
    {
     "name": "stdout",
     "output_type": "stream",
     "text": [
      "Speed: 4.8ms preprocess, 8.9ms inference, 1.3ms postprocess per image at shape (1, 3, 1024, 1024)\n"
     ]
    },
    {
     "name": "stderr",
     "output_type": "stream",
     "text": [
      "100%|██████████| 337/337 [00:00<00:00, 437.68it/s]"
     ]
    },
    {
     "name": "stdout",
     "output_type": "stream",
     "text": [
      "\n",
      "WARNING ⚠️ imgsz=[1000] must be multiple of max stride 32, updating to [1024]\n"
     ]
    },
    {
     "name": "stderr",
     "output_type": "stream",
     "text": [
      "\n"
     ]
    },
    {
     "name": "stdout",
     "output_type": "stream",
     "text": [
      "0: 1024x1024 365 items, 9.1ms\n",
      "Speed: 5.3ms preprocess, 9.1ms inference, 1.3ms postprocess per image at shape (1, 3, 1024, 1024)\n"
     ]
    },
    {
     "name": "stderr",
     "output_type": "stream",
     "text": [
      "100%|██████████| 365/365 [00:00<00:00, 437.04it/s]"
     ]
    },
    {
     "name": "stdout",
     "output_type": "stream",
     "text": [
      "\n",
      "WARNING ⚠️ imgsz=[1000] must be multiple of max stride 32, updating to [1024]\n",
      "0: 1024x1024 543 items, 8.8ms\n",
      "Speed: 4.8ms preprocess, 8.8ms inference, 1.6ms postprocess per image at shape (1, 3, 1024, 1024)\n"
     ]
    },
    {
     "name": "stderr",
     "output_type": "stream",
     "text": [
      "\n",
      "100%|██████████| 543/543 [00:01<00:00, 440.04it/s]"
     ]
    },
    {
     "name": "stdout",
     "output_type": "stream",
     "text": [
      "\n",
      "WARNING ⚠️ imgsz=[1000] must be multiple of max stride 32, updating to [1024]\n",
      "0: 1024x1024 481 items, 8.9ms\n",
      "Speed: 4.9ms preprocess, 8.9ms inference, 1.5ms postprocess per image at shape (1, 3, 1024, 1024)\n"
     ]
    },
    {
     "name": "stderr",
     "output_type": "stream",
     "text": [
      "\n",
      "\n",
      "00%|██████████| 481/481 [00:01<00:00, 438.47it/s]"
     ]
    },
    {
     "name": "stdout",
     "output_type": "stream",
     "text": [
      "\n",
      "WARNING ⚠️ imgsz=[1000] must be multiple of max stride 32, updating to [1024]\n",
      "0: 1024x1024 1335 items, 8.8ms\n",
      "Speed: 4.8ms preprocess, 8.8ms inference, 2.9ms postprocess per image at shape (1, 3, 1024, 1024)\n"
     ]
    },
    {
     "name": "stderr",
     "output_type": "stream",
     "text": [
      "100%|████████| 1335/1335 [00:03<00:00, 441.27it/s]"
     ]
    },
    {
     "name": "stdout",
     "output_type": "stream",
     "text": [
      "\n",
      "WARNING ⚠️ imgsz=[1000] must be multiple of max stride 32, updating to [1024]\n"
     ]
    },
    {
     "name": "stderr",
     "output_type": "stream",
     "text": [
      "\n"
     ]
    },
    {
     "name": "stdout",
     "output_type": "stream",
     "text": [
      "0: 1024x1024 1349 items, 8.9ms\n",
      "Speed: 4.8ms preprocess, 8.9ms inference, 4.0ms postprocess per image at shape (1, 3, 1024, 1024)\n"
     ]
    },
    {
     "name": "stderr",
     "output_type": "stream",
     "text": [
      "100%|████████| 1349/1349 [00:03<00:00, 440.41it/s]"
     ]
    },
    {
     "name": "stdout",
     "output_type": "stream",
     "text": [
      "\n",
      "WARNING ⚠️ imgsz=[1000] must be multiple of max stride 32, updating to [1024]\n",
      "0: 1024x1024 319 items, 8.9ms\n",
      "Speed: 4.8ms preprocess, 8.9ms inference, 1.3ms postprocess per image at shape (1, 3, 1024, 1024)\n"
     ]
    },
    {
     "name": "stderr",
     "output_type": "stream",
     "text": [
      "\n",
      "100%|██████████| 319/319 [00:00<00:00, 435.87it/s]"
     ]
    },
    {
     "name": "stdout",
     "output_type": "stream",
     "text": [
      "\n",
      "WARNING ⚠️ imgsz=[1000] must be multiple of max stride 32, updating to [1024]\n",
      "0: 1024x1024 404 items, 8.8ms\n",
      "Speed: 4.8ms preprocess, 8.8ms inference, 1.5ms postprocess per image at shape (1, 3, 1024, 1024)\n"
     ]
    },
    {
     "name": "stderr",
     "output_type": "stream",
     "text": [
      "\n",
      "100%|██████████| 404/404 [00:00<00:00, 436.87it/s]"
     ]
    },
    {
     "name": "stdout",
     "output_type": "stream",
     "text": [
      "\n",
      "WARNING ⚠️ imgsz=[1000] must be multiple of max stride 32, updating to [1024]\n",
      "0: 1024x1024 448 items, 8.9ms\n",
      "Speed: 4.8ms preprocess, 8.9ms inference, 1.5ms postprocess per image at shape (1, 3, 1024, 1024)\n"
     ]
    },
    {
     "name": "stderr",
     "output_type": "stream",
     "text": [
      "\n",
      "100%|██████████| 448/448 [00:01<00:00, 439.48it/s]"
     ]
    },
    {
     "name": "stdout",
     "output_type": "stream",
     "text": [
      "\n",
      "WARNING ⚠️ imgsz=[1000] must be multiple of max stride 32, updating to [1024]\n",
      "0: 1024x1024 324 items, 8.8ms\n",
      "Speed: 4.8ms preprocess, 8.8ms inference, 1.3ms postprocess per image at shape (1, 3, 1024, 1024)\n"
     ]
    },
    {
     "name": "stderr",
     "output_type": "stream",
     "text": [
      "\n",
      "100%|██████████| 324/324 [00:00<00:00, 439.83it/s]"
     ]
    },
    {
     "name": "stdout",
     "output_type": "stream",
     "text": [
      "\n",
      "WARNING ⚠️ imgsz=[1000] must be multiple of max stride 32, updating to [1024]\n",
      "0: 1024x1024 341 items, 8.8ms\n",
      "Speed: 4.8ms preprocess, 8.8ms inference, 1.3ms postprocess per image at shape (1, 3, 1024, 1024)\n"
     ]
    },
    {
     "name": "stderr",
     "output_type": "stream",
     "text": [
      "\n",
      "100%|██████████| 341/341 [00:00<00:00, 438.58it/s]"
     ]
    },
    {
     "name": "stdout",
     "output_type": "stream",
     "text": [
      "\n",
      "WARNING ⚠️ imgsz=[1000] must be multiple of max stride 32, updating to [1024]\n"
     ]
    },
    {
     "name": "stderr",
     "output_type": "stream",
     "text": [
      "\n"
     ]
    },
    {
     "name": "stdout",
     "output_type": "stream",
     "text": [
      "0: 1024x1024 388 items, 8.8ms\n",
      "Speed: 4.9ms preprocess, 8.8ms inference, 1.4ms postprocess per image at shape (1, 3, 1024, 1024)\n"
     ]
    },
    {
     "name": "stderr",
     "output_type": "stream",
     "text": [
      "\n",
      "00%|██████████| 388/388 [00:00<00:00, 439.15it/s]"
     ]
    },
    {
     "name": "stdout",
     "output_type": "stream",
     "text": [
      "Starting inference_and_evaluation with # dims96_depth3 on cuda:2\n",
      "\n",
      "0: 2048x2048 1424 items, 24.3ms\n",
      "Speed: 12.9ms preprocess, 24.3ms inference, 4.1ms postprocess per image at shape (1, 3, 2048, 2048)\n"
     ]
    },
    {
     "name": "stderr",
     "output_type": "stream",
     "text": [
      "100%|████████| 1424/1424 [00:03<00:00, 424.85it/s]"
     ]
    },
    {
     "name": "stdout",
     "output_type": "stream",
     "text": [
      "\n",
      "WARNING ⚠️ imgsz=[1000] must be multiple of max stride 32, updating to [1024]\n",
      "0: 1024x1024 582 items, 9.9ms\n",
      "Speed: 4.8ms preprocess, 9.9ms inference, 2.9ms postprocess per image at shape (1, 3, 1024, 1024)\n"
     ]
    },
    {
     "name": "stderr",
     "output_type": "stream",
     "text": [
      "\n",
      "100%|██████████| 582/582 [00:01<00:00, 424.73it/s]"
     ]
    },
    {
     "name": "stdout",
     "output_type": "stream",
     "text": [
      "\n",
      "WARNING ⚠️ imgsz=[1000] must be multiple of max stride 32, updating to [1024]\n"
     ]
    },
    {
     "name": "stderr",
     "output_type": "stream",
     "text": [
      "\n"
     ]
    },
    {
     "name": "stdout",
     "output_type": "stream",
     "text": [
      "0: 1024x1024 519 items, 8.9ms\n",
      "Speed: 4.9ms preprocess, 8.9ms inference, 1.9ms postprocess per image at shape (1, 3, 1024, 1024)\n"
     ]
    },
    {
     "name": "stderr",
     "output_type": "stream",
     "text": [
      "100%|██████████| 519/519 [00:01<00:00, 390.95it/s]"
     ]
    },
    {
     "name": "stdout",
     "output_type": "stream",
     "text": [
      "\n",
      "WARNING ⚠️ imgsz=[1000] must be multiple of max stride 32, updating to [1024]\n",
      "0: 1024x1024 792 items, 8.9ms\n",
      "Speed: 4.8ms preprocess, 8.9ms inference, 2.2ms postprocess per image at shape (1, 3, 1024, 1024)\n"
     ]
    },
    {
     "name": "stderr",
     "output_type": "stream",
     "text": [
      "\n",
      "100%|██████████| 792/792 [00:01<00:00, 425.14it/s]"
     ]
    },
    {
     "name": "stdout",
     "output_type": "stream",
     "text": [
      "\n",
      "WARNING ⚠️ imgsz=[1000] must be multiple of max stride 32, updating to [1024]\n",
      "0: 1024x1024 427 items, 8.9ms\n",
      "Speed: 4.8ms preprocess, 8.9ms inference, 1.6ms postprocess per image at shape (1, 3, 1024, 1024)\n"
     ]
    },
    {
     "name": "stderr",
     "output_type": "stream",
     "text": [
      "\n",
      "\n",
      "00%|██████████| 427/427 [00:01<00:00, 423.51it/s]"
     ]
    },
    {
     "name": "stdout",
     "output_type": "stream",
     "text": [
      "\n",
      "WARNING ⚠️ imgsz=[1000] must be multiple of max stride 32, updating to [1024]\n",
      "0: 1024x1024 852 items, 8.9ms\n",
      "Speed: 4.8ms preprocess, 8.9ms inference, 2.4ms postprocess per image at shape (1, 3, 1024, 1024)\n"
     ]
    },
    {
     "name": "stderr",
     "output_type": "stream",
     "text": [
      "\n",
      "00%|██████████| 852/852 [00:02<00:00, 424.40it/s]"
     ]
    },
    {
     "name": "stdout",
     "output_type": "stream",
     "text": [
      "\n",
      "WARNING ⚠️ imgsz=[1000] must be multiple of max stride 32, updating to [1024]\n",
      "0: 1024x1024 363 items, 9.1ms\n",
      "Speed: 4.8ms preprocess, 9.1ms inference, 1.5ms postprocess per image at shape (1, 3, 1024, 1024)\n"
     ]
    },
    {
     "name": "stderr",
     "output_type": "stream",
     "text": [
      "100%|██████████| 363/363 [00:00<00:00, 424.35it/s]"
     ]
    },
    {
     "name": "stdout",
     "output_type": "stream",
     "text": [
      "\n",
      "WARNING ⚠️ imgsz=[1000] must be multiple of max stride 32, updating to [1024]\n",
      "0: 1024x1024 506 items, 8.9ms\n",
      "Speed: 4.8ms preprocess, 8.9ms inference, 1.5ms postprocess per image at shape (1, 3, 1024, 1024)\n"
     ]
    },
    {
     "name": "stderr",
     "output_type": "stream",
     "text": [
      "\n",
      "100%|██████████| 506/506 [00:01<00:00, 426.83it/s]"
     ]
    },
    {
     "name": "stdout",
     "output_type": "stream",
     "text": [
      "\n",
      "WARNING ⚠️ imgsz=[1000] must be multiple of max stride 32, updating to [1024]\n"
     ]
    },
    {
     "name": "stderr",
     "output_type": "stream",
     "text": [
      "\n"
     ]
    },
    {
     "name": "stdout",
     "output_type": "stream",
     "text": [
      "0: 1024x1024 622 items, 8.9ms\n",
      "Speed: 4.8ms preprocess, 8.9ms inference, 1.8ms postprocess per image at shape (1, 3, 1024, 1024)\n"
     ]
    },
    {
     "name": "stderr",
     "output_type": "stream",
     "text": [
      "100%|██████████| 622/622 [00:01<00:00, 425.47it/s]"
     ]
    },
    {
     "name": "stdout",
     "output_type": "stream",
     "text": [
      "\n",
      "WARNING ⚠️ imgsz=[1000] must be multiple of max stride 32, updating to [1024]\n",
      "0: 1024x1024 1143 items, 8.9ms\n",
      "Speed: 4.8ms preprocess, 8.9ms inference, 2.6ms postprocess per image at shape (1, 3, 1024, 1024)\n"
     ]
    },
    {
     "name": "stderr",
     "output_type": "stream",
     "text": [
      "\n",
      "100%|████████| 1143/1143 [00:02<00:00, 425.80it/s]"
     ]
    },
    {
     "name": "stdout",
     "output_type": "stream",
     "text": [
      "\n",
      "WARNING ⚠️ imgsz=[1000] must be multiple of max stride 32, updating to [1024]\n"
     ]
    },
    {
     "name": "stderr",
     "output_type": "stream",
     "text": [
      "\n"
     ]
    },
    {
     "name": "stdout",
     "output_type": "stream",
     "text": [
      "0: 1024x1024 269 items, 9.2ms\n",
      "Speed: 4.8ms preprocess, 9.2ms inference, 1.3ms postprocess per image at shape (1, 3, 1024, 1024)\n"
     ]
    },
    {
     "name": "stderr",
     "output_type": "stream",
     "text": [
      "100%|██████████| 269/269 [00:00<00:00, 423.90it/s]"
     ]
    },
    {
     "name": "stdout",
     "output_type": "stream",
     "text": [
      "\n",
      "WARNING ⚠️ imgsz=[1000] must be multiple of max stride 32, updating to [1024]\n",
      "0: 1024x1024 571 items, 8.9ms\n",
      "Speed: 4.8ms preprocess, 8.9ms inference, 1.7ms postprocess per image at shape (1, 3, 1024, 1024)\n"
     ]
    },
    {
     "name": "stderr",
     "output_type": "stream",
     "text": [
      "\n",
      "100%|██████████| 571/571 [00:01<00:00, 424.52it/s]"
     ]
    },
    {
     "name": "stdout",
     "output_type": "stream",
     "text": [
      "\n",
      "WARNING ⚠️ imgsz=[1000] must be multiple of max stride 32, updating to [1024]\n",
      "0: 1024x1024 408 items, 8.9ms\n",
      "Speed: 4.8ms preprocess, 8.9ms inference, 1.4ms postprocess per image at shape (1, 3, 1024, 1024)\n"
     ]
    },
    {
     "name": "stderr",
     "output_type": "stream",
     "text": [
      "\n",
      "100%|██████████| 408/408 [00:00<00:00, 423.84it/s]"
     ]
    },
    {
     "name": "stdout",
     "output_type": "stream",
     "text": [
      "\n",
      "WARNING ⚠️ imgsz=[1000] must be multiple of max stride 32, updating to [1024]\n",
      "0: 1024x1024 765 items, 8.9ms\n"
     ]
    },
    {
     "name": "stderr",
     "output_type": "stream",
     "text": [
      "\n"
     ]
    },
    {
     "name": "stdout",
     "output_type": "stream",
     "text": [
      "Speed: 4.8ms preprocess, 8.9ms inference, 2.0ms postprocess per image at shape (1, 3, 1024, 1024)\n"
     ]
    },
    {
     "name": "stderr",
     "output_type": "stream",
     "text": [
      "\n",
      "00%|██████████| 765/765 [00:01<00:00, 425.20it/s]"
     ]
    },
    {
     "name": "stdout",
     "output_type": "stream",
     "text": [
      "\n",
      "WARNING ⚠️ imgsz=[1000] must be multiple of max stride 32, updating to [1024]\n",
      "0: 1024x1024 309 items, 8.9ms\n",
      "Speed: 4.9ms preprocess, 8.9ms inference, 1.3ms postprocess per image at shape (1, 3, 1024, 1024)\n"
     ]
    },
    {
     "name": "stderr",
     "output_type": "stream",
     "text": [
      "100%|██████████| 309/309 [00:00<00:00, 424.65it/s]"
     ]
    },
    {
     "name": "stdout",
     "output_type": "stream",
     "text": [
      "\n",
      "WARNING ⚠️ imgsz=[1000] must be multiple of max stride 32, updating to [1024]\n",
      "0: 1024x1024 481 items, 8.9ms\n",
      "Speed: 4.8ms preprocess, 8.9ms inference, 1.6ms postprocess per image at shape (1, 3, 1024, 1024)\n"
     ]
    },
    {
     "name": "stderr",
     "output_type": "stream",
     "text": [
      "\n",
      "100%|██████████| 481/481 [00:01<00:00, 424.90it/s]"
     ]
    },
    {
     "name": "stdout",
     "output_type": "stream",
     "text": [
      "\n",
      "WARNING ⚠️ imgsz=[1000] must be multiple of max stride 32, updating to [1024]\n",
      "0: 1024x1024 301 items, 8.9ms\n",
      "Speed: 4.8ms preprocess, 8.9ms inference, 1.3ms postprocess per image at shape (1, 3, 1024, 1024)\n"
     ]
    },
    {
     "name": "stderr",
     "output_type": "stream",
     "text": [
      "\n",
      "100%|██████████| 301/301 [00:00<00:00, 423.83it/s]"
     ]
    },
    {
     "name": "stdout",
     "output_type": "stream",
     "text": [
      "\n",
      "WARNING ⚠️ imgsz=[1000] must be multiple of max stride 32, updating to [1024]\n",
      "0: 1024x1024 1148 items, 8.9ms\n",
      "Speed: 4.8ms preprocess, 8.9ms inference, 4.7ms postprocess per image at shape (1, 3, 1024, 1024)\n"
     ]
    },
    {
     "name": "stderr",
     "output_type": "stream",
     "text": [
      "\n",
      "100%|████████| 1148/1148 [00:02<00:00, 425.57it/s]"
     ]
    },
    {
     "name": "stdout",
     "output_type": "stream",
     "text": [
      "\n",
      "WARNING ⚠️ imgsz=[1000] must be multiple of max stride 32, updating to [1024]\n"
     ]
    },
    {
     "name": "stderr",
     "output_type": "stream",
     "text": [
      "\n"
     ]
    },
    {
     "name": "stdout",
     "output_type": "stream",
     "text": [
      "0: 1024x1024 426 items, 8.9ms\n",
      "Speed: 4.8ms preprocess, 8.9ms inference, 1.5ms postprocess per image at shape (1, 3, 1024, 1024)\n"
     ]
    },
    {
     "name": "stderr",
     "output_type": "stream",
     "text": [
      "\n",
      "00%|██████████| 426/426 [00:01<00:00, 424.67it/s]"
     ]
    },
    {
     "name": "stdout",
     "output_type": "stream",
     "text": [
      "\n",
      "WARNING ⚠️ imgsz=[1000] must be multiple of max stride 32, updating to [1024]\n",
      "0: 1024x1024 443 items, 8.9ms\n",
      "Speed: 4.9ms preprocess, 8.9ms inference, 1.5ms postprocess per image at shape (1, 3, 1024, 1024)\n"
     ]
    },
    {
     "name": "stderr",
     "output_type": "stream",
     "text": [
      "100%|██████████| 443/443 [00:01<00:00, 424.30it/s]"
     ]
    },
    {
     "name": "stdout",
     "output_type": "stream",
     "text": [
      "\n",
      "WARNING ⚠️ imgsz=[1000] must be multiple of max stride 32, updating to [1024]\n",
      "0: 1024x1024 252 items, 8.9ms\n",
      "Speed: 4.8ms preprocess, 8.9ms inference, 1.2ms postprocess per image at shape (1, 3, 1024, 1024)\n"
     ]
    },
    {
     "name": "stderr",
     "output_type": "stream",
     "text": [
      "\n",
      "\n",
      "00%|██████████| 252/252 [00:00<00:00, 423.08it/s]"
     ]
    },
    {
     "name": "stdout",
     "output_type": "stream",
     "text": [
      "\n",
      "WARNING ⚠️ imgsz=[1000] must be multiple of max stride 32, updating to [1024]\n",
      "0: 1024x1024 232 items, 9.4ms\n",
      "Speed: 4.8ms preprocess, 9.4ms inference, 1.2ms postprocess per image at shape (1, 3, 1024, 1024)\n"
     ]
    },
    {
     "name": "stderr",
     "output_type": "stream",
     "text": [
      "100%|██████████| 232/232 [00:00<00:00, 426.16it/s]"
     ]
    },
    {
     "name": "stdout",
     "output_type": "stream",
     "text": [
      "\n"
     ]
    },
    {
     "name": "stderr",
     "output_type": "stream",
     "text": [
      "\n"
     ]
    },
    {
     "name": "stdout",
     "output_type": "stream",
     "text": [
      "0: 2048x2048 1227 items, 24.8ms\n",
      "Speed: 12.9ms preprocess, 24.8ms inference, 3.3ms postprocess per image at shape (1, 3, 2048, 2048)\n"
     ]
    },
    {
     "name": "stderr",
     "output_type": "stream",
     "text": [
      "100%|████████| 1227/1227 [00:02<00:00, 426.90it/s]"
     ]
    },
    {
     "name": "stdout",
     "output_type": "stream",
     "text": [
      "\n",
      "WARNING ⚠️ imgsz=[1000] must be multiple of max stride 32, updating to [1024]\n"
     ]
    },
    {
     "name": "stderr",
     "output_type": "stream",
     "text": [
      "\n"
     ]
    },
    {
     "name": "stdout",
     "output_type": "stream",
     "text": [
      "0: 1024x1024 722 items, 9.4ms\n",
      "Speed: 4.8ms preprocess, 9.4ms inference, 2.1ms postprocess per image at shape (1, 3, 1024, 1024)\n"
     ]
    },
    {
     "name": "stderr",
     "output_type": "stream",
     "text": [
      "\n",
      "00%|██████████| 722/722 [00:01<00:00, 425.65it/s]"
     ]
    },
    {
     "name": "stdout",
     "output_type": "stream",
     "text": [
      "\n",
      "WARNING ⚠️ imgsz=[1000] must be multiple of max stride 32, updating to [1024]\n",
      "0: 1024x1024 791 items, 8.9ms\n",
      "Speed: 4.8ms preprocess, 8.9ms inference, 2.0ms postprocess per image at shape (1, 3, 1024, 1024)\n"
     ]
    },
    {
     "name": "stderr",
     "output_type": "stream",
     "text": [
      "100%|██████████| 791/791 [00:01<00:00, 425.85it/s]"
     ]
    },
    {
     "name": "stdout",
     "output_type": "stream",
     "text": [
      "\n",
      "WARNING ⚠️ imgsz=[1000] must be multiple of max stride 32, updating to [1024]\n",
      "0: 1024x1024 397 items, 8.9ms\n",
      "Speed: 4.8ms preprocess, 8.9ms inference, 1.4ms postprocess per image at shape (1, 3, 1024, 1024)\n"
     ]
    },
    {
     "name": "stderr",
     "output_type": "stream",
     "text": [
      "\n",
      "100%|██████████| 397/397 [00:00<00:00, 425.15it/s]"
     ]
    },
    {
     "name": "stdout",
     "output_type": "stream",
     "text": [
      "\n",
      "WARNING ⚠️ imgsz=[1000] must be multiple of max stride 32, updating to [1024]\n",
      "0: 1024x1024 360 items, 8.9ms\n",
      "Speed: 4.8ms preprocess, 8.9ms inference, 1.4ms postprocess per image at shape (1, 3, 1024, 1024)\n"
     ]
    },
    {
     "name": "stderr",
     "output_type": "stream",
     "text": [
      "\n",
      "100%|██████████| 360/360 [00:00<00:00, 424.07it/s]"
     ]
    },
    {
     "name": "stdout",
     "output_type": "stream",
     "text": [
      "\n",
      "WARNING ⚠️ imgsz=[1000] must be multiple of max stride 32, updating to [1024]\n",
      "0: 1024x1024 295 items, 8.9ms\n",
      "Speed: 4.8ms preprocess, 8.9ms inference, 1.2ms postprocess per image at shape (1, 3, 1024, 1024)\n"
     ]
    },
    {
     "name": "stderr",
     "output_type": "stream",
     "text": [
      "\n",
      "\n",
      "00%|██████████| 295/295 [00:00<00:00, 423.93it/s]"
     ]
    },
    {
     "name": "stdout",
     "output_type": "stream",
     "text": [
      "\n",
      "0: 2048x2048 1153 items, 24.8ms\n",
      "Speed: 12.8ms preprocess, 24.8ms inference, 2.8ms postprocess per image at shape (1, 3, 2048, 2048)\n"
     ]
    },
    {
     "name": "stderr",
     "output_type": "stream",
     "text": [
      "100%|████████| 1153/1153 [00:02<00:00, 408.74it/s]"
     ]
    },
    {
     "name": "stdout",
     "output_type": "stream",
     "text": [
      "\n",
      "WARNING ⚠️ imgsz=[1000] must be multiple of max stride 32, updating to [1024]\n"
     ]
    },
    {
     "name": "stderr",
     "output_type": "stream",
     "text": [
      "\n"
     ]
    },
    {
     "name": "stdout",
     "output_type": "stream",
     "text": [
      "0: 1024x1024 350 items, 9.4ms\n",
      "Speed: 4.8ms preprocess, 9.4ms inference, 1.4ms postprocess per image at shape (1, 3, 1024, 1024)\n"
     ]
    },
    {
     "name": "stderr",
     "output_type": "stream",
     "text": [
      "100%|██████████| 350/350 [00:00<00:00, 421.16it/s]"
     ]
    },
    {
     "name": "stdout",
     "output_type": "stream",
     "text": [
      "\n",
      "WARNING ⚠️ imgsz=[1000] must be multiple of max stride 32, updating to [1024]\n",
      "0: 1024x1024 315 items, 8.9ms\n",
      "Speed: 4.8ms preprocess, 8.9ms inference, 1.4ms postprocess per image at shape (1, 3, 1024, 1024)\n"
     ]
    },
    {
     "name": "stderr",
     "output_type": "stream",
     "text": [
      "\n",
      "100%|██████████| 315/315 [00:00<00:00, 424.33it/s]"
     ]
    },
    {
     "name": "stdout",
     "output_type": "stream",
     "text": [
      "\n",
      "WARNING ⚠️ imgsz=[1000] must be multiple of max stride 32, updating to [1024]\n",
      "0: 1024x1024 1016 items, 8.9ms\n",
      "Speed: 4.8ms preprocess, 8.9ms inference, 2.4ms postprocess per image at shape (1, 3, 1024, 1024)\n"
     ]
    },
    {
     "name": "stderr",
     "output_type": "stream",
     "text": [
      "\n",
      "100%|████████| 1016/1016 [00:02<00:00, 425.47it/s]"
     ]
    },
    {
     "name": "stdout",
     "output_type": "stream",
     "text": [
      "\n",
      "WARNING ⚠️ imgsz=[1000] must be multiple of max stride 32, updating to [1024]\n"
     ]
    },
    {
     "name": "stderr",
     "output_type": "stream",
     "text": [
      "\n"
     ]
    },
    {
     "name": "stdout",
     "output_type": "stream",
     "text": [
      "0: 1024x1024 508 items, 9.1ms\n",
      "Speed: 4.8ms preprocess, 9.1ms inference, 1.6ms postprocess per image at shape (1, 3, 1024, 1024)\n"
     ]
    },
    {
     "name": "stderr",
     "output_type": "stream",
     "text": [
      "\n",
      "00%|██████████| 508/508 [00:01<00:00, 425.22it/s]"
     ]
    },
    {
     "name": "stdout",
     "output_type": "stream",
     "text": [
      "\n",
      "WARNING ⚠️ imgsz=[1000] must be multiple of max stride 32, updating to [1024]\n",
      "0: 1024x1024 311 items, 8.9ms\n",
      "Speed: 4.8ms preprocess, 8.9ms inference, 1.2ms postprocess per image at shape (1, 3, 1024, 1024)\n"
     ]
    },
    {
     "name": "stderr",
     "output_type": "stream",
     "text": [
      "100%|██████████| 311/311 [00:00<00:00, 423.77it/s]"
     ]
    },
    {
     "name": "stdout",
     "output_type": "stream",
     "text": [
      "\n",
      "WARNING ⚠️ imgsz=[1000] must be multiple of max stride 32, updating to [1024]\n",
      "0: 1024x1024 461 items, 8.9ms\n",
      "Speed: 4.8ms preprocess, 8.9ms inference, 1.5ms postprocess per image at shape (1, 3, 1024, 1024)\n"
     ]
    },
    {
     "name": "stderr",
     "output_type": "stream",
     "text": [
      "\n",
      "100%|██████████| 461/461 [00:01<00:00, 424.98it/s]"
     ]
    },
    {
     "name": "stdout",
     "output_type": "stream",
     "text": [
      "\n",
      "WARNING ⚠️ imgsz=[1000] must be multiple of max stride 32, updating to [1024]\n"
     ]
    },
    {
     "name": "stderr",
     "output_type": "stream",
     "text": [
      "\n"
     ]
    },
    {
     "name": "stdout",
     "output_type": "stream",
     "text": [
      "0: 1024x1024 288 items, 9.0ms\n",
      "Speed: 4.9ms preprocess, 9.0ms inference, 1.3ms postprocess per image at shape (1, 3, 1024, 1024)\n"
     ]
    },
    {
     "name": "stderr",
     "output_type": "stream",
     "text": [
      "100%|██████████| 288/288 [00:00<00:00, 424.05it/s]"
     ]
    },
    {
     "name": "stdout",
     "output_type": "stream",
     "text": [
      "\n",
      "WARNING ⚠️ imgsz=[1000] must be multiple of max stride 32, updating to [1024]\n"
     ]
    },
    {
     "name": "stderr",
     "output_type": "stream",
     "text": [
      "\n"
     ]
    },
    {
     "name": "stdout",
     "output_type": "stream",
     "text": [
      "0: 1024x1024 513 items, 8.9ms\n",
      "Speed: 4.8ms preprocess, 8.9ms inference, 1.7ms postprocess per image at shape (1, 3, 1024, 1024)\n"
     ]
    },
    {
     "name": "stderr",
     "output_type": "stream",
     "text": [
      "\n",
      "00%|██████████| 513/513 [00:01<00:00, 425.79it/s]"
     ]
    },
    {
     "name": "stdout",
     "output_type": "stream",
     "text": [
      "\n",
      "WARNING ⚠️ imgsz=[1000] must be multiple of max stride 32, updating to [1024]\n",
      "0: 1024x1024 379 items, 8.9ms\n",
      "Speed: 4.8ms preprocess, 8.9ms inference, 1.4ms postprocess per image at shape (1, 3, 1024, 1024)\n"
     ]
    },
    {
     "name": "stderr",
     "output_type": "stream",
     "text": [
      "\n",
      "00%|██████████| 379/379 [00:00<00:00, 424.33it/s]"
     ]
    },
    {
     "name": "stdout",
     "output_type": "stream",
     "text": [
      "\n",
      "WARNING ⚠️ imgsz=[1000] must be multiple of max stride 32, updating to [1024]\n",
      "0: 1024x1024 1278 items, 8.9ms\n",
      "Speed: 4.8ms preprocess, 8.9ms inference, 3.0ms postprocess per image at shape (1, 3, 1024, 1024)\n"
     ]
    },
    {
     "name": "stderr",
     "output_type": "stream",
     "text": [
      "100%|████████| 1278/1278 [00:03<00:00, 425.15it/s]"
     ]
    },
    {
     "name": "stdout",
     "output_type": "stream",
     "text": [
      "\n",
      "WARNING ⚠️ imgsz=[1000] must be multiple of max stride 32, updating to [1024]\n"
     ]
    },
    {
     "name": "stderr",
     "output_type": "stream",
     "text": [
      "\n"
     ]
    },
    {
     "name": "stdout",
     "output_type": "stream",
     "text": [
      "0: 1024x1024 337 items, 8.9ms\n",
      "Speed: 4.8ms preprocess, 8.9ms inference, 1.3ms postprocess per image at shape (1, 3, 1024, 1024)\n"
     ]
    },
    {
     "name": "stderr",
     "output_type": "stream",
     "text": [
      "\n",
      "00%|██████████| 337/337 [00:00<00:00, 424.80it/s]"
     ]
    },
    {
     "name": "stdout",
     "output_type": "stream",
     "text": [
      "\n",
      "WARNING ⚠️ imgsz=[1000] must be multiple of max stride 32, updating to [1024]\n",
      "0: 1024x1024 365 items, 8.9ms\n",
      "Speed: 4.8ms preprocess, 8.9ms inference, 1.3ms postprocess per image at shape (1, 3, 1024, 1024)\n"
     ]
    },
    {
     "name": "stderr",
     "output_type": "stream",
     "text": [
      "100%|██████████| 365/365 [00:00<00:00, 424.19it/s]"
     ]
    },
    {
     "name": "stdout",
     "output_type": "stream",
     "text": [
      "\n",
      "WARNING ⚠️ imgsz=[1000] must be multiple of max stride 32, updating to [1024]\n",
      "0: 1024x1024 543 items, 8.9ms\n",
      "Speed: 4.9ms preprocess, 8.9ms inference, 1.6ms postprocess per image at shape (1, 3, 1024, 1024)\n"
     ]
    },
    {
     "name": "stderr",
     "output_type": "stream",
     "text": [
      "\n",
      "100%|██████████| 543/543 [00:01<00:00, 425.40it/s]"
     ]
    },
    {
     "name": "stdout",
     "output_type": "stream",
     "text": [
      "\n",
      "WARNING ⚠️ imgsz=[1000] must be multiple of max stride 32, updating to [1024]\n"
     ]
    },
    {
     "name": "stderr",
     "output_type": "stream",
     "text": [
      "\n"
     ]
    },
    {
     "name": "stdout",
     "output_type": "stream",
     "text": [
      "0: 1024x1024 481 items, 9.2ms\n",
      "Speed: 4.8ms preprocess, 9.2ms inference, 1.5ms postprocess per image at shape (1, 3, 1024, 1024)\n"
     ]
    },
    {
     "name": "stderr",
     "output_type": "stream",
     "text": [
      "100%|██████████| 481/481 [00:01<00:00, 423.99it/s]"
     ]
    },
    {
     "name": "stdout",
     "output_type": "stream",
     "text": [
      "\n",
      "WARNING ⚠️ imgsz=[1000] must be multiple of max stride 32, updating to [1024]\n",
      "0: 1024x1024 1335 items, 9.4ms\n",
      "Speed: 4.8ms preprocess, 9.4ms inference, 3.1ms postprocess per image at shape (1, 3, 1024, 1024)\n"
     ]
    },
    {
     "name": "stderr",
     "output_type": "stream",
     "text": [
      "\n",
      "100%|████████| 1335/1335 [00:03<00:00, 425.71it/s]"
     ]
    },
    {
     "name": "stdout",
     "output_type": "stream",
     "text": [
      "\n",
      "WARNING ⚠️ imgsz=[1000] must be multiple of max stride 32, updating to [1024]\n",
      "0: 1024x1024 1349 items, 8.9ms\n",
      "Speed: 4.8ms preprocess, 8.9ms inference, 3.8ms postprocess per image at shape (1, 3, 1024, 1024)\n"
     ]
    },
    {
     "name": "stderr",
     "output_type": "stream",
     "text": [
      "\n",
      "100%|████████| 1349/1349 [00:03<00:00, 425.83it/s]"
     ]
    },
    {
     "name": "stdout",
     "output_type": "stream",
     "text": [
      "\n",
      "WARNING ⚠️ imgsz=[1000] must be multiple of max stride 32, updating to [1024]\n",
      "0: 1024x1024 319 items, 8.9ms\n",
      "Speed: 4.8ms preprocess, 8.9ms inference, 1.3ms postprocess per image at shape (1, 3, 1024, 1024)\n"
     ]
    },
    {
     "name": "stderr",
     "output_type": "stream",
     "text": [
      "\n",
      "100%|██████████| 319/319 [00:00<00:00, 424.70it/s]"
     ]
    },
    {
     "name": "stdout",
     "output_type": "stream",
     "text": [
      "\n",
      "WARNING ⚠️ imgsz=[1000] must be multiple of max stride 32, updating to [1024]\n",
      "0: 1024x1024 404 items, 8.9ms\n",
      "Speed: 4.8ms preprocess, 8.9ms inference, 1.6ms postprocess per image at shape (1, 3, 1024, 1024)\n"
     ]
    },
    {
     "name": "stderr",
     "output_type": "stream",
     "text": [
      "\n",
      "100%|██████████| 404/404 [00:00<00:00, 424.81it/s]"
     ]
    },
    {
     "name": "stdout",
     "output_type": "stream",
     "text": [
      "\n",
      "WARNING ⚠️ imgsz=[1000] must be multiple of max stride 32, updating to [1024]\n",
      "0: 1024x1024 448 items, 8.9ms\n",
      "Speed: 4.8ms preprocess, 8.9ms inference, 1.6ms postprocess per image at shape (1, 3, 1024, 1024)\n"
     ]
    },
    {
     "name": "stderr",
     "output_type": "stream",
     "text": [
      "\n",
      "100%|██████████| 448/448 [00:01<00:00, 424.13it/s]"
     ]
    },
    {
     "name": "stdout",
     "output_type": "stream",
     "text": [
      "\n",
      "WARNING ⚠️ imgsz=[1000] must be multiple of max stride 32, updating to [1024]\n",
      "0: 1024x1024 324 items, 9.1ms\n",
      "Speed: 5.2ms preprocess, 9.1ms inference, 1.4ms postprocess per image at shape (1, 3, 1024, 1024)\n"
     ]
    },
    {
     "name": "stderr",
     "output_type": "stream",
     "text": [
      "\n",
      "100%|██████████| 324/324 [00:00<00:00, 424.91it/s]"
     ]
    },
    {
     "name": "stdout",
     "output_type": "stream",
     "text": [
      "\n",
      "WARNING ⚠️ imgsz=[1000] must be multiple of max stride 32, updating to [1024]\n",
      "0: 1024x1024 341 items, 8.9ms\n"
     ]
    },
    {
     "name": "stderr",
     "output_type": "stream",
     "text": [
      "\n"
     ]
    },
    {
     "name": "stdout",
     "output_type": "stream",
     "text": [
      "Speed: 4.8ms preprocess, 8.9ms inference, 1.4ms postprocess per image at shape (1, 3, 1024, 1024)\n"
     ]
    },
    {
     "name": "stderr",
     "output_type": "stream",
     "text": [
      "\n",
      "00%|██████████| 341/341 [00:00<00:00, 424.94it/s]"
     ]
    },
    {
     "name": "stdout",
     "output_type": "stream",
     "text": [
      "\n",
      "WARNING ⚠️ imgsz=[1000] must be multiple of max stride 32, updating to [1024]\n",
      "0: 1024x1024 388 items, 8.9ms\n",
      "Speed: 4.8ms preprocess, 8.9ms inference, 1.4ms postprocess per image at shape (1, 3, 1024, 1024)\n"
     ]
    },
    {
     "name": "stderr",
     "output_type": "stream",
     "text": [
      "\n",
      "00%|██████████| 388/388 [00:00<00:00, 424.50it/s]"
     ]
    },
    {
     "name": "stdout",
     "output_type": "stream",
     "text": [
      "Starting inference_and_evaluation with # dims32_depth4 on cuda:2\n",
      "\n",
      "0: 2048x2048 1424 items, 24.3ms\n",
      "Speed: 13.0ms preprocess, 24.3ms inference, 4.1ms postprocess per image at shape (1, 3, 2048, 2048)\n"
     ]
    },
    {
     "name": "stderr",
     "output_type": "stream",
     "text": [
      "100%|████████| 1424/1424 [00:04<00:00, 291.74it/s]"
     ]
    },
    {
     "name": "stdout",
     "output_type": "stream",
     "text": [
      "\n",
      "WARNING ⚠️ imgsz=[1000] must be multiple of max stride 32, updating to [1024]\n"
     ]
    },
    {
     "name": "stderr",
     "output_type": "stream",
     "text": [
      "\n"
     ]
    },
    {
     "name": "stdout",
     "output_type": "stream",
     "text": [
      "0: 1024x1024 582 items, 9.4ms\n",
      "Speed: 4.8ms preprocess, 9.4ms inference, 1.8ms postprocess per image at shape (1, 3, 1024, 1024)\n"
     ]
    },
    {
     "name": "stderr",
     "output_type": "stream",
     "text": [
      "100%|██████████| 582/582 [00:01<00:00, 292.49it/s]"
     ]
    },
    {
     "name": "stdout",
     "output_type": "stream",
     "text": [
      "\n",
      "WARNING ⚠️ imgsz=[1000] must be multiple of max stride 32, updating to [1024]\n",
      "0: 1024x1024 519 items, 8.9ms\n",
      "Speed: 4.8ms preprocess, 8.9ms inference, 1.7ms postprocess per image at shape (1, 3, 1024, 1024)\n"
     ]
    },
    {
     "name": "stderr",
     "output_type": "stream",
     "text": [
      "\n",
      "100%|██████████| 519/519 [00:01<00:00, 291.88it/s]"
     ]
    },
    {
     "name": "stdout",
     "output_type": "stream",
     "text": [
      "\n",
      "WARNING ⚠️ imgsz=[1000] must be multiple of max stride 32, updating to [1024]\n",
      "0: 1024x1024 792 items, 8.9ms\n",
      "Speed: 4.8ms preprocess, 8.9ms inference, 2.1ms postprocess per image at shape (1, 3, 1024, 1024)\n"
     ]
    },
    {
     "name": "stderr",
     "output_type": "stream",
     "text": [
      "\n",
      "100%|██████████| 792/792 [00:02<00:00, 280.06it/s]"
     ]
    },
    {
     "name": "stdout",
     "output_type": "stream",
     "text": [
      "\n",
      "WARNING ⚠️ imgsz=[1000] must be multiple of max stride 32, updating to [1024]\n",
      "0: 1024x1024 427 items, 8.9ms\n",
      "Speed: 4.8ms preprocess, 8.9ms inference, 1.4ms postprocess per image at shape (1, 3, 1024, 1024)\n"
     ]
    },
    {
     "name": "stderr",
     "output_type": "stream",
     "text": [
      "\n",
      "100%|██████████| 427/427 [00:01<00:00, 290.55it/s]"
     ]
    },
    {
     "name": "stdout",
     "output_type": "stream",
     "text": [
      "\n",
      "WARNING ⚠️ imgsz=[1000] must be multiple of max stride 32, updating to [1024]\n",
      "0: 1024x1024 852 items, 8.9ms\n",
      "Speed: 4.8ms preprocess, 8.9ms inference, 2.3ms postprocess per image at shape (1, 3, 1024, 1024)\n"
     ]
    },
    {
     "name": "stderr",
     "output_type": "stream",
     "text": [
      "\n",
      "100%|██████████| 852/852 [00:02<00:00, 291.93it/s]"
     ]
    },
    {
     "name": "stdout",
     "output_type": "stream",
     "text": [
      "\n",
      "WARNING ⚠️ imgsz=[1000] must be multiple of max stride 32, updating to [1024]\n",
      "0: 1024x1024 363 items, 8.9ms\n",
      "Speed: 4.8ms preprocess, 8.9ms inference, 1.4ms postprocess per image at shape (1, 3, 1024, 1024)\n"
     ]
    },
    {
     "name": "stderr",
     "output_type": "stream",
     "text": [
      "\n",
      "100%|██████████| 363/363 [00:01<00:00, 290.04it/s]"
     ]
    },
    {
     "name": "stdout",
     "output_type": "stream",
     "text": [
      "\n",
      "WARNING ⚠️ imgsz=[1000] must be multiple of max stride 32, updating to [1024]\n",
      "0: 1024x1024 506 items, 9.1ms\n",
      "Speed: 4.8ms preprocess, 9.1ms inference, 1.6ms postprocess per image at shape (1, 3, 1024, 1024)\n"
     ]
    },
    {
     "name": "stderr",
     "output_type": "stream",
     "text": [
      "\n",
      "\n",
      "00%|██████████| 506/506 [00:01<00:00, 292.08it/s]"
     ]
    },
    {
     "name": "stdout",
     "output_type": "stream",
     "text": [
      "\n",
      "WARNING ⚠️ imgsz=[1000] must be multiple of max stride 32, updating to [1024]\n",
      "0: 1024x1024 622 items, 8.9ms\n",
      "Speed: 4.8ms preprocess, 8.9ms inference, 1.8ms postprocess per image at shape (1, 3, 1024, 1024)\n"
     ]
    },
    {
     "name": "stderr",
     "output_type": "stream",
     "text": [
      "\n",
      "00%|██████████| 622/622 [00:02<00:00, 292.00it/s]"
     ]
    },
    {
     "name": "stdout",
     "output_type": "stream",
     "text": [
      "\n",
      "WARNING ⚠️ imgsz=[1000] must be multiple of max stride 32, updating to [1024]\n",
      "0: 1024x1024 1143 items, 8.9ms\n",
      "Speed: 4.8ms preprocess, 8.9ms inference, 2.6ms postprocess per image at shape (1, 3, 1024, 1024)\n"
     ]
    },
    {
     "name": "stderr",
     "output_type": "stream",
     "text": [
      "100%|████████| 1143/1143 [00:03<00:00, 292.42it/s]"
     ]
    },
    {
     "name": "stdout",
     "output_type": "stream",
     "text": [
      "\n",
      "WARNING ⚠️ imgsz=[1000] must be multiple of max stride 32, updating to [1024]\n",
      "0: 1024x1024 269 items, 8.9ms\n",
      "Speed: 4.8ms preprocess, 8.9ms inference, 1.3ms postprocess per image at shape (1, 3, 1024, 1024)\n"
     ]
    },
    {
     "name": "stderr",
     "output_type": "stream",
     "text": [
      "\n",
      "100%|██████████| 269/269 [00:00<00:00, 289.48it/s]"
     ]
    },
    {
     "name": "stdout",
     "output_type": "stream",
     "text": [
      "\n",
      "WARNING ⚠️ imgsz=[1000] must be multiple of max stride 32, updating to [1024]\n",
      "0: 1024x1024 571 items, 9.1ms\n",
      "Speed: 4.8ms preprocess, 9.1ms inference, 1.8ms postprocess per image at shape (1, 3, 1024, 1024)\n"
     ]
    },
    {
     "name": "stderr",
     "output_type": "stream",
     "text": [
      "\n",
      "100%|██████████| 571/571 [00:01<00:00, 291.20it/s]"
     ]
    },
    {
     "name": "stdout",
     "output_type": "stream",
     "text": [
      "\n",
      "WARNING ⚠️ imgsz=[1000] must be multiple of max stride 32, updating to [1024]\n",
      "0: 1024x1024 408 items, 8.9ms\n",
      "Speed: 4.8ms preprocess, 8.9ms inference, 1.5ms postprocess per image at shape (1, 3, 1024, 1024)\n"
     ]
    },
    {
     "name": "stderr",
     "output_type": "stream",
     "text": [
      "\n",
      "100%|██████████| 408/408 [00:01<00:00, 291.15it/s]"
     ]
    },
    {
     "name": "stdout",
     "output_type": "stream",
     "text": [
      "\n",
      "WARNING ⚠️ imgsz=[1000] must be multiple of max stride 32, updating to [1024]\n"
     ]
    },
    {
     "name": "stderr",
     "output_type": "stream",
     "text": [
      "\n"
     ]
    },
    {
     "name": "stdout",
     "output_type": "stream",
     "text": [
      "0: 1024x1024 765 items, 8.9ms\n",
      "Speed: 4.8ms preprocess, 8.9ms inference, 2.0ms postprocess per image at shape (1, 3, 1024, 1024)\n"
     ]
    },
    {
     "name": "stderr",
     "output_type": "stream",
     "text": [
      "100%|██████████| 765/765 [00:02<00:00, 291.80it/s]"
     ]
    },
    {
     "name": "stdout",
     "output_type": "stream",
     "text": [
      "\n",
      "WARNING ⚠️ imgsz=[1000] must be multiple of max stride 32, updating to [1024]\n"
     ]
    },
    {
     "name": "stderr",
     "output_type": "stream",
     "text": [
      "\n"
     ]
    },
    {
     "name": "stdout",
     "output_type": "stream",
     "text": [
      "0: 1024x1024 309 items, 9.2ms\n",
      "Speed: 4.8ms preprocess, 9.2ms inference, 1.3ms postprocess per image at shape (1, 3, 1024, 1024)\n"
     ]
    },
    {
     "name": "stderr",
     "output_type": "stream",
     "text": [
      "100%|██████████| 309/309 [00:01<00:00, 291.12it/s]"
     ]
    },
    {
     "name": "stdout",
     "output_type": "stream",
     "text": [
      "\n",
      "WARNING ⚠️ imgsz=[1000] must be multiple of max stride 32, updating to [1024]\n",
      "0: 1024x1024 481 items, 8.9ms\n",
      "Speed: 4.8ms preprocess, 8.9ms inference, 1.6ms postprocess per image at shape (1, 3, 1024, 1024)\n"
     ]
    },
    {
     "name": "stderr",
     "output_type": "stream",
     "text": [
      "\n",
      "100%|██████████| 481/481 [00:01<00:00, 290.99it/s]"
     ]
    },
    {
     "name": "stdout",
     "output_type": "stream",
     "text": [
      "\n",
      "WARNING ⚠️ imgsz=[1000] must be multiple of max stride 32, updating to [1024]\n",
      "0: 1024x1024 301 items, 8.9ms\n",
      "Speed: 4.8ms preprocess, 8.9ms inference, 1.2ms postprocess per image at shape (1, 3, 1024, 1024)\n"
     ]
    },
    {
     "name": "stderr",
     "output_type": "stream",
     "text": [
      "\n",
      "100%|██████████| 301/301 [00:01<00:00, 289.94it/s]"
     ]
    },
    {
     "name": "stdout",
     "output_type": "stream",
     "text": [
      "\n",
      "WARNING ⚠️ imgsz=[1000] must be multiple of max stride 32, updating to [1024]\n",
      "0: 1024x1024 1148 items, 9.0ms\n",
      "Speed: 4.8ms preprocess, 9.0ms inference, 3.0ms postprocess per image at shape (1, 3, 1024, 1024)\n"
     ]
    },
    {
     "name": "stderr",
     "output_type": "stream",
     "text": [
      "\n",
      "100%|████████| 1148/1148 [00:03<00:00, 291.65it/s]"
     ]
    },
    {
     "name": "stdout",
     "output_type": "stream",
     "text": [
      "\n",
      "WARNING ⚠️ imgsz=[1000] must be multiple of max stride 32, updating to [1024]\n",
      "0: 1024x1024 426 items, 9.0ms\n",
      "Speed: 4.8ms preprocess, 9.0ms inference, 1.6ms postprocess per image at shape (1, 3, 1024, 1024)\n"
     ]
    },
    {
     "name": "stderr",
     "output_type": "stream",
     "text": [
      "\n",
      "100%|██████████| 426/426 [00:01<00:00, 290.50it/s]"
     ]
    },
    {
     "name": "stdout",
     "output_type": "stream",
     "text": [
      "\n",
      "WARNING ⚠️ imgsz=[1000] must be multiple of max stride 32, updating to [1024]\n",
      "0: 1024x1024 443 items, 8.9ms\n",
      "Speed: 4.8ms preprocess, 8.9ms inference, 1.5ms postprocess per image at shape (1, 3, 1024, 1024)\n"
     ]
    },
    {
     "name": "stderr",
     "output_type": "stream",
     "text": [
      "\n",
      "\n",
      "00%|██████████| 443/443 [00:01<00:00, 290.99it/s]"
     ]
    },
    {
     "name": "stdout",
     "output_type": "stream",
     "text": [
      "\n",
      "WARNING ⚠️ imgsz=[1000] must be multiple of max stride 32, updating to [1024]\n",
      "0: 1024x1024 252 items, 8.9ms\n",
      "Speed: 4.8ms preprocess, 8.9ms inference, 1.2ms postprocess per image at shape (1, 3, 1024, 1024)\n"
     ]
    },
    {
     "name": "stderr",
     "output_type": "stream",
     "text": [
      "100%|██████████| 252/252 [00:00<00:00, 290.31it/s]"
     ]
    },
    {
     "name": "stdout",
     "output_type": "stream",
     "text": [
      "\n",
      "WARNING ⚠️ imgsz=[1000] must be multiple of max stride 32, updating to [1024]\n",
      "0: 1024x1024 232 items, 8.9ms\n"
     ]
    },
    {
     "name": "stderr",
     "output_type": "stream",
     "text": [
      "\n"
     ]
    },
    {
     "name": "stdout",
     "output_type": "stream",
     "text": [
      "Speed: 4.8ms preprocess, 8.9ms inference, 1.1ms postprocess per image at shape (1, 3, 1024, 1024)\n"
     ]
    },
    {
     "name": "stderr",
     "output_type": "stream",
     "text": [
      "\n",
      "00%|██████████| 232/232 [00:00<00:00, 290.55it/s]"
     ]
    },
    {
     "name": "stdout",
     "output_type": "stream",
     "text": [
      "\n",
      "0: 2048x2048 1227 items, 24.8ms\n",
      "Speed: 12.8ms preprocess, 24.8ms inference, 3.3ms postprocess per image at shape (1, 3, 2048, 2048)\n"
     ]
    },
    {
     "name": "stderr",
     "output_type": "stream",
     "text": [
      "100%|████████| 1227/1227 [00:04<00:00, 284.73it/s]"
     ]
    },
    {
     "name": "stdout",
     "output_type": "stream",
     "text": [
      "\n",
      "WARNING ⚠️ imgsz=[1000] must be multiple of max stride 32, updating to [1024]\n"
     ]
    },
    {
     "name": "stderr",
     "output_type": "stream",
     "text": [
      "\n"
     ]
    },
    {
     "name": "stdout",
     "output_type": "stream",
     "text": [
      "0: 1024x1024 722 items, 10.7ms\n",
      "Speed: 4.8ms preprocess, 10.7ms inference, 2.2ms postprocess per image at shape (1, 3, 1024, 1024)\n"
     ]
    },
    {
     "name": "stderr",
     "output_type": "stream",
     "text": [
      "100%|██████████| 722/722 [00:02<00:00, 290.85it/s]"
     ]
    },
    {
     "name": "stdout",
     "output_type": "stream",
     "text": [
      "\n",
      "WARNING ⚠️ imgsz=[1000] must be multiple of max stride 32, updating to [1024]\n",
      "0: 1024x1024 791 items, 8.9ms\n",
      "Speed: 4.8ms preprocess, 8.9ms inference, 2.0ms postprocess per image at shape (1, 3, 1024, 1024)\n"
     ]
    },
    {
     "name": "stderr",
     "output_type": "stream",
     "text": [
      "\n",
      "100%|██████████| 791/791 [00:02<00:00, 291.46it/s]"
     ]
    },
    {
     "name": "stdout",
     "output_type": "stream",
     "text": [
      "\n",
      "WARNING ⚠️ imgsz=[1000] must be multiple of max stride 32, updating to [1024]\n",
      "0: 1024x1024 397 items, 8.9ms\n",
      "Speed: 4.8ms preprocess, 8.9ms inference, 1.5ms postprocess per image at shape (1, 3, 1024, 1024)\n"
     ]
    },
    {
     "name": "stderr",
     "output_type": "stream",
     "text": [
      "\n",
      "100%|██████████| 397/397 [00:01<00:00, 289.82it/s]"
     ]
    },
    {
     "name": "stdout",
     "output_type": "stream",
     "text": [
      "\n",
      "WARNING ⚠️ imgsz=[1000] must be multiple of max stride 32, updating to [1024]\n",
      "0: 1024x1024 360 items, 9.1ms\n",
      "Speed: 4.9ms preprocess, 9.1ms inference, 1.5ms postprocess per image at shape (1, 3, 1024, 1024)\n"
     ]
    },
    {
     "name": "stderr",
     "output_type": "stream",
     "text": [
      "\n",
      "100%|██████████| 360/360 [00:01<00:00, 291.24it/s]"
     ]
    },
    {
     "name": "stdout",
     "output_type": "stream",
     "text": [
      "\n",
      "WARNING ⚠️ imgsz=[1000] must be multiple of max stride 32, updating to [1024]\n",
      "0: 1024x1024 295 items, 8.9ms\n",
      "Speed: 4.8ms preprocess, 8.9ms inference, 1.3ms postprocess per image at shape (1, 3, 1024, 1024)\n"
     ]
    },
    {
     "name": "stderr",
     "output_type": "stream",
     "text": [
      "\n",
      "\n",
      "00%|██████████| 295/295 [00:01<00:00, 290.07it/s]"
     ]
    },
    {
     "name": "stdout",
     "output_type": "stream",
     "text": [
      "\n",
      "0: 2048x2048 1153 items, 24.8ms\n",
      "Speed: 13.0ms preprocess, 24.8ms inference, 2.8ms postprocess per image at shape (1, 3, 2048, 2048)\n"
     ]
    },
    {
     "name": "stderr",
     "output_type": "stream",
     "text": [
      "100%|████████| 1153/1153 [00:03<00:00, 292.29it/s]"
     ]
    },
    {
     "name": "stdout",
     "output_type": "stream",
     "text": [
      "\n",
      "WARNING ⚠️ imgsz=[1000] must be multiple of max stride 32, updating to [1024]\n",
      "0: 1024x1024 350 items, 9.4ms\n",
      "Speed: 4.8ms preprocess, 9.4ms inference, 1.8ms postprocess per image at shape (1, 3, 1024, 1024)\n"
     ]
    },
    {
     "name": "stderr",
     "output_type": "stream",
     "text": [
      "\n",
      "\n",
      "00%|██████████| 350/350 [00:01<00:00, 290.08it/s]"
     ]
    },
    {
     "name": "stdout",
     "output_type": "stream",
     "text": [
      "\n",
      "WARNING ⚠️ imgsz=[1000] must be multiple of max stride 32, updating to [1024]\n",
      "0: 1024x1024 315 items, 8.9ms\n",
      "Speed: 4.8ms preprocess, 8.9ms inference, 1.3ms postprocess per image at shape (1, 3, 1024, 1024)\n"
     ]
    },
    {
     "name": "stderr",
     "output_type": "stream",
     "text": [
      "100%|██████████| 315/315 [00:01<00:00, 290.28it/s]"
     ]
    },
    {
     "name": "stdout",
     "output_type": "stream",
     "text": [
      "\n",
      "WARNING ⚠️ imgsz=[1000] must be multiple of max stride 32, updating to [1024]\n"
     ]
    },
    {
     "name": "stderr",
     "output_type": "stream",
     "text": [
      "\n"
     ]
    },
    {
     "name": "stdout",
     "output_type": "stream",
     "text": [
      "0: 1024x1024 1016 items, 8.9ms\n",
      "Speed: 4.9ms preprocess, 8.9ms inference, 2.4ms postprocess per image at shape (1, 3, 1024, 1024)\n"
     ]
    },
    {
     "name": "stderr",
     "output_type": "stream",
     "text": [
      "\n",
      "00%|████████| 1016/1016 [00:03<00:00, 291.98it/s]"
     ]
    },
    {
     "name": "stdout",
     "output_type": "stream",
     "text": [
      "\n",
      "WARNING ⚠️ imgsz=[1000] must be multiple of max stride 32, updating to [1024]\n",
      "0: 1024x1024 508 items, 8.9ms\n",
      "Speed: 4.8ms preprocess, 8.9ms inference, 1.6ms postprocess per image at shape (1, 3, 1024, 1024)\n"
     ]
    },
    {
     "name": "stderr",
     "output_type": "stream",
     "text": [
      "100%|██████████| 508/508 [00:01<00:00, 291.06it/s]"
     ]
    },
    {
     "name": "stdout",
     "output_type": "stream",
     "text": [
      "\n",
      "WARNING ⚠️ imgsz=[1000] must be multiple of max stride 32, updating to [1024]\n",
      "0: 1024x1024 311 items, 9.0ms\n",
      "Speed: 4.9ms preprocess, 9.0ms inference, 1.3ms postprocess per image at shape (1, 3, 1024, 1024)\n"
     ]
    },
    {
     "name": "stderr",
     "output_type": "stream",
     "text": [
      "\n",
      "100%|██████████| 311/311 [00:01<00:00, 290.72it/s]"
     ]
    },
    {
     "name": "stdout",
     "output_type": "stream",
     "text": [
      "\n",
      "WARNING ⚠️ imgsz=[1000] must be multiple of max stride 32, updating to [1024]\n",
      "0: 1024x1024 461 items, 8.9ms\n",
      "Speed: 4.8ms preprocess, 8.9ms inference, 1.5ms postprocess per image at shape (1, 3, 1024, 1024)\n"
     ]
    },
    {
     "name": "stderr",
     "output_type": "stream",
     "text": [
      "\n",
      "100%|██████████| 461/461 [00:01<00:00, 291.43it/s]"
     ]
    },
    {
     "name": "stdout",
     "output_type": "stream",
     "text": [
      "\n",
      "WARNING ⚠️ imgsz=[1000] must be multiple of max stride 32, updating to [1024]\n",
      "0: 1024x1024 288 items, 8.9ms\n",
      "Speed: 4.8ms preprocess, 8.9ms inference, 1.3ms postprocess per image at shape (1, 3, 1024, 1024)\n"
     ]
    },
    {
     "name": "stderr",
     "output_type": "stream",
     "text": [
      "\n",
      "100%|██████████| 288/288 [00:00<00:00, 290.23it/s]"
     ]
    },
    {
     "name": "stdout",
     "output_type": "stream",
     "text": [
      "\n",
      "WARNING ⚠️ imgsz=[1000] must be multiple of max stride 32, updating to [1024]\n"
     ]
    },
    {
     "name": "stderr",
     "output_type": "stream",
     "text": [
      "\n"
     ]
    },
    {
     "name": "stdout",
     "output_type": "stream",
     "text": [
      "0: 1024x1024 513 items, 8.9ms\n",
      "Speed: 4.8ms preprocess, 8.9ms inference, 1.6ms postprocess per image at shape (1, 3, 1024, 1024)\n"
     ]
    },
    {
     "name": "stderr",
     "output_type": "stream",
     "text": [
      "100%|██████████| 513/513 [00:01<00:00, 291.57it/s]"
     ]
    },
    {
     "name": "stdout",
     "output_type": "stream",
     "text": [
      "\n",
      "WARNING ⚠️ imgsz=[1000] must be multiple of max stride 32, updating to [1024]\n",
      "0: 1024x1024 379 items, 8.9ms\n",
      "Speed: 4.8ms preprocess, 8.9ms inference, 1.4ms postprocess per image at shape (1, 3, 1024, 1024)\n"
     ]
    },
    {
     "name": "stderr",
     "output_type": "stream",
     "text": [
      "\n",
      "100%|██████████| 379/379 [00:01<00:00, 290.26it/s]"
     ]
    },
    {
     "name": "stdout",
     "output_type": "stream",
     "text": [
      "\n",
      "WARNING ⚠️ imgsz=[1000] must be multiple of max stride 32, updating to [1024]\n"
     ]
    },
    {
     "name": "stderr",
     "output_type": "stream",
     "text": [
      "\n"
     ]
    },
    {
     "name": "stdout",
     "output_type": "stream",
     "text": [
      "0: 1024x1024 1278 items, 9.1ms\n",
      "Speed: 4.9ms preprocess, 9.1ms inference, 4.7ms postprocess per image at shape (1, 3, 1024, 1024)\n"
     ]
    },
    {
     "name": "stderr",
     "output_type": "stream",
     "text": [
      "100%|████████| 1278/1278 [00:04<00:00, 292.12it/s]"
     ]
    },
    {
     "name": "stdout",
     "output_type": "stream",
     "text": [
      "\n",
      "WARNING ⚠️ imgsz=[1000] must be multiple of max stride 32, updating to [1024]\n"
     ]
    },
    {
     "name": "stderr",
     "output_type": "stream",
     "text": [
      "\n"
     ]
    },
    {
     "name": "stdout",
     "output_type": "stream",
     "text": [
      "0: 1024x1024 337 items, 8.9ms\n",
      "Speed: 4.9ms preprocess, 8.9ms inference, 1.3ms postprocess per image at shape (1, 3, 1024, 1024)\n"
     ]
    },
    {
     "name": "stderr",
     "output_type": "stream",
     "text": [
      "100%|██████████| 337/337 [00:01<00:00, 290.04it/s]"
     ]
    },
    {
     "name": "stdout",
     "output_type": "stream",
     "text": [
      "\n",
      "WARNING ⚠️ imgsz=[1000] must be multiple of max stride 32, updating to [1024]\n",
      "0: 1024x1024 365 items, 8.9ms\n",
      "Speed: 4.8ms preprocess, 8.9ms inference, 1.4ms postprocess per image at shape (1, 3, 1024, 1024)\n"
     ]
    },
    {
     "name": "stderr",
     "output_type": "stream",
     "text": [
      "\n",
      "100%|██████████| 365/365 [00:01<00:00, 290.35it/s]"
     ]
    },
    {
     "name": "stdout",
     "output_type": "stream",
     "text": [
      "\n",
      "WARNING ⚠️ imgsz=[1000] must be multiple of max stride 32, updating to [1024]\n",
      "0: 1024x1024 543 items, 8.9ms\n",
      "Speed: 5.0ms preprocess, 8.9ms inference, 1.6ms postprocess per image at shape (1, 3, 1024, 1024)\n"
     ]
    },
    {
     "name": "stderr",
     "output_type": "stream",
     "text": [
      "\n",
      "\n",
      "00%|██████████| 543/543 [00:01<00:00, 275.88it/s]"
     ]
    },
    {
     "name": "stdout",
     "output_type": "stream",
     "text": [
      "\n",
      "WARNING ⚠️ imgsz=[1000] must be multiple of max stride 32, updating to [1024]\n",
      "0: 1024x1024 481 items, 9.1ms\n",
      "Speed: 4.8ms preprocess, 9.1ms inference, 1.5ms postprocess per image at shape (1, 3, 1024, 1024)\n"
     ]
    },
    {
     "name": "stderr",
     "output_type": "stream",
     "text": [
      "100%|██████████| 481/481 [00:01<00:00, 291.35it/s]"
     ]
    },
    {
     "name": "stdout",
     "output_type": "stream",
     "text": [
      "\n",
      "WARNING ⚠️ imgsz=[1000] must be multiple of max stride 32, updating to [1024]\n",
      "0: 1024x1024 1335 items, 8.9ms\n",
      "Speed: 4.8ms preprocess, 8.9ms inference, 3.0ms postprocess per image at shape (1, 3, 1024, 1024)\n"
     ]
    },
    {
     "name": "stderr",
     "output_type": "stream",
     "text": [
      "\n",
      "100%|████████| 1335/1335 [00:04<00:00, 291.84it/s]"
     ]
    },
    {
     "name": "stdout",
     "output_type": "stream",
     "text": [
      "\n",
      "WARNING ⚠️ imgsz=[1000] must be multiple of max stride 32, updating to [1024]\n"
     ]
    },
    {
     "name": "stderr",
     "output_type": "stream",
     "text": [
      "\n"
     ]
    },
    {
     "name": "stdout",
     "output_type": "stream",
     "text": [
      "0: 1024x1024 1349 items, 9.2ms\n",
      "Speed: 4.8ms preprocess, 9.2ms inference, 3.9ms postprocess per image at shape (1, 3, 1024, 1024)\n"
     ]
    },
    {
     "name": "stderr",
     "output_type": "stream",
     "text": [
      "100%|████████| 1349/1349 [00:04<00:00, 291.47it/s]"
     ]
    },
    {
     "name": "stdout",
     "output_type": "stream",
     "text": [
      "\n",
      "WARNING ⚠️ imgsz=[1000] must be multiple of max stride 32, updating to [1024]\n",
      "0: 1024x1024 319 items, 8.9ms\n",
      "Speed: 4.8ms preprocess, 8.9ms inference, 1.4ms postprocess per image at shape (1, 3, 1024, 1024)\n"
     ]
    },
    {
     "name": "stderr",
     "output_type": "stream",
     "text": [
      "\n",
      "100%|██████████| 319/319 [00:01<00:00, 289.84it/s]"
     ]
    },
    {
     "name": "stdout",
     "output_type": "stream",
     "text": [
      "\n",
      "WARNING ⚠️ imgsz=[1000] must be multiple of max stride 32, updating to [1024]\n"
     ]
    },
    {
     "name": "stderr",
     "output_type": "stream",
     "text": [
      "\n"
     ]
    },
    {
     "name": "stdout",
     "output_type": "stream",
     "text": [
      "0: 1024x1024 404 items, 8.9ms\n",
      "Speed: 4.8ms preprocess, 8.9ms inference, 1.5ms postprocess per image at shape (1, 3, 1024, 1024)\n"
     ]
    },
    {
     "name": "stderr",
     "output_type": "stream",
     "text": [
      "100%|██████████| 404/404 [00:01<00:00, 291.39it/s]"
     ]
    },
    {
     "name": "stdout",
     "output_type": "stream",
     "text": [
      "\n",
      "WARNING ⚠️ imgsz=[1000] must be multiple of max stride 32, updating to [1024]\n"
     ]
    },
    {
     "name": "stderr",
     "output_type": "stream",
     "text": [
      "\n"
     ]
    },
    {
     "name": "stdout",
     "output_type": "stream",
     "text": [
      "0: 1024x1024 448 items, 9.2ms\n",
      "Speed: 4.8ms preprocess, 9.2ms inference, 1.5ms postprocess per image at shape (1, 3, 1024, 1024)\n"
     ]
    },
    {
     "name": "stderr",
     "output_type": "stream",
     "text": [
      "100%|██████████| 448/448 [00:01<00:00, 291.16it/s]"
     ]
    },
    {
     "name": "stdout",
     "output_type": "stream",
     "text": [
      "\n",
      "WARNING ⚠️ imgsz=[1000] must be multiple of max stride 32, updating to [1024]\n",
      "0: 1024x1024 324 items, 8.9ms\n",
      "Speed: 4.8ms preprocess, 8.9ms inference, 1.3ms postprocess per image at shape (1, 3, 1024, 1024)\n"
     ]
    },
    {
     "name": "stderr",
     "output_type": "stream",
     "text": [
      "\n",
      "\n",
      "00%|██████████| 324/324 [00:01<00:00, 290.88it/s]"
     ]
    },
    {
     "name": "stdout",
     "output_type": "stream",
     "text": [
      "\n",
      "WARNING ⚠️ imgsz=[1000] must be multiple of max stride 32, updating to [1024]\n",
      "0: 1024x1024 341 items, 8.9ms\n",
      "Speed: 4.8ms preprocess, 8.9ms inference, 1.3ms postprocess per image at shape (1, 3, 1024, 1024)\n"
     ]
    },
    {
     "name": "stderr",
     "output_type": "stream",
     "text": [
      "100%|██████████| 341/341 [00:01<00:00, 291.25it/s]"
     ]
    },
    {
     "name": "stdout",
     "output_type": "stream",
     "text": [
      "\n",
      "WARNING ⚠️ imgsz=[1000] must be multiple of max stride 32, updating to [1024]\n",
      "0: 1024x1024 388 items, 8.9ms\n",
      "Speed: 4.9ms preprocess, 8.9ms inference, 1.4ms postprocess per image at shape (1, 3, 1024, 1024)\n"
     ]
    },
    {
     "name": "stderr",
     "output_type": "stream",
     "text": [
      "\n",
      "\n",
      "00%|██████████| 388/388 [00:01<00:00, 290.23it/s]"
     ]
    },
    {
     "name": "stdout",
     "output_type": "stream",
     "text": [
      "Starting inference_and_evaluation with # dims48_depth4 on cuda:2\n",
      "\n",
      "0: 2048x2048 1424 items, 24.3ms\n",
      "Speed: 13.0ms preprocess, 24.3ms inference, 4.1ms postprocess per image at shape (1, 3, 2048, 2048)\n"
     ]
    },
    {
     "name": "stderr",
     "output_type": "stream",
     "text": [
      "100%|████████| 1424/1424 [00:04<00:00, 290.66it/s]"
     ]
    },
    {
     "name": "stdout",
     "output_type": "stream",
     "text": [
      "\n",
      "WARNING ⚠️ imgsz=[1000] must be multiple of max stride 32, updating to [1024]\n"
     ]
    },
    {
     "name": "stderr",
     "output_type": "stream",
     "text": [
      "\n"
     ]
    },
    {
     "name": "stdout",
     "output_type": "stream",
     "text": [
      "0: 1024x1024 582 items, 10.3ms\n",
      "Speed: 5.0ms preprocess, 10.3ms inference, 2.0ms postprocess per image at shape (1, 3, 1024, 1024)\n"
     ]
    },
    {
     "name": "stderr",
     "output_type": "stream",
     "text": [
      "100%|██████████| 582/582 [00:02<00:00, 290.17it/s]"
     ]
    },
    {
     "name": "stdout",
     "output_type": "stream",
     "text": [
      "\n",
      "WARNING ⚠️ imgsz=[1000] must be multiple of max stride 32, updating to [1024]\n"
     ]
    },
    {
     "name": "stderr",
     "output_type": "stream",
     "text": [
      "\n"
     ]
    },
    {
     "name": "stdout",
     "output_type": "stream",
     "text": [
      "0: 1024x1024 519 items, 9.2ms\n",
      "Speed: 5.3ms preprocess, 9.2ms inference, 1.9ms postprocess per image at shape (1, 3, 1024, 1024)\n"
     ]
    },
    {
     "name": "stderr",
     "output_type": "stream",
     "text": [
      "100%|██████████| 519/519 [00:01<00:00, 289.50it/s]"
     ]
    },
    {
     "name": "stdout",
     "output_type": "stream",
     "text": [
      "\n",
      "WARNING ⚠️ imgsz=[1000] must be multiple of max stride 32, updating to [1024]\n"
     ]
    },
    {
     "name": "stderr",
     "output_type": "stream",
     "text": [
      "\n"
     ]
    },
    {
     "name": "stdout",
     "output_type": "stream",
     "text": [
      "0: 1024x1024 792 items, 8.9ms\n",
      "Speed: 5.0ms preprocess, 8.9ms inference, 2.2ms postprocess per image at shape (1, 3, 1024, 1024)\n"
     ]
    },
    {
     "name": "stderr",
     "output_type": "stream",
     "text": [
      "\n",
      "00%|██████████| 792/792 [00:02<00:00, 289.24it/s]"
     ]
    },
    {
     "name": "stdout",
     "output_type": "stream",
     "text": [
      "\n",
      "WARNING ⚠️ imgsz=[1000] must be multiple of max stride 32, updating to [1024]\n",
      "0: 1024x1024 427 items, 9.0ms\n",
      "Speed: 4.9ms preprocess, 9.0ms inference, 1.5ms postprocess per image at shape (1, 3, 1024, 1024)\n"
     ]
    },
    {
     "name": "stderr",
     "output_type": "stream",
     "text": [
      "100%|██████████| 427/427 [00:01<00:00, 289.00it/s]"
     ]
    },
    {
     "name": "stdout",
     "output_type": "stream",
     "text": [
      "\n",
      "WARNING ⚠️ imgsz=[1000] must be multiple of max stride 32, updating to [1024]\n"
     ]
    },
    {
     "name": "stderr",
     "output_type": "stream",
     "text": [
      "\n"
     ]
    },
    {
     "name": "stdout",
     "output_type": "stream",
     "text": [
      "0: 1024x1024 852 items, 9.2ms\n",
      "Speed: 4.8ms preprocess, 9.2ms inference, 2.4ms postprocess per image at shape (1, 3, 1024, 1024)\n"
     ]
    },
    {
     "name": "stderr",
     "output_type": "stream",
     "text": [
      "100%|██████████| 852/852 [00:02<00:00, 290.51it/s]"
     ]
    },
    {
     "name": "stdout",
     "output_type": "stream",
     "text": [
      "\n",
      "WARNING ⚠️ imgsz=[1000] must be multiple of max stride 32, updating to [1024]\n"
     ]
    },
    {
     "name": "stderr",
     "output_type": "stream",
     "text": [
      "\n"
     ]
    },
    {
     "name": "stdout",
     "output_type": "stream",
     "text": [
      "0: 1024x1024 363 items, 9.2ms\n",
      "Speed: 4.8ms preprocess, 9.2ms inference, 1.5ms postprocess per image at shape (1, 3, 1024, 1024)\n"
     ]
    },
    {
     "name": "stderr",
     "output_type": "stream",
     "text": [
      "100%|██████████| 363/363 [00:01<00:00, 289.63it/s]"
     ]
    },
    {
     "name": "stdout",
     "output_type": "stream",
     "text": [
      "\n",
      "WARNING ⚠️ imgsz=[1000] must be multiple of max stride 32, updating to [1024]\n",
      "0: 1024x1024 506 items, 8.9ms\n",
      "Speed: 5.6ms preprocess, 8.9ms inference, 1.5ms postprocess per image at shape (1, 3, 1024, 1024)\n"
     ]
    },
    {
     "name": "stderr",
     "output_type": "stream",
     "text": [
      "\n",
      "100%|██████████| 506/506 [00:01<00:00, 289.99it/s]"
     ]
    },
    {
     "name": "stdout",
     "output_type": "stream",
     "text": [
      "\n",
      "WARNING ⚠️ imgsz=[1000] must be multiple of max stride 32, updating to [1024]\n",
      "0: 1024x1024 622 items, 8.9ms\n",
      "Speed: 4.8ms preprocess, 8.9ms inference, 1.8ms postprocess per image at shape (1, 3, 1024, 1024)\n"
     ]
    },
    {
     "name": "stderr",
     "output_type": "stream",
     "text": [
      "\n",
      "\n",
      "00%|██████████| 622/622 [00:02<00:00, 289.95it/s]"
     ]
    },
    {
     "name": "stdout",
     "output_type": "stream",
     "text": [
      "\n",
      "WARNING ⚠️ imgsz=[1000] must be multiple of max stride 32, updating to [1024]\n",
      "0: 1024x1024 1143 items, 8.9ms\n",
      "Speed: 5.3ms preprocess, 8.9ms inference, 2.6ms postprocess per image at shape (1, 3, 1024, 1024)\n"
     ]
    },
    {
     "name": "stderr",
     "output_type": "stream",
     "text": [
      "\n",
      "00%|████████| 1143/1143 [00:04<00:00, 283.46it/s]"
     ]
    },
    {
     "name": "stdout",
     "output_type": "stream",
     "text": [
      "\n",
      "WARNING ⚠️ imgsz=[1000] must be multiple of max stride 32, updating to [1024]\n",
      "0: 1024x1024 269 items, 8.9ms\n",
      "Speed: 5.3ms preprocess, 8.9ms inference, 1.3ms postprocess per image at shape (1, 3, 1024, 1024)\n"
     ]
    },
    {
     "name": "stderr",
     "output_type": "stream",
     "text": [
      "100%|██████████| 269/269 [00:00<00:00, 289.14it/s]"
     ]
    },
    {
     "name": "stdout",
     "output_type": "stream",
     "text": [
      "\n",
      "WARNING ⚠️ imgsz=[1000] must be multiple of max stride 32, updating to [1024]\n",
      "0: 1024x1024 571 items, 8.9ms\n",
      "Speed: 4.8ms preprocess, 8.9ms inference, 1.7ms postprocess per image at shape (1, 3, 1024, 1024)\n"
     ]
    },
    {
     "name": "stderr",
     "output_type": "stream",
     "text": [
      "\n",
      "100%|██████████| 571/571 [00:01<00:00, 290.27it/s]"
     ]
    },
    {
     "name": "stdout",
     "output_type": "stream",
     "text": [
      "\n",
      "WARNING ⚠️ imgsz=[1000] must be multiple of max stride 32, updating to [1024]\n",
      "0: 1024x1024 408 items, 8.9ms\n",
      "Speed: 4.8ms preprocess, 8.9ms inference, 1.5ms postprocess per image at shape (1, 3, 1024, 1024)\n"
     ]
    },
    {
     "name": "stderr",
     "output_type": "stream",
     "text": [
      "\n",
      "\n",
      "00%|██████████| 408/408 [00:01<00:00, 289.14it/s]"
     ]
    },
    {
     "name": "stdout",
     "output_type": "stream",
     "text": [
      "\n",
      "WARNING ⚠️ imgsz=[1000] must be multiple of max stride 32, updating to [1024]\n",
      "0: 1024x1024 765 items, 8.9ms\n",
      "Speed: 4.8ms preprocess, 8.9ms inference, 2.0ms postprocess per image at shape (1, 3, 1024, 1024)\n"
     ]
    },
    {
     "name": "stderr",
     "output_type": "stream",
     "text": [
      "\n",
      "00%|██████████| 765/765 [00:02<00:00, 289.24it/s]"
     ]
    },
    {
     "name": "stdout",
     "output_type": "stream",
     "text": [
      "\n",
      "WARNING ⚠️ imgsz=[1000] must be multiple of max stride 32, updating to [1024]\n",
      "0: 1024x1024 309 items, 9.2ms\n",
      "Speed: 4.9ms preprocess, 9.2ms inference, 1.4ms postprocess per image at shape (1, 3, 1024, 1024)\n"
     ]
    },
    {
     "name": "stderr",
     "output_type": "stream",
     "text": [
      "100%|██████████| 309/309 [00:01<00:00, 288.93it/s]"
     ]
    },
    {
     "name": "stdout",
     "output_type": "stream",
     "text": [
      "\n",
      "WARNING ⚠️ imgsz=[1000] must be multiple of max stride 32, updating to [1024]\n",
      "0: 1024x1024 481 items, 8.9ms\n",
      "Speed: 4.8ms preprocess, 8.9ms inference, 1.6ms postprocess per image at shape (1, 3, 1024, 1024)\n"
     ]
    },
    {
     "name": "stderr",
     "output_type": "stream",
     "text": [
      "\n",
      "100%|██████████| 481/481 [00:01<00:00, 289.55it/s]"
     ]
    },
    {
     "name": "stdout",
     "output_type": "stream",
     "text": [
      "\n",
      "WARNING ⚠️ imgsz=[1000] must be multiple of max stride 32, updating to [1024]\n",
      "0: 1024x1024 301 items, 8.9ms\n",
      "Speed: 4.8ms preprocess, 8.9ms inference, 1.3ms postprocess per image at shape (1, 3, 1024, 1024)\n"
     ]
    },
    {
     "name": "stderr",
     "output_type": "stream",
     "text": [
      "\n",
      "100%|██████████| 301/301 [00:01<00:00, 288.71it/s]"
     ]
    },
    {
     "name": "stdout",
     "output_type": "stream",
     "text": [
      "\n",
      "WARNING ⚠️ imgsz=[1000] must be multiple of max stride 32, updating to [1024]\n",
      "0: 1024x1024 1148 items, 8.9ms\n",
      "Speed: 4.8ms preprocess, 8.9ms inference, 3.2ms postprocess per image at shape (1, 3, 1024, 1024)\n"
     ]
    },
    {
     "name": "stderr",
     "output_type": "stream",
     "text": [
      "\n",
      "100%|████████| 1148/1148 [00:03<00:00, 289.15it/s]"
     ]
    },
    {
     "name": "stdout",
     "output_type": "stream",
     "text": [
      "\n",
      "WARNING ⚠️ imgsz=[1000] must be multiple of max stride 32, updating to [1024]\n"
     ]
    },
    {
     "name": "stderr",
     "output_type": "stream",
     "text": [
      "\n"
     ]
    },
    {
     "name": "stdout",
     "output_type": "stream",
     "text": [
      "0: 1024x1024 426 items, 9.4ms\n",
      "Speed: 4.8ms preprocess, 9.4ms inference, 1.5ms postprocess per image at shape (1, 3, 1024, 1024)\n"
     ]
    },
    {
     "name": "stderr",
     "output_type": "stream",
     "text": [
      "100%|██████████| 426/426 [00:01<00:00, 289.81it/s]"
     ]
    },
    {
     "name": "stdout",
     "output_type": "stream",
     "text": [
      "\n",
      "WARNING ⚠️ imgsz=[1000] must be multiple of max stride 32, updating to [1024]\n",
      "0: 1024x1024 443 items, 8.9ms\n",
      "Speed: 4.8ms preprocess, 8.9ms inference, 1.5ms postprocess per image at shape (1, 3, 1024, 1024)\n"
     ]
    },
    {
     "name": "stderr",
     "output_type": "stream",
     "text": [
      "\n",
      "100%|██████████| 443/443 [00:01<00:00, 289.22it/s]"
     ]
    },
    {
     "name": "stdout",
     "output_type": "stream",
     "text": [
      "\n",
      "WARNING ⚠️ imgsz=[1000] must be multiple of max stride 32, updating to [1024]\n",
      "0: 1024x1024 252 items, 9.1ms\n",
      "Speed: 4.8ms preprocess, 9.1ms inference, 1.2ms postprocess per image at shape (1, 3, 1024, 1024)\n"
     ]
    },
    {
     "name": "stderr",
     "output_type": "stream",
     "text": [
      "\n",
      "100%|██████████| 252/252 [00:00<00:00, 290.06it/s]"
     ]
    },
    {
     "name": "stdout",
     "output_type": "stream",
     "text": [
      "\n",
      "WARNING ⚠️ imgsz=[1000] must be multiple of max stride 32, updating to [1024]\n",
      "0: 1024x1024 232 items, 8.9ms\n",
      "Speed: 4.8ms preprocess, 8.9ms inference, 1.1ms postprocess per image at shape (1, 3, 1024, 1024)\n"
     ]
    },
    {
     "name": "stderr",
     "output_type": "stream",
     "text": [
      "\n",
      "\n",
      "00%|██████████| 232/232 [00:00<00:00, 289.47it/s]"
     ]
    },
    {
     "name": "stdout",
     "output_type": "stream",
     "text": [
      "\n",
      "0: 2048x2048 1227 items, 24.8ms\n",
      "Speed: 12.8ms preprocess, 24.8ms inference, 3.3ms postprocess per image at shape (1, 3, 2048, 2048)\n"
     ]
    },
    {
     "name": "stderr",
     "output_type": "stream",
     "text": [
      "100%|████████| 1227/1227 [00:04<00:00, 290.86it/s]"
     ]
    },
    {
     "name": "stdout",
     "output_type": "stream",
     "text": [
      "\n",
      "WARNING ⚠️ imgsz=[1000] must be multiple of max stride 32, updating to [1024]\n",
      "0: 1024x1024 722 items, 9.4ms\n",
      "Speed: 4.8ms preprocess, 9.4ms inference, 2.1ms postprocess per image at shape (1, 3, 1024, 1024)\n"
     ]
    },
    {
     "name": "stderr",
     "output_type": "stream",
     "text": [
      "\n",
      "100%|██████████| 722/722 [00:02<00:00, 289.61it/s]"
     ]
    },
    {
     "name": "stdout",
     "output_type": "stream",
     "text": [
      "\n",
      "WARNING ⚠️ imgsz=[1000] must be multiple of max stride 32, updating to [1024]\n",
      "0: 1024x1024 791 items, 9.0ms\n",
      "Speed: 4.8ms preprocess, 9.0ms inference, 2.0ms postprocess per image at shape (1, 3, 1024, 1024)\n"
     ]
    },
    {
     "name": "stderr",
     "output_type": "stream",
     "text": [
      "\n",
      "100%|██████████| 791/791 [00:02<00:00, 290.05it/s]"
     ]
    },
    {
     "name": "stdout",
     "output_type": "stream",
     "text": [
      "\n",
      "WARNING ⚠️ imgsz=[1000] must be multiple of max stride 32, updating to [1024]\n"
     ]
    },
    {
     "name": "stderr",
     "output_type": "stream",
     "text": [
      "\n"
     ]
    },
    {
     "name": "stdout",
     "output_type": "stream",
     "text": [
      "0: 1024x1024 397 items, 9.3ms\n",
      "Speed: 4.8ms preprocess, 9.3ms inference, 1.5ms postprocess per image at shape (1, 3, 1024, 1024)\n"
     ]
    },
    {
     "name": "stderr",
     "output_type": "stream",
     "text": [
      "100%|██████████| 397/397 [00:01<00:00, 290.11it/s]"
     ]
    },
    {
     "name": "stdout",
     "output_type": "stream",
     "text": [
      "\n",
      "WARNING ⚠️ imgsz=[1000] must be multiple of max stride 32, updating to [1024]\n",
      "0: 1024x1024 360 items, 9.0ms\n",
      "Speed: 4.9ms preprocess, 9.0ms inference, 1.4ms postprocess per image at shape (1, 3, 1024, 1024)\n"
     ]
    },
    {
     "name": "stderr",
     "output_type": "stream",
     "text": [
      "\n",
      "100%|██████████| 360/360 [00:01<00:00, 289.41it/s]"
     ]
    },
    {
     "name": "stdout",
     "output_type": "stream",
     "text": [
      "\n",
      "WARNING ⚠️ imgsz=[1000] must be multiple of max stride 32, updating to [1024]\n",
      "0: 1024x1024 295 items, 8.9ms\n",
      "Speed: 4.8ms preprocess, 8.9ms inference, 1.3ms postprocess per image at shape (1, 3, 1024, 1024)\n"
     ]
    },
    {
     "name": "stderr",
     "output_type": "stream",
     "text": [
      "\n",
      "100%|██████████| 295/295 [00:01<00:00, 289.07it/s]"
     ]
    },
    {
     "name": "stdout",
     "output_type": "stream",
     "text": [
      "\n"
     ]
    },
    {
     "name": "stderr",
     "output_type": "stream",
     "text": [
      "\n"
     ]
    },
    {
     "name": "stdout",
     "output_type": "stream",
     "text": [
      "0: 2048x2048 1153 items, 24.7ms\n",
      "Speed: 12.8ms preprocess, 24.7ms inference, 2.8ms postprocess per image at shape (1, 3, 2048, 2048)\n"
     ]
    },
    {
     "name": "stderr",
     "output_type": "stream",
     "text": [
      "100%|████████| 1153/1153 [00:03<00:00, 290.39it/s]"
     ]
    },
    {
     "name": "stdout",
     "output_type": "stream",
     "text": [
      "\n",
      "WARNING ⚠️ imgsz=[1000] must be multiple of max stride 32, updating to [1024]\n"
     ]
    },
    {
     "name": "stderr",
     "output_type": "stream",
     "text": [
      "\n"
     ]
    },
    {
     "name": "stdout",
     "output_type": "stream",
     "text": [
      "0: 1024x1024 350 items, 10.0ms\n",
      "Speed: 5.1ms preprocess, 10.0ms inference, 1.5ms postprocess per image at shape (1, 3, 1024, 1024)\n"
     ]
    },
    {
     "name": "stderr",
     "output_type": "stream",
     "text": [
      "\n",
      "00%|██████████| 350/350 [00:01<00:00, 289.48it/s]"
     ]
    },
    {
     "name": "stdout",
     "output_type": "stream",
     "text": [
      "\n",
      "WARNING ⚠️ imgsz=[1000] must be multiple of max stride 32, updating to [1024]\n",
      "0: 1024x1024 315 items, 8.9ms\n",
      "Speed: 4.8ms preprocess, 8.9ms inference, 1.3ms postprocess per image at shape (1, 3, 1024, 1024)\n"
     ]
    },
    {
     "name": "stderr",
     "output_type": "stream",
     "text": [
      "100%|██████████| 315/315 [00:01<00:00, 263.46it/s]"
     ]
    },
    {
     "name": "stdout",
     "output_type": "stream",
     "text": [
      "\n",
      "WARNING ⚠️ imgsz=[1000] must be multiple of max stride 32, updating to [1024]\n",
      "0: 1024x1024 1016 items, 8.9ms\n",
      "Speed: 4.8ms preprocess, 8.9ms inference, 2.4ms postprocess per image at shape (1, 3, 1024, 1024)\n"
     ]
    },
    {
     "name": "stderr",
     "output_type": "stream",
     "text": [
      "\n",
      "100%|████████| 1016/1016 [00:03<00:00, 289.97it/s]"
     ]
    },
    {
     "name": "stdout",
     "output_type": "stream",
     "text": [
      "\n",
      "WARNING ⚠️ imgsz=[1000] must be multiple of max stride 32, updating to [1024]\n",
      "0: 1024x1024 508 items, 8.9ms\n",
      "Speed: 4.8ms preprocess, 8.9ms inference, 1.7ms postprocess per image at shape (1, 3, 1024, 1024)\n"
     ]
    },
    {
     "name": "stderr",
     "output_type": "stream",
     "text": [
      "\n",
      "100%|██████████| 508/508 [00:01<00:00, 289.05it/s]"
     ]
    },
    {
     "name": "stdout",
     "output_type": "stream",
     "text": [
      "\n",
      "WARNING ⚠️ imgsz=[1000] must be multiple of max stride 32, updating to [1024]\n",
      "0: 1024x1024 311 items, 9.1ms\n",
      "Speed: 4.8ms preprocess, 9.1ms inference, 1.3ms postprocess per image at shape (1, 3, 1024, 1024)\n"
     ]
    },
    {
     "name": "stderr",
     "output_type": "stream",
     "text": [
      "\n",
      "100%|██████████| 311/311 [00:01<00:00, 288.64it/s]"
     ]
    },
    {
     "name": "stdout",
     "output_type": "stream",
     "text": [
      "\n",
      "WARNING ⚠️ imgsz=[1000] must be multiple of max stride 32, updating to [1024]\n"
     ]
    },
    {
     "name": "stderr",
     "output_type": "stream",
     "text": [
      "\n"
     ]
    },
    {
     "name": "stdout",
     "output_type": "stream",
     "text": [
      "0: 1024x1024 461 items, 8.9ms\n",
      "Speed: 5.0ms preprocess, 8.9ms inference, 1.5ms postprocess per image at shape (1, 3, 1024, 1024)\n"
     ]
    },
    {
     "name": "stderr",
     "output_type": "stream",
     "text": [
      "100%|██████████| 461/461 [00:01<00:00, 289.68it/s]"
     ]
    },
    {
     "name": "stdout",
     "output_type": "stream",
     "text": [
      "\n",
      "WARNING ⚠️ imgsz=[1000] must be multiple of max stride 32, updating to [1024]\n"
     ]
    },
    {
     "name": "stderr",
     "output_type": "stream",
     "text": [
      "\n"
     ]
    },
    {
     "name": "stdout",
     "output_type": "stream",
     "text": [
      "0: 1024x1024 288 items, 8.9ms\n",
      "Speed: 4.8ms preprocess, 8.9ms inference, 1.5ms postprocess per image at shape (1, 3, 1024, 1024)\n"
     ]
    },
    {
     "name": "stderr",
     "output_type": "stream",
     "text": [
      "\n",
      "00%|██████████| 288/288 [00:00<00:00, 288.79it/s]"
     ]
    },
    {
     "name": "stdout",
     "output_type": "stream",
     "text": [
      "\n",
      "WARNING ⚠️ imgsz=[1000] must be multiple of max stride 32, updating to [1024]\n",
      "0: 1024x1024 513 items, 8.9ms\n",
      "Speed: 4.8ms preprocess, 8.9ms inference, 1.6ms postprocess per image at shape (1, 3, 1024, 1024)\n"
     ]
    },
    {
     "name": "stderr",
     "output_type": "stream",
     "text": [
      "100%|██████████| 513/513 [00:01<00:00, 289.96it/s]"
     ]
    },
    {
     "name": "stdout",
     "output_type": "stream",
     "text": [
      "\n",
      "WARNING ⚠️ imgsz=[1000] must be multiple of max stride 32, updating to [1024]\n",
      "0: 1024x1024 379 items, 8.9ms\n",
      "Speed: 4.8ms preprocess, 8.9ms inference, 1.5ms postprocess per image at shape (1, 3, 1024, 1024)\n"
     ]
    },
    {
     "name": "stderr",
     "output_type": "stream",
     "text": [
      "\n",
      "100%|██████████| 379/379 [00:01<00:00, 289.82it/s]"
     ]
    },
    {
     "name": "stdout",
     "output_type": "stream",
     "text": [
      "\n",
      "WARNING ⚠️ imgsz=[1000] must be multiple of max stride 32, updating to [1024]\n"
     ]
    },
    {
     "name": "stderr",
     "output_type": "stream",
     "text": [
      "\n"
     ]
    },
    {
     "name": "stdout",
     "output_type": "stream",
     "text": [
      "0: 1024x1024 1278 items, 8.9ms\n",
      "Speed: 4.8ms preprocess, 8.9ms inference, 3.1ms postprocess per image at shape (1, 3, 1024, 1024)\n"
     ]
    },
    {
     "name": "stderr",
     "output_type": "stream",
     "text": [
      "100%|████████| 1278/1278 [00:04<00:00, 290.31it/s]"
     ]
    },
    {
     "name": "stdout",
     "output_type": "stream",
     "text": [
      "\n",
      "WARNING ⚠️ imgsz=[1000] must be multiple of max stride 32, updating to [1024]\n"
     ]
    },
    {
     "name": "stderr",
     "output_type": "stream",
     "text": [
      "\n"
     ]
    },
    {
     "name": "stdout",
     "output_type": "stream",
     "text": [
      "0: 1024x1024 337 items, 9.1ms\n",
      "Speed: 4.8ms preprocess, 9.1ms inference, 1.4ms postprocess per image at shape (1, 3, 1024, 1024)\n"
     ]
    },
    {
     "name": "stderr",
     "output_type": "stream",
     "text": [
      "100%|██████████| 337/337 [00:01<00:00, 289.95it/s]"
     ]
    },
    {
     "name": "stdout",
     "output_type": "stream",
     "text": [
      "\n",
      "WARNING ⚠️ imgsz=[1000] must be multiple of max stride 32, updating to [1024]\n",
      "0: 1024x1024 365 items, 8.9ms\n",
      "Speed: 4.8ms preprocess, 8.9ms inference, 1.3ms postprocess per image at shape (1, 3, 1024, 1024)\n"
     ]
    },
    {
     "name": "stderr",
     "output_type": "stream",
     "text": [
      "\n",
      "100%|██████████| 365/365 [00:01<00:00, 289.88it/s]"
     ]
    },
    {
     "name": "stdout",
     "output_type": "stream",
     "text": [
      "\n",
      "WARNING ⚠️ imgsz=[1000] must be multiple of max stride 32, updating to [1024]\n",
      "0: 1024x1024 543 items, 8.9ms\n",
      "Speed: 4.8ms preprocess, 8.9ms inference, 1.6ms postprocess per image at shape (1, 3, 1024, 1024)\n"
     ]
    },
    {
     "name": "stderr",
     "output_type": "stream",
     "text": [
      "\n",
      "100%|██████████| 543/543 [00:01<00:00, 289.08it/s]"
     ]
    },
    {
     "name": "stdout",
     "output_type": "stream",
     "text": [
      "\n",
      "WARNING ⚠️ imgsz=[1000] must be multiple of max stride 32, updating to [1024]\n",
      "0: 1024x1024 481 items, 8.9ms\n",
      "Speed: 4.8ms preprocess, 8.9ms inference, 1.5ms postprocess per image at shape (1, 3, 1024, 1024)\n"
     ]
    },
    {
     "name": "stderr",
     "output_type": "stream",
     "text": [
      "\n",
      "100%|██████████| 481/481 [00:01<00:00, 289.88it/s]"
     ]
    },
    {
     "name": "stdout",
     "output_type": "stream",
     "text": [
      "\n",
      "WARNING ⚠️ imgsz=[1000] must be multiple of max stride 32, updating to [1024]\n",
      "0: 1024x1024 1335 items, 8.9ms\n",
      "Speed: 4.8ms preprocess, 8.9ms inference, 3.0ms postprocess per image at shape (1, 3, 1024, 1024)\n"
     ]
    },
    {
     "name": "stderr",
     "output_type": "stream",
     "text": [
      "\n",
      "100%|████████| 1335/1335 [00:04<00:00, 291.02it/s]"
     ]
    },
    {
     "name": "stdout",
     "output_type": "stream",
     "text": [
      "\n",
      "WARNING ⚠️ imgsz=[1000] must be multiple of max stride 32, updating to [1024]\n"
     ]
    },
    {
     "name": "stderr",
     "output_type": "stream",
     "text": [
      "\n"
     ]
    },
    {
     "name": "stdout",
     "output_type": "stream",
     "text": [
      "0: 1024x1024 1349 items, 9.4ms\n",
      "Speed: 4.9ms preprocess, 9.4ms inference, 3.5ms postprocess per image at shape (1, 3, 1024, 1024)\n"
     ]
    },
    {
     "name": "stderr",
     "output_type": "stream",
     "text": [
      "100%|████████| 1349/1349 [00:04<00:00, 290.57it/s]"
     ]
    },
    {
     "name": "stdout",
     "output_type": "stream",
     "text": [
      "\n",
      "WARNING ⚠️ imgsz=[1000] must be multiple of max stride 32, updating to [1024]\n",
      "0: 1024x1024 319 items, 8.9ms\n",
      "Speed: 4.8ms preprocess, 8.9ms inference, 1.3ms postprocess per image at shape (1, 3, 1024, 1024)\n"
     ]
    },
    {
     "name": "stderr",
     "output_type": "stream",
     "text": [
      "\n",
      "\n",
      "00%|██████████| 319/319 [00:01<00:00, 288.54it/s]"
     ]
    },
    {
     "name": "stdout",
     "output_type": "stream",
     "text": [
      "\n",
      "WARNING ⚠️ imgsz=[1000] must be multiple of max stride 32, updating to [1024]\n",
      "0: 1024x1024 404 items, 8.9ms\n",
      "Speed: 4.8ms preprocess, 8.9ms inference, 1.5ms postprocess per image at shape (1, 3, 1024, 1024)\n"
     ]
    },
    {
     "name": "stderr",
     "output_type": "stream",
     "text": [
      "100%|██████████| 404/404 [00:01<00:00, 289.43it/s]"
     ]
    },
    {
     "name": "stdout",
     "output_type": "stream",
     "text": [
      "\n",
      "WARNING ⚠️ imgsz=[1000] must be multiple of max stride 32, updating to [1024]\n"
     ]
    },
    {
     "name": "stderr",
     "output_type": "stream",
     "text": [
      "\n"
     ]
    },
    {
     "name": "stdout",
     "output_type": "stream",
     "text": [
      "0: 1024x1024 448 items, 9.1ms\n",
      "Speed: 4.8ms preprocess, 9.1ms inference, 1.5ms postprocess per image at shape (1, 3, 1024, 1024)\n"
     ]
    },
    {
     "name": "stderr",
     "output_type": "stream",
     "text": [
      "100%|██████████| 448/448 [00:01<00:00, 288.96it/s]"
     ]
    },
    {
     "name": "stdout",
     "output_type": "stream",
     "text": [
      "\n",
      "WARNING ⚠️ imgsz=[1000] must be multiple of max stride 32, updating to [1024]\n",
      "0: 1024x1024 324 items, 8.9ms\n",
      "Speed: 4.8ms preprocess, 8.9ms inference, 1.3ms postprocess per image at shape (1, 3, 1024, 1024)\n"
     ]
    },
    {
     "name": "stderr",
     "output_type": "stream",
     "text": [
      "\n",
      "\n",
      "00%|██████████| 324/324 [00:01<00:00, 261.08it/s]"
     ]
    },
    {
     "name": "stdout",
     "output_type": "stream",
     "text": [
      "\n",
      "WARNING ⚠️ imgsz=[1000] must be multiple of max stride 32, updating to [1024]\n",
      "0: 1024x1024 341 items, 8.9ms\n",
      "Speed: 5.3ms preprocess, 8.9ms inference, 1.3ms postprocess per image at shape (1, 3, 1024, 1024)\n"
     ]
    },
    {
     "name": "stderr",
     "output_type": "stream",
     "text": [
      "100%|██████████| 341/341 [00:01<00:00, 289.42it/s]"
     ]
    },
    {
     "name": "stdout",
     "output_type": "stream",
     "text": [
      "\n",
      "WARNING ⚠️ imgsz=[1000] must be multiple of max stride 32, updating to [1024]\n"
     ]
    },
    {
     "name": "stderr",
     "output_type": "stream",
     "text": [
      "\n"
     ]
    },
    {
     "name": "stdout",
     "output_type": "stream",
     "text": [
      "0: 1024x1024 388 items, 9.1ms\n",
      "Speed: 4.8ms preprocess, 9.1ms inference, 1.4ms postprocess per image at shape (1, 3, 1024, 1024)\n"
     ]
    },
    {
     "name": "stderr",
     "output_type": "stream",
     "text": [
      "\n",
      "00%|██████████| 388/388 [00:01<00:00, 288.44it/s]"
     ]
    },
    {
     "name": "stdout",
     "output_type": "stream",
     "text": [
      "Starting inference_and_evaluation with # dims64_depth4 on cuda:2\n",
      "\n",
      "0: 2048x2048 1424 items, 24.3ms\n",
      "Speed: 13.0ms preprocess, 24.3ms inference, 4.1ms postprocess per image at shape (1, 3, 2048, 2048)\n"
     ]
    },
    {
     "name": "stderr",
     "output_type": "stream",
     "text": [
      "100%|████████| 1424/1424 [00:04<00:00, 287.68it/s]"
     ]
    },
    {
     "name": "stdout",
     "output_type": "stream",
     "text": [
      "\n",
      "WARNING ⚠️ imgsz=[1000] must be multiple of max stride 32, updating to [1024]\n",
      "0: 1024x1024 582 items, 9.9ms\n",
      "Speed: 5.0ms preprocess, 9.9ms inference, 1.8ms postprocess per image at shape (1, 3, 1024, 1024)\n"
     ]
    },
    {
     "name": "stderr",
     "output_type": "stream",
     "text": [
      "\n",
      "100%|██████████| 582/582 [00:02<00:00, 287.90it/s]"
     ]
    },
    {
     "name": "stdout",
     "output_type": "stream",
     "text": [
      "\n",
      "WARNING ⚠️ imgsz=[1000] must be multiple of max stride 32, updating to [1024]\n",
      "0: 1024x1024 519 items, 8.9ms\n",
      "Speed: 4.9ms preprocess, 8.9ms inference, 1.7ms postprocess per image at shape (1, 3, 1024, 1024)\n"
     ]
    },
    {
     "name": "stderr",
     "output_type": "stream",
     "text": [
      "\n",
      "\n",
      "00%|██████████| 519/519 [00:01<00:00, 287.99it/s]"
     ]
    },
    {
     "name": "stdout",
     "output_type": "stream",
     "text": [
      "\n",
      "WARNING ⚠️ imgsz=[1000] must be multiple of max stride 32, updating to [1024]\n",
      "0: 1024x1024 792 items, 8.9ms\n",
      "Speed: 4.9ms preprocess, 8.9ms inference, 2.1ms postprocess per image at shape (1, 3, 1024, 1024)\n"
     ]
    },
    {
     "name": "stderr",
     "output_type": "stream",
     "text": [
      "100%|██████████| 792/792 [00:02<00:00, 287.90it/s]"
     ]
    },
    {
     "name": "stdout",
     "output_type": "stream",
     "text": [
      "\n",
      "WARNING ⚠️ imgsz=[1000] must be multiple of max stride 32, updating to [1024]\n",
      "0: 1024x1024 427 items, 8.9ms\n",
      "Speed: 4.9ms preprocess, 8.9ms inference, 1.5ms postprocess per image at shape (1, 3, 1024, 1024)\n"
     ]
    },
    {
     "name": "stderr",
     "output_type": "stream",
     "text": [
      "\n",
      "100%|██████████| 427/427 [00:01<00:00, 286.93it/s]"
     ]
    },
    {
     "name": "stdout",
     "output_type": "stream",
     "text": [
      "\n",
      "WARNING ⚠️ imgsz=[1000] must be multiple of max stride 32, updating to [1024]\n"
     ]
    },
    {
     "name": "stderr",
     "output_type": "stream",
     "text": [
      "\n"
     ]
    },
    {
     "name": "stdout",
     "output_type": "stream",
     "text": [
      "0: 1024x1024 852 items, 8.9ms\n",
      "Speed: 4.9ms preprocess, 8.9ms inference, 2.3ms postprocess per image at shape (1, 3, 1024, 1024)\n"
     ]
    },
    {
     "name": "stderr",
     "output_type": "stream",
     "text": [
      "100%|██████████| 852/852 [00:02<00:00, 287.76it/s]"
     ]
    },
    {
     "name": "stdout",
     "output_type": "stream",
     "text": [
      "\n",
      "WARNING ⚠️ imgsz=[1000] must be multiple of max stride 32, updating to [1024]\n",
      "0: 1024x1024 363 items, 9.5ms\n",
      "Speed: 5.1ms preprocess, 9.5ms inference, 1.5ms postprocess per image at shape (1, 3, 1024, 1024)\n"
     ]
    },
    {
     "name": "stderr",
     "output_type": "stream",
     "text": [
      "\n",
      "100%|██████████| 363/363 [00:01<00:00, 286.50it/s]"
     ]
    },
    {
     "name": "stdout",
     "output_type": "stream",
     "text": [
      "\n",
      "WARNING ⚠️ imgsz=[1000] must be multiple of max stride 32, updating to [1024]\n",
      "0: 1024x1024 506 items, 8.9ms\n"
     ]
    },
    {
     "name": "stderr",
     "output_type": "stream",
     "text": [
      "\n"
     ]
    },
    {
     "name": "stdout",
     "output_type": "stream",
     "text": [
      "Speed: 4.9ms preprocess, 8.9ms inference, 1.6ms postprocess per image at shape (1, 3, 1024, 1024)\n"
     ]
    },
    {
     "name": "stderr",
     "output_type": "stream",
     "text": [
      "100%|██████████| 506/506 [00:01<00:00, 287.61it/s]"
     ]
    },
    {
     "name": "stdout",
     "output_type": "stream",
     "text": [
      "\n",
      "WARNING ⚠️ imgsz=[1000] must be multiple of max stride 32, updating to [1024]\n",
      "0: 1024x1024 622 items, 8.9ms\n",
      "Speed: 5.0ms preprocess, 8.9ms inference, 2.1ms postprocess per image at shape (1, 3, 1024, 1024)\n"
     ]
    },
    {
     "name": "stderr",
     "output_type": "stream",
     "text": [
      "\n",
      "100%|██████████| 622/622 [00:02<00:00, 287.73it/s]"
     ]
    },
    {
     "name": "stdout",
     "output_type": "stream",
     "text": [
      "\n",
      "WARNING ⚠️ imgsz=[1000] must be multiple of max stride 32, updating to [1024]\n",
      "0: 1024x1024 1143 items, 8.9ms\n",
      "Speed: 5.1ms preprocess, 8.9ms inference, 2.6ms postprocess per image at shape (1, 3, 1024, 1024)\n"
     ]
    },
    {
     "name": "stderr",
     "output_type": "stream",
     "text": [
      "\n",
      "100%|████████| 1143/1143 [00:03<00:00, 288.35it/s]"
     ]
    },
    {
     "name": "stdout",
     "output_type": "stream",
     "text": [
      "\n",
      "WARNING ⚠️ imgsz=[1000] must be multiple of max stride 32, updating to [1024]\n",
      "0: 1024x1024 269 items, 9.1ms\n",
      "Speed: 4.9ms preprocess, 9.1ms inference, 1.4ms postprocess per image at shape (1, 3, 1024, 1024)\n"
     ]
    },
    {
     "name": "stderr",
     "output_type": "stream",
     "text": [
      "\n",
      "100%|██████████| 269/269 [00:00<00:00, 286.51it/s]"
     ]
    },
    {
     "name": "stdout",
     "output_type": "stream",
     "text": [
      "\n",
      "WARNING ⚠️ imgsz=[1000] must be multiple of max stride 32, updating to [1024]\n",
      "0: 1024x1024 571 items, 8.9ms\n",
      "Speed: 4.9ms preprocess, 8.9ms inference, 1.7ms postprocess per image at shape (1, 3, 1024, 1024)\n"
     ]
    },
    {
     "name": "stderr",
     "output_type": "stream",
     "text": [
      "\n",
      "100%|██████████| 571/571 [00:01<00:00, 288.03it/s]"
     ]
    },
    {
     "name": "stdout",
     "output_type": "stream",
     "text": [
      "\n",
      "WARNING ⚠️ imgsz=[1000] must be multiple of max stride 32, updating to [1024]\n"
     ]
    },
    {
     "name": "stderr",
     "output_type": "stream",
     "text": [
      "\n"
     ]
    },
    {
     "name": "stdout",
     "output_type": "stream",
     "text": [
      "0: 1024x1024 408 items, 8.9ms\n",
      "Speed: 4.9ms preprocess, 8.9ms inference, 1.4ms postprocess per image at shape (1, 3, 1024, 1024)\n"
     ]
    },
    {
     "name": "stderr",
     "output_type": "stream",
     "text": [
      "100%|██████████| 408/408 [00:01<00:00, 287.09it/s]"
     ]
    },
    {
     "name": "stdout",
     "output_type": "stream",
     "text": [
      "\n",
      "WARNING ⚠️ imgsz=[1000] must be multiple of max stride 32, updating to [1024]\n",
      "0: 1024x1024 765 items, 8.9ms\n",
      "Speed: 4.9ms preprocess, 8.9ms inference, 2.0ms postprocess per image at shape (1, 3, 1024, 1024)\n"
     ]
    },
    {
     "name": "stderr",
     "output_type": "stream",
     "text": [
      "\n",
      "100%|██████████| 765/765 [00:02<00:00, 288.03it/s]"
     ]
    },
    {
     "name": "stdout",
     "output_type": "stream",
     "text": [
      "\n",
      "WARNING ⚠️ imgsz=[1000] must be multiple of max stride 32, updating to [1024]\n",
      "0: 1024x1024 309 items, 8.9ms\n",
      "Speed: 5.0ms preprocess, 8.9ms inference, 1.3ms postprocess per image at shape (1, 3, 1024, 1024)\n"
     ]
    },
    {
     "name": "stderr",
     "output_type": "stream",
     "text": [
      "\n",
      "100%|██████████| 309/309 [00:01<00:00, 285.82it/s]"
     ]
    },
    {
     "name": "stdout",
     "output_type": "stream",
     "text": [
      "\n",
      "WARNING ⚠️ imgsz=[1000] must be multiple of max stride 32, updating to [1024]\n"
     ]
    },
    {
     "name": "stderr",
     "output_type": "stream",
     "text": [
      "\n"
     ]
    },
    {
     "name": "stdout",
     "output_type": "stream",
     "text": [
      "0: 1024x1024 481 items, 9.1ms\n",
      "Speed: 5.8ms preprocess, 9.1ms inference, 1.7ms postprocess per image at shape (1, 3, 1024, 1024)\n"
     ]
    },
    {
     "name": "stderr",
     "output_type": "stream",
     "text": [
      "100%|██████████| 481/481 [00:01<00:00, 288.24it/s]"
     ]
    },
    {
     "name": "stdout",
     "output_type": "stream",
     "text": [
      "\n",
      "WARNING ⚠️ imgsz=[1000] must be multiple of max stride 32, updating to [1024]\n"
     ]
    },
    {
     "name": "stderr",
     "output_type": "stream",
     "text": [
      "\n"
     ]
    },
    {
     "name": "stdout",
     "output_type": "stream",
     "text": [
      "0: 1024x1024 301 items, 9.2ms\n",
      "Speed: 5.4ms preprocess, 9.2ms inference, 1.3ms postprocess per image at shape (1, 3, 1024, 1024)\n"
     ]
    },
    {
     "name": "stderr",
     "output_type": "stream",
     "text": [
      "100%|██████████| 301/301 [00:01<00:00, 286.30it/s]"
     ]
    },
    {
     "name": "stdout",
     "output_type": "stream",
     "text": [
      "\n",
      "WARNING ⚠️ imgsz=[1000] must be multiple of max stride 32, updating to [1024]\n",
      "0: 1024x1024 1148 items, 8.9ms\n",
      "Speed: 4.9ms preprocess, 8.9ms inference, 3.2ms postprocess per image at shape (1, 3, 1024, 1024)\n"
     ]
    },
    {
     "name": "stderr",
     "output_type": "stream",
     "text": [
      "\n",
      "100%|████████| 1148/1148 [00:03<00:00, 288.18it/s]"
     ]
    },
    {
     "name": "stdout",
     "output_type": "stream",
     "text": [
      "\n",
      "WARNING ⚠️ imgsz=[1000] must be multiple of max stride 32, updating to [1024]\n"
     ]
    },
    {
     "name": "stderr",
     "output_type": "stream",
     "text": [
      "\n"
     ]
    },
    {
     "name": "stdout",
     "output_type": "stream",
     "text": [
      "0: 1024x1024 426 items, 9.2ms\n",
      "Speed: 4.9ms preprocess, 9.2ms inference, 1.5ms postprocess per image at shape (1, 3, 1024, 1024)\n"
     ]
    },
    {
     "name": "stderr",
     "output_type": "stream",
     "text": [
      "100%|██████████| 426/426 [00:01<00:00, 287.67it/s]"
     ]
    },
    {
     "name": "stdout",
     "output_type": "stream",
     "text": [
      "\n",
      "WARNING ⚠️ imgsz=[1000] must be multiple of max stride 32, updating to [1024]\n"
     ]
    },
    {
     "name": "stderr",
     "output_type": "stream",
     "text": [
      "\n"
     ]
    },
    {
     "name": "stdout",
     "output_type": "stream",
     "text": [
      "0: 1024x1024 443 items, 8.9ms\n",
      "Speed: 4.9ms preprocess, 8.9ms inference, 1.5ms postprocess per image at shape (1, 3, 1024, 1024)\n"
     ]
    },
    {
     "name": "stderr",
     "output_type": "stream",
     "text": [
      "\n",
      "00%|██████████| 443/443 [00:01<00:00, 267.67it/s]"
     ]
    },
    {
     "name": "stdout",
     "output_type": "stream",
     "text": [
      "\n",
      "WARNING ⚠️ imgsz=[1000] must be multiple of max stride 32, updating to [1024]\n",
      "0: 1024x1024 252 items, 9.1ms\n",
      "Speed: 5.0ms preprocess, 9.1ms inference, 1.2ms postprocess per image at shape (1, 3, 1024, 1024)\n"
     ]
    },
    {
     "name": "stderr",
     "output_type": "stream",
     "text": [
      "100%|██████████| 252/252 [00:00<00:00, 287.05it/s]"
     ]
    },
    {
     "name": "stdout",
     "output_type": "stream",
     "text": [
      "\n",
      "WARNING ⚠️ imgsz=[1000] must be multiple of max stride 32, updating to [1024]\n"
     ]
    },
    {
     "name": "stderr",
     "output_type": "stream",
     "text": [
      "\n"
     ]
    },
    {
     "name": "stdout",
     "output_type": "stream",
     "text": [
      "0: 1024x1024 232 items, 8.9ms\n",
      "Speed: 4.9ms preprocess, 8.9ms inference, 1.2ms postprocess per image at shape (1, 3, 1024, 1024)\n"
     ]
    },
    {
     "name": "stderr",
     "output_type": "stream",
     "text": [
      "100%|██████████| 232/232 [00:00<00:00, 287.19it/s]"
     ]
    },
    {
     "name": "stdout",
     "output_type": "stream",
     "text": [
      "\n"
     ]
    },
    {
     "name": "stderr",
     "output_type": "stream",
     "text": [
      "\n"
     ]
    },
    {
     "name": "stdout",
     "output_type": "stream",
     "text": [
      "0: 2048x2048 1227 items, 25.0ms\n",
      "Speed: 12.7ms preprocess, 25.0ms inference, 3.4ms postprocess per image at shape (1, 3, 2048, 2048)\n"
     ]
    },
    {
     "name": "stderr",
     "output_type": "stream",
     "text": [
      "100%|████████| 1227/1227 [00:04<00:00, 289.14it/s]"
     ]
    },
    {
     "name": "stdout",
     "output_type": "stream",
     "text": [
      "\n",
      "WARNING ⚠️ imgsz=[1000] must be multiple of max stride 32, updating to [1024]\n",
      "0: 1024x1024 722 items, 9.4ms\n",
      "Speed: 4.9ms preprocess, 9.4ms inference, 2.1ms postprocess per image at shape (1, 3, 1024, 1024)\n"
     ]
    },
    {
     "name": "stderr",
     "output_type": "stream",
     "text": [
      "\n",
      "\n",
      "00%|██████████| 722/722 [00:02<00:00, 287.58it/s]"
     ]
    },
    {
     "name": "stdout",
     "output_type": "stream",
     "text": [
      "\n",
      "WARNING ⚠️ imgsz=[1000] must be multiple of max stride 32, updating to [1024]\n",
      "0: 1024x1024 791 items, 8.9ms\n",
      "Speed: 5.0ms preprocess, 8.9ms inference, 2.0ms postprocess per image at shape (1, 3, 1024, 1024)\n"
     ]
    },
    {
     "name": "stderr",
     "output_type": "stream",
     "text": [
      "100%|██████████| 791/791 [00:02<00:00, 287.84it/s]"
     ]
    },
    {
     "name": "stdout",
     "output_type": "stream",
     "text": [
      "\n",
      "WARNING ⚠️ imgsz=[1000] must be multiple of max stride 32, updating to [1024]\n",
      "0: 1024x1024 397 items, 9.0ms\n",
      "Speed: 4.9ms preprocess, 9.0ms inference, 1.5ms postprocess per image at shape (1, 3, 1024, 1024)\n"
     ]
    },
    {
     "name": "stderr",
     "output_type": "stream",
     "text": [
      "\n",
      "100%|██████████| 397/397 [00:01<00:00, 287.87it/s]"
     ]
    },
    {
     "name": "stdout",
     "output_type": "stream",
     "text": [
      "\n",
      "WARNING ⚠️ imgsz=[1000] must be multiple of max stride 32, updating to [1024]\n"
     ]
    },
    {
     "name": "stderr",
     "output_type": "stream",
     "text": [
      "\n"
     ]
    },
    {
     "name": "stdout",
     "output_type": "stream",
     "text": [
      "0: 1024x1024 360 items, 8.9ms\n",
      "Speed: 4.9ms preprocess, 8.9ms inference, 1.4ms postprocess per image at shape (1, 3, 1024, 1024)\n"
     ]
    },
    {
     "name": "stderr",
     "output_type": "stream",
     "text": [
      "100%|██████████| 360/360 [00:01<00:00, 287.12it/s]"
     ]
    },
    {
     "name": "stdout",
     "output_type": "stream",
     "text": [
      "\n",
      "WARNING ⚠️ imgsz=[1000] must be multiple of max stride 32, updating to [1024]\n",
      "0: 1024x1024 295 items, 8.9ms\n",
      "Speed: 4.9ms preprocess, 8.9ms inference, 1.2ms postprocess per image at shape (1, 3, 1024, 1024)\n"
     ]
    },
    {
     "name": "stderr",
     "output_type": "stream",
     "text": [
      "\n",
      "100%|██████████| 295/295 [00:01<00:00, 286.79it/s]"
     ]
    },
    {
     "name": "stdout",
     "output_type": "stream",
     "text": [
      "\n"
     ]
    },
    {
     "name": "stderr",
     "output_type": "stream",
     "text": [
      "\n"
     ]
    },
    {
     "name": "stdout",
     "output_type": "stream",
     "text": [
      "0: 2048x2048 1153 items, 24.7ms\n",
      "Speed: 12.5ms preprocess, 24.7ms inference, 2.7ms postprocess per image at shape (1, 3, 2048, 2048)\n"
     ]
    },
    {
     "name": "stderr",
     "output_type": "stream",
     "text": [
      "100%|████████| 1153/1153 [00:03<00:00, 288.78it/s]"
     ]
    },
    {
     "name": "stdout",
     "output_type": "stream",
     "text": [
      "\n",
      "WARNING ⚠️ imgsz=[1000] must be multiple of max stride 32, updating to [1024]\n"
     ]
    },
    {
     "name": "stderr",
     "output_type": "stream",
     "text": [
      "\n"
     ]
    },
    {
     "name": "stdout",
     "output_type": "stream",
     "text": [
      "0: 1024x1024 350 items, 10.4ms\n",
      "Speed: 4.9ms preprocess, 10.4ms inference, 1.9ms postprocess per image at shape (1, 3, 1024, 1024)\n"
     ]
    },
    {
     "name": "stderr",
     "output_type": "stream",
     "text": [
      "100%|██████████| 350/350 [00:01<00:00, 288.05it/s]"
     ]
    },
    {
     "name": "stdout",
     "output_type": "stream",
     "text": [
      "\n",
      "WARNING ⚠️ imgsz=[1000] must be multiple of max stride 32, updating to [1024]\n",
      "0: 1024x1024 315 items, 9.0ms\n",
      "Speed: 5.2ms preprocess, 9.0ms inference, 1.3ms postprocess per image at shape (1, 3, 1024, 1024)\n"
     ]
    },
    {
     "name": "stderr",
     "output_type": "stream",
     "text": [
      "\n",
      "\n",
      "00%|██████████| 315/315 [00:01<00:00, 287.73it/s]"
     ]
    },
    {
     "name": "stdout",
     "output_type": "stream",
     "text": [
      "\n",
      "WARNING ⚠️ imgsz=[1000] must be multiple of max stride 32, updating to [1024]\n",
      "0: 1024x1024 1016 items, 9.0ms\n",
      "Speed: 4.9ms preprocess, 9.0ms inference, 2.4ms postprocess per image at shape (1, 3, 1024, 1024)\n"
     ]
    },
    {
     "name": "stderr",
     "output_type": "stream",
     "text": [
      "100%|████████| 1016/1016 [00:03<00:00, 288.75it/s]"
     ]
    },
    {
     "name": "stdout",
     "output_type": "stream",
     "text": [
      "\n",
      "WARNING ⚠️ imgsz=[1000] must be multiple of max stride 32, updating to [1024]\n",
      "0: 1024x1024 508 items, 9.0ms\n",
      "Speed: 4.9ms preprocess, 9.0ms inference, 1.7ms postprocess per image at shape (1, 3, 1024, 1024)\n"
     ]
    },
    {
     "name": "stderr",
     "output_type": "stream",
     "text": [
      "\n",
      "100%|██████████| 508/508 [00:01<00:00, 288.32it/s]"
     ]
    },
    {
     "name": "stdout",
     "output_type": "stream",
     "text": [
      "\n",
      "WARNING ⚠️ imgsz=[1000] must be multiple of max stride 32, updating to [1024]\n",
      "0: 1024x1024 311 items, 9.1ms\n",
      "Speed: 4.9ms preprocess, 9.1ms inference, 1.3ms postprocess per image at shape (1, 3, 1024, 1024)\n"
     ]
    },
    {
     "name": "stderr",
     "output_type": "stream",
     "text": [
      "\n",
      "100%|██████████| 311/311 [00:01<00:00, 287.75it/s]"
     ]
    },
    {
     "name": "stdout",
     "output_type": "stream",
     "text": [
      "\n",
      "WARNING ⚠️ imgsz=[1000] must be multiple of max stride 32, updating to [1024]\n"
     ]
    },
    {
     "name": "stderr",
     "output_type": "stream",
     "text": [
      "\n"
     ]
    },
    {
     "name": "stdout",
     "output_type": "stream",
     "text": [
      "0: 1024x1024 461 items, 9.0ms\n",
      "Speed: 4.9ms preprocess, 9.0ms inference, 1.5ms postprocess per image at shape (1, 3, 1024, 1024)\n"
     ]
    },
    {
     "name": "stderr",
     "output_type": "stream",
     "text": [
      "\n",
      "00%|██████████| 461/461 [00:01<00:00, 287.97it/s]"
     ]
    },
    {
     "name": "stdout",
     "output_type": "stream",
     "text": [
      "\n",
      "WARNING ⚠️ imgsz=[1000] must be multiple of max stride 32, updating to [1024]\n",
      "0: 1024x1024 288 items, 9.2ms\n",
      "Speed: 5.0ms preprocess, 9.2ms inference, 1.3ms postprocess per image at shape (1, 3, 1024, 1024)\n"
     ]
    },
    {
     "name": "stderr",
     "output_type": "stream",
     "text": [
      "\n",
      "00%|██████████| 288/288 [00:00<00:00, 288.01it/s]"
     ]
    },
    {
     "name": "stdout",
     "output_type": "stream",
     "text": [
      "\n",
      "WARNING ⚠️ imgsz=[1000] must be multiple of max stride 32, updating to [1024]\n",
      "0: 1024x1024 513 items, 9.0ms\n",
      "Speed: 4.9ms preprocess, 9.0ms inference, 1.6ms postprocess per image at shape (1, 3, 1024, 1024)\n"
     ]
    },
    {
     "name": "stderr",
     "output_type": "stream",
     "text": [
      "100%|██████████| 513/513 [00:01<00:00, 288.52it/s]"
     ]
    },
    {
     "name": "stdout",
     "output_type": "stream",
     "text": [
      "\n",
      "WARNING ⚠️ imgsz=[1000] must be multiple of max stride 32, updating to [1024]\n"
     ]
    },
    {
     "name": "stderr",
     "output_type": "stream",
     "text": [
      "\n"
     ]
    },
    {
     "name": "stdout",
     "output_type": "stream",
     "text": [
      "0: 1024x1024 379 items, 9.0ms\n",
      "Speed: 4.9ms preprocess, 9.0ms inference, 1.5ms postprocess per image at shape (1, 3, 1024, 1024)\n"
     ]
    },
    {
     "name": "stderr",
     "output_type": "stream",
     "text": [
      "100%|██████████| 379/379 [00:01<00:00, 287.89it/s]"
     ]
    },
    {
     "name": "stdout",
     "output_type": "stream",
     "text": [
      "\n",
      "WARNING ⚠️ imgsz=[1000] must be multiple of max stride 32, updating to [1024]\n",
      "0: 1024x1024 1278 items, 9.0ms\n",
      "Speed: 4.9ms preprocess, 9.0ms inference, 4.7ms postprocess per image at shape (1, 3, 1024, 1024)\n"
     ]
    },
    {
     "name": "stderr",
     "output_type": "stream",
     "text": [
      "\n",
      "100%|████████| 1278/1278 [00:04<00:00, 282.52it/s]"
     ]
    },
    {
     "name": "stdout",
     "output_type": "stream",
     "text": [
      "\n",
      "WARNING ⚠️ imgsz=[1000] must be multiple of max stride 32, updating to [1024]\n",
      "0: 1024x1024 337 items, 9.0ms\n",
      "Speed: 4.9ms preprocess, 9.0ms inference, 1.4ms postprocess per image at shape (1, 3, 1024, 1024)\n"
     ]
    },
    {
     "name": "stderr",
     "output_type": "stream",
     "text": [
      "\n",
      "100%|██████████| 337/337 [00:01<00:00, 288.01it/s]"
     ]
    },
    {
     "name": "stdout",
     "output_type": "stream",
     "text": [
      "\n",
      "WARNING ⚠️ imgsz=[1000] must be multiple of max stride 32, updating to [1024]\n"
     ]
    },
    {
     "name": "stderr",
     "output_type": "stream",
     "text": [
      "\n"
     ]
    },
    {
     "name": "stdout",
     "output_type": "stream",
     "text": [
      "0: 1024x1024 365 items, 9.4ms\n",
      "Speed: 4.9ms preprocess, 9.4ms inference, 1.4ms postprocess per image at shape (1, 3, 1024, 1024)\n"
     ]
    },
    {
     "name": "stderr",
     "output_type": "stream",
     "text": [
      "100%|██████████| 365/365 [00:01<00:00, 288.20it/s]"
     ]
    },
    {
     "name": "stdout",
     "output_type": "stream",
     "text": [
      "\n",
      "WARNING ⚠️ imgsz=[1000] must be multiple of max stride 32, updating to [1024]\n"
     ]
    },
    {
     "name": "stderr",
     "output_type": "stream",
     "text": [
      "\n"
     ]
    },
    {
     "name": "stdout",
     "output_type": "stream",
     "text": [
      "0: 1024x1024 543 items, 9.2ms\n",
      "Speed: 4.9ms preprocess, 9.2ms inference, 1.6ms postprocess per image at shape (1, 3, 1024, 1024)\n"
     ]
    },
    {
     "name": "stderr",
     "output_type": "stream",
     "text": [
      "100%|██████████| 543/543 [00:01<00:00, 288.29it/s]"
     ]
    },
    {
     "name": "stdout",
     "output_type": "stream",
     "text": [
      "\n",
      "WARNING ⚠️ imgsz=[1000] must be multiple of max stride 32, updating to [1024]\n"
     ]
    },
    {
     "name": "stderr",
     "output_type": "stream",
     "text": [
      "\n"
     ]
    },
    {
     "name": "stdout",
     "output_type": "stream",
     "text": [
      "0: 1024x1024 481 items, 9.0ms\n",
      "Speed: 5.4ms preprocess, 9.0ms inference, 1.6ms postprocess per image at shape (1, 3, 1024, 1024)\n"
     ]
    },
    {
     "name": "stderr",
     "output_type": "stream",
     "text": [
      "100%|██████████| 481/481 [00:01<00:00, 287.96it/s]"
     ]
    },
    {
     "name": "stdout",
     "output_type": "stream",
     "text": [
      "\n",
      "WARNING ⚠️ imgsz=[1000] must be multiple of max stride 32, updating to [1024]\n"
     ]
    },
    {
     "name": "stderr",
     "output_type": "stream",
     "text": [
      "\n"
     ]
    },
    {
     "name": "stdout",
     "output_type": "stream",
     "text": [
      "0: 1024x1024 1335 items, 9.1ms\n",
      "Speed: 4.9ms preprocess, 9.1ms inference, 2.8ms postprocess per image at shape (1, 3, 1024, 1024)\n"
     ]
    },
    {
     "name": "stderr",
     "output_type": "stream",
     "text": [
      "100%|████████| 1335/1335 [00:04<00:00, 288.48it/s]"
     ]
    },
    {
     "name": "stdout",
     "output_type": "stream",
     "text": [
      "\n",
      "WARNING ⚠️ imgsz=[1000] must be multiple of max stride 32, updating to [1024]\n",
      "0: 1024x1024 1349 items, 9.2ms\n",
      "Speed: 4.9ms preprocess, 9.2ms inference, 3.9ms postprocess per image at shape (1, 3, 1024, 1024)\n"
     ]
    },
    {
     "name": "stderr",
     "output_type": "stream",
     "text": [
      "\n",
      "100%|████████| 1349/1349 [00:04<00:00, 288.62it/s]"
     ]
    },
    {
     "name": "stdout",
     "output_type": "stream",
     "text": [
      "\n",
      "WARNING ⚠️ imgsz=[1000] must be multiple of max stride 32, updating to [1024]\n",
      "0: 1024x1024 319 items, 9.0ms\n",
      "Speed: 4.9ms preprocess, 9.0ms inference, 1.3ms postprocess per image at shape (1, 3, 1024, 1024)\n"
     ]
    },
    {
     "name": "stderr",
     "output_type": "stream",
     "text": [
      "\n",
      "100%|██████████| 319/319 [00:01<00:00, 287.70it/s]"
     ]
    },
    {
     "name": "stdout",
     "output_type": "stream",
     "text": [
      "\n",
      "WARNING ⚠️ imgsz=[1000] must be multiple of max stride 32, updating to [1024]\n",
      "0: 1024x1024 404 items, 9.0ms\n",
      "Speed: 5.0ms preprocess, 9.0ms inference, 1.5ms postprocess per image at shape (1, 3, 1024, 1024)\n"
     ]
    },
    {
     "name": "stderr",
     "output_type": "stream",
     "text": [
      "\n",
      "\n",
      "00%|██████████| 404/404 [00:01<00:00, 288.29it/s]"
     ]
    },
    {
     "name": "stdout",
     "output_type": "stream",
     "text": [
      "\n",
      "WARNING ⚠️ imgsz=[1000] must be multiple of max stride 32, updating to [1024]\n",
      "0: 1024x1024 448 items, 9.0ms\n",
      "Speed: 4.9ms preprocess, 9.0ms inference, 1.5ms postprocess per image at shape (1, 3, 1024, 1024)\n"
     ]
    },
    {
     "name": "stderr",
     "output_type": "stream",
     "text": [
      "100%|██████████| 448/448 [00:01<00:00, 288.76it/s]"
     ]
    },
    {
     "name": "stdout",
     "output_type": "stream",
     "text": [
      "\n",
      "WARNING ⚠️ imgsz=[1000] must be multiple of max stride 32, updating to [1024]\n",
      "0: 1024x1024 324 items, 9.0ms\n",
      "Speed: 4.9ms preprocess, 9.0ms inference, 1.3ms postprocess per image at shape (1, 3, 1024, 1024)\n"
     ]
    },
    {
     "name": "stderr",
     "output_type": "stream",
     "text": [
      "\n",
      "100%|██████████| 324/324 [00:01<00:00, 287.90it/s]"
     ]
    },
    {
     "name": "stdout",
     "output_type": "stream",
     "text": [
      "\n",
      "WARNING ⚠️ imgsz=[1000] must be multiple of max stride 32, updating to [1024]\n",
      "0: 1024x1024 341 items, 9.0ms\n",
      "Speed: 4.9ms preprocess, 9.0ms inference, 1.4ms postprocess per image at shape (1, 3, 1024, 1024)\n"
     ]
    },
    {
     "name": "stderr",
     "output_type": "stream",
     "text": [
      "\n",
      "100%|██████████| 341/341 [00:01<00:00, 288.45it/s]"
     ]
    },
    {
     "name": "stdout",
     "output_type": "stream",
     "text": [
      "\n",
      "WARNING ⚠️ imgsz=[1000] must be multiple of max stride 32, updating to [1024]\n"
     ]
    },
    {
     "name": "stderr",
     "output_type": "stream",
     "text": [
      "\n"
     ]
    },
    {
     "name": "stdout",
     "output_type": "stream",
     "text": [
      "0: 1024x1024 388 items, 9.0ms\n",
      "Speed: 4.9ms preprocess, 9.0ms inference, 1.5ms postprocess per image at shape (1, 3, 1024, 1024)\n"
     ]
    },
    {
     "name": "stderr",
     "output_type": "stream",
     "text": [
      "\n",
      "00%|██████████| 388/388 [00:01<00:00, 288.07it/s]"
     ]
    },
    {
     "name": "stdout",
     "output_type": "stream",
     "text": [
      "Starting inference_and_evaluation with # dims96_depth4 on cuda:2\n",
      "\n",
      "0: 2048x2048 1424 items, 24.3ms\n",
      "Speed: 13.0ms preprocess, 24.3ms inference, 4.1ms postprocess per image at shape (1, 3, 2048, 2048)\n"
     ]
    },
    {
     "name": "stderr",
     "output_type": "stream",
     "text": [
      "100%|████████| 1424/1424 [00:05<00:00, 280.93it/s]"
     ]
    },
    {
     "name": "stdout",
     "output_type": "stream",
     "text": [
      "\n",
      "WARNING ⚠️ imgsz=[1000] must be multiple of max stride 32, updating to [1024]\n",
      "0: 1024x1024 582 items, 9.5ms\n",
      "Speed: 4.9ms preprocess, 9.5ms inference, 1.8ms postprocess per image at shape (1, 3, 1024, 1024)\n"
     ]
    },
    {
     "name": "stderr",
     "output_type": "stream",
     "text": [
      "\n",
      "100%|██████████| 582/582 [00:02<00:00, 280.67it/s]"
     ]
    },
    {
     "name": "stdout",
     "output_type": "stream",
     "text": [
      "\n",
      "WARNING ⚠️ imgsz=[1000] must be multiple of max stride 32, updating to [1024]\n",
      "0: 1024x1024 519 items, 9.5ms\n",
      "Speed: 5.1ms preprocess, 9.5ms inference, 2.0ms postprocess per image at shape (1, 3, 1024, 1024)\n"
     ]
    },
    {
     "name": "stderr",
     "output_type": "stream",
     "text": [
      "\n",
      "100%|██████████| 519/519 [00:01<00:00, 280.50it/s]"
     ]
    },
    {
     "name": "stdout",
     "output_type": "stream",
     "text": [
      "\n",
      "WARNING ⚠️ imgsz=[1000] must be multiple of max stride 32, updating to [1024]\n",
      "0: 1024x1024 792 items, 9.0ms\n",
      "Speed: 4.9ms preprocess, 9.0ms inference, 2.2ms postprocess per image at shape (1, 3, 1024, 1024)\n"
     ]
    },
    {
     "name": "stderr",
     "output_type": "stream",
     "text": [
      "\n",
      "100%|██████████| 792/792 [00:02<00:00, 281.89it/s]"
     ]
    },
    {
     "name": "stdout",
     "output_type": "stream",
     "text": [
      "\n",
      "WARNING ⚠️ imgsz=[1000] must be multiple of max stride 32, updating to [1024]\n",
      "0: 1024x1024 427 items, 9.0ms\n",
      "Speed: 4.9ms preprocess, 9.0ms inference, 1.6ms postprocess per image at shape (1, 3, 1024, 1024)\n"
     ]
    },
    {
     "name": "stderr",
     "output_type": "stream",
     "text": [
      "\n",
      "100%|██████████| 427/427 [00:01<00:00, 261.67it/s]"
     ]
    },
    {
     "name": "stdout",
     "output_type": "stream",
     "text": [
      "\n",
      "WARNING ⚠️ imgsz=[1000] must be multiple of max stride 32, updating to [1024]\n"
     ]
    },
    {
     "name": "stderr",
     "output_type": "stream",
     "text": [
      "\n"
     ]
    },
    {
     "name": "stdout",
     "output_type": "stream",
     "text": [
      "0: 1024x1024 852 items, 9.0ms\n",
      "Speed: 5.0ms preprocess, 9.0ms inference, 2.2ms postprocess per image at shape (1, 3, 1024, 1024)\n"
     ]
    },
    {
     "name": "stderr",
     "output_type": "stream",
     "text": [
      "100%|██████████| 852/852 [00:03<00:00, 280.34it/s]"
     ]
    },
    {
     "name": "stdout",
     "output_type": "stream",
     "text": [
      "\n",
      "WARNING ⚠️ imgsz=[1000] must be multiple of max stride 32, updating to [1024]\n"
     ]
    },
    {
     "name": "stderr",
     "output_type": "stream",
     "text": [
      "\n"
     ]
    },
    {
     "name": "stdout",
     "output_type": "stream",
     "text": [
      "0: 1024x1024 363 items, 9.4ms\n",
      "Speed: 4.9ms preprocess, 9.4ms inference, 1.5ms postprocess per image at shape (1, 3, 1024, 1024)\n"
     ]
    },
    {
     "name": "stderr",
     "output_type": "stream",
     "text": [
      "100%|██████████| 363/363 [00:01<00:00, 280.48it/s]"
     ]
    },
    {
     "name": "stdout",
     "output_type": "stream",
     "text": [
      "\n",
      "WARNING ⚠️ imgsz=[1000] must be multiple of max stride 32, updating to [1024]\n"
     ]
    },
    {
     "name": "stderr",
     "output_type": "stream",
     "text": [
      "\n"
     ]
    },
    {
     "name": "stdout",
     "output_type": "stream",
     "text": [
      "0: 1024x1024 506 items, 9.2ms\n",
      "Speed: 4.9ms preprocess, 9.2ms inference, 1.5ms postprocess per image at shape (1, 3, 1024, 1024)\n"
     ]
    },
    {
     "name": "stderr",
     "output_type": "stream",
     "text": [
      "100%|██████████| 506/506 [00:01<00:00, 281.04it/s]"
     ]
    },
    {
     "name": "stdout",
     "output_type": "stream",
     "text": [
      "\n",
      "WARNING ⚠️ imgsz=[1000] must be multiple of max stride 32, updating to [1024]\n"
     ]
    },
    {
     "name": "stderr",
     "output_type": "stream",
     "text": [
      "\n"
     ]
    },
    {
     "name": "stdout",
     "output_type": "stream",
     "text": [
      "0: 1024x1024 622 items, 9.0ms\n",
      "Speed: 5.4ms preprocess, 9.0ms inference, 2.0ms postprocess per image at shape (1, 3, 1024, 1024)\n"
     ]
    },
    {
     "name": "stderr",
     "output_type": "stream",
     "text": [
      "100%|██████████| 622/622 [00:02<00:00, 282.41it/s]"
     ]
    },
    {
     "name": "stdout",
     "output_type": "stream",
     "text": [
      "\n",
      "WARNING ⚠️ imgsz=[1000] must be multiple of max stride 32, updating to [1024]\n",
      "0: 1024x1024 1143 items, 9.0ms\n",
      "Speed: 4.9ms preprocess, 9.0ms inference, 2.6ms postprocess per image at shape (1, 3, 1024, 1024)\n"
     ]
    },
    {
     "name": "stderr",
     "output_type": "stream",
     "text": [
      "\n",
      "100%|████████| 1143/1143 [00:04<00:00, 281.01it/s]"
     ]
    },
    {
     "name": "stdout",
     "output_type": "stream",
     "text": [
      "\n",
      "WARNING ⚠️ imgsz=[1000] must be multiple of max stride 32, updating to [1024]\n"
     ]
    },
    {
     "name": "stderr",
     "output_type": "stream",
     "text": [
      "\n"
     ]
    },
    {
     "name": "stdout",
     "output_type": "stream",
     "text": [
      "0: 1024x1024 269 items, 9.2ms\n",
      "Speed: 4.9ms preprocess, 9.2ms inference, 1.4ms postprocess per image at shape (1, 3, 1024, 1024)\n"
     ]
    },
    {
     "name": "stderr",
     "output_type": "stream",
     "text": [
      "100%|██████████| 269/269 [00:00<00:00, 279.67it/s]"
     ]
    },
    {
     "name": "stdout",
     "output_type": "stream",
     "text": [
      "\n",
      "WARNING ⚠️ imgsz=[1000] must be multiple of max stride 32, updating to [1024]\n",
      "0: 1024x1024 571 items, 9.0ms\n",
      "Speed: 4.9ms preprocess, 9.0ms inference, 1.7ms postprocess per image at shape (1, 3, 1024, 1024)\n"
     ]
    },
    {
     "name": "stderr",
     "output_type": "stream",
     "text": [
      "\n",
      "\n",
      "00%|██████████| 571/571 [00:02<00:00, 280.95it/s]"
     ]
    },
    {
     "name": "stdout",
     "output_type": "stream",
     "text": [
      "\n",
      "WARNING ⚠️ imgsz=[1000] must be multiple of max stride 32, updating to [1024]\n",
      "0: 1024x1024 408 items, 9.0ms\n",
      "Speed: 4.8ms preprocess, 9.0ms inference, 1.4ms postprocess per image at shape (1, 3, 1024, 1024)\n"
     ]
    },
    {
     "name": "stderr",
     "output_type": "stream",
     "text": [
      "100%|██████████| 408/408 [00:01<00:00, 279.60it/s]"
     ]
    },
    {
     "name": "stdout",
     "output_type": "stream",
     "text": [
      "\n",
      "WARNING ⚠️ imgsz=[1000] must be multiple of max stride 32, updating to [1024]\n",
      "0: 1024x1024 765 items, 9.0ms\n",
      "Speed: 4.9ms preprocess, 9.0ms inference, 2.0ms postprocess per image at shape (1, 3, 1024, 1024)\n"
     ]
    },
    {
     "name": "stderr",
     "output_type": "stream",
     "text": [
      "\n",
      "100%|██████████| 765/765 [00:02<00:00, 280.49it/s]"
     ]
    },
    {
     "name": "stdout",
     "output_type": "stream",
     "text": [
      "\n",
      "WARNING ⚠️ imgsz=[1000] must be multiple of max stride 32, updating to [1024]\n",
      "0: 1024x1024 309 items, 9.0ms\n"
     ]
    },
    {
     "name": "stderr",
     "output_type": "stream",
     "text": [
      "\n"
     ]
    },
    {
     "name": "stdout",
     "output_type": "stream",
     "text": [
      "Speed: 4.9ms preprocess, 9.0ms inference, 1.3ms postprocess per image at shape (1, 3, 1024, 1024)\n"
     ]
    },
    {
     "name": "stderr",
     "output_type": "stream",
     "text": [
      "100%|██████████| 309/309 [00:01<00:00, 280.69it/s]"
     ]
    },
    {
     "name": "stdout",
     "output_type": "stream",
     "text": [
      "\n",
      "WARNING ⚠️ imgsz=[1000] must be multiple of max stride 32, updating to [1024]\n"
     ]
    },
    {
     "name": "stderr",
     "output_type": "stream",
     "text": [
      "\n"
     ]
    },
    {
     "name": "stdout",
     "output_type": "stream",
     "text": [
      "0: 1024x1024 481 items, 9.0ms\n",
      "Speed: 5.3ms preprocess, 9.0ms inference, 1.7ms postprocess per image at shape (1, 3, 1024, 1024)\n"
     ]
    },
    {
     "name": "stderr",
     "output_type": "stream",
     "text": [
      "100%|██████████| 481/481 [00:01<00:00, 280.09it/s]"
     ]
    },
    {
     "name": "stdout",
     "output_type": "stream",
     "text": [
      "\n",
      "WARNING ⚠️ imgsz=[1000] must be multiple of max stride 32, updating to [1024]\n"
     ]
    },
    {
     "name": "stderr",
     "output_type": "stream",
     "text": [
      "\n"
     ]
    },
    {
     "name": "stdout",
     "output_type": "stream",
     "text": [
      "0: 1024x1024 301 items, 9.2ms\n",
      "Speed: 5.4ms preprocess, 9.2ms inference, 1.4ms postprocess per image at shape (1, 3, 1024, 1024)\n"
     ]
    },
    {
     "name": "stderr",
     "output_type": "stream",
     "text": [
      "100%|██████████| 301/301 [00:01<00:00, 279.89it/s]"
     ]
    },
    {
     "name": "stdout",
     "output_type": "stream",
     "text": [
      "\n",
      "WARNING ⚠️ imgsz=[1000] must be multiple of max stride 32, updating to [1024]\n"
     ]
    },
    {
     "name": "stderr",
     "output_type": "stream",
     "text": [
      "\n"
     ]
    },
    {
     "name": "stdout",
     "output_type": "stream",
     "text": [
      "0: 1024x1024 1148 items, 9.2ms\n",
      "Speed: 4.9ms preprocess, 9.2ms inference, 3.1ms postprocess per image at shape (1, 3, 1024, 1024)\n"
     ]
    },
    {
     "name": "stderr",
     "output_type": "stream",
     "text": [
      "100%|████████| 1148/1148 [00:04<00:00, 281.02it/s]"
     ]
    },
    {
     "name": "stdout",
     "output_type": "stream",
     "text": [
      "\n",
      "WARNING ⚠️ imgsz=[1000] must be multiple of max stride 32, updating to [1024]\n"
     ]
    },
    {
     "name": "stderr",
     "output_type": "stream",
     "text": [
      "\n"
     ]
    },
    {
     "name": "stdout",
     "output_type": "stream",
     "text": [
      "0: 1024x1024 426 items, 9.0ms\n",
      "Speed: 4.9ms preprocess, 9.0ms inference, 1.5ms postprocess per image at shape (1, 3, 1024, 1024)\n"
     ]
    },
    {
     "name": "stderr",
     "output_type": "stream",
     "text": [
      "100%|██████████| 426/426 [00:01<00:00, 281.41it/s]"
     ]
    },
    {
     "name": "stdout",
     "output_type": "stream",
     "text": [
      "\n",
      "WARNING ⚠️ imgsz=[1000] must be multiple of max stride 32, updating to [1024]\n"
     ]
    },
    {
     "name": "stderr",
     "output_type": "stream",
     "text": [
      "\n"
     ]
    },
    {
     "name": "stdout",
     "output_type": "stream",
     "text": [
      "0: 1024x1024 443 items, 9.0ms\n",
      "Speed: 4.9ms preprocess, 9.0ms inference, 1.5ms postprocess per image at shape (1, 3, 1024, 1024)\n"
     ]
    },
    {
     "name": "stderr",
     "output_type": "stream",
     "text": [
      "100%|██████████| 443/443 [00:01<00:00, 280.35it/s]"
     ]
    },
    {
     "name": "stdout",
     "output_type": "stream",
     "text": [
      "\n",
      "WARNING ⚠️ imgsz=[1000] must be multiple of max stride 32, updating to [1024]\n",
      "0: 1024x1024 252 items, 9.0ms\n",
      "Speed: 4.9ms preprocess, 9.0ms inference, 1.2ms postprocess per image at shape (1, 3, 1024, 1024)\n"
     ]
    },
    {
     "name": "stderr",
     "output_type": "stream",
     "text": [
      "\n",
      "\n",
      "00%|██████████| 252/252 [00:00<00:00, 280.50it/s]"
     ]
    },
    {
     "name": "stdout",
     "output_type": "stream",
     "text": [
      "\n",
      "WARNING ⚠️ imgsz=[1000] must be multiple of max stride 32, updating to [1024]\n",
      "0: 1024x1024 232 items, 9.2ms\n",
      "Speed: 4.9ms preprocess, 9.2ms inference, 1.2ms postprocess per image at shape (1, 3, 1024, 1024)\n"
     ]
    },
    {
     "name": "stderr",
     "output_type": "stream",
     "text": [
      "100%|██████████| 232/232 [00:00<00:00, 280.23it/s]"
     ]
    },
    {
     "name": "stdout",
     "output_type": "stream",
     "text": [
      "\n"
     ]
    },
    {
     "name": "stderr",
     "output_type": "stream",
     "text": [
      "\n"
     ]
    },
    {
     "name": "stdout",
     "output_type": "stream",
     "text": [
      "0: 2048x2048 1227 items, 24.8ms\n",
      "Speed: 12.8ms preprocess, 24.8ms inference, 3.3ms postprocess per image at shape (1, 3, 2048, 2048)\n"
     ]
    },
    {
     "name": "stderr",
     "output_type": "stream",
     "text": [
      "\n",
      "00%|████████| 1227/1227 [00:04<00:00, 274.99it/s]"
     ]
    },
    {
     "name": "stdout",
     "output_type": "stream",
     "text": [
      "\n",
      "WARNING ⚠️ imgsz=[1000] must be multiple of max stride 32, updating to [1024]\n",
      "0: 1024x1024 722 items, 9.5ms\n",
      "Speed: 4.9ms preprocess, 9.5ms inference, 2.1ms postprocess per image at shape (1, 3, 1024, 1024)\n"
     ]
    },
    {
     "name": "stderr",
     "output_type": "stream",
     "text": [
      "100%|██████████| 722/722 [00:02<00:00, 281.76it/s]"
     ]
    },
    {
     "name": "stdout",
     "output_type": "stream",
     "text": [
      "\n",
      "WARNING ⚠️ imgsz=[1000] must be multiple of max stride 32, updating to [1024]\n",
      "0: 1024x1024 791 items, 9.0ms\n",
      "Speed: 4.9ms preprocess, 9.0ms inference, 2.0ms postprocess per image at shape (1, 3, 1024, 1024)\n"
     ]
    },
    {
     "name": "stderr",
     "output_type": "stream",
     "text": [
      "\n",
      "100%|██████████| 791/791 [00:02<00:00, 281.23it/s]"
     ]
    },
    {
     "name": "stdout",
     "output_type": "stream",
     "text": [
      "\n",
      "WARNING ⚠️ imgsz=[1000] must be multiple of max stride 32, updating to [1024]\n",
      "0: 1024x1024 397 items, 9.1ms\n",
      "Speed: 5.2ms preprocess, 9.1ms inference, 1.5ms postprocess per image at shape (1, 3, 1024, 1024)\n"
     ]
    },
    {
     "name": "stderr",
     "output_type": "stream",
     "text": [
      "\n",
      "\n",
      "00%|██████████| 397/397 [00:01<00:00, 279.83it/s]"
     ]
    },
    {
     "name": "stdout",
     "output_type": "stream",
     "text": [
      "\n",
      "WARNING ⚠️ imgsz=[1000] must be multiple of max stride 32, updating to [1024]\n",
      "0: 1024x1024 360 items, 9.0ms\n",
      "Speed: 4.9ms preprocess, 9.0ms inference, 1.4ms postprocess per image at shape (1, 3, 1024, 1024)\n"
     ]
    },
    {
     "name": "stderr",
     "output_type": "stream",
     "text": [
      "100%|██████████| 360/360 [00:01<00:00, 280.25it/s]"
     ]
    },
    {
     "name": "stdout",
     "output_type": "stream",
     "text": [
      "\n",
      "WARNING ⚠️ imgsz=[1000] must be multiple of max stride 32, updating to [1024]\n"
     ]
    },
    {
     "name": "stderr",
     "output_type": "stream",
     "text": [
      "\n"
     ]
    },
    {
     "name": "stdout",
     "output_type": "stream",
     "text": [
      "0: 1024x1024 295 items, 9.2ms\n",
      "Speed: 4.9ms preprocess, 9.2ms inference, 1.3ms postprocess per image at shape (1, 3, 1024, 1024)\n"
     ]
    },
    {
     "name": "stderr",
     "output_type": "stream",
     "text": [
      "100%|██████████| 295/295 [00:01<00:00, 280.37it/s]"
     ]
    },
    {
     "name": "stdout",
     "output_type": "stream",
     "text": [
      "\n"
     ]
    },
    {
     "name": "stderr",
     "output_type": "stream",
     "text": [
      "\n"
     ]
    },
    {
     "name": "stdout",
     "output_type": "stream",
     "text": [
      "0: 2048x2048 1153 items, 24.8ms\n",
      "Speed: 12.8ms preprocess, 24.8ms inference, 2.8ms postprocess per image at shape (1, 3, 2048, 2048)\n"
     ]
    },
    {
     "name": "stderr",
     "output_type": "stream",
     "text": [
      "\n",
      "00%|████████| 1153/1153 [00:04<00:00, 282.19it/s]"
     ]
    },
    {
     "name": "stdout",
     "output_type": "stream",
     "text": [
      "\n",
      "WARNING ⚠️ imgsz=[1000] must be multiple of max stride 32, updating to [1024]\n",
      "0: 1024x1024 350 items, 9.5ms\n",
      "Speed: 4.9ms preprocess, 9.5ms inference, 1.4ms postprocess per image at shape (1, 3, 1024, 1024)\n"
     ]
    },
    {
     "name": "stderr",
     "output_type": "stream",
     "text": [
      "100%|██████████| 350/350 [00:01<00:00, 279.74it/s]"
     ]
    },
    {
     "name": "stdout",
     "output_type": "stream",
     "text": [
      "\n",
      "WARNING ⚠️ imgsz=[1000] must be multiple of max stride 32, updating to [1024]\n",
      "0: 1024x1024 315 items, 9.6ms\n",
      "Speed: 5.1ms preprocess, 9.6ms inference, 1.4ms postprocess per image at shape (1, 3, 1024, 1024)\n"
     ]
    },
    {
     "name": "stderr",
     "output_type": "stream",
     "text": [
      "\n",
      "\n",
      "00%|██████████| 315/315 [00:01<00:00, 281.24it/s]"
     ]
    },
    {
     "name": "stdout",
     "output_type": "stream",
     "text": [
      "\n",
      "WARNING ⚠️ imgsz=[1000] must be multiple of max stride 32, updating to [1024]\n",
      "0: 1024x1024 1016 items, 9.0ms\n",
      "Speed: 4.9ms preprocess, 9.0ms inference, 2.4ms postprocess per image at shape (1, 3, 1024, 1024)\n"
     ]
    },
    {
     "name": "stderr",
     "output_type": "stream",
     "text": [
      "100%|████████| 1016/1016 [00:03<00:00, 281.27it/s]"
     ]
    },
    {
     "name": "stdout",
     "output_type": "stream",
     "text": [
      "\n",
      "WARNING ⚠️ imgsz=[1000] must be multiple of max stride 32, updating to [1024]\n",
      "0: 1024x1024 508 items, 9.0ms\n",
      "Speed: 4.9ms preprocess, 9.0ms inference, 1.7ms postprocess per image at shape (1, 3, 1024, 1024)\n"
     ]
    },
    {
     "name": "stderr",
     "output_type": "stream",
     "text": [
      "\n",
      "100%|██████████| 508/508 [00:01<00:00, 282.00it/s]"
     ]
    },
    {
     "name": "stdout",
     "output_type": "stream",
     "text": [
      "\n",
      "WARNING ⚠️ imgsz=[1000] must be multiple of max stride 32, updating to [1024]\n"
     ]
    },
    {
     "name": "stderr",
     "output_type": "stream",
     "text": [
      "\n"
     ]
    },
    {
     "name": "stdout",
     "output_type": "stream",
     "text": [
      "0: 1024x1024 311 items, 9.2ms\n",
      "Speed: 5.5ms preprocess, 9.2ms inference, 1.3ms postprocess per image at shape (1, 3, 1024, 1024)\n"
     ]
    },
    {
     "name": "stderr",
     "output_type": "stream",
     "text": [
      "\n",
      "00%|██████████| 311/311 [00:01<00:00, 280.20it/s]"
     ]
    },
    {
     "name": "stdout",
     "output_type": "stream",
     "text": [
      "\n",
      "WARNING ⚠️ imgsz=[1000] must be multiple of max stride 32, updating to [1024]\n",
      "0: 1024x1024 461 items, 9.0ms\n",
      "Speed: 4.9ms preprocess, 9.0ms inference, 1.5ms postprocess per image at shape (1, 3, 1024, 1024)\n"
     ]
    },
    {
     "name": "stderr",
     "output_type": "stream",
     "text": [
      "100%|██████████| 461/461 [00:01<00:00, 279.79it/s]"
     ]
    },
    {
     "name": "stdout",
     "output_type": "stream",
     "text": [
      "\n",
      "WARNING ⚠️ imgsz=[1000] must be multiple of max stride 32, updating to [1024]\n",
      "0: 1024x1024 288 items, 9.0ms\n",
      "Speed: 4.9ms preprocess, 9.0ms inference, 1.3ms postprocess per image at shape (1, 3, 1024, 1024)\n"
     ]
    },
    {
     "name": "stderr",
     "output_type": "stream",
     "text": [
      "\n",
      "100%|██████████| 288/288 [00:01<00:00, 279.41it/s]"
     ]
    },
    {
     "name": "stdout",
     "output_type": "stream",
     "text": [
      "\n",
      "WARNING ⚠️ imgsz=[1000] must be multiple of max stride 32, updating to [1024]\n",
      "0: 1024x1024 513 items, 9.2ms\n",
      "Speed: 4.9ms preprocess, 9.2ms inference, 1.7ms postprocess per image at shape (1, 3, 1024, 1024)\n"
     ]
    },
    {
     "name": "stderr",
     "output_type": "stream",
     "text": [
      "\n",
      "100%|██████████| 513/513 [00:01<00:00, 281.68it/s]"
     ]
    },
    {
     "name": "stdout",
     "output_type": "stream",
     "text": [
      "\n",
      "WARNING ⚠️ imgsz=[1000] must be multiple of max stride 32, updating to [1024]\n"
     ]
    },
    {
     "name": "stderr",
     "output_type": "stream",
     "text": [
      "\n"
     ]
    },
    {
     "name": "stdout",
     "output_type": "stream",
     "text": [
      "0: 1024x1024 379 items, 9.0ms\n",
      "Speed: 4.9ms preprocess, 9.0ms inference, 1.5ms postprocess per image at shape (1, 3, 1024, 1024)\n"
     ]
    },
    {
     "name": "stderr",
     "output_type": "stream",
     "text": [
      "100%|██████████| 379/379 [00:01<00:00, 279.87it/s]"
     ]
    },
    {
     "name": "stdout",
     "output_type": "stream",
     "text": [
      "\n",
      "WARNING ⚠️ imgsz=[1000] must be multiple of max stride 32, updating to [1024]\n",
      "0: 1024x1024 1278 items, 9.0ms\n",
      "Speed: 4.9ms preprocess, 9.0ms inference, 3.1ms postprocess per image at shape (1, 3, 1024, 1024)\n"
     ]
    },
    {
     "name": "stderr",
     "output_type": "stream",
     "text": [
      "\n",
      "100%|████████| 1278/1278 [00:04<00:00, 280.87it/s]"
     ]
    },
    {
     "name": "stdout",
     "output_type": "stream",
     "text": [
      "\n",
      "WARNING ⚠️ imgsz=[1000] must be multiple of max stride 32, updating to [1024]\n",
      "0: 1024x1024 337 items, 9.0ms\n",
      "Speed: 4.9ms preprocess, 9.0ms inference, 1.4ms postprocess per image at shape (1, 3, 1024, 1024)\n"
     ]
    },
    {
     "name": "stderr",
     "output_type": "stream",
     "text": [
      "\n",
      "100%|██████████| 337/337 [00:01<00:00, 280.42it/s]"
     ]
    },
    {
     "name": "stdout",
     "output_type": "stream",
     "text": [
      "\n",
      "WARNING ⚠️ imgsz=[1000] must be multiple of max stride 32, updating to [1024]\n"
     ]
    },
    {
     "name": "stderr",
     "output_type": "stream",
     "text": [
      "\n"
     ]
    },
    {
     "name": "stdout",
     "output_type": "stream",
     "text": [
      "0: 1024x1024 365 items, 9.0ms\n",
      "Speed: 4.9ms preprocess, 9.0ms inference, 1.3ms postprocess per image at shape (1, 3, 1024, 1024)\n"
     ]
    },
    {
     "name": "stderr",
     "output_type": "stream",
     "text": [
      "100%|██████████| 365/365 [00:01<00:00, 281.44it/s]"
     ]
    },
    {
     "name": "stdout",
     "output_type": "stream",
     "text": [
      "\n",
      "WARNING ⚠️ imgsz=[1000] must be multiple of max stride 32, updating to [1024]\n"
     ]
    },
    {
     "name": "stderr",
     "output_type": "stream",
     "text": [
      "\n"
     ]
    },
    {
     "name": "stdout",
     "output_type": "stream",
     "text": [
      "0: 1024x1024 543 items, 9.0ms\n",
      "Speed: 4.9ms preprocess, 9.0ms inference, 1.6ms postprocess per image at shape (1, 3, 1024, 1024)\n"
     ]
    },
    {
     "name": "stderr",
     "output_type": "stream",
     "text": [
      "\n",
      "00%|██████████| 543/543 [00:01<00:00, 280.37it/s]"
     ]
    },
    {
     "name": "stdout",
     "output_type": "stream",
     "text": [
      "\n",
      "WARNING ⚠️ imgsz=[1000] must be multiple of max stride 32, updating to [1024]\n",
      "0: 1024x1024 481 items, 9.0ms\n",
      "Speed: 4.9ms preprocess, 9.0ms inference, 1.5ms postprocess per image at shape (1, 3, 1024, 1024)\n"
     ]
    },
    {
     "name": "stderr",
     "output_type": "stream",
     "text": [
      "100%|██████████| 481/481 [00:01<00:00, 263.24it/s]"
     ]
    },
    {
     "name": "stdout",
     "output_type": "stream",
     "text": [
      "\n",
      "WARNING ⚠️ imgsz=[1000] must be multiple of max stride 32, updating to [1024]\n",
      "0: 1024x1024 1335 items, 9.0ms\n",
      "Speed: 4.9ms preprocess, 9.0ms inference, 2.8ms postprocess per image at shape (1, 3, 1024, 1024)\n"
     ]
    },
    {
     "name": "stderr",
     "output_type": "stream",
     "text": [
      "\n",
      "100%|████████| 1335/1335 [00:04<00:00, 281.01it/s]"
     ]
    },
    {
     "name": "stdout",
     "output_type": "stream",
     "text": [
      "\n",
      "WARNING ⚠️ imgsz=[1000] must be multiple of max stride 32, updating to [1024]\n",
      "0: 1024x1024 1349 items, 9.2ms\n",
      "Speed: 4.9ms preprocess, 9.2ms inference, 3.5ms postprocess per image at shape (1, 3, 1024, 1024)\n"
     ]
    },
    {
     "name": "stderr",
     "output_type": "stream",
     "text": [
      "\n",
      "100%|████████| 1349/1349 [00:04<00:00, 281.00it/s]"
     ]
    },
    {
     "name": "stdout",
     "output_type": "stream",
     "text": [
      "\n",
      "WARNING ⚠️ imgsz=[1000] must be multiple of max stride 32, updating to [1024]\n"
     ]
    },
    {
     "name": "stderr",
     "output_type": "stream",
     "text": [
      "\n"
     ]
    },
    {
     "name": "stdout",
     "output_type": "stream",
     "text": [
      "0: 1024x1024 319 items, 9.0ms\n",
      "Speed: 5.0ms preprocess, 9.0ms inference, 1.3ms postprocess per image at shape (1, 3, 1024, 1024)\n"
     ]
    },
    {
     "name": "stderr",
     "output_type": "stream",
     "text": [
      "100%|██████████| 319/319 [00:01<00:00, 279.98it/s]"
     ]
    },
    {
     "name": "stdout",
     "output_type": "stream",
     "text": [
      "\n",
      "WARNING ⚠️ imgsz=[1000] must be multiple of max stride 32, updating to [1024]\n",
      "0: 1024x1024 404 items, 9.0ms\n",
      "Speed: 4.9ms preprocess, 9.0ms inference, 1.5ms postprocess per image at shape (1, 3, 1024, 1024)\n"
     ]
    },
    {
     "name": "stderr",
     "output_type": "stream",
     "text": [
      "\n",
      "100%|██████████| 404/404 [00:01<00:00, 280.79it/s]"
     ]
    },
    {
     "name": "stdout",
     "output_type": "stream",
     "text": [
      "\n",
      "WARNING ⚠️ imgsz=[1000] must be multiple of max stride 32, updating to [1024]\n",
      "0: 1024x1024 448 items, 9.0ms\n",
      "Speed: 4.9ms preprocess, 9.0ms inference, 1.5ms postprocess per image at shape (1, 3, 1024, 1024)\n"
     ]
    },
    {
     "name": "stderr",
     "output_type": "stream",
     "text": [
      "\n",
      "100%|██████████| 448/448 [00:01<00:00, 280.41it/s]"
     ]
    },
    {
     "name": "stdout",
     "output_type": "stream",
     "text": [
      "\n",
      "WARNING ⚠️ imgsz=[1000] must be multiple of max stride 32, updating to [1024]\n"
     ]
    },
    {
     "name": "stderr",
     "output_type": "stream",
     "text": [
      "\n"
     ]
    },
    {
     "name": "stdout",
     "output_type": "stream",
     "text": [
      "0: 1024x1024 324 items, 9.3ms\n",
      "Speed: 4.9ms preprocess, 9.3ms inference, 1.4ms postprocess per image at shape (1, 3, 1024, 1024)\n"
     ]
    },
    {
     "name": "stderr",
     "output_type": "stream",
     "text": [
      "100%|██████████| 324/324 [00:01<00:00, 279.97it/s]"
     ]
    },
    {
     "name": "stdout",
     "output_type": "stream",
     "text": [
      "\n",
      "WARNING ⚠️ imgsz=[1000] must be multiple of max stride 32, updating to [1024]\n",
      "0: 1024x1024 341 items, 9.2ms\n",
      "Speed: 4.9ms preprocess, 9.2ms inference, 1.3ms postprocess per image at shape (1, 3, 1024, 1024)\n"
     ]
    },
    {
     "name": "stderr",
     "output_type": "stream",
     "text": [
      "\n",
      "\n",
      "00%|██████████| 341/341 [00:01<00:00, 279.93it/s]"
     ]
    },
    {
     "name": "stdout",
     "output_type": "stream",
     "text": [
      "\n",
      "WARNING ⚠️ imgsz=[1000] must be multiple of max stride 32, updating to [1024]\n",
      "0: 1024x1024 388 items, 9.0ms\n",
      "Speed: 4.9ms preprocess, 9.0ms inference, 1.4ms postprocess per image at shape (1, 3, 1024, 1024)\n"
     ]
    },
    {
     "name": "stderr",
     "output_type": "stream",
     "text": [
      "\n",
      "00%|██████████| 388/388 [00:01<00:00, 279.82it/s]"
     ]
    }
   ],
   "source": [
    "from ultralytics.models import YOLO\n",
    "from PIL import Image\n",
    "import torch\n",
    "import numpy as np\n",
    "import cv2\n",
    "import tqdm\n",
    "import segmentation_models_pytorch as smp\n",
    "from torchvision import transforms\n",
    "from pathlib import Path\n",
    "import os\n",
    "from datetime import datetime\n",
    "\n",
    "dims = [32, 48, 64, 96]\n",
    "depths = [3, 4]\n",
    "\n",
    "for depth in depths:\n",
    "    for j in range(len(dims)):\n",
    "        device = \"cuda:2\"\n",
    "        model = smp.UnetPlusPlus(\n",
    "            encoder_name=\"resnet18\",\n",
    "            encoder_weights=\"imagenet\",\n",
    "            in_channels=3,\n",
    "            classes=1,\n",
    "            activation=\"sigmoid\",\n",
    "            encoder_depth=depth,\n",
    "            decoder_channels=[128, 64, 32, 16][::-1][:depth][::-1],\n",
    "        ).to(device)\n",
    "        try:\n",
    "            model.load_state_dict(torch.load(f\"checkpoints_model_may/dims{dims[j]}_depth{depth}/best_model.pt\", map_location=device))\n",
    "            \n",
    "            model.eval()\n",
    "        except Exception as e:\n",
    "            print(e)\n",
    "            print(f\"checkpoints_model_may/dims{dims[j]}_depth{depth}/best_model.pt DOES NOT EXIST\")\n",
    "            continue\n",
    "        print(f\"Starting inference_and_evaluation with # dims{dims[j]}_depth{depth} on {device}\")\n",
    "        patch_trans = transforms.Compose(\n",
    "            [\n",
    "                transforms.ToTensor(),\n",
    "                transforms.Normalize(mean=[0.485, 0.456, 0.406], std=[0.229, 0.224, 0.225]),\n",
    "            ]\n",
    "        )\n",
    "        \n",
    "        yolo = YOLO(\"/workspace/deepseek_test/yolo-nuke/train_folds_puma_MAR20/C/weights/last.pt\").to(device)\n",
    "        \n",
    "        def get_yolo_boxes(image_path, yolo, conf, max_det=2000):\n",
    "            # im = Image.open(image_path)\n",
    "            if '7128' in str(image_path) or '7129' in str(image_path) or '7130' in str(image_path):\n",
    "                im = cv2.imread(image_path, cv2.IMREAD_COLOR)\n",
    "                im = cv2.cvtColor(im, cv2.COLOR_RGB2BGR)\n",
    "                im = cv2.resize(im, (2048, 2048))\n",
    "                im = Image.fromarray(im)\n",
    "            else:\n",
    "                im = cv2.imread(image_path, cv2.IMREAD_COLOR)\n",
    "                im = cv2.cvtColor(im, cv2.COLOR_RGB2BGR)\n",
    "                im = Image.fromarray(im)\n",
    "            true_w, true_h = Image.open(image_path).size\n",
    "            w, h = im.size\n",
    "            r = yolo.predict(im, conf=conf, max_det=max_det, imgsz=w)[0]\n",
    "            b = r.boxes.xyxyn.cpu().numpy()\n",
    "            b = b*true_w\n",
    "            b = b.astype(int)\n",
    "            # print(b)\n",
    "            if b.shape[0] > 0:\n",
    "                b = np.hstack([np.ones((b.shape[0], 1)), b, np.ones((b.shape[0], 1))])\n",
    "            return b\n",
    "        \n",
    "        # now = datetime.now()\n",
    "        # month = now.strftime(\"%B\").lower()\n",
    "        # day = now.strftime(\"%d\")\n",
    "        # base = f\"preds_{month}_{day}\"\n",
    "        # i = 1\n",
    "        # while True:\n",
    "        #     out_dir = f\"{base}_{i}\"\n",
    "        #     if not Path(out_dir).exists():\n",
    "        #         Path(out_dir).mkdir(parents=True, exist_ok=True)\n",
    "        #         break\n",
    "        #     i += 1\n",
    "        out_dir = f\"may_dims{dims[j]}_depth{depth}_may\"\n",
    "        Path(out_dir).mkdir(parents=True, exist_ok=True)\n",
    "        images = list(Path(\"/workspace/deepseek_test/yolo-nuke/Segmentation/monuseg/images\").rglob(\"*.tif\"))\n",
    "        imgs = os.listdir(\"/workspace/deepseek_test/yolo-nuke/Segmentation/monuseg/images\")\n",
    "        patient_ids = [j.split(\".\")[0] for j in imgs]\n",
    "        \n",
    "        for ip in images:\n",
    "            if Path(ip).stem not in patient_ids:\n",
    "                continue\n",
    "            boxes = get_yolo_boxes(ip, yolo, conf=0.35, max_det=9999)\n",
    "            im = cv2.imread(str(ip))\n",
    "            arr = np.array(boxes)\n",
    "            arr[arr < 0] = 0\n",
    "            arr = arr.astype(int)\n",
    "            h, w = im.shape[:2]\n",
    "            sm = np.zeros((h, w), dtype=np.int32)\n",
    "            c = 1\n",
    "            for it in tqdm.tqdm(arr[:, 1:-1], ncols=50):\n",
    "                x1, y1, x2, y2 = it\n",
    "                x1, y1, x2, y2 = x1 - 4, y1 - 4, x2 + 4, y2 + 4\n",
    "                x1, y1 = max(x1, 0), max(y1, 0)\n",
    "                x2, y2 = min(x2, w - 1), min(y2, h - 1)\n",
    "                p = cv2.resize(im[y1:y2, x1:x2], (dims[j], dims[j]))\n",
    "                p = patch_trans(Image.fromarray(p)).to(device)\n",
    "                p = torch.unsqueeze(p, 0)\n",
    "                with torch.no_grad():\n",
    "                    pm = model(p).squeeze().cpu().numpy()\n",
    "                pm = cv2.resize(pm, (x2 - x1, y2 - y1))\n",
    "                pm = cv2.dilate(pm, (3, 3))\n",
    "                sm[y1:y2, x1:x2][pm > 0.5] = c\n",
    "                c += 1\n",
    "            np.save(f\"{out_dir}/{Path(ip).stem}\", sm)\n"
   ]
  },
  {
   "cell_type": "code",
   "execution_count": 7,
   "id": "c4236aa2-5cbf-4826-bef5-960bdd4b425c",
   "metadata": {},
   "outputs": [
    {
     "name": "stdout",
     "output_type": "stream",
     "text": [
      "['TCGA-18-5592-01Z-00-DX1', 'TCGA-21-5784-01Z-00-DX1', 'TCGA-21-5786-01Z-00-DX1', 'TCGA-2Z-A9J9-01A-01-TS1', 'TCGA-38-6178-01Z-00-DX1', 'TCGA-44-2665-01B-06-BS6', 'TCGA-49-4488-01Z-00-DX1', 'TCGA-50-5931-01Z-00-DX1', 'TCGA-69-7764-01A-01-TS1', 'TCGA-A6-6782-01A-01-BS1', 'TCGA-A7-A13E-01Z-00-DX1', 'TCGA-A7-A13F-01Z-00-DX1', 'TCGA-AC-A2FO-01A-01-TS1', 'TCGA-AO-A0J2-01A-01-BSA', 'TCGA-AR-A1AK-01Z-00-DX1', 'TCGA-AR-A1AS-01Z-00-DX1', 'TCGA-AY-A8YK-01A-01-TS1', 'TCGA-B0-5698-01Z-00-DX1', 'TCGA-B0-5710-01Z-00-DX1', 'TCGA-B0-5711-01Z-00-DX1', 'TCGA-BC-A217-01Z-00-DX1', 'TCGA-CH-5767-01Z-00-DX1', 'TCGA-CU-A0YN-01A-02-BSB', 'TCGA-DK-A2I6-01A-01-TS1', 'TCGA-E2-A14V-01Z-00-DX1', 'TCGA-E2-A1B5-01Z-00-DX1', 'TCGA-EJ-A46H-01A-03-TSC', 'TCGA-F9-A8NY-01Z-00-DX1', 'TCGA-FG-A4MU-01B-01-TS1', 'TCGA-FG-A87N-01Z-00-DX1', 'TCGA-G2-A2EK-01A-02-TSB', 'TCGA-G9-6336-01Z-00-DX1', 'TCGA-G9-6348-01Z-00-DX1', 'TCGA-G9-6356-01Z-00-DX1', 'TCGA-G9-6362-01Z-00-DX1', 'TCGA-G9-6363-01Z-00-DX1', 'TCGA-GL-6846-01A-01-BS1', 'TCGA-HC-7209-01A-01-TS1', 'TCGA-HE-7128-01Z-00-DX1', 'TCGA-HE-7129-01Z-00-DX1', 'TCGA-HE-7130-01Z-00-DX1', 'TCGA-HT-8564-01Z-00-DX1', 'TCGA-IZ-8196-01A-01-BS1', 'TCGA-KB-A93J-01A-01-TS1', 'TCGA-MH-A561-01Z-00-DX1', 'TCGA-NH-A8F7-01A-01-TS1', 'TCGA-RD-A8N9-01A-01-TS1', 'TCGA-UZ-A9PJ-01Z-00-DX1', 'TCGA-UZ-A9PN-01Z-00-DX1', 'TCGA-XS-A8TJ-01Z-00-DX1', 'TCGA-ZF-A9R5-01A-01-TS1', 'metrics_dims32_depth3']\n"
     ]
    }
   ],
   "source": [
    "import warnings\n",
    "\n",
    "import cv2\n",
    "import matplotlib.pyplot as plt\n",
    "import numpy as np\n",
    "import scipy\n",
    "from scipy.optimize import linear_sum_assignment\n",
    "\n",
    "import os\n",
    "\n",
    "files = sorted(os.listdir(\"./dims32_depth3/\"))\n",
    "patient_ids = [f[:-4] for f in files]\n",
    "print(patient_ids)\n",
    "\n",
    "# --------------------------Optimised for Speed\n",
    "def get_fast_aji(true, pred):\n",
    "    \"\"\"AJI version distributed by MoNuSeg, has no permutation problem but suffered from\n",
    "    over-penalisation similar to DICE2.\n",
    "\n",
    "    Fast computation requires instance IDs are in contiguous ordering i.e [1, 2, 3, 4]\n",
    "    not [2, 3, 6, 10]. Please call `remap_label` beforehand and `by_size` flag has no\n",
    "    effect on the result.\n",
    "    \"\"\"\n",
    "    pred = remap_label(pred)\n",
    "    true = remap_label(true)\n",
    "    true = np.copy(true)\n",
    "    pred = np.copy(pred)\n",
    "    true_id_list = list(np.unique(true))\n",
    "    pred_id_list = list(np.unique(pred))\n",
    "\n",
    "    \n",
    "\n",
    "    # Prepare instance masks\n",
    "    true_masks = [None]\n",
    "    for t in true_id_list[1:]:\n",
    "        t_mask = (true == t).astype(np.uint8)\n",
    "        true_masks.append(t_mask)\n",
    "\n",
    "    pred_masks = [None]\n",
    "    for p in pred_id_list[1:]:\n",
    "        p_mask = (pred == p).astype(np.uint8)\n",
    "        pred_masks.append(p_mask)\n",
    "\n",
    "    pairwise_inter = np.zeros([len(true_id_list) - 1, len(pred_id_list) - 1], dtype=np.float64)\n",
    "    pairwise_union = np.zeros([len(true_id_list) - 1, len(pred_id_list) - 1], dtype=np.float64)\n",
    "\n",
    "    # Fill pairwise intersections/unions\n",
    "    for t_id in true_id_list[1:]:  # 0-th is background\n",
    "        t_mask = true_masks[t_id]\n",
    "        pred_true_overlap = pred[t_mask > 0]\n",
    "        pred_true_overlap_id = np.unique(pred_true_overlap)\n",
    "        pred_true_overlap_id = list(pred_true_overlap_id)\n",
    "        for p_id in pred_true_overlap_id:\n",
    "            if p_id == 0:\n",
    "                continue\n",
    "            p_mask = pred_masks[p_id]\n",
    "            total = (t_mask + p_mask).sum()\n",
    "            inter = (t_mask * p_mask).sum()\n",
    "            pairwise_inter[t_id - 1, p_id - 1] = inter\n",
    "            pairwise_union[t_id - 1, p_id - 1] = total - inter\n",
    "\n",
    "    pairwise_iou = pairwise_inter / (pairwise_union + 1.0e-6)\n",
    "    # For each GT, pick the pred that gives highest IoU\n",
    "    paired_pred = np.argmax(pairwise_iou, axis=1)\n",
    "    max_iou = np.max(pairwise_iou, axis=1)\n",
    "    # Filter out GT with no intersection\n",
    "    paired_true = np.nonzero(max_iou > 0.0)[0]  # indices\n",
    "    paired_pred = paired_pred[paired_true]\n",
    "\n",
    "    overall_inter = (pairwise_inter[paired_true, paired_pred]).sum()\n",
    "    overall_union = (pairwise_union[paired_true, paired_pred]).sum()\n",
    "\n",
    "    # Convert from index to actual IDs\n",
    "    paired_true = list(paired_true + 1)\n",
    "    paired_pred = list(paired_pred + 1)\n",
    "\n",
    "    # Add unpaired GT + Pred to union\n",
    "    unpaired_true = [x for x in true_id_list[1:] if x not in paired_true]\n",
    "    unpaired_pred = [x for x in pred_id_list[1:] if x not in paired_pred]\n",
    "    for t_id in unpaired_true:\n",
    "        overall_union += true_masks[t_id].sum()\n",
    "    for p_id in unpaired_pred:\n",
    "        overall_union += pred_masks[p_id].sum()\n",
    "\n",
    "    aji_score = overall_inter / overall_union if overall_union else 0.0\n",
    "    return aji_score\n",
    "\n",
    "\n",
    "from scipy.optimize import linear_sum_assignment\n",
    "import numpy as np\n",
    "\n",
    "def get_fast_aji_plus(true, pred):\n",
    "    \"\"\"\n",
    "    AJI+ (Aggregated Jaccard Index Plus) with maximal unique pairing.\n",
    "    1. Remap labels to ensure contiguous IDs: 0,1,2,...\n",
    "    2. Build dictionaries of {inst_id: mask}.\n",
    "    3. Compute pairwise intersection & union for GT and Pred.\n",
    "    4. Use Hungarian (linear_sum_assignment) to find the best 1-to-1 matching.\n",
    "    5. Sum intersection over matched pairs, and union over matched + unpaired IDs.\n",
    "    6. Return the AJI+ = total_inter / total_union.\n",
    "\n",
    "    Note: 'true' and 'pred' must be 2D integer arrays with instance IDs.\n",
    "    ID 0 is background (ignored).\n",
    "    \"\"\"\n",
    "    # ---------------------\n",
    "    # 1) Remap label => 0..N contiguous\n",
    "    # ---------------------\n",
    "    true = remap_label(true)\n",
    "    pred = remap_label(pred)\n",
    "    # Make copies to avoid side effects\n",
    "    true = np.copy(true)\n",
    "    pred = np.copy(pred)\n",
    "\n",
    "    # Collect unique IDs\n",
    "    true_id_list = sorted(list(np.unique(true)))\n",
    "    pred_id_list = sorted(list(np.unique(pred)))\n",
    "\n",
    "    # Remove background from ID lists\n",
    "    if 0 in true_id_list:\n",
    "        true_id_list.remove(0)\n",
    "    if 0 in pred_id_list:\n",
    "        pred_id_list.remove(0)\n",
    "\n",
    "    # Edge case: if no nuclei in GT or Pred, AJI+ is 0\n",
    "    if len(true_id_list) == 0 or len(pred_id_list) == 0:\n",
    "        return 0.0\n",
    "\n",
    "    # ---------------------\n",
    "    # 2) Build dictionaries: {id: mask}\n",
    "    # ---------------------\n",
    "    # Each dict key = instance ID, value = binary mask for that instance\n",
    "    true_masks = {}\n",
    "    for t_id in true_id_list:\n",
    "        mask = (true == t_id).astype(np.uint8)\n",
    "        true_masks[t_id] = mask\n",
    "\n",
    "    pred_masks = {}\n",
    "    for p_id in pred_id_list:\n",
    "        mask = (pred == p_id).astype(np.uint8)\n",
    "        pred_masks[p_id] = mask\n",
    "\n",
    "    # ---------------------\n",
    "    # 3) Compute pairwise intersection & union\n",
    "    # ---------------------\n",
    "    # We'll store them in a 2D array, rows=GT IDs, cols=Pred IDs\n",
    "    n_true = len(true_id_list)\n",
    "    n_pred = len(pred_id_list)\n",
    "\n",
    "    pairwise_inter = np.zeros((n_true, n_pred), dtype=np.float64)\n",
    "    pairwise_union = np.zeros((n_true, n_pred), dtype=np.float64)\n",
    "\n",
    "    # Create quick ID -> row/col mapping\n",
    "    #   E.g. if true_id_list = [1,4,9], then row_idx_of[1] = 0, row_idx_of[4] = 1, row_idx_of[9]=2\n",
    "    row_idx_of = {tid: r for r, tid in enumerate(true_id_list)}\n",
    "    col_idx_of = {pid: c for c, pid in enumerate(pred_id_list)}\n",
    "\n",
    "    # For each ground-truth instance t_id\n",
    "    for t_id in true_id_list:\n",
    "        t_mask = true_masks[t_id]\n",
    "        # Find which predicted IDs actually overlap t_mask\n",
    "        overlapped_pred_ids = np.unique(pred[t_mask > 0])\n",
    "        # We only care about predicted IDs > 0\n",
    "        overlapped_pred_ids = overlapped_pred_ids[overlapped_pred_ids > 0]\n",
    "\n",
    "        for p_id in overlapped_pred_ids:\n",
    "            p_mask = pred_masks[p_id]\n",
    "            union_ = (t_mask + p_mask).sum()\n",
    "            inter_ = (t_mask * p_mask).sum()\n",
    "            r = row_idx_of[t_id]\n",
    "            c = col_idx_of[p_id]\n",
    "            pairwise_inter[r, c] = inter_\n",
    "            pairwise_union[r, c] = union_ - inter_\n",
    "\n",
    "    # ---------------------\n",
    "    # 4) Hungarian matching for best 1-to-1 pairing\n",
    "    # ---------------------\n",
    "    pairwise_iou = pairwise_inter / (pairwise_union + 1e-6)\n",
    "    row_idx, col_idx = linear_sum_assignment(-pairwise_iou)  # maximize IoU\n",
    "    matched_iou = pairwise_iou[row_idx, col_idx]\n",
    "\n",
    "    # Filter out zero-overlap matches\n",
    "    valid_matches = matched_iou > 0\n",
    "    row_idx = row_idx[valid_matches]\n",
    "    col_idx = col_idx[valid_matches]\n",
    "\n",
    "    # Summation of matched intersection and union\n",
    "    matched_inter = pairwise_inter[row_idx, col_idx]\n",
    "    matched_union = pairwise_union[row_idx, col_idx]\n",
    "    overall_inter = matched_inter.sum()\n",
    "    overall_union = matched_union.sum()\n",
    "\n",
    "    # ---------------------\n",
    "    # 5) Add union from unpaired GT and Pred\n",
    "    # ---------------------\n",
    "    # Convert row/col indices to actual IDs\n",
    "    paired_true_ids = [true_id_list[r] for r in row_idx]\n",
    "    paired_pred_ids = [pred_id_list[c] for c in col_idx]\n",
    "\n",
    "    unpaired_true = [tid for tid in true_id_list if tid not in paired_true_ids]\n",
    "    unpaired_pred = [pid for pid in pred_id_list if pid not in paired_pred_ids]\n",
    "\n",
    "    for t_id in unpaired_true:\n",
    "        overall_union += true_masks[t_id].sum()\n",
    "    for p_id in unpaired_pred:\n",
    "        overall_union += pred_masks[p_id].sum()\n",
    "\n",
    "    # ---------------------\n",
    "    # 6) Compute AJI+ score\n",
    "    # ---------------------\n",
    "    aji_plus = overall_inter / overall_union if overall_union > 0 else 0.0\n",
    "    return aji_plus\n",
    "\n",
    "def remap_label(mask, by_size=False):\n",
    "    \"\"\"\n",
    "    Rename all instance IDs in 'mask' so that they are contiguous [0..N].\n",
    "    If 'by_size' is True, larger instances get smaller IDs (sorted by descending size).\n",
    "    \"\"\"\n",
    "    mask = np.copy(mask)\n",
    "    inst_ids = sorted(np.unique(mask))\n",
    "    if 0 in inst_ids:\n",
    "        inst_ids.remove(0)\n",
    "    if len(inst_ids) == 0:\n",
    "        return mask\n",
    "\n",
    "    if by_size:\n",
    "        sizes = [(id_, (mask == id_).sum()) for id_ in inst_ids]\n",
    "        sizes.sort(key=lambda x: x[1], reverse=True)\n",
    "        inst_ids = [x[0] for x in sizes]\n",
    "\n",
    "    new_mask = np.zeros_like(mask, dtype=np.int32)\n",
    "    for new_id, old_id in enumerate(inst_ids, start=1):\n",
    "        new_mask[mask == old_id] = new_id\n",
    "    return new_mask\n",
    "\n",
    "\n",
    "\n",
    "\n",
    "def get_fast_pq(true, pred, match_iou=0.5):\n",
    "    \"\"\"\n",
    "    `match_iou` is the IoU threshold level to determine the pairing between\n",
    "    GT instances and pred instances. 1:1 mapping. If match_iou < 0.5, we do\n",
    "    Hungarian matching to maximize total IoU. If >=0.5, the assumption is that\n",
    "    any IoU>0.5 pair is unique already.\n",
    "    \"\"\"\n",
    "    assert match_iou >= 0.0, \"Cant' be negative\"\n",
    "    pred = remap_label(pred)\n",
    "    true = remap_label(true)\n",
    "    true = np.copy(true)\n",
    "    pred = np.copy(pred)\n",
    "\n",
    "    true_id_list = list(np.unique(true))\n",
    "    pred_id_list = list(np.unique(pred))\n",
    "\n",
    "    true_masks = [None]\n",
    "    for t_id in true_id_list[1:]:\n",
    "        t_mask = (true == t_id).astype(np.uint8)\n",
    "        true_masks.append(t_mask)\n",
    "\n",
    "    pred_masks = [None]\n",
    "    for p_id in pred_id_list[1:]:\n",
    "        p_mask = (pred == p_id).astype(np.uint8)\n",
    "        pred_masks.append(p_mask)\n",
    "\n",
    "    pairwise_iou = np.zeros([len(true_id_list) - 1, len(pred_id_list) - 1], dtype=np.float64)\n",
    "\n",
    "    # Calculate IoU for each pair\n",
    "    for t_id in true_id_list[1:]:\n",
    "        t_mask = true_masks[t_id]\n",
    "        pred_true_overlap = list(np.unique(pred[t_mask > 0]))\n",
    "        for p_id in pred_true_overlap:\n",
    "            if p_id == 0:\n",
    "                continue\n",
    "            p_mask = pred_masks[p_id]\n",
    "            total = (t_mask + p_mask).sum()\n",
    "            inter = (t_mask * p_mask).sum()\n",
    "            iou = inter / (total - inter + 1e-6)\n",
    "            pairwise_iou[t_id - 1, p_id - 1] = iou\n",
    "\n",
    "    if match_iou >= 0.5:\n",
    "        # direct matching\n",
    "        pairwise_iou[pairwise_iou <= match_iou] = 0.0\n",
    "        r_idx, c_idx = np.nonzero(pairwise_iou)\n",
    "        matched_iou = pairwise_iou[r_idx, c_idx]\n",
    "        # shift instance IDs\n",
    "        paired_true = list(r_idx + 1)\n",
    "        paired_pred = list(c_idx + 1)\n",
    "    else:\n",
    "        # Hungarian\n",
    "        r_idx, c_idx = linear_sum_assignment(-pairwise_iou)\n",
    "        matched_iou = pairwise_iou[r_idx, c_idx]\n",
    "        valid = matched_iou > match_iou\n",
    "        r_idx = r_idx[valid]\n",
    "        c_idx = c_idx[valid]\n",
    "        matched_iou = matched_iou[valid]\n",
    "        paired_true = list(r_idx + 1)\n",
    "        paired_pred = list(c_idx + 1)\n",
    "\n",
    "    tp = len(paired_true)\n",
    "    unpaired_true = [t for t in true_id_list[1:] if t not in paired_true]\n",
    "    unpaired_pred = [p for p in pred_id_list[1:] if p not in paired_pred]\n",
    "    fp = len(unpaired_pred)\n",
    "    fn = len(unpaired_true)\n",
    "\n",
    "    # DQ\n",
    "    dq = tp / (tp + 0.5 * fp + 0.5 * fn + 1e-6)\n",
    "    # SQ\n",
    "    sq = matched_iou.sum() / (tp + 1e-6)\n",
    "    return [dq, sq, dq * sq], [paired_true, paired_pred, unpaired_true, unpaired_pred]\n",
    "\n",
    "def get_fast_pq2(true, pred, match_iou=0.3):\n",
    "    \"\"\"\n",
    "    Compute Panoptic Quality (PQ) in a 'fast' way by enforcing one-to-one\n",
    "    matches using the Hungarian (Munkres) method for all IoU thresholds.\n",
    "    This avoids the incorrect shortcut that assumes IoU >= 0.5 implies uniqueness.\n",
    "\n",
    "    Args:\n",
    "        true (np.ndarray): 2D integer array with ground-truth instance labels.\n",
    "        pred (np.ndarray): 2D integer array with predicted instance labels.\n",
    "        match_iou (float): IoU threshold for deciding matches. Defaults to 0.5.\n",
    "\n",
    "    Returns:\n",
    "        metrics (list): [DQ, SQ, PQ]\n",
    "        pairing_info (list): [paired_true_ids, paired_pred_ids, unpaired_true_ids, unpaired_pred_ids]\n",
    "    \"\"\"\n",
    "\n",
    "    # Remap labels so that instance IDs are contiguous: 0, 1, 2, ...\n",
    "    true = remap_label(true)\n",
    "    pred = remap_label(pred)\n",
    "    true = np.copy(true)\n",
    "    pred = np.copy(pred)\n",
    "\n",
    "    true_id_list = list(np.unique(true))\n",
    "    pred_id_list = list(np.unique(pred))\n",
    "\n",
    "    # Build masks for each instance\n",
    "    # Index 0 is None / placeholder for background\n",
    "    true_masks = [None]\n",
    "    for t_id in true_id_list[1:]:\n",
    "        true_masks.append((true == t_id).astype(np.uint8))\n",
    "\n",
    "    pred_masks = [None]\n",
    "    for p_id in pred_id_list[1:]:\n",
    "        pred_masks.append((pred == p_id).astype(np.uint8))\n",
    "\n",
    "    # pairwise_iou will be (num_true, num_pred)\n",
    "    pairwise_iou = np.zeros((len(true_id_list) - 1, len(pred_id_list) - 1), dtype=np.float64)\n",
    "\n",
    "    # Compute IoU for every pair (true_id, pred_id)\n",
    "    for t_idx, t_id in enumerate(true_id_list[1:], start=0):\n",
    "        t_mask = true_masks[t_idx + 1]  # t_idx=0 => t_id=1\n",
    "        # Find which predictions actually overlap t_mask\n",
    "        pred_ids_in_true = np.unique(pred[t_mask > 0])\n",
    "        for p_id in pred_ids_in_true:\n",
    "            if p_id == 0:\n",
    "                continue\n",
    "            p_idx = p_id - 1\n",
    "            p_mask = pred_masks[p_idx + 1]\n",
    "            union = (t_mask + p_mask).sum()\n",
    "            inter = (t_mask * p_mask).sum()\n",
    "            iou = inter / (union - inter + 1.0e-6)  # = inter / (|A| + |B| - inter)\n",
    "            pairwise_iou[t_idx, p_idx] = iou\n",
    "\n",
    "    # ---------------------------------------------------------\n",
    "    # ALWAYS do a bipartite matching using Hungarian method\n",
    "    # ---------------------------------------------------------\n",
    "    # Negative because linear_sum_assignment() finds minimal cost, we want maximal IoU\n",
    "    row_ids, col_ids = linear_sum_assignment(-pairwise_iou)\n",
    "    matched_ious = pairwise_iou[row_ids, col_ids]\n",
    "\n",
    "    # Filter out matches with IoU below threshold\n",
    "    valid = matched_ious > match_iou\n",
    "    row_ids = row_ids[valid]\n",
    "    col_ids = col_ids[valid]\n",
    "    matched_ious = matched_ious[valid]\n",
    "\n",
    "    # Convert row/col indices to actual instance IDs\n",
    "    # (Because row=0 => true_id=1, col=0 => pred_id=1)\n",
    "    paired_true_ids = row_ids + 1\n",
    "    paired_pred_ids = col_ids + 1\n",
    "\n",
    "    # ---------------------------------------------------------\n",
    "    # Count TPs, FPs, FNs\n",
    "    # ---------------------------------------------------------\n",
    "    tp = len(paired_true_ids)\n",
    "    unpaired_true_ids = [t for t in true_id_list[1:] if t not in paired_true_ids]\n",
    "    unpaired_pred_ids = [p for p in pred_id_list[1:] if p not in paired_pred_ids]\n",
    "    fp = len(unpaired_pred_ids)\n",
    "    fn = len(unpaired_true_ids)\n",
    "\n",
    "    # ---------------------------------------------------------\n",
    "    # Calculate DQ, SQ, PQ\n",
    "    # ---------------------------------------------------------\n",
    "    # Detection Quality (DQ)\n",
    "    #   = TP / (TP + 0.5 * FP + 0.5 * FN)\n",
    "    dq = tp / (tp + 0.5 * fp + 0.5 * fn + 1.0e-6)\n",
    "\n",
    "    # Segmentation Quality (SQ)\n",
    "    #   = average IoU of matched pairs\n",
    "    sq = matched_ious.mean() if tp > 0 else 0.0\n",
    "\n",
    "    pq = dq * sq\n",
    "\n",
    "    return [dq, sq, pq], [paired_true_ids, paired_pred_ids, unpaired_true_ids, unpaired_pred_ids]\n",
    "\n",
    "def get_fast_dice_2(true, pred):\n",
    "    \"\"\"Ensemble dice with instance-level summation.\"\"\"\n",
    "    true = np.copy(true)\n",
    "    pred = np.copy(pred)\n",
    "    \n",
    "    true_id = list(np.unique(true))\n",
    "    pred_id = list(np.unique(pred))\n",
    "\n",
    "    # Build separate arrays for each true instance\n",
    "    true_masks = [np.zeros_like(true, dtype=np.uint8)]\n",
    "    for t in true_id[1:]:\n",
    "        true_masks.append((true == t).astype(np.uint8))\n",
    "\n",
    "    # Build separate arrays for each predicted instance\n",
    "    pred_masks = [np.zeros_like(pred, dtype=np.uint8)]\n",
    "    for p in pred_id[1:]:\n",
    "        pred_masks.append((pred == p).astype(np.uint8))\n",
    "\n",
    "    overall_total = 0\n",
    "    overall_inter = 0\n",
    "\n",
    "    # For each true instance\n",
    "    for t_idx in range(1, len(true_id)):\n",
    "        t_mask = true_masks[t_idx]\n",
    "        pred_true_overlap = list(np.unique(pred[t_mask > 0]))\n",
    "        \n",
    "        if 0 in pred_true_overlap:\n",
    "            pred_true_overlap.remove(0)\n",
    "        \n",
    "        for p_idx in pred_true_overlap:\n",
    "            p_mask = pred_masks[p_idx]\n",
    "            total = (t_mask + p_mask).sum()\n",
    "            inter = (t_mask * p_mask).sum()\n",
    "            overall_total += total\n",
    "            overall_inter += inter\n",
    "\n",
    "    return 2 * overall_inter / (overall_total + 1e-6)\n",
    "\n",
    "\n",
    "def get_dice_1(true, pred):\n",
    "    \"\"\"Traditional dice over entire mask (binary).\"\"\"\n",
    "    true = np.copy(true)\n",
    "    pred = np.copy(pred)\n",
    "    true[true > 0] = 1\n",
    "    pred[pred > 0] = 1\n",
    "    inter = (true * pred).sum()\n",
    "    union = (true + pred).sum()\n",
    "    return 2.0 * inter / (union + 1e-6)\n",
    "\n",
    "\n",
    "def get_dice_2(true, pred):\n",
    "    \"\"\"Ensemble Dice as used in certain challenges (with instance-level summation).\"\"\"\n",
    "    true = np.copy(true)\n",
    "    pred = np.copy(pred)\n",
    "    true_id = list(np.unique(true))\n",
    "    pred_id = list(np.unique(pred))\n",
    "\n",
    "    # Safely remove background ID 0 if present\n",
    "    if 0 in true_id:\n",
    "        true_id.remove(0)\n",
    "    if 0 in pred_id:\n",
    "        pred_id.remove(0)\n",
    "\n",
    "    total_markup = 0\n",
    "    total_intersect = 0\n",
    "    for t in true_id:\n",
    "        t_mask = (true == t).astype(np.uint8)\n",
    "        for p in pred_id:\n",
    "            p_mask = (pred == p).astype(np.uint8)\n",
    "            intersect = (p_mask * t_mask).sum()\n",
    "            if intersect > 0:\n",
    "                total_intersect += intersect\n",
    "                total_markup += t_mask.sum() + p_mask.sum()\n",
    "    return 2 * total_intersect / (total_markup + 1e-6)\n",
    "\n",
    "\n",
    "def remap_label(pred, by_size=False):\n",
    "    \"\"\"\n",
    "    Rename all instance IDs so they are contiguous [0,1,2,3,...].\n",
    "    The ordering is preserved unless by_size=True, then bigger nuclei get smaller IDs.\n",
    "\n",
    "    If 0 isn't in the unique labels, we skip removing it.\n",
    "    \"\"\"\n",
    "    pred_id = list(np.unique(pred))\n",
    "    if 0 in pred_id:\n",
    "        pred_id.remove(0)\n",
    "\n",
    "    if len(pred_id) == 0:\n",
    "        return pred  # no label\n",
    "\n",
    "    if by_size:\n",
    "        # Sort by nucleus size (descending)\n",
    "        pred_size = [(inst_id, (pred == inst_id).sum()) for inst_id in pred_id]\n",
    "        pred_size.sort(key=lambda x: x[1], reverse=True)\n",
    "        pred_id = [x[0] for x in pred_size]\n",
    "\n",
    "    new_pred = np.zeros_like(pred, dtype=np.int32)\n",
    "    for idx, inst_id in enumerate(pred_id):\n",
    "        new_pred[pred == inst_id] = idx + 1\n",
    "    return new_pred\n",
    "\n",
    "\n",
    "def pair_coordinates(setA, setB, radius):\n",
    "    \"\"\"\n",
    "    Use the Hungarian algorithm to find an optimal pairing of points in setB vs setA\n",
    "    using Euclidean distance as cost. Only keep pairs with distance <= radius.\n",
    "    Returns (pairing, unpairedA, unpairedB).\n",
    "    \"\"\"\n",
    "    pair_distance = scipy.spatial.distance.cdist(setA, setB, metric=\"euclidean\")\n",
    "    indicesA, paired_indicesB = linear_sum_assignment(pair_distance)\n",
    "    pair_cost = pair_distance[indicesA, paired_indicesB]\n",
    "\n",
    "    valid = pair_cost <= radius\n",
    "    pairedA = indicesA[valid]\n",
    "    pairedB = paired_indicesB[valid]\n",
    "\n",
    "    pairing = np.column_stack([pairedA, pairedB])\n",
    "    unpairedA = np.delete(np.arange(setA.shape[0]), pairedA)\n",
    "    unpairedB = np.delete(np.arange(setB.shape[0]), pairedB)\n",
    "    return pairing, unpairedA, unpairedB\n",
    "\n",
    "\n",
    "def combine_masks(mask_stack):\n",
    "    \"\"\"\n",
    "    Combine a stack of binary masks (shape: [N, H, W])\n",
    "    into a single label map (shape: [H, W]) where each nucleus gets a unique label.\n",
    "    \"\"\"\n",
    "    label_map = np.zeros(mask_stack.shape[1:], dtype=np.int32)\n",
    "    for i in range(mask_stack.shape[0]):\n",
    "        label_map[mask_stack[i] > 0] = i + 1\n",
    "    return label_map\n"
   ]
  },
  {
   "cell_type": "code",
   "execution_count": 8,
   "id": "3ba75b3b-37f6-4436-a318-2c1caf37f5e3",
   "metadata": {},
   "outputs": [
    {
     "data": {
      "text/plain": [
       "['may_dims64_depth4_may',\n",
       " 'may_dims48_depth3_may',\n",
       " 'may_dims64_depth3_may',\n",
       " 'may_dims96_depth4_may',\n",
       " 'may_dims32_depth3_may',\n",
       " 'may_dims32_depth4_may',\n",
       " 'may_dims48_depth4_may',\n",
       " 'may_dims96_depth3_may']"
      ]
     },
     "execution_count": 8,
     "metadata": {},
     "output_type": "execute_result"
    }
   ],
   "source": [
    "import glob\n",
    "dirs = glob.glob(\"may*may\")\n",
    "dirs"
   ]
  },
  {
   "cell_type": "code",
   "execution_count": 9,
   "id": "9a925a36-8787-4514-a3e5-d539e972bdaf",
   "metadata": {},
   "outputs": [
    {
     "name": "stdout",
     "output_type": "stream",
     "text": [
      "/workspace/deepseek_test/yolo-nuke/Segmentation/share_sanika\n"
     ]
    }
   ],
   "source": [
    "!pwd"
   ]
  },
  {
   "cell_type": "code",
   "execution_count": 10,
   "id": "fbda0c06-8b73-4f56-acbf-7f76747cec87",
   "metadata": {},
   "outputs": [
    {
     "name": "stdout",
     "output_type": "stream",
     "text": [
      "H\n"
     ]
    }
   ],
   "source": [
    "print(\"H\")"
   ]
  },
  {
   "cell_type": "code",
   "execution_count": 16,
   "id": "5ff93c9e-a609-4dca-b9cf-7aa39da8f355",
   "metadata": {
    "scrolled": true
   },
   "outputs": [
    {
     "name": "stdout",
     "output_type": "stream",
     "text": [
      "BEGUN\n",
      "Using 16 processes.\n",
      "may_dims64_depth4_may ####################\n",
      "Found 51 mask files, sample: ['/workspace/deepseek_test/yolo-nuke/Segmentation/monuseg/annotations/TCGA-HC-7209-01A-01-TS1.npy', '/workspace/deepseek_test/yolo-nuke/Segmentation/monuseg/annotations/TCGA-IZ-8196-01A-01-BS1.npy', '/workspace/deepseek_test/yolo-nuke/Segmentation/monuseg/annotations/TCGA-B0-5710-01Z-00-DX1.npy', '/workspace/deepseek_test/yolo-nuke/Segmentation/monuseg/annotations/TCGA-G2-A2EK-01A-02-TSB.npy', '/workspace/deepseek_test/yolo-nuke/Segmentation/monuseg/annotations/TCGA-50-5931-01Z-00-DX1.npy']\n",
      "ProcessONeMaskProcessONeMaskProcessONeMaskProcessONeMaskProcessONeMaskProcessONeMaskProcessONeMaskProcessONeMaskProcessONeMaskProcessONeMaskProcessONeMaskProcessONeMaskProcessONeMaskProcessONeMaskProcessONeMaskProcessONeMask\n",
      "\n",
      "\n",
      "\n",
      "\n",
      "\n",
      "\n",
      "\n",
      "\n",
      "\n",
      "\n",
      "\n",
      "\n",
      "\n",
      "\n",
      "\n",
      "TCGA-G2-A2EK-01A-02-TSB -- DQ=0.7933 -- SQ=0.7480 -- PQ=0.5934 -- AJI=0.6516 PredSize=(1000, 1000) GTSize=(1000, 1000)\n",
      "\n",
      "ProcessONeMask\n",
      "TCGA-B0-5710-01Z-00-DX1 -- DQ=0.9023 -- SQ=0.7457 -- PQ=0.6729 -- AJI=0.6765 PredSize=(1000, 1000) GTSize=(1000, 1000)\n",
      "\n",
      "ProcessONeMask\n",
      "TCGA-DK-A2I6-01A-01-TS1 -- DQ=0.8243 -- SQ=0.7894 -- PQ=0.6507 -- AJI=0.7046 PredSize=(1000, 1000) GTSize=(1000, 1000)\n",
      "\n",
      "ProcessONeMask\n",
      "TCGA-B0-5711-01Z-00-DX1 -- DQ=0.8048 -- SQ=0.7289 -- PQ=0.5866 -- AJI=0.6379 PredSize=(1000, 1000) GTSize=(1000, 1000)\n",
      "\n",
      "ProcessONeMask\n",
      "TCGA-AY-A8YK-01A-01-TS1 -- DQ=0.7671 -- SQ=0.6898 -- PQ=0.5292 -- AJI=0.5433 PredSize=(1000, 1000) GTSize=(1000, 1000)\n",
      "\n",
      "ProcessONeMask\n",
      "TCGA-HC-7209-01A-01-TS1 -- DQ=0.8908 -- SQ=0.7492 -- PQ=0.6674 -- AJI=0.6743 PredSize=(1000, 1000) GTSize=(1000, 1000)\n",
      "\n",
      "ProcessONeMask\n",
      "TCGA-50-5931-01Z-00-DX1 -- DQ=0.6542 -- SQ=0.6959 -- PQ=0.4552 -- AJI=0.3957 PredSize=(1000, 1000) GTSize=(1000, 1000)\n",
      "\n",
      "ProcessONeMask\n",
      "TCGA-G9-6356-01Z-00-DX1 -- DQ=0.9103 -- SQ=0.8118 -- PQ=0.7390 -- AJI=0.7289 PredSize=(1000, 1000) GTSize=(1000, 1000)\n",
      "\n",
      "ProcessONeMask\n",
      "TCGA-A6-6782-01A-01-BS1 -- DQ=0.8547 -- SQ=0.7111 -- PQ=0.6078 -- AJI=0.5953 PredSize=(1000, 1000) GTSize=(1000, 1000)\n",
      "\n",
      "ProcessONeMask\n",
      "TCGA-IZ-8196-01A-01-BS1 -- DQ=0.9238 -- SQ=0.7705 -- PQ=0.7118 -- AJI=0.7056 PredSize=(1000, 1000) GTSize=(1000, 1000)\n",
      "\n",
      "ProcessONeMask\n",
      "TCGA-AR-A1AK-01Z-00-DX1 -- DQ=0.8544 -- SQ=0.7487 -- PQ=0.6397 -- AJI=0.6148 PredSize=(1000, 1000) GTSize=(1000, 1000)\n",
      "\n",
      "ProcessONeMask\n",
      "TCGA-49-4488-01Z-00-DX1 -- DQ=0.8608 -- SQ=0.7314 -- PQ=0.6295 -- AJI=0.6280 PredSize=(1000, 1000) GTSize=(1000, 1000)\n",
      "\n",
      "ProcessONeMask\n",
      "TCGA-CU-A0YN-01A-02-BSB -- DQ=0.8793 -- SQ=0.7505 -- PQ=0.6599 -- AJI=0.6360 PredSize=(1000, 1000) GTSize=(1000, 1000)\n",
      "\n",
      "ProcessONeMask\n",
      "TCGA-MH-A561-01Z-00-DX1 -- DQ=0.8823 -- SQ=0.7266 -- PQ=0.6411 -- AJI=0.6403 PredSize=(1000, 1000) GTSize=(1000, 1000)\n",
      "\n",
      "ProcessONeMask\n",
      "TCGA-E2-A1B5-01Z-00-DX1 -- DQ=0.7931 -- SQ=0.7191 -- PQ=0.5703 -- AJI=0.5824 PredSize=(1000, 1000) GTSize=(1000, 1000)\n",
      "\n",
      "ProcessONeMask\n",
      "TCGA-B0-5698-01Z-00-DX1 -- DQ=0.7538 -- SQ=0.7290 -- PQ=0.5495 -- AJI=0.5097 PredSize=(1000, 1000) GTSize=(1000, 1000)\n",
      "\n",
      "ProcessONeMask\n",
      "TCGA-FG-A4MU-01B-01-TS1 -- DQ=0.8922 -- SQ=0.7571 -- PQ=0.6755 -- AJI=0.6887 PredSize=(1000, 1000) GTSize=(1000, 1000)\n",
      "\n",
      "ProcessONeMask\n",
      "TCGA-2Z-A9J9-01A-01-TS1 -- DQ=0.8789 -- SQ=0.7297 -- PQ=0.6413 -- AJI=0.6391 PredSize=(1000, 1000) GTSize=(1000, 1000)\n",
      "\n",
      "ProcessONeMask\n",
      "TCGA-AC-A2FO-01A-01-TS1 -- DQ=0.8519 -- SQ=0.6659 -- PQ=0.5672 -- AJI=0.5409 PredSize=(1000, 1000) GTSize=(1000, 1000)\n",
      "\n",
      "ProcessONeMask\n",
      "TCGA-21-5786-01Z-00-DX1 -- DQ=0.8244 -- SQ=0.7067 -- PQ=0.5826 -- AJI=0.5724 PredSize=(1000, 1000) GTSize=(1000, 1000)\n",
      "\n",
      "ProcessONeMask\n",
      "TCGA-CH-5767-01Z-00-DX1 -- DQ=0.8110 -- SQ=0.7622 -- PQ=0.6181 -- AJI=0.5808 PredSize=(1000, 1000) GTSize=(1000, 1000)\n",
      "\n",
      "ProcessONeMask\n",
      "TCGA-44-2665-01B-06-BS6 -- DQ=0.9174 -- SQ=0.7788 -- PQ=0.7144 -- AJI=0.7023 PredSize=(1000, 1000) GTSize=(1000, 1000)\n",
      "\n",
      "ProcessONeMask\n",
      "TCGA-G9-6363-01Z-00-DX1 -- DQ=0.7901 -- SQ=0.7879 -- PQ=0.6226 -- AJI=0.5968 PredSize=(1000, 1000) GTSize=(1000, 1000)\n",
      "\n",
      "ProcessONeMask\n",
      "TCGA-RD-A8N9-01A-01-TS1 -- DQ=0.9204 -- SQ=0.8009 -- PQ=0.7372 -- AJI=0.7481 PredSize=(1000, 1000) GTSize=(1000, 1000)\n",
      "\n",
      "ProcessONeMask\n",
      "TCGA-EJ-A46H-01A-03-TSC -- DQ=0.9070 -- SQ=0.7522 -- PQ=0.6823 -- AJI=0.6827 PredSize=(1000, 1000) GTSize=(1000, 1000)\n",
      "\n",
      "ProcessONeMask\n",
      "TCGA-A7-A13E-01Z-00-DX1 -- DQ=0.8137 -- SQ=0.7488 -- PQ=0.6093 -- AJI=0.6008 PredSize=(1000, 1000) GTSize=(1000, 1000)\n",
      "\n",
      "ProcessONeMask\n",
      "TCGA-F9-A8NY-01Z-00-DX1 -- DQ=0.9036 -- SQ=0.7259 -- PQ=0.6559 -- AJI=0.6392 PredSize=(1000, 1000) GTSize=(1000, 1000)\n",
      "\n",
      "ProcessONeMask\n",
      "TCGA-HT-8564-01Z-00-DX1 -- DQ=0.9142 -- SQ=0.7052 -- PQ=0.6446 -- AJI=0.6454 PredSize=(1000, 1000) GTSize=(1000, 1000)\n",
      "\n",
      "ProcessONeMask\n",
      "TCGA-UZ-A9PJ-01Z-00-DX1 -- DQ=0.8787 -- SQ=0.7226 -- PQ=0.6350 -- AJI=0.6168 PredSize=(1000, 1000) GTSize=(1000, 1000)\n",
      "\n",
      "ProcessONeMask\n",
      "TCGA-18-5592-01Z-00-DX1 -- DQ=0.7459 -- SQ=0.6917 -- PQ=0.5160 -- AJI=0.4826 PredSize=(1000, 1000) GTSize=(1000, 1000)\n",
      "\n",
      "ProcessONeMask\n",
      "TCGA-ZF-A9R5-01A-01-TS1 -- DQ=0.9079 -- SQ=0.7515 -- PQ=0.6823 -- AJI=0.7025 PredSize=(1000, 1000) GTSize=(1000, 1000)\n",
      "\n",
      "ProcessONeMask\n",
      "TCGA-A7-A13F-01Z-00-DX1 -- DQ=0.8810 -- SQ=0.7511 -- PQ=0.6618 -- AJI=0.6684 PredSize=(1000, 1000) GTSize=(1000, 1000)\n",
      "\n",
      "ProcessONeMask\n",
      "TCGA-FG-A87N-01Z-00-DX1 -- DQ=0.8767 -- SQ=0.7228 -- PQ=0.6337 -- AJI=0.6377 PredSize=(1000, 1000) GTSize=(1000, 1000)\n",
      "\n",
      "ProcessONeMask\n",
      "TCGA-G9-6336-01Z-00-DX1 -- DQ=0.7458 -- SQ=0.7624 -- PQ=0.5686 -- AJI=0.5000 PredSize=(1000, 1000) GTSize=(1000, 1000)\n",
      "\n",
      "ProcessONeMask\n",
      "TCGA-BC-A217-01Z-00-DX1 -- DQ=0.9344 -- SQ=0.7602 -- PQ=0.7104 -- AJI=0.7309 PredSize=(1000, 1000) GTSize=(1000, 1000)\n",
      "\n",
      "ProcessONeMask\n",
      "TCGA-GL-6846-01A-01-BS1 -- DQ=0.8933 -- SQ=0.7650 -- PQ=0.6834 -- AJI=0.6802 PredSize=(1000, 1000) GTSize=(1000, 1000)\n",
      "\n",
      "TCGA-AR-A1AS-01Z-00-DX1 -- DQ=0.8953 -- SQ=0.7634 -- PQ=0.6835 -- AJI=0.6675 PredSize=(1000, 1000) GTSize=(1000, 1000)\n",
      "\n",
      "TCGA-21-5784-01Z-00-DX1 -- DQ=0.7551 -- SQ=0.7198 -- PQ=0.5435 -- AJI=0.5703 PredSize=(1000, 1000) GTSize=(1000, 1000)\n",
      "\n",
      "TCGA-UZ-A9PN-01Z-00-DX1 -- DQ=0.9037 -- SQ=0.7528 -- PQ=0.6804 -- AJI=0.6793 PredSize=(1000, 1000) GTSize=(1000, 1000)\n",
      "\n",
      "TCGA-AO-A0J2-01A-01-BSA -- DQ=0.8575 -- SQ=0.7316 -- PQ=0.6273 -- AJI=0.6358 PredSize=(1000, 1000) GTSize=(1000, 1000)\n",
      "\n",
      "TCGA-NH-A8F7-01A-01-TS1 -- DQ=0.7936 -- SQ=0.7226 -- PQ=0.5735 -- AJI=0.6010 PredSize=(1000, 1000) GTSize=(1000, 1000)\n",
      "\n",
      "TCGA-38-6178-01Z-00-DX1 -- DQ=0.7428 -- SQ=0.7085 -- PQ=0.5263 -- AJI=0.5435 PredSize=(1000, 1000) GTSize=(1000, 1000)\n",
      "\n",
      "TCGA-XS-A8TJ-01Z-00-DX1 -- DQ=0.8751 -- SQ=0.7152 -- PQ=0.6259 -- AJI=0.6306 PredSize=(1000, 1000) GTSize=(1000, 1000)\n",
      "\n",
      "TCGA-G9-6348-01Z-00-DX1 -- DQ=0.8244 -- SQ=0.7709 -- PQ=0.6356 -- AJI=0.6152 PredSize=(1000, 1000) GTSize=(1000, 1000)\n",
      "\n",
      "TCGA-69-7764-01A-01-TS1 -- DQ=0.8447 -- SQ=0.7677 -- PQ=0.6485 -- AJI=0.6385 PredSize=(1000, 1000) GTSize=(1000, 1000)\n",
      "\n",
      "TCGA-HE-7129-01Z-00-DX1 -- DQ=0.7750 -- SQ=0.6851 -- PQ=0.5310 -- AJI=0.5143 PredSize=(1000, 1000) GTSize=(1000, 1000)\n",
      "\n",
      "TCGA-E2-A14V-01Z-00-DX1 -- DQ=0.8560 -- SQ=0.7707 -- PQ=0.6597 -- AJI=0.6695 PredSize=(1000, 1000) GTSize=(1000, 1000)\n",
      "\n",
      "TCGA-G9-6362-01Z-00-DX1 -- DQ=0.8929 -- SQ=0.7671 -- PQ=0.6850 -- AJI=0.6612 PredSize=(1000, 1000) GTSize=(1000, 1000)\n",
      "\n",
      "TCGA-HE-7130-01Z-00-DX1 -- DQ=0.7564 -- SQ=0.6971 -- PQ=0.5273 -- AJI=0.5580 PredSize=(1000, 1000) GTSize=(1000, 1000)\n",
      "\n",
      "TCGA-HE-7128-01Z-00-DX1 -- DQ=0.8783 -- SQ=0.6473 -- PQ=0.5685 -- AJI=0.5783 PredSize=(1000, 1000) GTSize=(1000, 1000)\n",
      "\n",
      "TCGA-KB-A93J-01A-01-TS1 -- DQ=0.9179 -- SQ=0.8023 -- PQ=0.7364 -- AJI=0.7543 PredSize=(1000, 1000) GTSize=(1000, 1000)\n",
      "\n",
      "51\n",
      "\n",
      "=== Finished! ===\n",
      "Collected results (subset shown):\n",
      "\n",
      "may_dims48_depth3_may ####################\n",
      "Found 51 mask files, sample: ['/workspace/deepseek_test/yolo-nuke/Segmentation/monuseg/annotations/TCGA-HC-7209-01A-01-TS1.npy', '/workspace/deepseek_test/yolo-nuke/Segmentation/monuseg/annotations/TCGA-IZ-8196-01A-01-BS1.npy', '/workspace/deepseek_test/yolo-nuke/Segmentation/monuseg/annotations/TCGA-B0-5710-01Z-00-DX1.npy', '/workspace/deepseek_test/yolo-nuke/Segmentation/monuseg/annotations/TCGA-G2-A2EK-01A-02-TSB.npy', '/workspace/deepseek_test/yolo-nuke/Segmentation/monuseg/annotations/TCGA-50-5931-01Z-00-DX1.npy']\n",
      "ProcessONeMaskProcessONeMaskProcessONeMaskProcessONeMaskProcessONeMaskProcessONeMaskProcessONeMaskProcessONeMaskProcessONeMaskProcessONeMaskProcessONeMaskProcessONeMaskProcessONeMaskProcessONeMask\n",
      "\n",
      "\n",
      "\n",
      "\n",
      "\n",
      "\n",
      "\n",
      "\n",
      "\n",
      "\n",
      "\n",
      "\n",
      "\n",
      "ProcessONeMaskProcessONeMask\n",
      "\n",
      "TCGA-DK-A2I6-01A-01-TS1 -- DQ=0.8210 -- SQ=0.7729 -- PQ=0.6346 -- AJI=0.6885 PredSize=(1000, 1000) GTSize=(1000, 1000)\n",
      "\n",
      "ProcessONeMask\n",
      "TCGA-50-5931-01Z-00-DX1 -- DQ=0.6381 -- SQ=0.6954 -- PQ=0.4437 -- AJI=0.3918 PredSize=(1000, 1000) GTSize=(1000, 1000)\n",
      "\n",
      "ProcessONeMask\n",
      "TCGA-G2-A2EK-01A-02-TSB -- DQ=0.7899 -- SQ=0.7546 -- PQ=0.5961 -- AJI=0.6480 PredSize=(1000, 1000) GTSize=(1000, 1000)\n",
      "\n",
      "ProcessONeMask\n",
      "TCGA-B0-5710-01Z-00-DX1 -- DQ=0.8994 -- SQ=0.7509 -- PQ=0.6754 -- AJI=0.6779 PredSize=(1000, 1000) GTSize=(1000, 1000)\n",
      "\n",
      "ProcessONeMask\n",
      "TCGA-HC-7209-01A-01-TS1 -- DQ=0.8866 -- SQ=0.7565 -- PQ=0.6707 -- AJI=0.6752 PredSize=(1000, 1000) GTSize=(1000, 1000)\n",
      "\n",
      "ProcessONeMask\n",
      "TCGA-AY-A8YK-01A-01-TS1 -- DQ=0.7675 -- SQ=0.6677 -- PQ=0.5124 -- AJI=0.5309 PredSize=(1000, 1000) GTSize=(1000, 1000)\n",
      "\n",
      "ProcessONeMask\n",
      "TCGA-B0-5711-01Z-00-DX1 -- DQ=0.8018 -- SQ=0.7391 -- PQ=0.5926 -- AJI=0.6447 PredSize=(1000, 1000) GTSize=(1000, 1000)\n",
      "\n",
      "ProcessONeMask\n",
      "TCGA-IZ-8196-01A-01-BS1 -- DQ=0.9220 -- SQ=0.7690 -- PQ=0.7090 -- AJI=0.7045 PredSize=(1000, 1000) GTSize=(1000, 1000)\n",
      "\n",
      "ProcessONeMask\n",
      "TCGA-G9-6356-01Z-00-DX1 -- DQ=0.9169 -- SQ=0.8143 -- PQ=0.7467 -- AJI=0.7331 PredSize=(1000, 1000) GTSize=(1000, 1000)\n",
      "\n",
      "ProcessONeMask\n",
      "TCGA-A6-6782-01A-01-BS1 -- DQ=0.8621 -- SQ=0.7250 -- PQ=0.6250 -- AJI=0.6062 PredSize=(1000, 1000) GTSize=(1000, 1000)\n",
      "\n",
      "ProcessONeMask\n",
      "TCGA-AR-A1AK-01Z-00-DX1 -- DQ=0.8553 -- SQ=0.7490 -- PQ=0.6406 -- AJI=0.6165 PredSize=(1000, 1000) GTSize=(1000, 1000)\n",
      "\n",
      "ProcessONeMask\n",
      "TCGA-49-4488-01Z-00-DX1 -- DQ=0.8579 -- SQ=0.7089 -- PQ=0.6082 -- AJI=0.6115 PredSize=(1000, 1000) GTSize=(1000, 1000)\n",
      "\n",
      "ProcessONeMask\n",
      "TCGA-CU-A0YN-01A-02-BSB -- DQ=0.8799 -- SQ=0.7713 -- PQ=0.6787 -- AJI=0.6502 PredSize=(1000, 1000) GTSize=(1000, 1000)\n",
      "\n",
      "ProcessONeMask\n",
      "TCGA-MH-A561-01Z-00-DX1 -- DQ=0.8776 -- SQ=0.7239 -- PQ=0.6353 -- AJI=0.6391 PredSize=(1000, 1000) GTSize=(1000, 1000)\n",
      "\n",
      "ProcessONeMask\n",
      "TCGA-E2-A1B5-01Z-00-DX1 -- DQ=0.7931 -- SQ=0.7371 -- PQ=0.5846 -- AJI=0.5938 PredSize=(1000, 1000) GTSize=(1000, 1000)\n",
      "\n",
      "ProcessONeMask\n",
      "TCGA-B0-5698-01Z-00-DX1 -- DQ=0.7538 -- SQ=0.7248 -- PQ=0.5464 -- AJI=0.5033 PredSize=(1000, 1000) GTSize=(1000, 1000)\n",
      "\n",
      "ProcessONeMask\n",
      "TCGA-FG-A4MU-01B-01-TS1 -- DQ=0.8901 -- SQ=0.7590 -- PQ=0.6755 -- AJI=0.6884 PredSize=(1000, 1000) GTSize=(1000, 1000)\n",
      "\n",
      "ProcessONeMask\n",
      "TCGA-2Z-A9J9-01A-01-TS1 -- DQ=0.8820 -- SQ=0.7211 -- PQ=0.6360 -- AJI=0.6354 PredSize=(1000, 1000) GTSize=(1000, 1000)\n",
      "\n",
      "ProcessONeMask\n",
      "TCGA-CH-5767-01Z-00-DX1 -- DQ=0.8076 -- SQ=0.7630 -- PQ=0.6161 -- AJI=0.5794 PredSize=(1000, 1000) GTSize=(1000, 1000)\n",
      "\n",
      "ProcessONeMask\n",
      "TCGA-AC-A2FO-01A-01-TS1 -- DQ=0.8390 -- SQ=0.6358 -- PQ=0.5334 -- AJI=0.5138 PredSize=(1000, 1000) GTSize=(1000, 1000)\n",
      "\n",
      "ProcessONeMask\n",
      "TCGA-21-5786-01Z-00-DX1 -- DQ=0.8172 -- SQ=0.7041 -- PQ=0.5754 -- AJI=0.5682 PredSize=(1000, 1000) GTSize=(1000, 1000)\n",
      "\n",
      "ProcessONeMask\n",
      "TCGA-G9-6363-01Z-00-DX1 -- DQ=0.7901 -- SQ=0.7851 -- PQ=0.6203 -- AJI=0.5929 PredSize=(1000, 1000) GTSize=(1000, 1000)\n",
      "\n",
      "ProcessONeMask\n",
      "TCGA-RD-A8N9-01A-01-TS1 -- DQ=0.9170 -- SQ=0.8128 -- PQ=0.7453 -- AJI=0.7560 PredSize=(1000, 1000) GTSize=(1000, 1000)\n",
      "\n",
      "ProcessONeMask\n",
      "TCGA-44-2665-01B-06-BS6 -- DQ=0.9215 -- SQ=0.7902 -- PQ=0.7282 -- AJI=0.7118 PredSize=(1000, 1000) GTSize=(1000, 1000)\n",
      "\n",
      "ProcessONeMask\n",
      "TCGA-EJ-A46H-01A-03-TSC -- DQ=0.9048 -- SQ=0.7760 -- PQ=0.7021 -- AJI=0.6979 PredSize=(1000, 1000) GTSize=(1000, 1000)\n",
      "\n",
      "ProcessONeMask\n",
      "TCGA-A7-A13E-01Z-00-DX1 -- DQ=0.8164 -- SQ=0.7599 -- PQ=0.6204 -- AJI=0.6099 PredSize=(1000, 1000) GTSize=(1000, 1000)\n",
      "\n",
      "ProcessONeMask\n",
      "TCGA-FG-A87N-01Z-00-DX1 -- DQ=0.8760 -- SQ=0.7216 -- PQ=0.6321 -- AJI=0.6381 PredSize=(1000, 1000) GTSize=(1000, 1000)\n",
      "\n",
      "ProcessONeMask\n",
      "TCGA-18-5592-01Z-00-DX1 -- DQ=0.7358 -- SQ=0.6719 -- PQ=0.4943 -- AJI=0.4652 PredSize=(1000, 1000) GTSize=(1000, 1000)\n",
      "\n",
      "ProcessONeMask\n",
      "TCGA-HT-8564-01Z-00-DX1 -- DQ=0.9062 -- SQ=0.6907 -- PQ=0.6259 -- AJI=0.6306 PredSize=(1000, 1000) GTSize=(1000, 1000)\n",
      "\n",
      "ProcessONeMask\n",
      "TCGA-ZF-A9R5-01A-01-TS1 -- DQ=0.9089 -- SQ=0.7352 -- PQ=0.6682 -- AJI=0.6853 PredSize=(1000, 1000) GTSize=(1000, 1000)\n",
      "\n",
      "ProcessONeMask\n",
      "TCGA-UZ-A9PJ-01Z-00-DX1 -- DQ=0.8777 -- SQ=0.7145 -- PQ=0.6271 -- AJI=0.6080 PredSize=(1000, 1000) GTSize=(1000, 1000)\n",
      "\n",
      "ProcessONeMask\n",
      "TCGA-F9-A8NY-01Z-00-DX1 -- DQ=0.9038 -- SQ=0.7341 -- PQ=0.6635 -- AJI=0.6450 PredSize=(1000, 1000) GTSize=(1000, 1000)\n",
      "\n",
      "ProcessONeMask\n",
      "TCGA-G9-6336-01Z-00-DX1 -- DQ=0.7405 -- SQ=0.7616 -- PQ=0.5640 -- AJI=0.4968 PredSize=(1000, 1000) GTSize=(1000, 1000)\n",
      "\n",
      "ProcessONeMask\n",
      "TCGA-A7-A13F-01Z-00-DX1 -- DQ=0.8839 -- SQ=0.7594 -- PQ=0.6712 -- AJI=0.6733 PredSize=(1000, 1000) GTSize=(1000, 1000)\n",
      "\n",
      "ProcessONeMask\n",
      "TCGA-BC-A217-01Z-00-DX1 -- DQ=0.9357 -- SQ=0.7670 -- PQ=0.7177 -- AJI=0.7355 PredSize=(1000, 1000) GTSize=(1000, 1000)\n",
      "\n",
      "ProcessONeMask\n",
      "TCGA-GL-6846-01A-01-BS1 -- DQ=0.8933 -- SQ=0.7564 -- PQ=0.6757 -- AJI=0.6727 PredSize=(1000, 1000) GTSize=(1000, 1000)\n",
      "\n",
      "TCGA-AR-A1AS-01Z-00-DX1 -- DQ=0.8977 -- SQ=0.7538 -- PQ=0.6767 -- AJI=0.6568 PredSize=(1000, 1000) GTSize=(1000, 1000)\n",
      "\n",
      "TCGA-21-5784-01Z-00-DX1 -- DQ=0.7551 -- SQ=0.7327 -- PQ=0.5532 -- AJI=0.5751 PredSize=(1000, 1000) GTSize=(1000, 1000)\n",
      "\n",
      "TCGA-AO-A0J2-01A-01-BSA -- DQ=0.8615 -- SQ=0.7089 -- PQ=0.6107 -- AJI=0.6172 PredSize=(1000, 1000) GTSize=(1000, 1000)\n",
      "\n",
      "TCGA-NH-A8F7-01A-01-TS1 -- DQ=0.7888 -- SQ=0.7080 -- PQ=0.5584 -- AJI=0.5885 PredSize=(1000, 1000) GTSize=(1000, 1000)\n",
      "\n",
      "TCGA-HE-7129-01Z-00-DX1 -- DQ=0.7772 -- SQ=0.7223 -- PQ=0.5613 -- AJI=0.5320 PredSize=(1000, 1000) GTSize=(1000, 1000)\n",
      "\n",
      "TCGA-38-6178-01Z-00-DX1 -- DQ=0.7380 -- SQ=0.7211 -- PQ=0.5322 -- AJI=0.5461 PredSize=(1000, 1000) GTSize=(1000, 1000)\n",
      "\n",
      "TCGA-G9-6348-01Z-00-DX1 -- DQ=0.8244 -- SQ=0.7735 -- PQ=0.6377 -- AJI=0.6139 PredSize=(1000, 1000) GTSize=(1000, 1000)\n",
      "\n",
      "TCGA-UZ-A9PN-01Z-00-DX1 -- DQ=0.9015 -- SQ=0.7741 -- PQ=0.6979 -- AJI=0.6942 PredSize=(1000, 1000) GTSize=(1000, 1000)\n",
      "\n",
      "TCGA-69-7764-01A-01-TS1 -- DQ=0.8439 -- SQ=0.7712 -- PQ=0.6508 -- AJI=0.6435 PredSize=(1000, 1000) GTSize=(1000, 1000)\n",
      "\n",
      "TCGA-XS-A8TJ-01Z-00-DX1 -- DQ=0.8812 -- SQ=0.7323 -- PQ=0.6454 -- AJI=0.6428 PredSize=(1000, 1000) GTSize=(1000, 1000)\n",
      "\n",
      "TCGA-E2-A14V-01Z-00-DX1 -- DQ=0.8560 -- SQ=0.7869 -- PQ=0.6736 -- AJI=0.6680 PredSize=(1000, 1000) GTSize=(1000, 1000)\n",
      "\n",
      "TCGA-G9-6362-01Z-00-DX1 -- DQ=0.8929 -- SQ=0.7706 -- PQ=0.6881 -- AJI=0.6638 PredSize=(1000, 1000) GTSize=(1000, 1000)\n",
      "\n",
      "TCGA-HE-7130-01Z-00-DX1 -- DQ=0.7670 -- SQ=0.7274 -- PQ=0.5579 -- AJI=0.5725 PredSize=(1000, 1000) GTSize=(1000, 1000)\n",
      "\n",
      "TCGA-HE-7128-01Z-00-DX1 -- DQ=0.8948 -- SQ=0.7112 -- PQ=0.6364 -- AJI=0.6311 PredSize=(1000, 1000) GTSize=(1000, 1000)\n",
      "\n",
      "TCGA-KB-A93J-01A-01-TS1 -- DQ=0.9215 -- SQ=0.8138 -- PQ=0.7499 -- AJI=0.7630 PredSize=(1000, 1000) GTSize=(1000, 1000)\n",
      "\n",
      "51\n",
      "\n",
      "=== Finished! ===\n",
      "Collected results (subset shown):\n",
      "\n",
      "may_dims64_depth3_may ####################\n",
      "Found 51 mask files, sample: ['/workspace/deepseek_test/yolo-nuke/Segmentation/monuseg/annotations/TCGA-HC-7209-01A-01-TS1.npy', '/workspace/deepseek_test/yolo-nuke/Segmentation/monuseg/annotations/TCGA-IZ-8196-01A-01-BS1.npy', '/workspace/deepseek_test/yolo-nuke/Segmentation/monuseg/annotations/TCGA-B0-5710-01Z-00-DX1.npy', '/workspace/deepseek_test/yolo-nuke/Segmentation/monuseg/annotations/TCGA-G2-A2EK-01A-02-TSB.npy', '/workspace/deepseek_test/yolo-nuke/Segmentation/monuseg/annotations/TCGA-50-5931-01Z-00-DX1.npy']\n",
      "ProcessONeMaskProcessONeMaskProcessONeMaskProcessONeMaskProcessONeMaskProcessONeMaskProcessONeMaskProcessONeMaskProcessONeMaskProcessONeMaskProcessONeMaskProcessONeMaskProcessONeMaskProcessONeMaskProcessONeMaskProcessONeMask\n",
      "\n",
      "\n",
      "\n",
      "\n",
      "\n",
      "\n",
      "\n",
      "\n",
      "\n",
      "\n",
      "\n",
      "\n",
      "\n",
      "\n",
      "\n",
      "TCGA-B0-5711-01Z-00-DX1 -- DQ=0.8018 -- SQ=0.7251 -- PQ=0.5814 -- AJI=0.6339 PredSize=(1000, 1000) GTSize=(1000, 1000)\n",
      "\n",
      "ProcessONeMask\n",
      "TCGA-AY-A8YK-01A-01-TS1 -- DQ=0.7620 -- SQ=0.6748 -- PQ=0.5142 -- AJI=0.5281 PredSize=(1000, 1000) GTSize=(1000, 1000)\n",
      "\n",
      "ProcessONeMask\n",
      "TCGA-DK-A2I6-01A-01-TS1 -- DQ=0.8243 -- SQ=0.7864 -- PQ=0.6483 -- AJI=0.7008 PredSize=(1000, 1000) GTSize=(1000, 1000)\n",
      "\n",
      "ProcessONeMask\n",
      "TCGA-B0-5710-01Z-00-DX1 -- DQ=0.8966 -- SQ=0.7489 -- PQ=0.6714 -- AJI=0.6764 PredSize=(1000, 1000) GTSize=(1000, 1000)\n",
      "\n",
      "ProcessONeMask\n",
      "TCGA-HC-7209-01A-01-TS1 -- DQ=0.8808 -- SQ=0.7547 -- PQ=0.6647 -- AJI=0.6708 PredSize=(1000, 1000) GTSize=(1000, 1000)\n",
      "\n",
      "ProcessONeMask\n",
      "TCGA-A6-6782-01A-01-BS1 -- DQ=0.8568 -- SQ=0.7110 -- PQ=0.6092 -- AJI=0.5932 PredSize=(1000, 1000) GTSize=(1000, 1000)\n",
      "\n",
      "ProcessONeMask\n",
      "TCGA-G2-A2EK-01A-02-TSB -- DQ=0.7737 -- SQ=0.7454 -- PQ=0.5767 -- AJI=0.6397 PredSize=(1000, 1000) GTSize=(1000, 1000)\n",
      "\n",
      "ProcessONeMask\n",
      "TCGA-50-5931-01Z-00-DX1 -- DQ=0.6408 -- SQ=0.6988 -- PQ=0.4478 -- AJI=0.3942 PredSize=(1000, 1000) GTSize=(1000, 1000)\n",
      "\n",
      "ProcessONeMask\n",
      "TCGA-AR-A1AK-01Z-00-DX1 -- DQ=0.8565 -- SQ=0.7439 -- PQ=0.6372 -- AJI=0.6109 PredSize=(1000, 1000) GTSize=(1000, 1000)\n",
      "\n",
      "ProcessONeMask\n",
      "TCGA-G9-6356-01Z-00-DX1 -- DQ=0.9103 -- SQ=0.8126 -- PQ=0.7397 -- AJI=0.7290 PredSize=(1000, 1000) GTSize=(1000, 1000)\n",
      "\n",
      "ProcessONeMask\n",
      "TCGA-IZ-8196-01A-01-BS1 -- DQ=0.9220 -- SQ=0.7684 -- PQ=0.7084 -- AJI=0.7021 PredSize=(1000, 1000) GTSize=(1000, 1000)\n",
      "\n",
      "ProcessONeMask\n",
      "TCGA-49-4488-01Z-00-DX1 -- DQ=0.8553 -- SQ=0.7267 -- PQ=0.6215 -- AJI=0.6201 PredSize=(1000, 1000) GTSize=(1000, 1000)\n",
      "\n",
      "ProcessONeMask\n",
      "TCGA-MH-A561-01Z-00-DX1 -- DQ=0.8783 -- SQ=0.7293 -- PQ=0.6405 -- AJI=0.6404 PredSize=(1000, 1000) GTSize=(1000, 1000)\n",
      "\n",
      "ProcessONeMask\n",
      "TCGA-E2-A1B5-01Z-00-DX1 -- DQ=0.7962 -- SQ=0.7226 -- PQ=0.5754 -- AJI=0.5847 PredSize=(1000, 1000) GTSize=(1000, 1000)\n",
      "\n",
      "ProcessONeMask\n",
      "TCGA-CU-A0YN-01A-02-BSB -- DQ=0.8766 -- SQ=0.7548 -- PQ=0.6616 -- AJI=0.6328 PredSize=(1000, 1000) GTSize=(1000, 1000)\n",
      "\n",
      "ProcessONeMask\n",
      "TCGA-B0-5698-01Z-00-DX1 -- DQ=0.7572 -- SQ=0.7223 -- PQ=0.5470 -- AJI=0.5068 PredSize=(1000, 1000) GTSize=(1000, 1000)\n",
      "\n",
      "ProcessONeMask\n",
      "TCGA-FG-A4MU-01B-01-TS1 -- DQ=0.8901 -- SQ=0.7623 -- PQ=0.6785 -- AJI=0.6914 PredSize=(1000, 1000) GTSize=(1000, 1000)\n",
      "\n",
      "ProcessONeMask\n",
      "TCGA-AC-A2FO-01A-01-TS1 -- DQ=0.8441 -- SQ=0.6528 -- PQ=0.5510 -- AJI=0.5267 PredSize=(1000, 1000) GTSize=(1000, 1000)\n",
      "\n",
      "ProcessONeMask\n",
      "TCGA-2Z-A9J9-01A-01-TS1 -- DQ=0.8822 -- SQ=0.7268 -- PQ=0.6412 -- AJI=0.6355 PredSize=(1000, 1000) GTSize=(1000, 1000)\n",
      "\n",
      "ProcessONeMask\n",
      "TCGA-21-5786-01Z-00-DX1 -- DQ=0.8206 -- SQ=0.7105 -- PQ=0.5830 -- AJI=0.5754 PredSize=(1000, 1000) GTSize=(1000, 1000)\n",
      "\n",
      "ProcessONeMask\n",
      "TCGA-CH-5767-01Z-00-DX1 -- DQ=0.8144 -- SQ=0.7580 -- PQ=0.6173 -- AJI=0.5805 PredSize=(1000, 1000) GTSize=(1000, 1000)\n",
      "\n",
      "ProcessONeMask\n",
      "TCGA-G9-6363-01Z-00-DX1 -- DQ=0.7901 -- SQ=0.7884 -- PQ=0.6230 -- AJI=0.5962 PredSize=(1000, 1000) GTSize=(1000, 1000)\n",
      "\n",
      "ProcessONeMask\n",
      "TCGA-44-2665-01B-06-BS6 -- DQ=0.9186 -- SQ=0.7881 -- PQ=0.7239 -- AJI=0.7084 PredSize=(1000, 1000) GTSize=(1000, 1000)\n",
      "\n",
      "ProcessONeMask\n",
      "TCGA-RD-A8N9-01A-01-TS1 -- DQ=0.9152 -- SQ=0.8043 -- PQ=0.7361 -- AJI=0.7475 PredSize=(1000, 1000) GTSize=(1000, 1000)\n",
      "\n",
      "ProcessONeMask\n",
      "TCGA-EJ-A46H-01A-03-TSC -- DQ=0.9009 -- SQ=0.7624 -- PQ=0.6869 -- AJI=0.6858 PredSize=(1000, 1000) GTSize=(1000, 1000)\n",
      "\n",
      "ProcessONeMask\n",
      "TCGA-A7-A13E-01Z-00-DX1 -- DQ=0.8085 -- SQ=0.7565 -- PQ=0.6116 -- AJI=0.6022 PredSize=(1000, 1000) GTSize=(1000, 1000)\n",
      "\n",
      "ProcessONeMask\n",
      "TCGA-HT-8564-01Z-00-DX1 -- DQ=0.9062 -- SQ=0.6970 -- PQ=0.6316 -- AJI=0.6351 PredSize=(1000, 1000) GTSize=(1000, 1000)\n",
      "\n",
      "ProcessONeMask\n",
      "TCGA-ZF-A9R5-01A-01-TS1 -- DQ=0.9101 -- SQ=0.7475 -- PQ=0.6802 -- AJI=0.6968 PredSize=(1000, 1000) GTSize=(1000, 1000)\n",
      "\n",
      "ProcessONeMask\n",
      "TCGA-F9-A8NY-01Z-00-DX1 -- DQ=0.9006 -- SQ=0.7300 -- PQ=0.6574 -- AJI=0.6394 PredSize=(1000, 1000) GTSize=(1000, 1000)\n",
      "\n",
      "ProcessONeMask\n",
      "TCGA-UZ-A9PJ-01Z-00-DX1 -- DQ=0.8787 -- SQ=0.7188 -- PQ=0.6316 -- AJI=0.6121 PredSize=(1000, 1000) GTSize=(1000, 1000)\n",
      "\n",
      "ProcessONeMask\n",
      "TCGA-A7-A13F-01Z-00-DX1 -- DQ=0.8810 -- SQ=0.7534 -- PQ=0.6638 -- AJI=0.6681 PredSize=(1000, 1000) GTSize=(1000, 1000)\n",
      "\n",
      "ProcessONeMask\n",
      "TCGA-18-5592-01Z-00-DX1 -- DQ=0.7434 -- SQ=0.6898 -- PQ=0.5128 -- AJI=0.4816 PredSize=(1000, 1000) GTSize=(1000, 1000)\n",
      "\n",
      "ProcessONeMask\n",
      "TCGA-FG-A87N-01Z-00-DX1 -- DQ=0.8780 -- SQ=0.7230 -- PQ=0.6348 -- AJI=0.6374 PredSize=(1000, 1000) GTSize=(1000, 1000)\n",
      "\n",
      "ProcessONeMask\n",
      "TCGA-G9-6336-01Z-00-DX1 -- DQ=0.7432 -- SQ=0.7615 -- PQ=0.5659 -- AJI=0.4994 PredSize=(1000, 1000) GTSize=(1000, 1000)\n",
      "\n",
      "ProcessONeMask\n",
      "TCGA-BC-A217-01Z-00-DX1 -- DQ=0.9290 -- SQ=0.7645 -- PQ=0.7102 -- AJI=0.7301 PredSize=(1000, 1000) GTSize=(1000, 1000)\n",
      "\n",
      "ProcessONeMask\n",
      "TCGA-GL-6846-01A-01-BS1 -- DQ=0.8880 -- SQ=0.7660 -- PQ=0.6802 -- AJI=0.6775 PredSize=(1000, 1000) GTSize=(1000, 1000)\n",
      "\n",
      "TCGA-AR-A1AS-01Z-00-DX1 -- DQ=0.9001 -- SQ=0.7588 -- PQ=0.6830 -- AJI=0.6644 PredSize=(1000, 1000) GTSize=(1000, 1000)\n",
      "\n",
      "TCGA-XS-A8TJ-01Z-00-DX1 -- DQ=0.8744 -- SQ=0.7186 -- PQ=0.6284 -- AJI=0.6292 PredSize=(1000, 1000) GTSize=(1000, 1000)\n",
      "\n",
      "TCGA-21-5784-01Z-00-DX1 -- DQ=0.7551 -- SQ=0.7212 -- PQ=0.5445 -- AJI=0.5689 PredSize=(1000, 1000) GTSize=(1000, 1000)\n",
      "\n",
      "TCGA-UZ-A9PN-01Z-00-DX1 -- DQ=0.9017 -- SQ=0.7592 -- PQ=0.6845 -- AJI=0.6812 PredSize=(1000, 1000) GTSize=(1000, 1000)\n",
      "\n",
      "TCGA-AO-A0J2-01A-01-BSA -- DQ=0.8575 -- SQ=0.7233 -- PQ=0.6202 -- AJI=0.6277 PredSize=(1000, 1000) GTSize=(1000, 1000)\n",
      "\n",
      "TCGA-NH-A8F7-01A-01-TS1 -- DQ=0.7936 -- SQ=0.7176 -- PQ=0.5695 -- AJI=0.5955 PredSize=(1000, 1000) GTSize=(1000, 1000)\n",
      "\n",
      "TCGA-HE-7129-01Z-00-DX1 -- DQ=0.7699 -- SQ=0.6887 -- PQ=0.5302 -- AJI=0.5134 PredSize=(1000, 1000) GTSize=(1000, 1000)\n",
      "\n",
      "TCGA-G9-6348-01Z-00-DX1 -- DQ=0.8192 -- SQ=0.7725 -- PQ=0.6328 -- AJI=0.6142 PredSize=(1000, 1000) GTSize=(1000, 1000)\n",
      "\n",
      "TCGA-38-6178-01Z-00-DX1 -- DQ=0.7476 -- SQ=0.7060 -- PQ=0.5278 -- AJI=0.5418 PredSize=(1000, 1000) GTSize=(1000, 1000)\n",
      "\n",
      "TCGA-69-7764-01A-01-TS1 -- DQ=0.8458 -- SQ=0.7721 -- PQ=0.6530 -- AJI=0.6426 PredSize=(1000, 1000) GTSize=(1000, 1000)\n",
      "\n",
      "TCGA-G9-6362-01Z-00-DX1 -- DQ=0.8900 -- SQ=0.7662 -- PQ=0.6820 -- AJI=0.6582 PredSize=(1000, 1000) GTSize=(1000, 1000)\n",
      "\n",
      "TCGA-E2-A14V-01Z-00-DX1 -- DQ=0.8464 -- SQ=0.7786 -- PQ=0.6590 -- AJI=0.6623 PredSize=(1000, 1000) GTSize=(1000, 1000)\n",
      "\n",
      "TCGA-HE-7130-01Z-00-DX1 -- DQ=0.7546 -- SQ=0.7037 -- PQ=0.5310 -- AJI=0.5604 PredSize=(1000, 1000) GTSize=(1000, 1000)\n",
      "\n",
      "TCGA-HE-7128-01Z-00-DX1 -- DQ=0.8748 -- SQ=0.6536 -- PQ=0.5718 -- AJI=0.5823 PredSize=(1000, 1000) GTSize=(1000, 1000)\n",
      "\n",
      "TCGA-KB-A93J-01A-01-TS1 -- DQ=0.9186 -- SQ=0.8037 -- PQ=0.7382 -- AJI=0.7530 PredSize=(1000, 1000) GTSize=(1000, 1000)\n",
      "\n",
      "51\n",
      "\n",
      "=== Finished! ===\n",
      "Collected results (subset shown):\n",
      "\n",
      "may_dims96_depth4_may ####################\n",
      "Found 51 mask files, sample: ['/workspace/deepseek_test/yolo-nuke/Segmentation/monuseg/annotations/TCGA-HC-7209-01A-01-TS1.npy', '/workspace/deepseek_test/yolo-nuke/Segmentation/monuseg/annotations/TCGA-IZ-8196-01A-01-BS1.npy', '/workspace/deepseek_test/yolo-nuke/Segmentation/monuseg/annotations/TCGA-B0-5710-01Z-00-DX1.npy', '/workspace/deepseek_test/yolo-nuke/Segmentation/monuseg/annotations/TCGA-G2-A2EK-01A-02-TSB.npy', '/workspace/deepseek_test/yolo-nuke/Segmentation/monuseg/annotations/TCGA-50-5931-01Z-00-DX1.npy']\n",
      "ProcessONeMaskProcessONeMaskProcessONeMaskProcessONeMaskProcessONeMaskProcessONeMaskProcessONeMaskProcessONeMaskProcessONeMaskProcessONeMaskProcessONeMaskProcessONeMaskProcessONeMaskProcessONeMaskProcessONeMaskProcessONeMask\n",
      "\n",
      "\n",
      "\n",
      "\n",
      "\n",
      "\n",
      "\n",
      "\n",
      "\n",
      "\n",
      "\n",
      "\n",
      "\n",
      "\n",
      "\n",
      "TCGA-DK-A2I6-01A-01-TS1 -- DQ=0.8243 -- SQ=0.7939 -- PQ=0.6544 -- AJI=0.7120 PredSize=(1000, 1000) GTSize=(1000, 1000)\n",
      "\n",
      "ProcessONeMask\n",
      "TCGA-B0-5711-01Z-00-DX1 -- DQ=0.7868 -- SQ=0.7025 -- PQ=0.5527 -- AJI=0.6141 PredSize=(1000, 1000) GTSize=(1000, 1000)\n",
      "\n",
      "ProcessONeMask\n",
      "TCGA-G2-A2EK-01A-02-TSB -- DQ=0.7804 -- SQ=0.7397 -- PQ=0.5773 -- AJI=0.6416 PredSize=(1000, 1000) GTSize=(1000, 1000)\n",
      "\n",
      "ProcessONeMask\n",
      "TCGA-AY-A8YK-01A-01-TS1 -- DQ=0.7696 -- SQ=0.6851 -- PQ=0.5273 -- AJI=0.5404 PredSize=(1000, 1000) GTSize=(1000, 1000)\n",
      "\n",
      "ProcessONeMask\n",
      "TCGA-B0-5710-01Z-00-DX1 -- DQ=0.8966 -- SQ=0.7444 -- PQ=0.6674 -- AJI=0.6752 PredSize=(1000, 1000) GTSize=(1000, 1000)\n",
      "\n",
      "ProcessONeMask\n",
      "TCGA-HC-7209-01A-01-TS1 -- DQ=0.8895 -- SQ=0.7423 -- PQ=0.6603 -- AJI=0.6690 PredSize=(1000, 1000) GTSize=(1000, 1000)\n",
      "\n",
      "ProcessONeMask\n",
      "TCGA-50-5931-01Z-00-DX1 -- DQ=0.6568 -- SQ=0.7012 -- PQ=0.4606 -- AJI=0.4023 PredSize=(1000, 1000) GTSize=(1000, 1000)\n",
      "\n",
      "ProcessONeMask\n",
      "TCGA-G9-6356-01Z-00-DX1 -- DQ=0.9147 -- SQ=0.7949 -- PQ=0.7271 -- AJI=0.7175 PredSize=(1000, 1000) GTSize=(1000, 1000)\n",
      "\n",
      "ProcessONeMask\n",
      "TCGA-IZ-8196-01A-01-BS1 -- DQ=0.9228 -- SQ=0.7660 -- PQ=0.7068 -- AJI=0.7009 PredSize=(1000, 1000) GTSize=(1000, 1000)\n",
      "\n",
      "ProcessONeMask\n",
      "TCGA-AR-A1AK-01Z-00-DX1 -- DQ=0.8544 -- SQ=0.7421 -- PQ=0.6341 -- AJI=0.6116 PredSize=(1000, 1000) GTSize=(1000, 1000)\n",
      "\n",
      "ProcessONeMask\n",
      "TCGA-A6-6782-01A-01-BS1 -- DQ=0.8503 -- SQ=0.7074 -- PQ=0.6015 -- AJI=0.5920 PredSize=(1000, 1000) GTSize=(1000, 1000)\n",
      "\n",
      "ProcessONeMask\n",
      "TCGA-49-4488-01Z-00-DX1 -- DQ=0.8636 -- SQ=0.7398 -- PQ=0.6389 -- AJI=0.6362 PredSize=(1000, 1000) GTSize=(1000, 1000)\n",
      "\n",
      "ProcessONeMask\n",
      "TCGA-B0-5698-01Z-00-DX1 -- DQ=0.7504 -- SQ=0.7230 -- PQ=0.5425 -- AJI=0.5091 PredSize=(1000, 1000) GTSize=(1000, 1000)\n",
      "\n",
      "ProcessONeMask\n",
      "TCGA-CU-A0YN-01A-02-BSB -- DQ=0.8750 -- SQ=0.7318 -- PQ=0.6403 -- AJI=0.6200 PredSize=(1000, 1000) GTSize=(1000, 1000)\n",
      "\n",
      "ProcessONeMask\n",
      "TCGA-MH-A561-01Z-00-DX1 -- DQ=0.8823 -- SQ=0.7374 -- PQ=0.6506 -- AJI=0.6489 PredSize=(1000, 1000) GTSize=(1000, 1000)\n",
      "\n",
      "ProcessONeMask\n",
      "TCGA-FG-A4MU-01B-01-TS1 -- DQ=0.8858 -- SQ=0.7564 -- PQ=0.6700 -- AJI=0.6866 PredSize=(1000, 1000) GTSize=(1000, 1000)\n",
      "\n",
      "ProcessONeMask\n",
      "TCGA-E2-A1B5-01Z-00-DX1 -- DQ=0.7837 -- SQ=0.7049 -- PQ=0.5524 -- AJI=0.5686 PredSize=(1000, 1000) GTSize=(1000, 1000)\n",
      "\n",
      "ProcessONeMask\n",
      "TCGA-2Z-A9J9-01A-01-TS1 -- DQ=0.8739 -- SQ=0.7314 -- PQ=0.6392 -- AJI=0.6372 PredSize=(1000, 1000) GTSize=(1000, 1000)\n",
      "\n",
      "ProcessONeMask\n",
      "TCGA-AC-A2FO-01A-01-TS1 -- DQ=0.8538 -- SQ=0.6804 -- PQ=0.5810 -- AJI=0.5516 PredSize=(1000, 1000) GTSize=(1000, 1000)\n",
      "\n",
      "ProcessONeMask\n",
      "TCGA-21-5786-01Z-00-DX1 -- DQ=0.8244 -- SQ=0.7138 -- PQ=0.5885 -- AJI=0.5812 PredSize=(1000, 1000) GTSize=(1000, 1000)\n",
      "\n",
      "ProcessONeMask\n",
      "TCGA-CH-5767-01Z-00-DX1 -- DQ=0.8076 -- SQ=0.7586 -- PQ=0.6126 -- AJI=0.5796 PredSize=(1000, 1000) GTSize=(1000, 1000)\n",
      "\n",
      "ProcessONeMask\n",
      "TCGA-44-2665-01B-06-BS6 -- DQ=0.9162 -- SQ=0.7731 -- PQ=0.7083 -- AJI=0.6979 PredSize=(1000, 1000) GTSize=(1000, 1000)\n",
      "\n",
      "ProcessONeMask\n",
      "TCGA-G9-6363-01Z-00-DX1 -- DQ=0.7901 -- SQ=0.7808 -- PQ=0.6170 -- AJI=0.5981 PredSize=(1000, 1000) GTSize=(1000, 1000)\n",
      "\n",
      "ProcessONeMask\n",
      "TCGA-RD-A8N9-01A-01-TS1 -- DQ=0.9152 -- SQ=0.7716 -- PQ=0.7061 -- AJI=0.7243 PredSize=(1000, 1000) GTSize=(1000, 1000)\n",
      "\n",
      "ProcessONeMask\n",
      "TCGA-EJ-A46H-01A-03-TSC -- DQ=0.9007 -- SQ=0.7395 -- PQ=0.6661 -- AJI=0.6711 PredSize=(1000, 1000) GTSize=(1000, 1000)\n",
      "\n",
      "ProcessONeMask\n",
      "TCGA-A7-A13E-01Z-00-DX1 -- DQ=0.8148 -- SQ=0.7285 -- PQ=0.5936 -- AJI=0.5907 PredSize=(1000, 1000) GTSize=(1000, 1000)\n",
      "\n",
      "ProcessONeMask\n",
      "TCGA-HT-8564-01Z-00-DX1 -- DQ=0.9062 -- SQ=0.7049 -- PQ=0.6388 -- AJI=0.6443 PredSize=(1000, 1000) GTSize=(1000, 1000)\n",
      "\n",
      "ProcessONeMask\n",
      "TCGA-F9-A8NY-01Z-00-DX1 -- DQ=0.9028 -- SQ=0.7225 -- PQ=0.6523 -- AJI=0.6372 PredSize=(1000, 1000) GTSize=(1000, 1000)\n",
      "\n",
      "ProcessONeMask\n",
      "TCGA-ZF-A9R5-01A-01-TS1 -- DQ=0.9079 -- SQ=0.7604 -- PQ=0.6904 -- AJI=0.7105 PredSize=(1000, 1000) GTSize=(1000, 1000)\n",
      "\n",
      "ProcessONeMask\n",
      "TCGA-UZ-A9PJ-01Z-00-DX1 -- DQ=0.8797 -- SQ=0.7265 -- PQ=0.6391 -- AJI=0.6213 PredSize=(1000, 1000) GTSize=(1000, 1000)\n",
      "\n",
      "ProcessONeMask\n",
      "TCGA-18-5592-01Z-00-DX1 -- DQ=0.7509 -- SQ=0.7046 -- PQ=0.5291 -- AJI=0.4943 PredSize=(1000, 1000) GTSize=(1000, 1000)\n",
      "\n",
      "ProcessONeMask\n",
      "TCGA-A7-A13F-01Z-00-DX1 -- DQ=0.8725 -- SQ=0.7314 -- PQ=0.6381 -- AJI=0.6535 PredSize=(1000, 1000) GTSize=(1000, 1000)\n",
      "\n",
      "ProcessONeMask\n",
      "TCGA-G9-6336-01Z-00-DX1 -- DQ=0.7484 -- SQ=0.7617 -- PQ=0.5700 -- AJI=0.5047 PredSize=(1000, 1000) GTSize=(1000, 1000)\n",
      "\n",
      "ProcessONeMask\n",
      "TCGA-BC-A217-01Z-00-DX1 -- DQ=0.9317 -- SQ=0.7510 -- PQ=0.6997 -- AJI=0.7223 PredSize=(1000, 1000) GTSize=(1000, 1000)\n",
      "\n",
      "ProcessONeMask\n",
      "TCGA-FG-A87N-01Z-00-DX1 -- DQ=0.8780 -- SQ=0.7306 -- PQ=0.6415 -- AJI=0.6445 PredSize=(1000, 1000) GTSize=(1000, 1000)\n",
      "\n",
      "ProcessONeMask\n",
      "TCGA-GL-6846-01A-01-BS1 -- DQ=0.8906 -- SQ=0.7715 -- PQ=0.6871 -- AJI=0.6850 PredSize=(1000, 1000) GTSize=(1000, 1000)\n",
      "\n",
      "TCGA-AR-A1AS-01Z-00-DX1 -- DQ=0.8953 -- SQ=0.7625 -- PQ=0.6827 -- AJI=0.6678 PredSize=(1000, 1000) GTSize=(1000, 1000)\n",
      "\n",
      "TCGA-UZ-A9PN-01Z-00-DX1 -- DQ=0.9007 -- SQ=0.7471 -- PQ=0.6729 -- AJI=0.6759 PredSize=(1000, 1000) GTSize=(1000, 1000)\n",
      "\n",
      "TCGA-XS-A8TJ-01Z-00-DX1 -- DQ=0.8759 -- SQ=0.7078 -- PQ=0.6200 -- AJI=0.6245 PredSize=(1000, 1000) GTSize=(1000, 1000)\n",
      "\n",
      "TCGA-21-5784-01Z-00-DX1 -- DQ=0.7371 -- SQ=0.7136 -- PQ=0.5260 -- AJI=0.5648 PredSize=(1000, 1000) GTSize=(1000, 1000)\n",
      "\n",
      "TCGA-AO-A0J2-01A-01-BSA -- DQ=0.8547 -- SQ=0.7355 -- PQ=0.6287 -- AJI=0.6374 PredSize=(1000, 1000) GTSize=(1000, 1000)\n",
      "\n",
      "TCGA-NH-A8F7-01A-01-TS1 -- DQ=0.7909 -- SQ=0.7287 -- PQ=0.5763 -- AJI=0.6082 PredSize=(1000, 1000) GTSize=(1000, 1000)\n",
      "\n",
      "TCGA-38-6178-01Z-00-DX1 -- DQ=0.7308 -- SQ=0.6921 -- PQ=0.5058 -- AJI=0.5351 PredSize=(1000, 1000) GTSize=(1000, 1000)\n",
      "\n",
      "TCGA-G9-6348-01Z-00-DX1 -- DQ=0.8281 -- SQ=0.7579 -- PQ=0.6277 -- AJI=0.6099 PredSize=(1000, 1000) GTSize=(1000, 1000)\n",
      "\n",
      "TCGA-HE-7129-01Z-00-DX1 -- DQ=0.7655 -- SQ=0.6681 -- PQ=0.5114 -- AJI=0.5036 PredSize=(1000, 1000) GTSize=(1000, 1000)\n",
      "\n",
      "TCGA-69-7764-01A-01-TS1 -- DQ=0.8399 -- SQ=0.7732 -- PQ=0.6494 -- AJI=0.6411 PredSize=(1000, 1000) GTSize=(1000, 1000)\n",
      "\n",
      "TCGA-E2-A14V-01Z-00-DX1 -- DQ=0.8491 -- SQ=0.7421 -- PQ=0.6301 -- AJI=0.6520 PredSize=(1000, 1000) GTSize=(1000, 1000)\n",
      "\n",
      "TCGA-G9-6362-01Z-00-DX1 -- DQ=0.8909 -- SQ=0.7597 -- PQ=0.6768 -- AJI=0.6561 PredSize=(1000, 1000) GTSize=(1000, 1000)\n",
      "\n",
      "TCGA-HE-7130-01Z-00-DX1 -- DQ=0.7463 -- SQ=0.6802 -- PQ=0.5076 -- AJI=0.5480 PredSize=(1000, 1000) GTSize=(1000, 1000)\n",
      "\n",
      "TCGA-KB-A93J-01A-01-TS1 -- DQ=0.9138 -- SQ=0.7776 -- PQ=0.7105 -- AJI=0.7336 PredSize=(1000, 1000) GTSize=(1000, 1000)\n",
      "\n",
      "TCGA-HE-7128-01Z-00-DX1 -- DQ=0.8581 -- SQ=0.6116 -- PQ=0.5248 -- AJI=0.5469 PredSize=(1000, 1000) GTSize=(1000, 1000)\n",
      "\n",
      "51\n",
      "\n",
      "=== Finished! ===\n",
      "Collected results (subset shown):\n",
      "\n",
      "may_dims32_depth3_may ####################\n",
      "Found 51 mask files, sample: ['/workspace/deepseek_test/yolo-nuke/Segmentation/monuseg/annotations/TCGA-HC-7209-01A-01-TS1.npy', '/workspace/deepseek_test/yolo-nuke/Segmentation/monuseg/annotations/TCGA-IZ-8196-01A-01-BS1.npy', '/workspace/deepseek_test/yolo-nuke/Segmentation/monuseg/annotations/TCGA-B0-5710-01Z-00-DX1.npy', '/workspace/deepseek_test/yolo-nuke/Segmentation/monuseg/annotations/TCGA-G2-A2EK-01A-02-TSB.npy', '/workspace/deepseek_test/yolo-nuke/Segmentation/monuseg/annotations/TCGA-50-5931-01Z-00-DX1.npy']\n",
      "ProcessONeMaskProcessONeMaskProcessONeMaskProcessONeMaskProcessONeMaskProcessONeMaskProcessONeMaskProcessONeMaskProcessONeMaskProcessONeMaskProcessONeMaskProcessONeMaskProcessONeMaskProcessONeMaskProcessONeMaskProcessONeMask\n",
      "\n",
      "\n",
      "\n",
      "\n",
      "\n",
      "\n",
      "\n",
      "\n",
      "\n",
      "\n",
      "\n",
      "\n",
      "\n",
      "\n",
      "\n",
      "TCGA-G9-6356-01Z-00-DX1 -- DQ=0.9157 -- SQ=0.8004 -- PQ=0.7330 -- AJI=0.7196 PredSize=(1000, 1000) GTSize=(1000, 1000)\n",
      "\n",
      "ProcessONeMask\n",
      "TCGA-DK-A2I6-01A-01-TS1 -- DQ=0.8144 -- SQ=0.7206 -- PQ=0.5869 -- AJI=0.6407 PredSize=(1000, 1000) GTSize=(1000, 1000)\n",
      "\n",
      "ProcessONeMask\n",
      "TCGA-HC-7209-01A-01-TS1 -- DQ=0.8953 -- SQ=0.7565 -- PQ=0.6773 -- AJI=0.6829 PredSize=(1000, 1000) GTSize=(1000, 1000)\n",
      "\n",
      "ProcessONeMask\n",
      "TCGA-G2-A2EK-01A-02-TSB -- DQ=0.7849 -- SQ=0.7226 -- PQ=0.5672 -- AJI=0.6132 PredSize=(1000, 1000) GTSize=(1000, 1000)\n",
      "\n",
      "ProcessONeMask\n",
      "TCGA-B0-5710-01Z-00-DX1 -- DQ=0.9023 -- SQ=0.7321 -- PQ=0.6606 -- AJI=0.6629 PredSize=(1000, 1000) GTSize=(1000, 1000)\n",
      "\n",
      "ProcessONeMask\n",
      "TCGA-B0-5711-01Z-00-DX1 -- DQ=0.8198 -- SQ=0.7563 -- PQ=0.6200 -- AJI=0.6620 PredSize=(1000, 1000) GTSize=(1000, 1000)\n",
      "\n",
      "ProcessONeMask\n",
      "TCGA-50-5931-01Z-00-DX1 -- DQ=0.6247 -- SQ=0.6640 -- PQ=0.4148 -- AJI=0.3710 PredSize=(1000, 1000) GTSize=(1000, 1000)\n",
      "\n",
      "ProcessONeMask\n",
      "TCGA-AR-A1AK-01Z-00-DX1 -- DQ=0.8480 -- SQ=0.7299 -- PQ=0.6190 -- AJI=0.5979 PredSize=(1000, 1000) GTSize=(1000, 1000)\n",
      "\n",
      "ProcessONeMask\n",
      "TCGA-AY-A8YK-01A-01-TS1 -- DQ=0.7328 -- SQ=0.6456 -- PQ=0.4731 -- AJI=0.5097 PredSize=(1000, 1000) GTSize=(1000, 1000)\n",
      "\n",
      "ProcessONeMask\n",
      "TCGA-49-4488-01Z-00-DX1 -- DQ=0.8472 -- SQ=0.6693 -- PQ=0.5670 -- AJI=0.5769 PredSize=(1000, 1000) GTSize=(1000, 1000)\n",
      "\n",
      "ProcessONeMask\n",
      "TCGA-A6-6782-01A-01-BS1 -- DQ=0.8491 -- SQ=0.7258 -- PQ=0.6162 -- AJI=0.6054 PredSize=(1000, 1000) GTSize=(1000, 1000)\n",
      "\n",
      "ProcessONeMask\n",
      "TCGA-IZ-8196-01A-01-BS1 -- DQ=0.9220 -- SQ=0.7547 -- PQ=0.6958 -- AJI=0.6921 PredSize=(1000, 1000) GTSize=(1000, 1000)\n",
      "\n",
      "ProcessONeMask\n",
      "TCGA-MH-A561-01Z-00-DX1 -- DQ=0.8757 -- SQ=0.6886 -- PQ=0.6030 -- AJI=0.6106 PredSize=(1000, 1000) GTSize=(1000, 1000)\n",
      "\n",
      "ProcessONeMask\n",
      "TCGA-E2-A1B5-01Z-00-DX1 -- DQ=0.8150 -- SQ=0.7458 -- PQ=0.6079 -- AJI=0.6027 PredSize=(1000, 1000) GTSize=(1000, 1000)\n",
      "\n",
      "ProcessONeMask\n",
      "TCGA-CU-A0YN-01A-02-BSB -- DQ=0.8778 -- SQ=0.7695 -- PQ=0.6755 -- AJI=0.6476 PredSize=(1000, 1000) GTSize=(1000, 1000)\n",
      "\n",
      "ProcessONeMask\n",
      "TCGA-B0-5698-01Z-00-DX1 -- DQ=0.7538 -- SQ=0.6948 -- PQ=0.5238 -- AJI=0.4762 PredSize=(1000, 1000) GTSize=(1000, 1000)\n",
      "\n",
      "ProcessONeMask\n",
      "TCGA-FG-A4MU-01B-01-TS1 -- DQ=0.8964 -- SQ=0.7481 -- PQ=0.6706 -- AJI=0.6813 PredSize=(1000, 1000) GTSize=(1000, 1000)\n",
      "\n",
      "ProcessONeMask\n",
      "TCGA-AC-A2FO-01A-01-TS1 -- DQ=0.8242 -- SQ=0.5988 -- PQ=0.4935 -- AJI=0.4822 PredSize=(1000, 1000) GTSize=(1000, 1000)\n",
      "\n",
      "ProcessONeMask\n",
      "TCGA-2Z-A9J9-01A-01-TS1 -- DQ=0.8787 -- SQ=0.7041 -- PQ=0.6186 -- AJI=0.6215 PredSize=(1000, 1000) GTSize=(1000, 1000)\n",
      "\n",
      "ProcessONeMask\n",
      "TCGA-21-5786-01Z-00-DX1 -- DQ=0.7909 -- SQ=0.6787 -- PQ=0.5368 -- AJI=0.5400 PredSize=(1000, 1000) GTSize=(1000, 1000)\n",
      "\n",
      "ProcessONeMask\n",
      "TCGA-CH-5767-01Z-00-DX1 -- DQ=0.8041 -- SQ=0.7603 -- PQ=0.6114 -- AJI=0.5731 PredSize=(1000, 1000) GTSize=(1000, 1000)\n",
      "\n",
      "ProcessONeMask\n",
      "TCGA-RD-A8N9-01A-01-TS1 -- DQ=0.9174 -- SQ=0.8048 -- PQ=0.7383 -- AJI=0.7457 PredSize=(1000, 1000) GTSize=(1000, 1000)\n",
      "\n",
      "ProcessONeMask\n",
      "TCGA-G9-6363-01Z-00-DX1 -- DQ=0.7840 -- SQ=0.7706 -- PQ=0.6041 -- AJI=0.5766 PredSize=(1000, 1000) GTSize=(1000, 1000)\n",
      "\n",
      "ProcessONeMask\n",
      "TCGA-44-2665-01B-06-BS6 -- DQ=0.9210 -- SQ=0.7871 -- PQ=0.7249 -- AJI=0.7110 PredSize=(1000, 1000) GTSize=(1000, 1000)\n",
      "\n",
      "ProcessONeMask\n",
      "TCGA-A7-A13E-01Z-00-DX1 -- DQ=0.8164 -- SQ=0.7579 -- PQ=0.6187 -- AJI=0.6084 PredSize=(1000, 1000) GTSize=(1000, 1000)\n",
      "\n",
      "ProcessONeMask\n",
      "TCGA-EJ-A46H-01A-03-TSC -- DQ=0.9030 -- SQ=0.7686 -- PQ=0.6940 -- AJI=0.6918 PredSize=(1000, 1000) GTSize=(1000, 1000)\n",
      "\n",
      "ProcessONeMask\n",
      "TCGA-HT-8564-01Z-00-DX1 -- DQ=0.9062 -- SQ=0.6730 -- PQ=0.6099 -- AJI=0.6120 PredSize=(1000, 1000) GTSize=(1000, 1000)\n",
      "\n",
      "ProcessONeMask\n",
      "TCGA-ZF-A9R5-01A-01-TS1 -- DQ=0.9067 -- SQ=0.7099 -- PQ=0.6437 -- AJI=0.6606 PredSize=(1000, 1000) GTSize=(1000, 1000)\n",
      "\n",
      "ProcessONeMask\n",
      "TCGA-F9-A8NY-01Z-00-DX1 -- DQ=0.8980 -- SQ=0.7261 -- PQ=0.6520 -- AJI=0.6329 PredSize=(1000, 1000) GTSize=(1000, 1000)\n",
      "\n",
      "ProcessONeMask\n",
      "TCGA-18-5592-01Z-00-DX1 -- DQ=0.7155 -- SQ=0.6172 -- PQ=0.4416 -- AJI=0.4234 PredSize=(1000, 1000) GTSize=(1000, 1000)\n",
      "\n",
      "ProcessONeMask\n",
      "TCGA-G9-6336-01Z-00-DX1 -- DQ=0.7441 -- SQ=0.7252 -- PQ=0.5396 -- AJI=0.4719 PredSize=(1000, 1000) GTSize=(1000, 1000)\n",
      "\n",
      "ProcessONeMask\n",
      "TCGA-FG-A87N-01Z-00-DX1 -- DQ=0.8754 -- SQ=0.6947 -- PQ=0.6081 -- AJI=0.6159 PredSize=(1000, 1000) GTSize=(1000, 1000)\n",
      "\n",
      "ProcessONeMask\n",
      "TCGA-A7-A13F-01Z-00-DX1 -- DQ=0.8782 -- SQ=0.7660 -- PQ=0.6727 -- AJI=0.6716 PredSize=(1000, 1000) GTSize=(1000, 1000)\n",
      "\n",
      "ProcessONeMask\n",
      "TCGA-UZ-A9PJ-01Z-00-DX1 -- DQ=0.8739 -- SQ=0.6748 -- PQ=0.5897 -- AJI=0.5710 PredSize=(1000, 1000) GTSize=(1000, 1000)\n",
      "\n",
      "ProcessONeMask\n",
      "TCGA-BC-A217-01Z-00-DX1 -- DQ=0.9330 -- SQ=0.7710 -- PQ=0.7193 -- AJI=0.7352 PredSize=(1000, 1000) GTSize=(1000, 1000)\n",
      "\n",
      "ProcessONeMask\n",
      "TCGA-GL-6846-01A-01-BS1 -- DQ=0.8865 -- SQ=0.7352 -- PQ=0.6518 -- AJI=0.6549 PredSize=(1000, 1000) GTSize=(1000, 1000)\n",
      "\n",
      "TCGA-UZ-A9PN-01Z-00-DX1 -- DQ=0.9012 -- SQ=0.7558 -- PQ=0.6811 -- AJI=0.6757 PredSize=(1000, 1000) GTSize=(1000, 1000)\n",
      "\n",
      "TCGA-AR-A1AS-01Z-00-DX1 -- DQ=0.8809 -- SQ=0.7197 -- PQ=0.6340 -- AJI=0.6180 PredSize=(1000, 1000) GTSize=(1000, 1000)\n",
      "\n",
      "TCGA-XS-A8TJ-01Z-00-DX1 -- DQ=0.8805 -- SQ=0.7330 -- PQ=0.6454 -- AJI=0.6377 PredSize=(1000, 1000) GTSize=(1000, 1000)\n",
      "\n",
      "TCGA-21-5784-01Z-00-DX1 -- DQ=0.7524 -- SQ=0.7360 -- PQ=0.5537 -- AJI=0.5684 PredSize=(1000, 1000) GTSize=(1000, 1000)\n",
      "\n",
      "TCGA-NH-A8F7-01A-01-TS1 -- DQ=0.7776 -- SQ=0.6716 -- PQ=0.5222 -- AJI=0.5595 PredSize=(1000, 1000) GTSize=(1000, 1000)\n",
      "\n",
      "TCGA-AO-A0J2-01A-01-BSA -- DQ=0.8364 -- SQ=0.6759 -- PQ=0.5653 -- AJI=0.5816 PredSize=(1000, 1000) GTSize=(1000, 1000)\n",
      "\n",
      "TCGA-38-6178-01Z-00-DX1 -- DQ=0.7452 -- SQ=0.7209 -- PQ=0.5372 -- AJI=0.5469 PredSize=(1000, 1000) GTSize=(1000, 1000)\n",
      "\n",
      "TCGA-G9-6348-01Z-00-DX1 -- DQ=0.8192 -- SQ=0.7639 -- PQ=0.6258 -- AJI=0.6008 PredSize=(1000, 1000) GTSize=(1000, 1000)\n",
      "\n",
      "TCGA-69-7764-01A-01-TS1 -- DQ=0.8379 -- SQ=0.7490 -- PQ=0.6276 -- AJI=0.6306 PredSize=(1000, 1000) GTSize=(1000, 1000)\n",
      "\n",
      "TCGA-E2-A14V-01Z-00-DX1 -- DQ=0.8598 -- SQ=0.7910 -- PQ=0.6801 -- AJI=0.6654 PredSize=(1000, 1000) GTSize=(1000, 1000)\n",
      "\n",
      "TCGA-G9-6362-01Z-00-DX1 -- DQ=0.8889 -- SQ=0.7632 -- PQ=0.6784 -- AJI=0.6566 PredSize=(1000, 1000) GTSize=(1000, 1000)\n",
      "\n",
      "TCGA-HE-7129-01Z-00-DX1 -- DQ=0.7765 -- SQ=0.7419 -- PQ=0.5761 -- AJI=0.5379 PredSize=(1000, 1000) GTSize=(1000, 1000)\n",
      "\n",
      "TCGA-HE-7130-01Z-00-DX1 -- DQ=0.7710 -- SQ=0.7360 -- PQ=0.5675 -- AJI=0.5714 PredSize=(1000, 1000) GTSize=(1000, 1000)\n",
      "\n",
      "TCGA-KB-A93J-01A-01-TS1 -- DQ=0.9222 -- SQ=0.8042 -- PQ=0.7417 -- AJI=0.7519 PredSize=(1000, 1000) GTSize=(1000, 1000)\n",
      "\n",
      "TCGA-HE-7128-01Z-00-DX1 -- DQ=0.9013 -- SQ=0.7449 -- PQ=0.6713 -- AJI=0.6648 PredSize=(1000, 1000) GTSize=(1000, 1000)\n",
      "\n",
      "51\n",
      "\n",
      "=== Finished! ===\n",
      "Collected results (subset shown):\n",
      "\n",
      "may_dims32_depth4_may ####################\n",
      "Found 51 mask files, sample: ['/workspace/deepseek_test/yolo-nuke/Segmentation/monuseg/annotations/TCGA-HC-7209-01A-01-TS1.npy', '/workspace/deepseek_test/yolo-nuke/Segmentation/monuseg/annotations/TCGA-IZ-8196-01A-01-BS1.npy', '/workspace/deepseek_test/yolo-nuke/Segmentation/monuseg/annotations/TCGA-B0-5710-01Z-00-DX1.npy', '/workspace/deepseek_test/yolo-nuke/Segmentation/monuseg/annotations/TCGA-G2-A2EK-01A-02-TSB.npy', '/workspace/deepseek_test/yolo-nuke/Segmentation/monuseg/annotations/TCGA-50-5931-01Z-00-DX1.npy']\n",
      "ProcessONeMaskProcessONeMaskProcessONeMaskProcessONeMaskProcessONeMaskProcessONeMaskProcessONeMaskProcessONeMaskProcessONeMaskProcessONeMaskProcessONeMaskProcessONeMaskProcessONeMaskProcessONeMaskProcessONeMaskProcessONeMask\n",
      "\n",
      "\n",
      "\n",
      "\n",
      "\n",
      "\n",
      "\n",
      "\n",
      "\n",
      "\n",
      "\n",
      "\n",
      "\n",
      "\n",
      "\n",
      "TCGA-B0-5711-01Z-00-DX1 -- DQ=0.8228 -- SQ=0.7550 -- PQ=0.6213 -- AJI=0.6596 PredSize=(1000, 1000) GTSize=(1000, 1000)\n",
      "\n",
      "ProcessONeMask\n",
      "TCGA-B0-5710-01Z-00-DX1 -- DQ=0.9023 -- SQ=0.7311 -- PQ=0.6597 -- AJI=0.6617 PredSize=(1000, 1000) GTSize=(1000, 1000)\n",
      "\n",
      "ProcessONeMask\n",
      "TCGA-HC-7209-01A-01-TS1 -- DQ=0.8996 -- SQ=0.7587 -- PQ=0.6825 -- AJI=0.6827 PredSize=(1000, 1000) GTSize=(1000, 1000)\n",
      "\n",
      "ProcessONeMask\n",
      "TCGA-DK-A2I6-01A-01-TS1 -- DQ=0.8197 -- SQ=0.7199 -- PQ=0.5901 -- AJI=0.6424 PredSize=(1000, 1000) GTSize=(1000, 1000)\n",
      "\n",
      "ProcessONeMask\n",
      "TCGA-G2-A2EK-01A-02-TSB -- DQ=0.7905 -- SQ=0.7323 -- PQ=0.5789 -- AJI=0.6225 PredSize=(1000, 1000) GTSize=(1000, 1000)\n",
      "\n",
      "ProcessONeMask\n",
      "TCGA-50-5931-01Z-00-DX1 -- DQ=0.6193 -- SQ=0.6580 -- PQ=0.4075 -- AJI=0.3647 PredSize=(1000, 1000) GTSize=(1000, 1000)\n",
      "\n",
      "ProcessONeMask\n",
      "TCGA-AY-A8YK-01A-01-TS1 -- DQ=0.7224 -- SQ=0.6486 -- PQ=0.4685 -- AJI=0.5080 PredSize=(1000, 1000) GTSize=(1000, 1000)\n",
      "\n",
      "ProcessONeMask\n",
      "TCGA-AR-A1AK-01Z-00-DX1 -- DQ=0.8480 -- SQ=0.7247 -- PQ=0.6146 -- AJI=0.5908 PredSize=(1000, 1000) GTSize=(1000, 1000)\n",
      "\n",
      "ProcessONeMask\n",
      "TCGA-G9-6356-01Z-00-DX1 -- DQ=0.9147 -- SQ=0.7954 -- PQ=0.7275 -- AJI=0.7149 PredSize=(1000, 1000) GTSize=(1000, 1000)\n",
      "\n",
      "ProcessONeMask\n",
      "TCGA-A6-6782-01A-01-BS1 -- DQ=0.8482 -- SQ=0.7210 -- PQ=0.6116 -- AJI=0.6011 PredSize=(1000, 1000) GTSize=(1000, 1000)\n",
      "\n",
      "ProcessONeMask\n",
      "TCGA-49-4488-01Z-00-DX1 -- DQ=0.8444 -- SQ=0.6600 -- PQ=0.5573 -- AJI=0.5692 PredSize=(1000, 1000) GTSize=(1000, 1000)\n",
      "\n",
      "ProcessONeMask\n",
      "TCGA-IZ-8196-01A-01-BS1 -- DQ=0.9220 -- SQ=0.7543 -- PQ=0.6955 -- AJI=0.6902 PredSize=(1000, 1000) GTSize=(1000, 1000)\n",
      "\n",
      "ProcessONeMask\n",
      "TCGA-MH-A561-01Z-00-DX1 -- DQ=0.8783 -- SQ=0.6829 -- PQ=0.5998 -- AJI=0.6051 PredSize=(1000, 1000) GTSize=(1000, 1000)\n",
      "\n",
      "ProcessONeMask\n",
      "TCGA-CU-A0YN-01A-02-BSB -- DQ=0.8835 -- SQ=0.7667 -- PQ=0.6774 -- AJI=0.6464 PredSize=(1000, 1000) GTSize=(1000, 1000)\n",
      "\n",
      "ProcessONeMask\n",
      "TCGA-FG-A4MU-01B-01-TS1 -- DQ=0.8943 -- SQ=0.7446 -- PQ=0.6659 -- AJI=0.6742 PredSize=(1000, 1000) GTSize=(1000, 1000)\n",
      "\n",
      "ProcessONeMask\n",
      "TCGA-B0-5698-01Z-00-DX1 -- DQ=0.7538 -- SQ=0.6951 -- PQ=0.5240 -- AJI=0.4743 PredSize=(1000, 1000) GTSize=(1000, 1000)\n",
      "\n",
      "ProcessONeMask\n",
      "TCGA-E2-A1B5-01Z-00-DX1 -- DQ=0.8119 -- SQ=0.7469 -- PQ=0.6064 -- AJI=0.5987 PredSize=(1000, 1000) GTSize=(1000, 1000)\n",
      "\n",
      "ProcessONeMask\n",
      "TCGA-2Z-A9J9-01A-01-TS1 -- DQ=0.8839 -- SQ=0.6958 -- PQ=0.6150 -- AJI=0.6145 PredSize=(1000, 1000) GTSize=(1000, 1000)\n",
      "\n",
      "ProcessONeMask\n",
      "TCGA-AC-A2FO-01A-01-TS1 -- DQ=0.8343 -- SQ=0.5881 -- PQ=0.4906 -- AJI=0.4748 PredSize=(1000, 1000) GTSize=(1000, 1000)\n",
      "\n",
      "ProcessONeMask\n",
      "TCGA-CH-5767-01Z-00-DX1 -- DQ=0.8041 -- SQ=0.7549 -- PQ=0.6071 -- AJI=0.5698 PredSize=(1000, 1000) GTSize=(1000, 1000)\n",
      "\n",
      "ProcessONeMask\n",
      "TCGA-21-5786-01Z-00-DX1 -- DQ=0.7957 -- SQ=0.6719 -- PQ=0.5347 -- AJI=0.5377 PredSize=(1000, 1000) GTSize=(1000, 1000)\n",
      "\n",
      "ProcessONeMask\n",
      "TCGA-G9-6363-01Z-00-DX1 -- DQ=0.7901 -- SQ=0.7585 -- PQ=0.5993 -- AJI=0.5664 PredSize=(1000, 1000) GTSize=(1000, 1000)\n",
      "\n",
      "ProcessONeMask\n",
      "TCGA-44-2665-01B-06-BS6 -- DQ=0.9210 -- SQ=0.7865 -- PQ=0.7243 -- AJI=0.7106 PredSize=(1000, 1000) GTSize=(1000, 1000)\n",
      "\n",
      "ProcessONeMask\n",
      "TCGA-RD-A8N9-01A-01-TS1 -- DQ=0.9200 -- SQ=0.8104 -- PQ=0.7456 -- AJI=0.7495 PredSize=(1000, 1000) GTSize=(1000, 1000)\n",
      "\n",
      "ProcessONeMask\n",
      "TCGA-EJ-A46H-01A-03-TSC -- DQ=0.9030 -- SQ=0.7696 -- PQ=0.6949 -- AJI=0.6916 PredSize=(1000, 1000) GTSize=(1000, 1000)\n",
      "\n",
      "ProcessONeMask\n",
      "TCGA-A7-A13E-01Z-00-DX1 -- DQ=0.8164 -- SQ=0.7562 -- PQ=0.6173 -- AJI=0.6091 PredSize=(1000, 1000) GTSize=(1000, 1000)\n",
      "\n",
      "ProcessONeMask\n",
      "TCGA-HT-8564-01Z-00-DX1 -- DQ=0.9062 -- SQ=0.6550 -- PQ=0.5936 -- AJI=0.5966 PredSize=(1000, 1000) GTSize=(1000, 1000)\n",
      "\n",
      "ProcessONeMask\n",
      "TCGA-18-5592-01Z-00-DX1 -- DQ=0.7105 -- SQ=0.6124 -- PQ=0.4351 -- AJI=0.4153 PredSize=(1000, 1000) GTSize=(1000, 1000)\n",
      "\n",
      "ProcessONeMask\n",
      "TCGA-UZ-A9PJ-01Z-00-DX1 -- DQ=0.8730 -- SQ=0.6734 -- PQ=0.5879 -- AJI=0.5693 PredSize=(1000, 1000) GTSize=(1000, 1000)\n",
      "\n",
      "ProcessONeMask\n",
      "TCGA-ZF-A9R5-01A-01-TS1 -- DQ=0.9089 -- SQ=0.7027 -- PQ=0.6387 -- AJI=0.6545 PredSize=(1000, 1000) GTSize=(1000, 1000)\n",
      "\n",
      "ProcessONeMask\n",
      "TCGA-FG-A87N-01Z-00-DX1 -- DQ=0.8754 -- SQ=0.6920 -- PQ=0.6058 -- AJI=0.6121 PredSize=(1000, 1000) GTSize=(1000, 1000)\n",
      "\n",
      "ProcessONeMask\n",
      "TCGA-A7-A13F-01Z-00-DX1 -- DQ=0.8867 -- SQ=0.7624 -- PQ=0.6760 -- AJI=0.6721 PredSize=(1000, 1000) GTSize=(1000, 1000)\n",
      "\n",
      "ProcessONeMask\n",
      "TCGA-G9-6336-01Z-00-DX1 -- DQ=0.7405 -- SQ=0.7170 -- PQ=0.5309 -- AJI=0.4637 PredSize=(1000, 1000) GTSize=(1000, 1000)\n",
      "\n",
      "ProcessONeMask\n",
      "TCGA-F9-A8NY-01Z-00-DX1 -- DQ=0.8991 -- SQ=0.7290 -- PQ=0.6554 -- AJI=0.6357 PredSize=(1000, 1000) GTSize=(1000, 1000)\n",
      "\n",
      "ProcessONeMask\n",
      "TCGA-BC-A217-01Z-00-DX1 -- DQ=0.9344 -- SQ=0.7670 -- PQ=0.7167 -- AJI=0.7324 PredSize=(1000, 1000) GTSize=(1000, 1000)\n",
      "\n",
      "ProcessONeMask\n",
      "TCGA-GL-6846-01A-01-BS1 -- DQ=0.8906 -- SQ=0.7217 -- PQ=0.6428 -- AJI=0.6444 PredSize=(1000, 1000) GTSize=(1000, 1000)\n",
      "\n",
      "TCGA-21-5784-01Z-00-DX1 -- DQ=0.7632 -- SQ=0.7305 -- PQ=0.5575 -- AJI=0.5697 PredSize=(1000, 1000) GTSize=(1000, 1000)\n",
      "\n",
      "TCGA-AR-A1AS-01Z-00-DX1 -- DQ=0.8833 -- SQ=0.7160 -- PQ=0.6324 -- AJI=0.6154 PredSize=(1000, 1000) GTSize=(1000, 1000)\n",
      "\n",
      "TCGA-XS-A8TJ-01Z-00-DX1 -- DQ=0.8829 -- SQ=0.7300 -- PQ=0.6445 -- AJI=0.6362 PredSize=(1000, 1000) GTSize=(1000, 1000)\n",
      "\n",
      "TCGA-AO-A0J2-01A-01-BSA -- DQ=0.8520 -- SQ=0.6686 -- PQ=0.5696 -- AJI=0.5806 PredSize=(1000, 1000) GTSize=(1000, 1000)\n",
      "\n",
      "TCGA-NH-A8F7-01A-01-TS1 -- DQ=0.7776 -- SQ=0.6705 -- PQ=0.5214 -- AJI=0.5557 PredSize=(1000, 1000) GTSize=(1000, 1000)\n",
      "\n",
      "TCGA-UZ-A9PN-01Z-00-DX1 -- DQ=0.9025 -- SQ=0.7632 -- PQ=0.6888 -- AJI=0.6834 PredSize=(1000, 1000) GTSize=(1000, 1000)\n",
      "\n",
      "TCGA-38-6178-01Z-00-DX1 -- DQ=0.7500 -- SQ=0.7192 -- PQ=0.5394 -- AJI=0.5472 PredSize=(1000, 1000) GTSize=(1000, 1000)\n",
      "\n",
      "TCGA-G9-6348-01Z-00-DX1 -- DQ=0.8140 -- SQ=0.7607 -- PQ=0.6193 -- AJI=0.5945 PredSize=(1000, 1000) GTSize=(1000, 1000)\n",
      "\n",
      "TCGA-69-7764-01A-01-TS1 -- DQ=0.8388 -- SQ=0.7439 -- PQ=0.6240 -- AJI=0.6229 PredSize=(1000, 1000) GTSize=(1000, 1000)\n",
      "\n",
      "TCGA-E2-A14V-01Z-00-DX1 -- DQ=0.8668 -- SQ=0.7906 -- PQ=0.6852 -- AJI=0.6685 PredSize=(1000, 1000) GTSize=(1000, 1000)\n",
      "\n",
      "TCGA-G9-6362-01Z-00-DX1 -- DQ=0.8909 -- SQ=0.7586 -- PQ=0.6759 -- AJI=0.6534 PredSize=(1000, 1000) GTSize=(1000, 1000)\n",
      "\n",
      "TCGA-HE-7129-01Z-00-DX1 -- DQ=0.7765 -- SQ=0.7365 -- PQ=0.5719 -- AJI=0.5346 PredSize=(1000, 1000) GTSize=(1000, 1000)\n",
      "\n",
      "TCGA-HE-7130-01Z-00-DX1 -- DQ=0.7686 -- SQ=0.7336 -- PQ=0.5639 -- AJI=0.5674 PredSize=(1000, 1000) GTSize=(1000, 1000)\n",
      "\n",
      "TCGA-KB-A93J-01A-01-TS1 -- DQ=0.9222 -- SQ=0.8081 -- PQ=0.7452 -- AJI=0.7542 PredSize=(1000, 1000) GTSize=(1000, 1000)\n",
      "\n",
      "TCGA-HE-7128-01Z-00-DX1 -- DQ=0.8987 -- SQ=0.7343 -- PQ=0.6599 -- AJI=0.6565 PredSize=(1000, 1000) GTSize=(1000, 1000)\n",
      "\n",
      "51\n",
      "\n",
      "=== Finished! ===\n",
      "Collected results (subset shown):\n",
      "\n",
      "may_dims48_depth4_may ####################\n",
      "Found 51 mask files, sample: ['/workspace/deepseek_test/yolo-nuke/Segmentation/monuseg/annotations/TCGA-HC-7209-01A-01-TS1.npy', '/workspace/deepseek_test/yolo-nuke/Segmentation/monuseg/annotations/TCGA-IZ-8196-01A-01-BS1.npy', '/workspace/deepseek_test/yolo-nuke/Segmentation/monuseg/annotations/TCGA-B0-5710-01Z-00-DX1.npy', '/workspace/deepseek_test/yolo-nuke/Segmentation/monuseg/annotations/TCGA-G2-A2EK-01A-02-TSB.npy', '/workspace/deepseek_test/yolo-nuke/Segmentation/monuseg/annotations/TCGA-50-5931-01Z-00-DX1.npy']\n",
      "ProcessONeMaskProcessONeMaskProcessONeMaskProcessONeMaskProcessONeMaskProcessONeMaskProcessONeMaskProcessONeMaskProcessONeMaskProcessONeMaskProcessONeMaskProcessONeMaskProcessONeMaskProcessONeMaskProcessONeMaskProcessONeMask\n",
      "\n",
      "\n",
      "\n",
      "\n",
      "\n",
      "\n",
      "\n",
      "\n",
      "\n",
      "\n",
      "\n",
      "\n",
      "\n",
      "\n",
      "\n",
      "TCGA-B0-5710-01Z-00-DX1 -- DQ=0.8994 -- SQ=0.7542 -- PQ=0.6784 -- AJI=0.6818 PredSize=(1000, 1000) GTSize=(1000, 1000)\n",
      "\n",
      "ProcessONeMask\n",
      "TCGA-DK-A2I6-01A-01-TS1 -- DQ=0.8210 -- SQ=0.7741 -- PQ=0.6355 -- AJI=0.6899 PredSize=(1000, 1000) GTSize=(1000, 1000)\n",
      "\n",
      "ProcessONeMask\n",
      "TCGA-HC-7209-01A-01-TS1 -- DQ=0.8953 -- SQ=0.7615 -- PQ=0.6818 -- AJI=0.6857 PredSize=(1000, 1000) GTSize=(1000, 1000)\n",
      "\n",
      "ProcessONeMask\n",
      "TCGA-B0-5711-01Z-00-DX1 -- DQ=0.8018 -- SQ=0.7419 -- PQ=0.5949 -- AJI=0.6449 PredSize=(1000, 1000) GTSize=(1000, 1000)\n",
      "\n",
      "ProcessONeMask\n",
      "TCGA-AY-A8YK-01A-01-TS1 -- DQ=0.7595 -- SQ=0.6793 -- PQ=0.5160 -- AJI=0.5350 PredSize=(1000, 1000) GTSize=(1000, 1000)\n",
      "\n",
      "ProcessONeMask\n",
      "TCGA-G2-A2EK-01A-02-TSB -- DQ=0.8017 -- SQ=0.7525 -- PQ=0.6032 -- AJI=0.6549 PredSize=(1000, 1000) GTSize=(1000, 1000)\n",
      "\n",
      "ProcessONeMask\n",
      "TCGA-A6-6782-01A-01-BS1 -- DQ=0.8547 -- SQ=0.7279 -- PQ=0.6221 -- AJI=0.6069 PredSize=(1000, 1000) GTSize=(1000, 1000)\n",
      "\n",
      "ProcessONeMask\n",
      "TCGA-50-5931-01Z-00-DX1 -- DQ=0.6408 -- SQ=0.6944 -- PQ=0.4449 -- AJI=0.3908 PredSize=(1000, 1000) GTSize=(1000, 1000)\n",
      "\n",
      "ProcessONeMask\n",
      "TCGA-G9-6356-01Z-00-DX1 -- DQ=0.9192 -- SQ=0.8141 -- PQ=0.7483 -- AJI=0.7336 PredSize=(1000, 1000) GTSize=(1000, 1000)\n",
      "\n",
      "ProcessONeMask\n",
      "TCGA-AR-A1AK-01Z-00-DX1 -- DQ=0.8565 -- SQ=0.7480 -- PQ=0.6407 -- AJI=0.6150 PredSize=(1000, 1000) GTSize=(1000, 1000)\n",
      "\n",
      "ProcessONeMask\n",
      "TCGA-49-4488-01Z-00-DX1 -- DQ=0.8535 -- SQ=0.7198 -- PQ=0.6143 -- AJI=0.6174 PredSize=(1000, 1000) GTSize=(1000, 1000)\n",
      "TCGA-IZ-8196-01A-01-BS1 -- DQ=0.9238 -- SQ=0.7769 -- PQ=0.7176 -- AJI=0.7108 PredSize=(1000, 1000) GTSize=(1000, 1000)\n",
      "\n",
      "\n",
      "ProcessONeMaskProcessONeMask\n",
      "\n",
      "TCGA-MH-A561-01Z-00-DX1 -- DQ=0.8783 -- SQ=0.7262 -- PQ=0.6378 -- AJI=0.6400 PredSize=(1000, 1000) GTSize=(1000, 1000)\n",
      "\n",
      "ProcessONeMask\n",
      "TCGA-CU-A0YN-01A-02-BSB -- DQ=0.8807 -- SQ=0.7705 -- PQ=0.6786 -- AJI=0.6496 PredSize=(1000, 1000) GTSize=(1000, 1000)\n",
      "\n",
      "ProcessONeMask\n",
      "TCGA-E2-A1B5-01Z-00-DX1 -- DQ=0.7994 -- SQ=0.7394 -- PQ=0.5910 -- AJI=0.5965 PredSize=(1000, 1000) GTSize=(1000, 1000)\n",
      "\n",
      "ProcessONeMask\n",
      "TCGA-FG-A4MU-01B-01-TS1 -- DQ=0.8901 -- SQ=0.7650 -- PQ=0.6809 -- AJI=0.6934 PredSize=(1000, 1000) GTSize=(1000, 1000)\n",
      "\n",
      "ProcessONeMask\n",
      "TCGA-B0-5698-01Z-00-DX1 -- DQ=0.7606 -- SQ=0.7193 -- PQ=0.5471 -- AJI=0.5041 PredSize=(1000, 1000) GTSize=(1000, 1000)\n",
      "\n",
      "ProcessONeMask\n",
      "TCGA-2Z-A9J9-01A-01-TS1 -- DQ=0.8789 -- SQ=0.7270 -- PQ=0.6389 -- AJI=0.6377 PredSize=(1000, 1000) GTSize=(1000, 1000)\n",
      "\n",
      "ProcessONeMask\n",
      "TCGA-AC-A2FO-01A-01-TS1 -- DQ=0.8499 -- SQ=0.6451 -- PQ=0.5482 -- AJI=0.5229 PredSize=(1000, 1000) GTSize=(1000, 1000)\n",
      "\n",
      "ProcessONeMask\n",
      "TCGA-21-5786-01Z-00-DX1 -- DQ=0.8100 -- SQ=0.6933 -- PQ=0.5616 -- AJI=0.5570 PredSize=(1000, 1000) GTSize=(1000, 1000)\n",
      "\n",
      "ProcessONeMask\n",
      "TCGA-CH-5767-01Z-00-DX1 -- DQ=0.8041 -- SQ=0.7667 -- PQ=0.6165 -- AJI=0.5794 PredSize=(1000, 1000) GTSize=(1000, 1000)\n",
      "\n",
      "ProcessONeMask\n",
      "TCGA-RD-A8N9-01A-01-TS1 -- DQ=0.9174 -- SQ=0.8180 -- PQ=0.7504 -- AJI=0.7599 PredSize=(1000, 1000) GTSize=(1000, 1000)\n",
      "\n",
      "ProcessONeMask\n",
      "TCGA-G9-6363-01Z-00-DX1 -- DQ=0.7901 -- SQ=0.7813 -- PQ=0.6173 -- AJI=0.5885 PredSize=(1000, 1000) GTSize=(1000, 1000)\n",
      "\n",
      "ProcessONeMask\n",
      "TCGA-44-2665-01B-06-BS6 -- DQ=0.9198 -- SQ=0.7939 -- PQ=0.7302 -- AJI=0.7150 PredSize=(1000, 1000) GTSize=(1000, 1000)\n",
      "\n",
      "ProcessONeMask\n",
      "TCGA-EJ-A46H-01A-03-TSC -- DQ=0.9070 -- SQ=0.7748 -- PQ=0.7028 -- AJI=0.7015 PredSize=(1000, 1000) GTSize=(1000, 1000)\n",
      "\n",
      "ProcessONeMask\n",
      "TCGA-A7-A13E-01Z-00-DX1 -- DQ=0.8137 -- SQ=0.7665 -- PQ=0.6237 -- AJI=0.6128 PredSize=(1000, 1000) GTSize=(1000, 1000)\n",
      "\n",
      "ProcessONeMask\n",
      "TCGA-HT-8564-01Z-00-DX1 -- DQ=0.9062 -- SQ=0.6923 -- PQ=0.6273 -- AJI=0.6317 PredSize=(1000, 1000) GTSize=(1000, 1000)\n",
      "\n",
      "ProcessONeMask\n",
      "TCGA-F9-A8NY-01Z-00-DX1 -- DQ=0.9073 -- SQ=0.7378 -- PQ=0.6694 -- AJI=0.6494 PredSize=(1000, 1000) GTSize=(1000, 1000)\n",
      "\n",
      "ProcessONeMask\n",
      "TCGA-UZ-A9PJ-01Z-00-DX1 -- DQ=0.8768 -- SQ=0.7241 -- PQ=0.6348 -- AJI=0.6157 PredSize=(1000, 1000) GTSize=(1000, 1000)\n",
      "\n",
      "ProcessONeMask\n",
      "TCGA-ZF-A9R5-01A-01-TS1 -- DQ=0.9144 -- SQ=0.7375 -- PQ=0.6744 -- AJI=0.6914 PredSize=(1000, 1000) GTSize=(1000, 1000)\n",
      "\n",
      "ProcessONeMask\n",
      "TCGA-18-5592-01Z-00-DX1 -- DQ=0.7408 -- SQ=0.6789 -- PQ=0.5029 -- AJI=0.4700 PredSize=(1000, 1000) GTSize=(1000, 1000)\n",
      "\n",
      "ProcessONeMask\n",
      "TCGA-FG-A87N-01Z-00-DX1 -- DQ=0.8806 -- SQ=0.7240 -- PQ=0.6375 -- AJI=0.6417 PredSize=(1000, 1000) GTSize=(1000, 1000)\n",
      "\n",
      "ProcessONeMask\n",
      "TCGA-G9-6336-01Z-00-DX1 -- DQ=0.7432 -- SQ=0.7542 -- PQ=0.5605 -- AJI=0.4913 PredSize=(1000, 1000) GTSize=(1000, 1000)\n",
      "\n",
      "ProcessONeMask\n",
      "TCGA-A7-A13F-01Z-00-DX1 -- DQ=0.8839 -- SQ=0.7657 -- PQ=0.6768 -- AJI=0.6782 PredSize=(1000, 1000) GTSize=(1000, 1000)\n",
      "\n",
      "ProcessONeMask\n",
      "TCGA-BC-A217-01Z-00-DX1 -- DQ=0.9358 -- SQ=0.7759 -- PQ=0.7261 -- AJI=0.7440 PredSize=(1000, 1000) GTSize=(1000, 1000)\n",
      "\n",
      "ProcessONeMask\n",
      "TCGA-GL-6846-01A-01-BS1 -- DQ=0.8933 -- SQ=0.7578 -- PQ=0.6769 -- AJI=0.6732 PredSize=(1000, 1000) GTSize=(1000, 1000)\n",
      "\n",
      "TCGA-AR-A1AS-01Z-00-DX1 -- DQ=0.8953 -- SQ=0.7609 -- PQ=0.6812 -- AJI=0.6635 PredSize=(1000, 1000) GTSize=(1000, 1000)\n",
      "\n",
      "TCGA-XS-A8TJ-01Z-00-DX1 -- DQ=0.8813 -- SQ=0.7347 -- PQ=0.6475 -- AJI=0.6460 PredSize=(1000, 1000) GTSize=(1000, 1000)\n",
      "\n",
      "TCGA-21-5784-01Z-00-DX1 -- DQ=0.7497 -- SQ=0.7351 -- PQ=0.5511 -- AJI=0.5742 PredSize=(1000, 1000) GTSize=(1000, 1000)\n",
      "\n",
      "TCGA-AO-A0J2-01A-01-BSA -- DQ=0.8587 -- SQ=0.7141 -- PQ=0.6132 -- AJI=0.6198 PredSize=(1000, 1000) GTSize=(1000, 1000)\n",
      "\n",
      "TCGA-UZ-A9PN-01Z-00-DX1 -- DQ=0.9046 -- SQ=0.7728 -- PQ=0.6991 -- AJI=0.6948 PredSize=(1000, 1000) GTSize=(1000, 1000)\n",
      "\n",
      "TCGA-NH-A8F7-01A-01-TS1 -- DQ=0.7830 -- SQ=0.7202 -- PQ=0.5639 -- AJI=0.5950 PredSize=(1000, 1000) GTSize=(1000, 1000)\n",
      "\n",
      "TCGA-G9-6348-01Z-00-DX1 -- DQ=0.8296 -- SQ=0.7707 -- PQ=0.6394 -- AJI=0.6128 PredSize=(1000, 1000) GTSize=(1000, 1000)\n",
      "\n",
      "TCGA-38-6178-01Z-00-DX1 -- DQ=0.7452 -- SQ=0.7136 -- PQ=0.5317 -- AJI=0.5444 PredSize=(1000, 1000) GTSize=(1000, 1000)\n",
      "\n",
      "TCGA-69-7764-01A-01-TS1 -- DQ=0.8447 -- SQ=0.7708 -- PQ=0.6511 -- AJI=0.6419 PredSize=(1000, 1000) GTSize=(1000, 1000)\n",
      "\n",
      "TCGA-E2-A14V-01Z-00-DX1 -- DQ=0.8587 -- SQ=0.7889 -- PQ=0.6774 -- AJI=0.6754 PredSize=(1000, 1000) GTSize=(1000, 1000)\n",
      "\n",
      "TCGA-HE-7129-01Z-00-DX1 -- DQ=0.7772 -- SQ=0.7152 -- PQ=0.5558 -- AJI=0.5299 PredSize=(1000, 1000) GTSize=(1000, 1000)\n",
      "\n",
      "TCGA-G9-6362-01Z-00-DX1 -- DQ=0.8929 -- SQ=0.7712 -- PQ=0.6887 -- AJI=0.6646 PredSize=(1000, 1000) GTSize=(1000, 1000)\n",
      "\n",
      "TCGA-HE-7130-01Z-00-DX1 -- DQ=0.7639 -- SQ=0.7151 -- PQ=0.5463 -- AJI=0.5688 PredSize=(1000, 1000) GTSize=(1000, 1000)\n",
      "\n",
      "TCGA-HE-7128-01Z-00-DX1 -- DQ=0.8870 -- SQ=0.6796 -- PQ=0.6028 -- AJI=0.6088 PredSize=(1000, 1000) GTSize=(1000, 1000)\n",
      "\n",
      "TCGA-KB-A93J-01A-01-TS1 -- DQ=0.9240 -- SQ=0.8155 -- PQ=0.7536 -- AJI=0.7656 PredSize=(1000, 1000) GTSize=(1000, 1000)\n",
      "\n",
      "51\n",
      "\n",
      "=== Finished! ===\n",
      "Collected results (subset shown):\n",
      "\n",
      "may_dims96_depth3_may ####################\n",
      "Found 51 mask files, sample: ['/workspace/deepseek_test/yolo-nuke/Segmentation/monuseg/annotations/TCGA-HC-7209-01A-01-TS1.npy', '/workspace/deepseek_test/yolo-nuke/Segmentation/monuseg/annotations/TCGA-IZ-8196-01A-01-BS1.npy', '/workspace/deepseek_test/yolo-nuke/Segmentation/monuseg/annotations/TCGA-B0-5710-01Z-00-DX1.npy', '/workspace/deepseek_test/yolo-nuke/Segmentation/monuseg/annotations/TCGA-G2-A2EK-01A-02-TSB.npy', '/workspace/deepseek_test/yolo-nuke/Segmentation/monuseg/annotations/TCGA-50-5931-01Z-00-DX1.npy']\n",
      "ProcessONeMaskProcessONeMaskProcessONeMaskProcessONeMaskProcessONeMaskProcessONeMaskProcessONeMaskProcessONeMaskProcessONeMaskProcessONeMaskProcessONeMaskProcessONeMaskProcessONeMaskProcessONeMaskProcessONeMaskProcessONeMask\n",
      "\n",
      "\n",
      "\n",
      "\n",
      "\n",
      "\n",
      "\n",
      "\n",
      "\n",
      "\n",
      "\n",
      "\n",
      "\n",
      "\n",
      "\n",
      "TCGA-HC-7209-01A-01-TS1 -- DQ=0.8895 -- SQ=0.7465 -- PQ=0.6641 -- AJI=0.6695 PredSize=(1000, 1000) GTSize=(1000, 1000)\n",
      "\n",
      "ProcessONeMask\n",
      "TCGA-DK-A2I6-01A-01-TS1 -- DQ=0.8295 -- SQ=0.7895 -- PQ=0.6549 -- AJI=0.7112 PredSize=(1000, 1000) GTSize=(1000, 1000)\n",
      "\n",
      "ProcessONeMask\n",
      "TCGA-B0-5711-01Z-00-DX1 -- DQ=0.7910 -- SQ=0.7173 -- PQ=0.5673 -- AJI=0.6221 PredSize=(1000, 1000) GTSize=(1000, 1000)\n",
      "\n",
      "ProcessONeMask\n",
      "TCGA-B0-5710-01Z-00-DX1 -- DQ=0.8966 -- SQ=0.7403 -- PQ=0.6638 -- AJI=0.6709 PredSize=(1000, 1000) GTSize=(1000, 1000)\n",
      "\n",
      "ProcessONeMask\n",
      "TCGA-G2-A2EK-01A-02-TSB -- DQ=0.7682 -- SQ=0.7425 -- PQ=0.5703 -- AJI=0.6350 PredSize=(1000, 1000) GTSize=(1000, 1000)\n",
      "\n",
      "ProcessONeMask\n",
      "TCGA-A6-6782-01A-01-BS1 -- DQ=0.8547 -- SQ=0.7110 -- PQ=0.6077 -- AJI=0.5931 PredSize=(1000, 1000) GTSize=(1000, 1000)\n",
      "\n",
      "ProcessONeMask\n",
      "TCGA-AY-A8YK-01A-01-TS1 -- DQ=0.7696 -- SQ=0.6742 -- PQ=0.5189 -- AJI=0.5311 PredSize=(1000, 1000) GTSize=(1000, 1000)\n",
      "\n",
      "TCGA-50-5931-01Z-00-DX1 -- DQ=0.6515 -- SQ=0.6958 -- PQ=0.4533 -- AJI=0.3974 PredSize=(1000, 1000) GTSize=(1000, 1000)\n",
      "ProcessONeMask\n",
      "\n",
      "ProcessONeMask\n",
      "TCGA-G9-6356-01Z-00-DX1 -- DQ=0.9103 -- SQ=0.8032 -- PQ=0.7312 -- AJI=0.7203 PredSize=(1000, 1000) GTSize=(1000, 1000)\n",
      "\n",
      "ProcessONeMask\n",
      "TCGA-IZ-8196-01A-01-BS1 -- DQ=0.9238 -- SQ=0.7618 -- PQ=0.7037 -- AJI=0.6965 PredSize=(1000, 1000) GTSize=(1000, 1000)\n",
      "\n",
      "ProcessONeMask\n",
      "TCGA-AR-A1AK-01Z-00-DX1 -- DQ=0.8565 -- SQ=0.7399 -- PQ=0.6338 -- AJI=0.6095 PredSize=(1000, 1000) GTSize=(1000, 1000)\n",
      "\n",
      "ProcessONeMask\n",
      "TCGA-49-4488-01Z-00-DX1 -- DQ=0.8564 -- SQ=0.7411 -- PQ=0.6347 -- AJI=0.6336 PredSize=(1000, 1000) GTSize=(1000, 1000)\n",
      "\n",
      "ProcessONeMask\n",
      "TCGA-B0-5698-01Z-00-DX1 -- DQ=0.7504 -- SQ=0.7191 -- PQ=0.5397 -- AJI=0.5052 PredSize=(1000, 1000) GTSize=(1000, 1000)\n",
      "\n",
      "ProcessONeMask\n",
      "TCGA-CU-A0YN-01A-02-BSB -- DQ=0.8724 -- SQ=0.7368 -- PQ=0.6428 -- AJI=0.6212 PredSize=(1000, 1000) GTSize=(1000, 1000)\n",
      "\n",
      "ProcessONeMask\n",
      "TCGA-FG-A4MU-01B-01-TS1 -- DQ=0.8922 -- SQ=0.7531 -- PQ=0.6719 -- AJI=0.6862 PredSize=(1000, 1000) GTSize=(1000, 1000)\n",
      "TCGA-E2-A1B5-01Z-00-DX1 -- DQ=0.7931 -- SQ=0.7165 -- PQ=0.5683 -- AJI=0.5818 PredSize=(1000, 1000) GTSize=(1000, 1000)\n",
      "\n",
      "\n",
      "ProcessONeMaskProcessONeMask\n",
      "\n",
      "TCGA-MH-A561-01Z-00-DX1 -- DQ=0.8783 -- SQ=0.7363 -- PQ=0.6467 -- AJI=0.6455 PredSize=(1000, 1000) GTSize=(1000, 1000)\n",
      "\n",
      "ProcessONeMask\n",
      "TCGA-2Z-A9J9-01A-01-TS1 -- DQ=0.8688 -- SQ=0.7287 -- PQ=0.6332 -- AJI=0.6325 PredSize=(1000, 1000) GTSize=(1000, 1000)\n",
      "\n",
      "ProcessONeMask\n",
      "TCGA-AC-A2FO-01A-01-TS1 -- DQ=0.8538 -- SQ=0.6778 -- PQ=0.5787 -- AJI=0.5487 PredSize=(1000, 1000) GTSize=(1000, 1000)\n",
      "\n",
      "ProcessONeMask\n",
      "TCGA-21-5786-01Z-00-DX1 -- DQ=0.8220 -- SQ=0.7023 -- PQ=0.5773 -- AJI=0.5703 PredSize=(1000, 1000) GTSize=(1000, 1000)\n",
      "\n",
      "ProcessONeMask\n",
      "TCGA-CH-5767-01Z-00-DX1 -- DQ=0.8110 -- SQ=0.7440 -- PQ=0.6034 -- AJI=0.5715 PredSize=(1000, 1000) GTSize=(1000, 1000)\n",
      "\n",
      "ProcessONeMask\n",
      "TCGA-G9-6363-01Z-00-DX1 -- DQ=0.7858 -- SQ=0.7618 -- PQ=0.5987 -- AJI=0.5748 PredSize=(1000, 1000) GTSize=(1000, 1000)\n",
      "\n",
      "ProcessONeMask\n",
      "TCGA-RD-A8N9-01A-01-TS1 -- DQ=0.9166 -- SQ=0.7974 -- PQ=0.7308 -- AJI=0.7420 PredSize=(1000, 1000) GTSize=(1000, 1000)\n",
      "\n",
      "ProcessONeMask\n",
      "TCGA-44-2665-01B-06-BS6 -- DQ=0.9150 -- SQ=0.7806 -- PQ=0.7143 -- AJI=0.7028 PredSize=(1000, 1000) GTSize=(1000, 1000)\n",
      "\n",
      "ProcessONeMask\n",
      "TCGA-A7-A13E-01Z-00-DX1 -- DQ=0.8111 -- SQ=0.7471 -- PQ=0.6060 -- AJI=0.5994 PredSize=(1000, 1000) GTSize=(1000, 1000)\n",
      "\n",
      "ProcessONeMask\n",
      "TCGA-HT-8564-01Z-00-DX1 -- DQ=0.9022 -- SQ=0.7065 -- PQ=0.6374 -- AJI=0.6457 PredSize=(1000, 1000) GTSize=(1000, 1000)\n",
      "\n",
      "ProcessONeMask\n",
      "TCGA-F9-A8NY-01Z-00-DX1 -- DQ=0.9028 -- SQ=0.7225 -- PQ=0.6523 -- AJI=0.6356 PredSize=(1000, 1000) GTSize=(1000, 1000)\n",
      "\n",
      "ProcessONeMask\n",
      "TCGA-EJ-A46H-01A-03-TSC -- DQ=0.8998 -- SQ=0.7520 -- PQ=0.6766 -- AJI=0.6762 PredSize=(1000, 1000) GTSize=(1000, 1000)\n",
      "\n",
      "ProcessONeMask\n",
      "TCGA-ZF-A9R5-01A-01-TS1 -- DQ=0.9101 -- SQ=0.7515 -- PQ=0.6839 -- AJI=0.7034 PredSize=(1000, 1000) GTSize=(1000, 1000)\n",
      "\n",
      "ProcessONeMask\n",
      "TCGA-UZ-A9PJ-01Z-00-DX1 -- DQ=0.8816 -- SQ=0.7236 -- PQ=0.6379 -- AJI=0.6196 PredSize=(1000, 1000) GTSize=(1000, 1000)\n",
      "\n",
      "ProcessONeMask\n",
      "TCGA-18-5592-01Z-00-DX1 -- DQ=0.7459 -- SQ=0.7090 -- PQ=0.5289 -- AJI=0.4981 PredSize=(1000, 1000) GTSize=(1000, 1000)\n",
      "\n",
      "ProcessONeMask\n",
      "TCGA-A7-A13F-01Z-00-DX1 -- DQ=0.8810 -- SQ=0.7469 -- PQ=0.6580 -- AJI=0.6676 PredSize=(1000, 1000) GTSize=(1000, 1000)\n",
      "\n",
      "ProcessONeMask\n",
      "TCGA-G9-6336-01Z-00-DX1 -- DQ=0.7405 -- SQ=0.7339 -- PQ=0.5435 -- AJI=0.4787 PredSize=(1000, 1000) GTSize=(1000, 1000)\n",
      "\n",
      "ProcessONeMask\n",
      "TCGA-FG-A87N-01Z-00-DX1 -- DQ=0.8793 -- SQ=0.7272 -- PQ=0.6395 -- AJI=0.6425 PredSize=(1000, 1000) GTSize=(1000, 1000)\n",
      "\n",
      "ProcessONeMask\n",
      "TCGA-BC-A217-01Z-00-DX1 -- DQ=0.9290 -- SQ=0.7544 -- PQ=0.7009 -- AJI=0.7211 PredSize=(1000, 1000) GTSize=(1000, 1000)\n",
      "\n",
      "ProcessONeMask\n",
      "TCGA-GL-6846-01A-01-BS1 -- DQ=0.8959 -- SQ=0.7654 -- PQ=0.6857 -- AJI=0.6797 PredSize=(1000, 1000) GTSize=(1000, 1000)\n",
      "\n",
      "TCGA-21-5784-01Z-00-DX1 -- DQ=0.7425 -- SQ=0.7123 -- PQ=0.5289 -- AJI=0.5619 PredSize=(1000, 1000) GTSize=(1000, 1000)\n",
      "\n",
      "TCGA-AR-A1AS-01Z-00-DX1 -- DQ=0.8977 -- SQ=0.7604 -- PQ=0.6826 -- AJI=0.6679 PredSize=(1000, 1000) GTSize=(1000, 1000)\n",
      "\n",
      "TCGA-UZ-A9PN-01Z-00-DX1 -- DQ=0.8986 -- SQ=0.7489 -- PQ=0.6730 -- AJI=0.6742 PredSize=(1000, 1000) GTSize=(1000, 1000)\n",
      "\n",
      "TCGA-XS-A8TJ-01Z-00-DX1 -- DQ=0.8728 -- SQ=0.7136 -- PQ=0.6229 -- AJI=0.6250 PredSize=(1000, 1000) GTSize=(1000, 1000)\n",
      "\n",
      "TCGA-AO-A0J2-01A-01-BSA -- DQ=0.8603 -- SQ=0.7294 -- PQ=0.6275 -- AJI=0.6340 PredSize=(1000, 1000) GTSize=(1000, 1000)\n",
      "\n",
      "TCGA-NH-A8F7-01A-01-TS1 -- DQ=0.7909 -- SQ=0.7215 -- PQ=0.5707 -- AJI=0.6009 PredSize=(1000, 1000) GTSize=(1000, 1000)\n",
      "\n",
      "TCGA-38-6178-01Z-00-DX1 -- DQ=0.7284 -- SQ=0.7021 -- PQ=0.5114 -- AJI=0.5338 PredSize=(1000, 1000) GTSize=(1000, 1000)\n",
      "\n",
      "TCGA-G9-6348-01Z-00-DX1 -- DQ=0.8270 -- SQ=0.7514 -- PQ=0.6215 -- AJI=0.5979 PredSize=(1000, 1000) GTSize=(1000, 1000)\n",
      "\n",
      "TCGA-69-7764-01A-01-TS1 -- DQ=0.8439 -- SQ=0.7705 -- PQ=0.6502 -- AJI=0.6430 PredSize=(1000, 1000) GTSize=(1000, 1000)\n",
      "\n",
      "TCGA-E2-A14V-01Z-00-DX1 -- DQ=0.8518 -- SQ=0.7626 -- PQ=0.6495 -- AJI=0.6527 PredSize=(1000, 1000) GTSize=(1000, 1000)\n",
      "\n",
      "TCGA-G9-6362-01Z-00-DX1 -- DQ=0.8869 -- SQ=0.7571 -- PQ=0.6715 -- AJI=0.6523 PredSize=(1000, 1000) GTSize=(1000, 1000)\n",
      "\n",
      "TCGA-HE-7129-01Z-00-DX1 -- DQ=0.7699 -- SQ=0.6864 -- PQ=0.5285 -- AJI=0.5126 PredSize=(1000, 1000) GTSize=(1000, 1000)\n",
      "\n",
      "TCGA-HE-7130-01Z-00-DX1 -- DQ=0.7546 -- SQ=0.6992 -- PQ=0.5276 -- AJI=0.5569 PredSize=(1000, 1000) GTSize=(1000, 1000)\n",
      "\n",
      "TCGA-HE-7128-01Z-00-DX1 -- DQ=0.8896 -- SQ=0.6733 -- PQ=0.5989 -- AJI=0.5986 PredSize=(1000, 1000) GTSize=(1000, 1000)\n",
      "\n",
      "TCGA-KB-A93J-01A-01-TS1 -- DQ=0.9149 -- SQ=0.7953 -- PQ=0.7277 -- AJI=0.7455 PredSize=(1000, 1000) GTSize=(1000, 1000)\n",
      "\n",
      "51\n",
      "\n",
      "=== Finished! ===\n",
      "Collected results (subset shown):\n",
      "\n"
     ]
    }
   ],
   "source": [
    "import glob\n",
    "import os\n",
    "from pathlib import Path\n",
    "import numpy as np\n",
    "import cv2\n",
    "from multiprocessing import Pool, cpu_count\n",
    "import pandas as pd\n",
    "# Suppose 'patient_ids' is already defined\n",
    "# Suppose 'get_fast_pq' and 'get_fast_aji_plus' are defined or imported\n",
    "print(\"BEGUN\")\n",
    "masks = glob.glob('/workspace/deepseek_test/yolo-nuke/Segmentation/monuseg/annotations/*.npy')\n",
    "\n",
    "def process_one_mask(true_path):\n",
    "    \"\"\"\n",
    "    Reads the annotation mask (true_path) and its corresponding pred_path,\n",
    "    computes metrics, and returns [stem, dq, sq, pq, aji].\n",
    "    Returns None if something fails.\n",
    "    \n",
    "    \"\"\"\n",
    "    # print(\"ProcessONeMask\")\n",
    "    try:\n",
    "        stem = Path(true_path).stem\n",
    "        # Skip if not in patient_ids\n",
    "        if stem not in patient_ids:\n",
    "            return None\n",
    "\n",
    "        # Load predicted mask\n",
    "        # pred_path = f'/workspace/yolo-nuke/Segmentation/exp7/{stem}.npy'\n",
    "        pred_path = f'{out_dir}/{stem}.npy'\n",
    "        if not os.path.isfile(pred_path):\n",
    "            print(f\"No predicted mask found for: {stem}\")\n",
    "            return None\n",
    "\n",
    "        pred_mask = np.load(pred_path)\n",
    "        true_mask = np.load(true_path)\n",
    "\n",
    "        # Example computations\n",
    "        intersection = np.logical_and(pred_mask > 0, true_mask > 0)\n",
    "        union = np.logical_or(pred_mask > 0, true_mask > 0)\n",
    "\n",
    "        iou = intersection.sum() / union.sum() if union.sum() > 0 else 0.0\n",
    "        dice = (2 * intersection.sum()) / ((pred_mask > 0).sum() + (true_mask > 0).sum() + 1e-6)\n",
    "\n",
    "        # PQ, DQ, SQ\n",
    "        [dq, sq, pq], _ = get_fast_pq(true_mask, pred_mask, match_iou=0.4)\n",
    "        # print(pq)\n",
    "        aji = get_fast_aji_plus(true_mask, pred_mask)\n",
    "        # print(\"AJI Pass\")\n",
    "        print(f'{stem} -- DQ={dq:.4f} -- SQ={sq:.4f} -- PQ={pq:.4f} -- AJI={aji:.4f} PredSize={pred_mask.shape} GTSize={true_mask.shape}\\n')\n",
    "\n",
    "        return [stem, dq, sq, pq, aji]\n",
    "\n",
    "    except Exception as e:\n",
    "        print(f\"Error with {true_path}: {e}\")\n",
    "        return None\n",
    "\n",
    "# Decide how many processes (or leave None for default, i.e., all CPU cores)\n",
    "n_processes = 51#cpu_count() - 8  # or e.g. 8\n",
    "print(f\"Using {n_processes} processes.\")\n",
    "for out_dir in dirs:\n",
    "    print(out_dir, \"#\"*20)\n",
    "    print(f\"Found {len(masks)} mask files, sample: {masks[:5]}\")\n",
    "\n",
    "    with Pool(processes=n_processes) as pool:\n",
    "        results = pool.map(process_one_mask, masks)\n",
    "\n",
    "    # Filter out None\n",
    "    print(len(results))\n",
    "    data = [r for r in results if r is not None]\n",
    "    print(\"\\n=== Finished! ===\")\n",
    "    print(\"Collected results (subset shown):\")\n",
    "    print()\n",
    "    \n",
    "    df = pd.DataFrame(data, columns=[\"name\", \"dq\", \"sq\", \"pq\", \"ajiplus\"])\n",
    "    # print(out_dir*30)\n",
    "    df.to_csv(f\"./{out_dir}/metrics_{out_dir}.csv\", index=False)\n",
    "\n"
   ]
  },
  {
   "cell_type": "code",
   "execution_count": 17,
   "id": "a119140d-62ae-4052-8e28-8935c6a163da",
   "metadata": {},
   "outputs": [],
   "source": [
    "import pandas as pd\n",
    "\n",
    "data = []\n",
    "for outdir in sorted(dirs):\n",
    "    df = pd.read_csv(f'{outdir}/metrics_{outdir}.csv')\n",
    "    mean_values = df.describe().T['mean']\n",
    "    model_name = outdir.replace(\"metrics_\", \"\") \n",
    "    data.append([model_name, mean_values['dq'], mean_values['sq'], mean_values['pq'], mean_values['ajiplus']])\n",
    "\n",
    "df_summary = pd.DataFrame(data, columns=[\"Model (Dims_Depth)\", \"DQ\", \"SQ\", \"PQ\", \"AJI+\"])\n",
    "# df_summary.head(8)\n"
   ]
  },
  {
   "cell_type": "code",
   "execution_count": 18,
   "id": "44270f16-756b-42c2-9983-24fdb4fc47a8",
   "metadata": {},
   "outputs": [
    {
     "data": {
      "text/html": [
       "<div>\n",
       "<style scoped>\n",
       "    .dataframe tbody tr th:only-of-type {\n",
       "        vertical-align: middle;\n",
       "    }\n",
       "\n",
       "    .dataframe tbody tr th {\n",
       "        vertical-align: top;\n",
       "    }\n",
       "\n",
       "    .dataframe thead th {\n",
       "        text-align: right;\n",
       "    }\n",
       "</style>\n",
       "<table border=\"1\" class=\"dataframe\">\n",
       "  <thead>\n",
       "    <tr style=\"text-align: right;\">\n",
       "      <th></th>\n",
       "      <th>Model (Dims_Depth)</th>\n",
       "      <th>DQ</th>\n",
       "      <th>SQ</th>\n",
       "      <th>PQ</th>\n",
       "      <th>AJI+</th>\n",
       "    </tr>\n",
       "  </thead>\n",
       "  <tbody>\n",
       "    <tr>\n",
       "      <th>0</th>\n",
       "      <td>may_dims32_depth3_may</td>\n",
       "      <td>0.842808</td>\n",
       "      <td>0.728539</td>\n",
       "      <td>0.615450</td>\n",
       "      <td>0.612150</td>\n",
       "    </tr>\n",
       "    <tr>\n",
       "      <th>1</th>\n",
       "      <td>may_dims32_depth4_may</td>\n",
       "      <td>0.844262</td>\n",
       "      <td>0.725179</td>\n",
       "      <td>0.613704</td>\n",
       "      <td>0.609154</td>\n",
       "    </tr>\n",
       "    <tr>\n",
       "      <th>2</th>\n",
       "      <td>may_dims48_depth3_may</td>\n",
       "      <td>0.846509</td>\n",
       "      <td>0.742891</td>\n",
       "      <td>0.629857</td>\n",
       "      <td>0.626034</td>\n",
       "    </tr>\n",
       "    <tr>\n",
       "      <th>3</th>\n",
       "      <td>may_dims48_depth4_may</td>\n",
       "      <td>0.847163</td>\n",
       "      <td>0.744271</td>\n",
       "      <td>0.631615</td>\n",
       "      <td>0.627781</td>\n",
       "    </tr>\n",
       "    <tr>\n",
       "      <th>4</th>\n",
       "      <td>may_dims64_depth3_may</td>\n",
       "      <td>0.844731</td>\n",
       "      <td>0.739827</td>\n",
       "      <td>0.625927</td>\n",
       "      <td>0.623258</td>\n",
       "    </tr>\n",
       "    <tr>\n",
       "      <th>5</th>\n",
       "      <td>may_dims64_depth4_may</td>\n",
       "      <td>0.847185</td>\n",
       "      <td>0.739536</td>\n",
       "      <td>0.627414</td>\n",
       "      <td>0.625463</td>\n",
       "    </tr>\n",
       "    <tr>\n",
       "      <th>6</th>\n",
       "      <td>may_dims96_depth3_may</td>\n",
       "      <td>0.844431</td>\n",
       "      <td>0.736117</td>\n",
       "      <td>0.622591</td>\n",
       "      <td>0.621520</td>\n",
       "    </tr>\n",
       "    <tr>\n",
       "      <th>7</th>\n",
       "      <td>may_dims96_depth4_may</td>\n",
       "      <td>0.843722</td>\n",
       "      <td>0.733596</td>\n",
       "      <td>0.619873</td>\n",
       "      <td>0.621570</td>\n",
       "    </tr>\n",
       "  </tbody>\n",
       "</table>\n",
       "</div>"
      ],
      "text/plain": [
       "      Model (Dims_Depth)        DQ        SQ        PQ      AJI+\n",
       "0  may_dims32_depth3_may  0.842808  0.728539  0.615450  0.612150\n",
       "1  may_dims32_depth4_may  0.844262  0.725179  0.613704  0.609154\n",
       "2  may_dims48_depth3_may  0.846509  0.742891  0.629857  0.626034\n",
       "3  may_dims48_depth4_may  0.847163  0.744271  0.631615  0.627781\n",
       "4  may_dims64_depth3_may  0.844731  0.739827  0.625927  0.623258\n",
       "5  may_dims64_depth4_may  0.847185  0.739536  0.627414  0.625463\n",
       "6  may_dims96_depth3_may  0.844431  0.736117  0.622591  0.621520\n",
       "7  may_dims96_depth4_may  0.843722  0.733596  0.619873  0.621570"
      ]
     },
     "execution_count": 18,
     "metadata": {},
     "output_type": "execute_result"
    }
   ],
   "source": [
    "df_summary"
   ]
  },
  {
   "cell_type": "code",
   "execution_count": null,
   "id": "1880242c-6632-466e-949d-a69bd6d59864",
   "metadata": {},
   "outputs": [],
   "source": []
  },
  {
   "cell_type": "code",
   "execution_count": null,
   "id": "844432a1-d3b0-49c5-a463-86a9566d3630",
   "metadata": {},
   "outputs": [],
   "source": []
  },
  {
   "cell_type": "code",
   "execution_count": 18,
   "id": "4c81b824-d024-4cd5-a6e1-629c2af9517e",
   "metadata": {},
   "outputs": [],
   "source": [
    "df_summary.to_csv('summary_metrics.csv', index=False)"
   ]
  },
  {
   "cell_type": "code",
   "execution_count": 10,
   "id": "1da60e77-2000-4cc9-951d-d83dd2457319",
   "metadata": {},
   "outputs": [
    {
     "name": "stdout",
     "output_type": "stream",
     "text": [
      "dims32_depth3/metrics_dims32_depth3.csv\n",
      "\n",
      "dq         0.840858\n",
      "sq         0.722721\n",
      "pq         0.609280\n",
      "ajiplus    0.607124\n",
      "Name: mean, dtype: float64\n",
      "dims32_depth4/metrics_dims32_depth4.csv\n",
      "\n",
      "dq         0.845013\n",
      "sq         0.730201\n",
      "pq         0.618337\n",
      "ajiplus    0.613988\n",
      "Name: mean, dtype: float64\n",
      "dims48_depth3/metrics_dims48_depth3.csv\n",
      "\n",
      "dq         0.847007\n",
      "sq         0.743994\n",
      "pq         0.631259\n",
      "ajiplus    0.626493\n",
      "Name: mean, dtype: float64\n",
      "dims48_depth4/metrics_dims48_depth4.csv\n",
      "\n",
      "dq         0.846154\n",
      "sq         0.738655\n",
      "pq         0.626089\n",
      "ajiplus    0.623000\n",
      "Name: mean, dtype: float64\n",
      "dims64_depth3/metrics_dims64_depth3.csv\n",
      "\n",
      "dq         0.846716\n",
      "sq         0.747835\n",
      "pq         0.634260\n",
      "ajiplus    0.630100\n",
      "Name: mean, dtype: float64\n",
      "dims64_depth4/metrics_dims64_depth4.csv\n",
      "\n",
      "dq         0.846411\n",
      "sq         0.742174\n",
      "pq         0.629203\n",
      "ajiplus    0.627268\n",
      "Name: mean, dtype: float64\n",
      "dims96_depth3/metrics_dims96_depth3.csv\n",
      "\n",
      "dq         0.843519\n",
      "sq         0.737061\n",
      "pq         0.622638\n",
      "ajiplus    0.621190\n",
      "Name: mean, dtype: float64\n",
      "dims96_depth4/metrics_dims96_depth4.csv\n",
      "\n",
      "dq         0.841086\n",
      "sq         0.721415\n",
      "pq         0.607487\n",
      "ajiplus    0.611542\n",
      "Name: mean, dtype: float64\n"
     ]
    }
   ],
   "source": [
    "for outdir in sorted(dirs):\n",
    "    df = pd.read_csv(f'{outdir}/metrics_{outdir}.csv')\n",
    "    print(f'{outdir}/metrics_{outdir}.csv\\n')\n",
    "    print(df.describe().T['mean'])"
   ]
  },
  {
   "cell_type": "code",
   "execution_count": null,
   "id": "10123208-528b-4f2e-9ea8-6942d8a3e895",
   "metadata": {},
   "outputs": [],
   "source": [
    "print(\"First five rows:\")\n",
    "display(df.head())\n",
    "\n",
    "print(\"\\nSummary Statistics:\")\n",
    "display(df.describe())\n",
    "\n",
    "# Bar Charts for Each Metric per Image (Patient)\n",
    "\n",
    "fig, axes = plt.subplots(2, 2, figsize=(15, 10))\n",
    "axes = axes.ravel()  # flatten\n",
    "\n",
    "metrics = ['dq', 'sq', 'pq', 'ajiplus']\n",
    "for idx, metric in enumerate(metrics):\n",
    "    axes[idx].bar(df['name'], df[metric])\n",
    "    axes[idx].set_title(f'{metric} per Patient')\n",
    "    axes[idx].set_xlabel('name')\n",
    "    axes[idx].set_ylabel(metric)\n",
    "    axes[idx].tick_params(axis='x', rotation=90)\n",
    "\n",
    "plt.tight_layout()\n",
    "plt.show()\n",
    "\n",
    "\n",
    "# Scatter Matrix to visualize relationships between metrics\n",
    "\n",
    "pd.plotting.scatter_matrix(df[metrics], figsize=(12, 12), diagonal='kde')\n",
    "plt.suptitle(\"Scatter Matrix of Evaluation Metrics\")\n",
    "plt.show()\n",
    "\n",
    "\n",
    "# Correlation Heatmap of the Metrics\n",
    "\n",
    "corr = df[metrics].corr()\n",
    "plt.figure(figsize=(8, 6))\n",
    "im = plt.imshow(corr, cmap='coolwarm', interpolation='none')\n",
    "plt.colorbar(im)\n",
    "plt.xticks(range(len(corr)), corr.columns, rotation=90)\n",
    "plt.yticks(range(len(corr)), corr.columns)\n",
    "plt.title(\"Correlation Matrix\")\n",
    "plt.show()"
   ]
  },
  {
   "cell_type": "code",
   "execution_count": null,
   "id": "c94b3cd6-246f-4c78-959b-c221b53f8724",
   "metadata": {},
   "outputs": [],
   "source": [
    "plt.imshow(np.load('preds_march_21_1/TCGA-HE-7130-01Z-00-DX1.npy')>0, cmap='gray')"
   ]
  },
  {
   "cell_type": "code",
   "execution_count": 6,
   "id": "6df6159e-78bb-4dae-bbcd-cdb81b5a721b",
   "metadata": {},
   "outputs": [
    {
     "data": {
      "text/plain": [
       "[64, 32, 16]"
      ]
     },
     "execution_count": 6,
     "metadata": {},
     "output_type": "execute_result"
    }
   ],
   "source": [
    "[128, 64, 32, 16][::-1][:3][::-1]"
   ]
  },
  {
   "cell_type": "code",
   "execution_count": null,
   "id": "ba1ddc4e-e65b-47bd-b2c9-75007d54d654",
   "metadata": {},
   "outputs": [],
   "source": []
  }
 ],
 "metadata": {
  "kernelspec": {
   "display_name": "Python 3 (ipykernel)",
   "language": "python",
   "name": "python3"
  },
  "language_info": {
   "codemirror_mode": {
    "name": "ipython",
    "version": 3
   },
   "file_extension": ".py",
   "mimetype": "text/x-python",
   "name": "python",
   "nbconvert_exporter": "python",
   "pygments_lexer": "ipython3",
   "version": "3.12.3"
  }
 },
 "nbformat": 4,
 "nbformat_minor": 5
}
